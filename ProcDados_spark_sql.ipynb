{
  "cells": [
    {
      "cell_type": "markdown",
      "metadata": {
        "id": "view-in-github",
        "colab_type": "text"
      },
      "source": [
        "<a href=\"https://colab.research.google.com/github/Erike-Simon/CESAR-AED/blob/main/ProcDados_spark_sql.ipynb\" target=\"_parent\"><img src=\"https://colab.research.google.com/assets/colab-badge.svg\" alt=\"Open In Colab\"/></a>"
      ]
    },
    {
      "cell_type": "code",
      "source": [
        "from google.colab import drive\n",
        "drive.mount('/content/drive')"
      ],
      "metadata": {
        "colab": {
          "base_uri": "https://localhost:8080/"
        },
        "id": "kqLM3wd-Q6jx",
        "outputId": "2fa41a8a-573e-439c-aa80-3562dca1dfda"
      },
      "execution_count": null,
      "outputs": [
        {
          "output_type": "stream",
          "name": "stdout",
          "text": [
            "Mounted at /content/drive\n"
          ]
        }
      ]
    },
    {
      "cell_type": "code",
      "source": [
        "!pip install --upgrade pyspark"
      ],
      "metadata": {
        "colab": {
          "base_uri": "https://localhost:8080/"
        },
        "id": "YeQFPI8zQ7fR",
        "outputId": "946cd88b-fa0e-400f-c560-ef4abe429679"
      },
      "execution_count": null,
      "outputs": [
        {
          "output_type": "stream",
          "name": "stdout",
          "text": [
            "Collecting pyspark\n",
            "  Downloading pyspark-3.5.0.tar.gz (316.9 MB)\n",
            "\u001b[2K     \u001b[90m━━━━━━━━━━━━━━━━━━━━━━━━━━━━━━━━━━━━━━━━\u001b[0m \u001b[32m316.9/316.9 MB\u001b[0m \u001b[31m3.3 MB/s\u001b[0m eta \u001b[36m0:00:00\u001b[0m\n",
            "\u001b[?25h  Preparing metadata (setup.py) ... \u001b[?25l\u001b[?25hdone\n",
            "Requirement already satisfied: py4j==0.10.9.7 in /usr/local/lib/python3.10/dist-packages (from pyspark) (0.10.9.7)\n",
            "Building wheels for collected packages: pyspark\n",
            "  Building wheel for pyspark (setup.py) ... \u001b[?25l\u001b[?25hdone\n",
            "  Created wheel for pyspark: filename=pyspark-3.5.0-py2.py3-none-any.whl size=317425345 sha256=3888d4ea7361ba315d403beec6f93390bed417589652de176aa95dbfbfe4187c\n",
            "  Stored in directory: /root/.cache/pip/wheels/41/4e/10/c2cf2467f71c678cfc8a6b9ac9241e5e44a01940da8fbb17fc\n",
            "Successfully built pyspark\n",
            "Installing collected packages: pyspark\n",
            "Successfully installed pyspark-3.5.0\n"
          ]
        }
      ]
    },
    {
      "cell_type": "code",
      "execution_count": null,
      "metadata": {
        "id": "7mpi52Y3Q5ul"
      },
      "outputs": [],
      "source": [
        "import os\n",
        "\n",
        "# Exemplo de como passar argumentos de execução para o Spark\n",
        "# Os argumentos disponíveis podem ser vistos em spark-submit --help\n",
        "# As opções de configuração do argumento --conf podem ser encontradas no link abaixo:\n",
        "#   https://spark.apache.org/docs/latest/configuration.html#application-properties\n",
        "os.environ['PYSPARK_SUBMIT_ARGS'] = '--driver-memory 4G --executor-memory 4G pyspark-shell'\n",
        "\n",
        "# A partir daqui segue o código Spark que normalmente é executado com um comando similar ao comando abaixo:\n",
        "# spark-submit --driver-memory 4G --executor-memory 4G nome_do_script.py\n",
        "import csv\n",
        "\n",
        "from pyspark.sql import SparkSession, Row"
      ]
    },
    {
      "cell_type": "code",
      "execution_count": null,
      "metadata": {
        "colab": {
          "base_uri": "https://localhost:8080/",
          "height": 219
        },
        "id": "AA2e5rumQ5uo",
        "outputId": "53107cbd-c90e-4724-855e-9cacbd8a1031"
      },
      "outputs": [
        {
          "output_type": "execute_result",
          "data": {
            "text/plain": [
              "<pyspark.sql.session.SparkSession at 0x7927f4f9d3f0>"
            ],
            "text/html": [
              "\n",
              "            <div>\n",
              "                <p><b>SparkSession - in-memory</b></p>\n",
              "                \n",
              "        <div>\n",
              "            <p><b>SparkContext</b></p>\n",
              "\n",
              "            <p><a href=\"http://79afa3663567:4040\">Spark UI</a></p>\n",
              "\n",
              "            <dl>\n",
              "              <dt>Version</dt>\n",
              "                <dd><code>v3.5.0</code></dd>\n",
              "              <dt>Master</dt>\n",
              "                <dd><code>local[*]</code></dd>\n",
              "              <dt>AppName</dt>\n",
              "                <dd><code>pyspark-shell</code></dd>\n",
              "            </dl>\n",
              "        </div>\n",
              "        \n",
              "            </div>\n",
              "        "
            ]
          },
          "metadata": {},
          "execution_count": 5
        }
      ],
      "source": [
        "# Criando um cluster local com 1 executor e a quantidade de threads igual a quantidade de cores de CPU disponíveis\n",
        "\n",
        "spark = SparkSession.builder\\\n",
        "    .master(\"local[*]\")\\\n",
        "    .getOrCreate()\n",
        "spark"
      ]
    },
    {
      "cell_type": "code",
      "execution_count": null,
      "metadata": {
        "colab": {
          "base_uri": "https://localhost:8080/",
          "height": 196
        },
        "id": "6Lc7aSerQ5uq",
        "outputId": "51ec7af6-6169-4d36-eda3-1acf7d7369ad"
      },
      "outputs": [
        {
          "output_type": "execute_result",
          "data": {
            "text/plain": [
              "<SparkContext master=local[*] appName=pyspark-shell>"
            ],
            "text/html": [
              "\n",
              "        <div>\n",
              "            <p><b>SparkContext</b></p>\n",
              "\n",
              "            <p><a href=\"http://79afa3663567:4040\">Spark UI</a></p>\n",
              "\n",
              "            <dl>\n",
              "              <dt>Version</dt>\n",
              "                <dd><code>v3.5.0</code></dd>\n",
              "              <dt>Master</dt>\n",
              "                <dd><code>local[*]</code></dd>\n",
              "              <dt>AppName</dt>\n",
              "                <dd><code>pyspark-shell</code></dd>\n",
              "            </dl>\n",
              "        </div>\n",
              "        "
            ]
          },
          "metadata": {},
          "execution_count": 7
        }
      ],
      "source": [
        "spark.sparkContext"
      ]
    },
    {
      "cell_type": "code",
      "execution_count": null,
      "metadata": {
        "colab": {
          "base_uri": "https://localhost:8080/"
        },
        "id": "TLleF2EwQ5uq",
        "outputId": "71d8424c-c2fc-4f9e-d363-0128936ef758"
      },
      "outputs": [
        {
          "output_type": "execute_result",
          "data": {
            "text/plain": [
              "pyspark.sql.session.SparkSession"
            ]
          },
          "metadata": {},
          "execution_count": 8
        }
      ],
      "source": [
        "type(spark)"
      ]
    },
    {
      "cell_type": "code",
      "execution_count": null,
      "metadata": {
        "colab": {
          "base_uri": "https://localhost:8080/"
        },
        "id": "udgPg34dQ5ur",
        "outputId": "ff6f05e6-31e2-428d-ec35-4ecfabe22593"
      },
      "outputs": [
        {
          "output_type": "execute_result",
          "data": {
            "text/plain": [
              "pyspark.context.SparkContext"
            ]
          },
          "metadata": {},
          "execution_count": 9
        }
      ],
      "source": [
        "type(spark.sparkContext)"
      ]
    },
    {
      "cell_type": "code",
      "execution_count": null,
      "metadata": {
        "id": "1Tu3J_LeQ5ur"
      },
      "outputs": [],
      "source": [
        "# Comando para desativar os recursos do spark\n",
        "# spark.stop()"
      ]
    },
    {
      "cell_type": "markdown",
      "metadata": {
        "id": "OPhLzYtUQ5ur"
      },
      "source": [
        "## Spark SQL"
      ]
    },
    {
      "cell_type": "code",
      "execution_count": null,
      "metadata": {
        "colab": {
          "base_uri": "https://localhost:8080/"
        },
        "id": "-57-l6HPQ5ut",
        "outputId": "ec8572cb-be90-4b78-de4d-92d37f65485e"
      },
      "outputs": [
        {
          "output_type": "stream",
          "name": "stdout",
          "text": [
            "userId,movieId,rating,timestamp\r\n",
            "1,296,5.0,1147880044\r\n",
            "1,306,3.5,1147868817\r\n",
            "1,307,5.0,1147868828\r\n",
            "1,665,5.0,1147878820\r\n",
            "1,899,3.5,1147868510\r\n",
            "1,1088,4.0,1147868495\r\n",
            "1,1175,3.5,1147868826\r\n",
            "1,1217,3.5,1147878326\r\n",
            "1,1237,5.0,1147868839\r\n"
          ]
        }
      ],
      "source": [
        "!head 'drive/MyDrive/data/ml-25m/ratings.csv'"
      ]
    },
    {
      "cell_type": "code",
      "execution_count": null,
      "metadata": {
        "colab": {
          "base_uri": "https://localhost:8080/"
        },
        "id": "b36tkabKQ5ut",
        "outputId": "9a1cd187-05dd-47cd-9dc4-39904faed126"
      },
      "outputs": [
        {
          "output_type": "stream",
          "name": "stdout",
          "text": [
            "movieId,title,genres\r\n",
            "1,Toy Story (1995),Adventure|Animation|Children|Comedy|Fantasy\r\n",
            "2,Jumanji (1995),Adventure|Children|Fantasy\r\n",
            "3,Grumpier Old Men (1995),Comedy|Romance\r\n",
            "4,Waiting to Exhale (1995),Comedy|Drama|Romance\r\n",
            "5,Father of the Bride Part II (1995),Comedy\r\n",
            "6,Heat (1995),Action|Crime|Thriller\r\n",
            "7,Sabrina (1995),Comedy|Romance\r\n",
            "8,Tom and Huck (1995),Adventure|Children\r\n",
            "9,Sudden Death (1995),Action\r\n"
          ]
        }
      ],
      "source": [
        "!head 'drive/MyDrive/data/ml-25m/movies.csv'"
      ]
    },
    {
      "cell_type": "code",
      "source": [
        "ROOT_DATA_PATH = \"drive/MyDrive/data\""
      ],
      "metadata": {
        "id": "n6z7ogsmRpHr"
      },
      "execution_count": null,
      "outputs": []
    },
    {
      "cell_type": "code",
      "execution_count": null,
      "metadata": {
        "id": "jH23bV6eQ5uu"
      },
      "outputs": [],
      "source": [
        "RATINGS_CSV_PATH = f'{ROOT_DATA_PATH}/ml-25m/ratings.csv'\n",
        "MOVIES_CSV_PATH = f'{ROOT_DATA_PATH}/ml-25m/movies.csv'"
      ]
    },
    {
      "cell_type": "code",
      "execution_count": null,
      "metadata": {
        "colab": {
          "base_uri": "https://localhost:8080/"
        },
        "id": "Owxpiek8Q5uu",
        "outputId": "38f686e3-90d9-4570-b391-366ed5ed44a6"
      },
      "outputs": [
        {
          "output_type": "stream",
          "name": "stdout",
          "text": [
            "CPU times: user 504 ms, sys: 60.9 ms, total: 565 ms\n",
            "Wall time: 12.7 s\n"
          ]
        }
      ],
      "source": [
        "%%time\n",
        "\n",
        "def parse_ratings(line):\n",
        "    reader = csv.reader([line])\n",
        "    fields = next(reader)\n",
        "    return Row(user_id=int(fields[0]),\n",
        "               movie_id=int(fields[1]),\n",
        "               rating=float(fields[2]),\n",
        "               timestamp=int(fields[3]))\n",
        "\n",
        "def parse_movies(line):\n",
        "    reader = csv.reader([line])\n",
        "    fields = next(reader)\n",
        "    return Row(movie_id=int(fields[0]),\n",
        "               name=fields[1],\n",
        "               genres=fields[2])\n",
        "\n",
        "ratings_csv = spark.sparkContext.textFile(RATINGS_CSV_PATH)\n",
        "header_r = ratings_csv.first()\n",
        "ratings = ratings_csv.filter(lambda row: row not in header_r)\n",
        "ratings = ratings.map(parse_ratings)\n",
        "ratings_df = spark.createDataFrame(ratings).cache() # cache() salva o dataframe em memória RAM do cluster de maneira distribuída\n",
        "ratings_df.createOrReplaceTempView(\"ratings\")\n",
        "\n",
        "movies_csv = spark.sparkContext.textFile(MOVIES_CSV_PATH)\n",
        "header_m = movies_csv.first()\n",
        "movies = movies_csv.filter(lambda row: row not in header_m)\n",
        "movies = movies.map(parse_movies)\n",
        "movies_df = spark.createDataFrame(movies).cache()\n",
        "movies_df.createOrReplaceTempView(\"movies\")"
      ]
    },
    {
      "cell_type": "code",
      "execution_count": null,
      "metadata": {
        "colab": {
          "base_uri": "https://localhost:8080/"
        },
        "id": "JWwGGMNYQ5uv",
        "outputId": "fc9f4500-1165-4058-dc51-77a7d4e886a4"
      },
      "outputs": [
        {
          "output_type": "execute_result",
          "data": {
            "text/plain": [
              "['userId,movieId,rating,timestamp',\n",
              " '1,296,5.0,1147880044',\n",
              " '1,306,3.5,1147868817',\n",
              " '1,307,5.0,1147868828']"
            ]
          },
          "metadata": {},
          "execution_count": 23
        }
      ],
      "source": [
        "ratings_csv.take(4)"
      ]
    },
    {
      "cell_type": "code",
      "execution_count": null,
      "metadata": {
        "colab": {
          "base_uri": "https://localhost:8080/"
        },
        "id": "Gs0U1w8uQ5uv",
        "outputId": "28ebeb84-4e48-4668-c9d5-61a6e0761503"
      },
      "outputs": [
        {
          "output_type": "execute_result",
          "data": {
            "text/plain": [
              "[Row(user_id=1, movie_id=296, rating=5.0, timestamp=1147880044),\n",
              " Row(user_id=1, movie_id=306, rating=3.5, timestamp=1147868817),\n",
              " Row(user_id=1, movie_id=307, rating=5.0, timestamp=1147868828)]"
            ]
          },
          "metadata": {},
          "execution_count": 24
        }
      ],
      "source": [
        "ratings.take(3)"
      ]
    },
    {
      "cell_type": "code",
      "execution_count": null,
      "metadata": {
        "colab": {
          "base_uri": "https://localhost:8080/"
        },
        "id": "ZCgdr3X_Q5uv",
        "outputId": "c9f29c5e-e42e-4660-fafe-5aff9720769f"
      },
      "outputs": [
        {
          "output_type": "execute_result",
          "data": {
            "text/plain": [
              "['movieId,title,genres',\n",
              " '1,Toy Story (1995),Adventure|Animation|Children|Comedy|Fantasy',\n",
              " '2,Jumanji (1995),Adventure|Children|Fantasy',\n",
              " '3,Grumpier Old Men (1995),Comedy|Romance']"
            ]
          },
          "metadata": {},
          "execution_count": 25
        }
      ],
      "source": [
        "movies_csv.take(4)"
      ]
    },
    {
      "cell_type": "code",
      "execution_count": null,
      "metadata": {
        "colab": {
          "base_uri": "https://localhost:8080/"
        },
        "id": "Hw7aplOXQ5uv",
        "outputId": "ad9de8f1-d811-497b-ab3a-80a7deb4e6b1"
      },
      "outputs": [
        {
          "output_type": "execute_result",
          "data": {
            "text/plain": [
              "[Row(movie_id=1, name='Toy Story (1995)', genres='Adventure|Animation|Children|Comedy|Fantasy'),\n",
              " Row(movie_id=2, name='Jumanji (1995)', genres='Adventure|Children|Fantasy'),\n",
              " Row(movie_id=3, name='Grumpier Old Men (1995)', genres='Comedy|Romance')]"
            ]
          },
          "metadata": {},
          "execution_count": 26
        }
      ],
      "source": [
        "movies.take(3)"
      ]
    },
    {
      "cell_type": "markdown",
      "metadata": {
        "id": "UXSa2AiDQ5uw"
      },
      "source": [
        "## SELECT"
      ]
    },
    {
      "cell_type": "code",
      "execution_count": null,
      "metadata": {
        "colab": {
          "base_uri": "https://localhost:8080/"
        },
        "id": "MJoU6tZTQ5uw",
        "outputId": "a0eafbe8-8edd-456e-809c-6dd0282ddeb8"
      },
      "outputs": [
        {
          "output_type": "stream",
          "name": "stdout",
          "text": [
            "Row(movie_id=296, rating=5.0)\n",
            "Row(movie_id=307, rating=5.0)\n",
            "Row(movie_id=665, rating=5.0)\n",
            "Row(movie_id=1237, rating=5.0)\n",
            "Row(movie_id=2632, rating=5.0)\n",
            "Row(movie_id=2692, rating=5.0)\n",
            "Row(movie_id=3569, rating=5.0)\n",
            "Row(movie_id=3949, rating=5.0)\n",
            "Row(movie_id=4144, rating=5.0)\n",
            "Row(movie_id=4325, rating=5.0)\n",
            "CPU times: user 1.35 s, sys: 157 ms, total: 1.51 s\n",
            "Wall time: 4min 20s\n"
          ]
        }
      ],
      "source": [
        "%%time\n",
        "\n",
        "result = spark.sql(\"SELECT movie_id, rating FROM ratings WHERE rating = 5 LIMIT 10\")\n",
        "\n",
        "for r in result.collect():\n",
        "    print(r)"
      ]
    },
    {
      "cell_type": "code",
      "execution_count": null,
      "metadata": {
        "colab": {
          "base_uri": "https://localhost:8080/"
        },
        "id": "A0KMqqUCQ5uw",
        "outputId": "6bfd3b72-0197-4cb2-a183-09a9176c6eaa"
      },
      "outputs": [
        {
          "output_type": "execute_result",
          "data": {
            "text/plain": [
              "pyspark.sql.dataframe.DataFrame"
            ]
          },
          "metadata": {},
          "execution_count": 19
        }
      ],
      "source": [
        "type(result)"
      ]
    },
    {
      "cell_type": "markdown",
      "metadata": {
        "id": "lTxXpct2Q5uw"
      },
      "source": [
        "## Filmes com mais notas registradas"
      ]
    },
    {
      "cell_type": "code",
      "execution_count": null,
      "metadata": {
        "colab": {
          "base_uri": "https://localhost:8080/"
        },
        "id": "FwOtRx3sQ5uw",
        "outputId": "28743008-fa14-43ab-8133-9d32ead40bbf"
      },
      "outputs": [
        {
          "output_type": "stream",
          "name": "stdout",
          "text": [
            "+--------+-----+\n",
            "|movie_id|count|\n",
            "+--------+-----+\n",
            "|     356|81491|\n",
            "|     318|81482|\n",
            "|     296|79672|\n",
            "|     593|74127|\n",
            "|    2571|72674|\n",
            "|     260|68717|\n",
            "|     480|64144|\n",
            "|     527|60411|\n",
            "|     110|59184|\n",
            "|    2959|58773|\n",
            "|     589|57379|\n",
            "|    1196|57361|\n",
            "|       1|57309|\n",
            "|    4993|55736|\n",
            "|      50|55366|\n",
            "|    1210|54917|\n",
            "|    1198|54675|\n",
            "|    2858|53689|\n",
            "|     858|52498|\n",
            "|    5952|51138|\n",
            "+--------+-----+\n",
            "only showing top 20 rows\n",
            "\n",
            "CPU times: user 32.2 ms, sys: 2.41 ms, total: 34.6 ms\n",
            "Wall time: 3.83 s\n"
          ]
        }
      ],
      "source": [
        "%%time\n",
        "\n",
        "ratings_df.groupBy(\"movie_id\")\\\n",
        "    .count()\\\n",
        "    .orderBy(\"count\", ascending=False)\\\n",
        "    .show()"
      ]
    },
    {
      "cell_type": "markdown",
      "metadata": {
        "id": "8iw0SOzWQ5ux"
      },
      "source": [
        "## Filmes com mais notas registradas (com SQL)"
      ]
    },
    {
      "cell_type": "code",
      "execution_count": null,
      "metadata": {
        "colab": {
          "base_uri": "https://localhost:8080/"
        },
        "id": "GMvkBMkRQ5ux",
        "outputId": "31a4a816-61d8-4750-9337-7a3b6f7aec7e"
      },
      "outputs": [
        {
          "output_type": "stream",
          "name": "stdout",
          "text": [
            "Row(movie_id=356, count(1)=81491)\n",
            "Row(movie_id=318, count(1)=81482)\n",
            "Row(movie_id=296, count(1)=79672)\n",
            "Row(movie_id=593, count(1)=74127)\n",
            "Row(movie_id=2571, count(1)=72674)\n",
            "Row(movie_id=260, count(1)=68717)\n",
            "Row(movie_id=480, count(1)=64144)\n",
            "Row(movie_id=527, count(1)=60411)\n",
            "Row(movie_id=110, count(1)=59184)\n",
            "Row(movie_id=2959, count(1)=58773)\n",
            "Row(movie_id=589, count(1)=57379)\n",
            "Row(movie_id=1196, count(1)=57361)\n",
            "Row(movie_id=1, count(1)=57309)\n",
            "Row(movie_id=4993, count(1)=55736)\n",
            "Row(movie_id=50, count(1)=55366)\n",
            "Row(movie_id=1210, count(1)=54917)\n",
            "Row(movie_id=1198, count(1)=54675)\n",
            "Row(movie_id=2858, count(1)=53689)\n",
            "Row(movie_id=858, count(1)=52498)\n",
            "Row(movie_id=5952, count(1)=51138)\n",
            "CPU times: user 29.4 ms, sys: 5.97 ms, total: 35.4 ms\n",
            "Wall time: 3.62 s\n"
          ]
        }
      ],
      "source": [
        "%%time\n",
        "\n",
        "result = spark.sql(\n",
        "\"\"\"SELECT\n",
        "        movie_id,\n",
        "        count(*)\n",
        "    FROM ratings\n",
        "\n",
        "    GROUP BY\n",
        "        movie_id\n",
        "    ORDER BY\n",
        "        count(*) DESC\n",
        "    LIMIT 20\n",
        "\"\"\"\n",
        ")\n",
        "\n",
        "for r in result.collect():\n",
        "    print(r)"
      ]
    },
    {
      "cell_type": "code",
      "source": [
        "result.show()"
      ],
      "metadata": {
        "colab": {
          "base_uri": "https://localhost:8080/"
        },
        "id": "NxFAYEtGxq6t",
        "outputId": "7f1512cc-566f-4f41-f514-70cf8777aeac"
      },
      "execution_count": null,
      "outputs": [
        {
          "output_type": "stream",
          "name": "stdout",
          "text": [
            "+--------+--------+\n",
            "|movie_id|count(1)|\n",
            "+--------+--------+\n",
            "|     356|   81491|\n",
            "|     318|   81482|\n",
            "|     296|   79672|\n",
            "|     593|   74127|\n",
            "|    2571|   72674|\n",
            "|     260|   68717|\n",
            "|     480|   64144|\n",
            "|     527|   60411|\n",
            "|     110|   59184|\n",
            "|    2959|   58773|\n",
            "|     589|   57379|\n",
            "|    1196|   57361|\n",
            "|       1|   57309|\n",
            "|    4993|   55736|\n",
            "|      50|   55366|\n",
            "|    1210|   54917|\n",
            "|    1198|   54675|\n",
            "|    2858|   53689|\n",
            "|     858|   52498|\n",
            "|    5952|   51138|\n",
            "+--------+--------+\n",
            "\n"
          ]
        }
      ]
    },
    {
      "cell_type": "markdown",
      "metadata": {
        "id": "sDnL7saOQ5ux"
      },
      "source": [
        "## Filmes com mais notas registradas (melhorado)"
      ]
    },
    {
      "cell_type": "code",
      "execution_count": null,
      "metadata": {
        "colab": {
          "base_uri": "https://localhost:8080/"
        },
        "id": "pVDYVhDsQ5ux",
        "outputId": "93400dc0-e4ec-45ba-cbe9-00e0a75959de"
      },
      "outputs": [
        {
          "output_type": "stream",
          "name": "stdout",
          "text": [
            "+--------------------+-----+\n",
            "|                name|count|\n",
            "+--------------------+-----+\n",
            "| Forrest Gump (1994)|81491|\n",
            "|Shawshank Redempt...|81482|\n",
            "| Pulp Fiction (1994)|79672|\n",
            "|Silence of the La...|74127|\n",
            "|  Matrix, The (1999)|72674|\n",
            "|Star Wars: Episod...|68717|\n",
            "|Jurassic Park (1993)|64144|\n",
            "|Schindler's List ...|60411|\n",
            "|   Braveheart (1995)|59184|\n",
            "|   Fight Club (1999)|58773|\n",
            "|Terminator 2: Jud...|57379|\n",
            "|Star Wars: Episod...|57361|\n",
            "|    Toy Story (1995)|57309|\n",
            "|Lord of the Rings...|55736|\n",
            "|Usual Suspects, T...|55366|\n",
            "|Star Wars: Episod...|54917|\n",
            "|Raiders of the Lo...|54675|\n",
            "|American Beauty (...|53689|\n",
            "|Godfather, The (1...|52498|\n",
            "|Lord of the Rings...|51138|\n",
            "+--------------------+-----+\n",
            "only showing top 20 rows\n",
            "\n",
            "CPU times: user 132 ms, sys: 14.4 ms, total: 147 ms\n",
            "Wall time: 23 s\n"
          ]
        }
      ],
      "source": [
        "%%time\n",
        "\n",
        "# o 3 argumento é a seleção da coluna onde será feito o 'join'\n",
        "ratings_df.join(movies_df, ratings_df.movie_id == movies_df.movie_id)\\\n",
        "    .groupBy(movies_df.name)\\\n",
        "    .count()\\\n",
        "    .orderBy(\"count\", ascending=False)\\\n",
        "    .show()"
      ]
    },
    {
      "cell_type": "markdown",
      "metadata": {
        "id": "NpCRJP9oQ5ux"
      },
      "source": [
        "## Filmes com mais notas registradas (melhorado com SQL)"
      ]
    },
    {
      "cell_type": "markdown",
      "source": [
        "Em consultas SQL, é comum usar aliases (apelidos) para abreviar os nomes das tabelas, o que torna o código mais conciso e legível.\n",
        "\n",
        "* No trecho `SELECT m.name, count(*)`, 'm' é um alias para a tabela movies.\n",
        "* No trecho `FROM ratings r JOIN movies m ON m.movie_id = r.movie_id`, 'r' é um alias para a tabela ratings e 'm' é um alias para a tabela movies."
      ],
      "metadata": {
        "id": "xikHOH6GVtnI"
      }
    },
    {
      "cell_type": "code",
      "execution_count": null,
      "metadata": {
        "colab": {
          "base_uri": "https://localhost:8080/"
        },
        "id": "I_shimqdQ5ux",
        "outputId": "e36a1a85-9979-41ce-baee-adcc08987d53"
      },
      "outputs": [
        {
          "output_type": "stream",
          "name": "stdout",
          "text": [
            "Row(name='Forrest Gump (1994)', count(1)=81491)\n",
            "Row(name='Shawshank Redemption, The (1994)', count(1)=81482)\n",
            "Row(name='Pulp Fiction (1994)', count(1)=79672)\n",
            "Row(name='Silence of the Lambs, The (1991)', count(1)=74127)\n",
            "Row(name='Matrix, The (1999)', count(1)=72674)\n",
            "Row(name='Star Wars: Episode IV - A New Hope (1977)', count(1)=68717)\n",
            "Row(name='Jurassic Park (1993)', count(1)=64144)\n",
            "Row(name=\"Schindler's List (1993)\", count(1)=60411)\n",
            "Row(name='Braveheart (1995)', count(1)=59184)\n",
            "Row(name='Fight Club (1999)', count(1)=58773)\n",
            "Row(name='Terminator 2: Judgment Day (1991)', count(1)=57379)\n",
            "Row(name='Star Wars: Episode V - The Empire Strikes Back (1980)', count(1)=57361)\n",
            "Row(name='Toy Story (1995)', count(1)=57309)\n",
            "Row(name='Lord of the Rings: The Fellowship of the Ring, The (2001)', count(1)=55736)\n",
            "Row(name='Usual Suspects, The (1995)', count(1)=55366)\n",
            "Row(name='Star Wars: Episode VI - Return of the Jedi (1983)', count(1)=54917)\n",
            "Row(name='Raiders of the Lost Ark (Indiana Jones and the Raiders of the Lost Ark) (1981)', count(1)=54675)\n",
            "Row(name='American Beauty (1999)', count(1)=53689)\n",
            "Row(name='Godfather, The (1972)', count(1)=52498)\n",
            "Row(name='Lord of the Rings: The Two Towers, The (2002)', count(1)=51138)\n",
            "CPU times: user 65.5 ms, sys: 11.6 ms, total: 77 ms\n",
            "Wall time: 10.8 s\n"
          ]
        }
      ],
      "source": [
        "%%time\n",
        "\n",
        "result = spark.sql(\n",
        "\"\"\"SELECT\n",
        "        m.name,\n",
        "        count(*)\n",
        "    FROM ratings r\n",
        "    JOIN movies m ON m.movie_id = r.movie_id\n",
        "    GROUP BY\n",
        "        m.name\n",
        "    ORDER BY\n",
        "        count(*) DESC\n",
        "    LIMIT 20\n",
        "\"\"\"\n",
        ")\n",
        "\n",
        "for r in result.collect():\n",
        "    print(r)"
      ]
    },
    {
      "cell_type": "code",
      "source": [
        "result.show()"
      ],
      "metadata": {
        "colab": {
          "base_uri": "https://localhost:8080/"
        },
        "id": "jp1M_CEfz2Yn",
        "outputId": "b8233353-0b44-4d40-c44e-48f26b11e65c"
      },
      "execution_count": null,
      "outputs": [
        {
          "output_type": "stream",
          "name": "stdout",
          "text": [
            "+--------------------+--------+\n",
            "|                name|count(1)|\n",
            "+--------------------+--------+\n",
            "| Forrest Gump (1994)|   81491|\n",
            "|Shawshank Redempt...|   81482|\n",
            "| Pulp Fiction (1994)|   79672|\n",
            "|Silence of the La...|   74127|\n",
            "|  Matrix, The (1999)|   72674|\n",
            "|Star Wars: Episod...|   68717|\n",
            "|Jurassic Park (1993)|   64144|\n",
            "|Schindler's List ...|   60411|\n",
            "|   Braveheart (1995)|   59184|\n",
            "|   Fight Club (1999)|   58773|\n",
            "|Terminator 2: Jud...|   57379|\n",
            "|Star Wars: Episod...|   57361|\n",
            "|    Toy Story (1995)|   57309|\n",
            "|Lord of the Rings...|   55736|\n",
            "|Usual Suspects, T...|   55366|\n",
            "|Star Wars: Episod...|   54917|\n",
            "|Raiders of the Lo...|   54675|\n",
            "|American Beauty (...|   53689|\n",
            "|Godfather, The (1...|   52498|\n",
            "|Lord of the Rings...|   51138|\n",
            "+--------------------+--------+\n",
            "\n"
          ]
        }
      ]
    },
    {
      "cell_type": "markdown",
      "metadata": {
        "id": "zaR4BgT8Q5uy"
      },
      "source": [
        "## Criando uma nova view com os filmes e a quantidade de avaliações (melhorado com SQL)"
      ]
    },
    {
      "cell_type": "code",
      "execution_count": null,
      "metadata": {
        "id": "ZgXNYCX1Q5uy"
      },
      "outputs": [],
      "source": [
        "spark.sql(\n",
        "\"\"\"SELECT\n",
        "        m.name,\n",
        "        count(*)\n",
        "    FROM ratings r\n",
        "    JOIN movies m ON m.movie_id = r.movie_id\n",
        "    GROUP BY\n",
        "        m.name\n",
        "    ORDER BY\n",
        "        count(*) DESC\n",
        "\"\"\"\n",
        ").createOrReplaceTempView(\"count_ratings\")"
      ]
    },
    {
      "cell_type": "markdown",
      "source": [
        "Uma visão temporária, no contexto do Apache Spark, é uma representação temporária de um DataFrame que existe apenas durante a sessão Spark atual. Essa visão temporária pode ser referenciada em consultas SQL executadas no SparkSession em que foi criada.\n",
        "\n",
        "**Ao criar uma visão temporária, você está essencialmente dando um nome a um DataFrame** para que ele possa ser referenciado em consultas SQL posteriormente. Isso é útil quando você deseja executar consultas complexas ou reutilizar a mesma lógica de consulta várias vezes sem precisar repeti-la.\n",
        "\n",
        "O método `createOrReplaceTempView(\"count_ratings\")` é usado no contexto do Spark SQL para criar ou substituir uma visão temporária (temp view) com o nome \"count_ratings\".\n",
        "\n",
        "1. **createOrReplaceTempView:** Este método cria ou substitui uma visão temporária. Se uma visão com o mesmo nome já existir, ela será substituída pelo novo conjunto de dados. Se não existir, uma nova visão temporária será criada.\n",
        "\n",
        "2. **\"count_ratings\":** Este é o nome dado à visão temporária que está sendo criada ou substituída. É uma string que identifica exclusivamente a visão temporária dentro do contexto do Spark."
      ],
      "metadata": {
        "id": "FAYHs8hXYb8H"
      }
    },
    {
      "cell_type": "markdown",
      "metadata": {
        "id": "GAY8AfGQQ5uy"
      },
      "source": [
        "#### Usando a nova view para pegar os top 10 filmes mais avaliados"
      ]
    },
    {
      "cell_type": "markdown",
      "source": [
        "No contexto de uma consulta SQL, o asterisco (*) é usado como um curinga para selecionar todas as colunas disponíveis em uma tabela ou visão."
      ],
      "metadata": {
        "id": "tuwDmtXIXaL5"
      }
    },
    {
      "cell_type": "code",
      "execution_count": null,
      "metadata": {
        "colab": {
          "base_uri": "https://localhost:8080/"
        },
        "id": "5iWNNa2eQ5uy",
        "outputId": "41d5c7f9-9dbd-4962-9a93-72b4790daffa"
      },
      "outputs": [
        {
          "output_type": "execute_result",
          "data": {
            "text/plain": [
              "[Row(name='Forrest Gump (1994)', count(1)=81491),\n",
              " Row(name='Shawshank Redemption, The (1994)', count(1)=81482),\n",
              " Row(name='Pulp Fiction (1994)', count(1)=79672),\n",
              " Row(name='Silence of the Lambs, The (1991)', count(1)=74127),\n",
              " Row(name='Matrix, The (1999)', count(1)=72674),\n",
              " Row(name='Star Wars: Episode IV - A New Hope (1977)', count(1)=68717),\n",
              " Row(name='Jurassic Park (1993)', count(1)=64144),\n",
              " Row(name=\"Schindler's List (1993)\", count(1)=60411),\n",
              " Row(name='Braveheart (1995)', count(1)=59184),\n",
              " Row(name='Fight Club (1999)', count(1)=58773)]"
            ]
          },
          "metadata": {},
          "execution_count": 39
        }
      ],
      "source": [
        "spark.sql(\n",
        "\"\"\"SELECT\n",
        "        *\n",
        "    FROM count_ratings\n",
        "    LIMIT 10\n",
        "\"\"\"\n",
        ").collect()"
      ]
    },
    {
      "cell_type": "markdown",
      "source": [
        "Esse trecho de código significa que estamos selecionando todas as colunas da visão temporária chamada \"count_ratings\". Isso retorna todas as colunas e seus respectivos valores para cada linha na visão."
      ],
      "metadata": {
        "id": "6UB2JcfiXf7P"
      }
    },
    {
      "cell_type": "markdown",
      "metadata": {
        "id": "x-qiLMIOQ5uy"
      },
      "source": [
        "## Usando método `head`"
      ]
    },
    {
      "cell_type": "code",
      "execution_count": null,
      "metadata": {
        "colab": {
          "base_uri": "https://localhost:8080/"
        },
        "id": "rlBmfYd7Q5uy",
        "outputId": "c086a9a2-fc9b-491b-c159-b68793edf81b"
      },
      "outputs": [
        {
          "output_type": "stream",
          "name": "stdout",
          "text": [
            "+-------+--------+------+----------+\n",
            "|user_id|movie_id|rating| timestamp|\n",
            "+-------+--------+------+----------+\n",
            "|      1|     296|   5.0|1147880044|\n",
            "|      1|     306|   3.5|1147868817|\n",
            "|      1|     307|   5.0|1147868828|\n",
            "|      1|     665|   5.0|1147878820|\n",
            "|      1|     899|   3.5|1147868510|\n",
            "|      1|    1088|   4.0|1147868495|\n",
            "|      1|    1175|   3.5|1147868826|\n",
            "|      1|    1217|   3.5|1147878326|\n",
            "|      1|    1237|   5.0|1147868839|\n",
            "|      1|    1250|   4.0|1147868414|\n",
            "+-------+--------+------+----------+\n",
            "only showing top 10 rows\n",
            "\n"
          ]
        }
      ],
      "source": [
        "ratings_df.show(10)"
      ]
    },
    {
      "cell_type": "code",
      "execution_count": null,
      "metadata": {
        "colab": {
          "base_uri": "https://localhost:8080/"
        },
        "id": "ej26536oQ5uz",
        "outputId": "97dd3d8e-7f05-4762-8003-9fc2a47d6154"
      },
      "outputs": [
        {
          "output_type": "execute_result",
          "data": {
            "text/plain": [
              "Row(user_id=1, movie_id=296, rating=5.0, timestamp=1147880044)"
            ]
          },
          "metadata": {},
          "execution_count": 41
        }
      ],
      "source": [
        "ratings_df.head()"
      ]
    },
    {
      "cell_type": "code",
      "execution_count": null,
      "metadata": {
        "colab": {
          "base_uri": "https://localhost:8080/"
        },
        "id": "YPIFajfRQ5uz",
        "outputId": "20e7bf62-c616-405f-e9c2-2d3095b180dc"
      },
      "outputs": [
        {
          "output_type": "execute_result",
          "data": {
            "text/plain": [
              "[Row(user_id=1, movie_id=296, rating=5.0, timestamp=1147880044),\n",
              " Row(user_id=1, movie_id=306, rating=3.5, timestamp=1147868817),\n",
              " Row(user_id=1, movie_id=307, rating=5.0, timestamp=1147868828),\n",
              " Row(user_id=1, movie_id=665, rating=5.0, timestamp=1147878820),\n",
              " Row(user_id=1, movie_id=899, rating=3.5, timestamp=1147868510),\n",
              " Row(user_id=1, movie_id=1088, rating=4.0, timestamp=1147868495),\n",
              " Row(user_id=1, movie_id=1175, rating=3.5, timestamp=1147868826),\n",
              " Row(user_id=1, movie_id=1217, rating=3.5, timestamp=1147878326),\n",
              " Row(user_id=1, movie_id=1237, rating=5.0, timestamp=1147868839),\n",
              " Row(user_id=1, movie_id=1250, rating=4.0, timestamp=1147868414)]"
            ]
          },
          "metadata": {},
          "execution_count": 42
        }
      ],
      "source": [
        "ratings_df.head(10)"
      ]
    }
  ],
  "metadata": {
    "kernelspec": {
      "display_name": "Python 3 (ipykernel)",
      "language": "python",
      "name": "python3"
    },
    "language_info": {
      "codemirror_mode": {
        "name": "ipython",
        "version": 3
      },
      "file_extension": ".py",
      "mimetype": "text/x-python",
      "name": "python",
      "nbconvert_exporter": "python",
      "pygments_lexer": "ipython3",
      "version": "3.10.6"
    },
    "colab": {
      "provenance": [],
      "include_colab_link": true
    }
  },
  "nbformat": 4,
  "nbformat_minor": 0
}