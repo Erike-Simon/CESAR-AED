{
  "cells": [
    {
      "cell_type": "markdown",
      "metadata": {
        "id": "view-in-github",
        "colab_type": "text"
      },
      "source": [
        "<a href=\"https://colab.research.google.com/github/Erike-Simon/CESAR-AED/blob/main/ProcDados_spark_core.ipynb\" target=\"_parent\"><img src=\"https://colab.research.google.com/assets/colab-badge.svg\" alt=\"Open In Colab\"/></a>"
      ]
    },
    {
      "cell_type": "code",
      "source": [
        "from google.colab import drive\n",
        "drive.mount('/content/drive')"
      ],
      "metadata": {
        "colab": {
          "base_uri": "https://localhost:8080/"
        },
        "id": "mIB95vN7J9Ch",
        "outputId": "5abf1518-6989-4e12-a267-7b9d5f3a546c"
      },
      "execution_count": null,
      "outputs": [
        {
          "output_type": "stream",
          "name": "stdout",
          "text": [
            "Mounted at /content/drive\n"
          ]
        }
      ]
    },
    {
      "cell_type": "code",
      "source": [
        "!pip install --upgrade pyspark"
      ],
      "metadata": {
        "colab": {
          "base_uri": "https://localhost:8080/"
        },
        "id": "0eQRRomGJ-Ye",
        "outputId": "fed01b54-5226-4b2b-fd82-7626d31cb101"
      },
      "execution_count": null,
      "outputs": [
        {
          "output_type": "stream",
          "name": "stdout",
          "text": [
            "Collecting pyspark\n",
            "  Downloading pyspark-3.5.0.tar.gz (316.9 MB)\n",
            "\u001b[2K     \u001b[90m━━━━━━━━━━━━━━━━━━━━━━━━━━━━━━━━━━━━━━━━\u001b[0m \u001b[32m316.9/316.9 MB\u001b[0m \u001b[31m4.5 MB/s\u001b[0m eta \u001b[36m0:00:00\u001b[0m\n",
            "\u001b[?25h  Preparing metadata (setup.py) ... \u001b[?25l\u001b[?25hdone\n",
            "Requirement already satisfied: py4j==0.10.9.7 in /usr/local/lib/python3.10/dist-packages (from pyspark) (0.10.9.7)\n",
            "Building wheels for collected packages: pyspark\n",
            "  Building wheel for pyspark (setup.py) ... \u001b[?25l\u001b[?25hdone\n",
            "  Created wheel for pyspark: filename=pyspark-3.5.0-py2.py3-none-any.whl size=317425345 sha256=58902ad9a4a5e696a32b2cb2197adb71893392b8f751fb63907ef3d67a4d1b0a\n",
            "  Stored in directory: /root/.cache/pip/wheels/41/4e/10/c2cf2467f71c678cfc8a6b9ac9241e5e44a01940da8fbb17fc\n",
            "Successfully built pyspark\n",
            "Installing collected packages: pyspark\n",
            "Successfully installed pyspark-3.5.0\n"
          ]
        }
      ]
    },
    {
      "cell_type": "code",
      "execution_count": null,
      "metadata": {
        "id": "BrUmHkThGvbm"
      },
      "outputs": [],
      "source": [
        "from pyspark import SparkConf, SparkContext"
      ]
    },
    {
      "cell_type": "code",
      "execution_count": null,
      "metadata": {
        "colab": {
          "base_uri": "https://localhost:8080/",
          "height": 196
        },
        "id": "XYBIaky7Gvbo",
        "outputId": "6d7f9b62-aac9-4dfd-d3a3-26ede63bdb75"
      },
      "outputs": [
        {
          "output_type": "execute_result",
          "data": {
            "text/plain": [
              "<SparkContext master=local-cluster[2, 1, 3072] appName=pyspark-shell>"
            ],
            "text/html": [
              "\n",
              "        <div>\n",
              "            <p><b>SparkContext</b></p>\n",
              "\n",
              "            <p><a href=\"http://95624f7de78e:4040\">Spark UI</a></p>\n",
              "\n",
              "            <dl>\n",
              "              <dt>Version</dt>\n",
              "                <dd><code>v3.5.0</code></dd>\n",
              "              <dt>Master</dt>\n",
              "                <dd><code>local-cluster[2, 1, 3072]</code></dd>\n",
              "              <dt>AppName</dt>\n",
              "                <dd><code>pyspark-shell</code></dd>\n",
              "            </dl>\n",
              "        </div>\n",
              "        "
            ]
          },
          "metadata": {},
          "execution_count": 3
        }
      ],
      "source": [
        "# Criando um cluster local com 1 worker e a quantidade de cores igual a quantidade de cores de CPU disponíveis\n",
        "# local[*]\n",
        "#\n",
        "# Criando um cluster local com 1 worker e a quantidade de cores igual a 8\n",
        "# local[8]\n",
        "#\n",
        "# Criando um cluster local com 2 workers, 1 cores por worker e 3GB de RAM por worker\n",
        "# local-cluster[2, 1, 3072]\n",
        "\n",
        "# conf = SparkConf().setMaster(\"local[*]\")\n",
        "# conf = SparkConf().setMaster(\"local[8]\")\n",
        "conf = SparkConf().setMaster(\"local-cluster[2, 1, 3072]\")\n",
        "sc = SparkContext(conf=conf)\n",
        "sc"
      ]
    },
    {
      "cell_type": "code",
      "execution_count": null,
      "metadata": {
        "id": "oB1tvQYsGvbp"
      },
      "outputs": [],
      "source": [
        "# Comando para desativar os recursos do spark\n",
        "sc.stop()"
      ]
    },
    {
      "cell_type": "code",
      "execution_count": null,
      "metadata": {
        "colab": {
          "base_uri": "https://localhost:8080/"
        },
        "id": "Ou4lHYThGvbp",
        "outputId": "9f4e5a2e-1047-4c19-8092-38f6bd959a2a"
      },
      "outputs": [
        {
          "output_type": "stream",
          "name": "stdout",
          "text": [
            "userId,movieId,rating,timestamp\r\n",
            "1,296,5.0,1147880044\r\n",
            "1,306,3.5,1147868817\r\n",
            "1,307,5.0,1147868828\r\n",
            "1,665,5.0,1147878820\r\n",
            "1,899,3.5,1147868510\r\n",
            "1,1088,4.0,1147868495\r\n",
            "1,1175,3.5,1147868826\r\n",
            "1,1217,3.5,1147878326\r\n",
            "1,1237,5.0,1147868839\r\n"
          ]
        }
      ],
      "source": [
        "!head 'drive/MyDrive/data/ml-25m/ratings.csv'"
      ]
    },
    {
      "cell_type": "code",
      "source": [
        "ROOT_DATA_PATH = 'drive/MyDrive/data'"
      ],
      "metadata": {
        "id": "809apw_6KxWO"
      },
      "execution_count": null,
      "outputs": []
    },
    {
      "cell_type": "code",
      "execution_count": null,
      "metadata": {
        "id": "JbbeYxTTGvbp"
      },
      "outputs": [],
      "source": [
        "RATINGS_CSV_PATH = f'{ROOT_DATA_PATH}/ml-25m/ratings.csv'"
      ]
    },
    {
      "cell_type": "markdown",
      "metadata": {
        "id": "I3PF9YJAGvbq"
      },
      "source": [
        "## Qual é o total de avaliações por valor de rating? (countByValue)"
      ]
    },
    {
      "cell_type": "code",
      "execution_count": null,
      "metadata": {
        "colab": {
          "base_uri": "https://localhost:8080/"
        },
        "id": "Bj6S41OeGvbr",
        "outputId": "7df5aa5d-a188-4c2e-abc5-3ebf11fce850"
      },
      "outputs": [
        {
          "output_type": "stream",
          "name": "stdout",
          "text": [
            "393068 avaliações tiveram a nota 0.5\n",
            "776815 avaliações tiveram a nota 1.0\n",
            "399490 avaliações tiveram a nota 1.5\n",
            "1640868 avaliações tiveram a nota 2.0\n",
            "1262797 avaliações tiveram a nota 2.5\n",
            "4896928 avaliações tiveram a nota 3.0\n",
            "3177318 avaliações tiveram a nota 3.5\n",
            "6639798 avaliações tiveram a nota 4.0\n",
            "2200539 avaliações tiveram a nota 4.5\n",
            "3612474 avaliações tiveram a nota 5.0\n",
            "CPU times: user 399 ms, sys: 48.7 ms, total: 448 ms\n",
            "Wall time: 1min 20s\n"
          ]
        }
      ],
      "source": [
        "%%time\n",
        "\n",
        "file_csv = sc.textFile(RATINGS_CSV_PATH)\n",
        "header = file_csv.first()\n",
        "ratings = file_csv.filter(lambda row: row != header)\n",
        "rating_values = ratings.map(lambda row: row.split(',')[2])\n",
        "result = rating_values.countByValue()\n",
        "\n",
        "for rating, number_of_ratings in sorted(result.items()):\n",
        "    print(f\"{number_of_ratings} avaliações tiveram a nota {rating}\")"
      ]
    },
    {
      "cell_type": "markdown",
      "metadata": {
        "id": "hSO7SFMjGvbr"
      },
      "source": [
        "#### Comentários do código\n",
        "Primeiro é criado um ponteiro para o arquivo CSV ser lido como texto (**Transformation**)\n",
        "```python\n",
        "file_csv = sc.textFile(RATINGS_CSV_PATH)\n",
        "```\n",
        "As linhas abaixo apenas estão separando a linha do header dos dados (**Transformation**)\n",
        "```python\n",
        "header = file_csv.first()\n",
        "ratings = file_csv.filter(lambda row: row != header)\n",
        "```\n",
        "Agora fazemos um map para capturar apenas os valores da terceira coluna como string (**Transformation**)\n",
        "```python\n",
        "rating_values = ratings.map(lambda row: row.split(',')[2])\n",
        "```\n",
        "Depois usamos o método `countByValue` que retorna um dicionário com os ratings como chave e o count como valor (**Action**). Nesse momento, todas as **Transformations** são executadas\n",
        "```python\n",
        "result = rating_values.countByValue()\n",
        "```\n",
        "O código abaixo imprime o resultado ordenado pelo primeiro valor das tuplas geradas pelo método `items()`, que são os valores da coluna **rating**\n",
        "```python\n",
        "for rating, number_of_ratings in sorted(result.items()):\n",
        "    print(f\"{number_of_ratings} avaliações tiveram a nota {rating}\")\n",
        "```"
      ]
    },
    {
      "cell_type": "code",
      "execution_count": null,
      "metadata": {
        "colab": {
          "base_uri": "https://localhost:8080/"
        },
        "id": "ufe7vzZGGvbr",
        "outputId": "e39f3fee-5668-4639-aacf-989a8dea630e"
      },
      "outputs": [
        {
          "output_type": "stream",
          "name": "stdout",
          "text": [
            "6639798 avaliações tiveram a nota 4.0\n",
            "4896928 avaliações tiveram a nota 3.0\n",
            "3612474 avaliações tiveram a nota 5.0\n",
            "3177318 avaliações tiveram a nota 3.5\n",
            "2200539 avaliações tiveram a nota 4.5\n",
            "1640868 avaliações tiveram a nota 2.0\n",
            "1262797 avaliações tiveram a nota 2.5\n",
            "776815 avaliações tiveram a nota 1.0\n",
            "399490 avaliações tiveram a nota 1.5\n",
            "393068 avaliações tiveram a nota 0.5\n"
          ]
        }
      ],
      "source": [
        "# Exemplo de código para imprimir o resultado ordenando pelo count de forma decrescente\n",
        "count_sort = [(y, x) for x, y in result.items()] # Para isso podemos inverter a posição dos valores das tuplas\n",
        "for number_of_ratings, rating in sorted(count_sort, reverse=True): # Para que seja decrescente é usado o argumento reverse=True\n",
        "    print(f\"{number_of_ratings} avaliações tiveram a nota {rating}\")"
      ]
    },
    {
      "cell_type": "markdown",
      "metadata": {
        "id": "stEe2PW_Gvbs"
      },
      "source": [
        "## Qual é o total de avaliações por valor de rating usando o método MapReduce? (Key-value Pair)"
      ]
    },
    {
      "cell_type": "code",
      "execution_count": null,
      "metadata": {
        "colab": {
          "base_uri": "https://localhost:8080/"
        },
        "id": "QulkDibtGvbt",
        "outputId": "70f9d1da-e1c3-4c69-a7cf-a006d91df71c"
      },
      "outputs": [
        {
          "output_type": "stream",
          "name": "stdout",
          "text": [
            "userId,movieId,rating,timestamp\r\n",
            "1,296,5.0,1147880044\r\n",
            "1,306,3.5,1147868817\r\n",
            "1,307,5.0,1147868828\r\n",
            "1,665,5.0,1147878820\r\n",
            "1,899,3.5,1147868510\r\n",
            "1,1088,4.0,1147868495\r\n",
            "1,1175,3.5,1147868826\r\n",
            "1,1217,3.5,1147878326\r\n",
            "1,1237,5.0,1147868839\r\n"
          ]
        }
      ],
      "source": [
        "!head 'drive/MyDrive/data/ml-25m/ratings.csv'"
      ]
    },
    {
      "cell_type": "code",
      "execution_count": null,
      "metadata": {
        "colab": {
          "base_uri": "https://localhost:8080/"
        },
        "id": "7ayvalrYGvbt",
        "outputId": "907ae74c-b2bb-4797-bc43-c1e63badd568"
      },
      "outputs": [
        {
          "output_type": "stream",
          "name": "stdout",
          "text": [
            "393068 avaliações tiveram a nota 0.5\n",
            "776815 avaliações tiveram a nota 1.0\n",
            "399490 avaliações tiveram a nota 1.5\n",
            "1640868 avaliações tiveram a nota 2.0\n",
            "1262797 avaliações tiveram a nota 2.5\n",
            "4896928 avaliações tiveram a nota 3.0\n",
            "3177318 avaliações tiveram a nota 3.5\n",
            "6639798 avaliações tiveram a nota 4.0\n",
            "2200539 avaliações tiveram a nota 4.5\n",
            "3612474 avaliações tiveram a nota 5.0\n",
            "CPU times: user 474 ms, sys: 73.6 ms, total: 548 ms\n",
            "Wall time: 1min 38s\n"
          ]
        }
      ],
      "source": [
        "%%time\n",
        "\n",
        "def parse_ratings_as_key(row):\n",
        "    fields = row.split(',') # Gerar uma lista com os valores da linha\n",
        "    rating_field = float(fields[2]) # Converter o valor da terceira coluna (rating) para float\n",
        "    return (rating_field, 1) # Retornar um key-value pair com o valor de rating e o inteiro 1\n",
        "\n",
        "file_csv = sc.textFile(RATINGS_CSV_PATH)\n",
        "header = file_csv.first()\n",
        "ratings = file_csv.filter(lambda row: row != header)\n",
        "ratings_count = ratings.map(parse_ratings_as_key)\n",
        "ratings_sum = ratings_count.reduceByKey(lambda x, y: x + y)\n",
        "results = ratings_sum.collect()\n",
        "for rating, number_of_ratings in sorted(results):\n",
        "    print(f\"{number_of_ratings} avaliações tiveram a nota {rating}\")"
      ]
    },
    {
      "cell_type": "markdown",
      "metadata": {
        "id": "WtWPOvM_Gvbt"
      },
      "source": [
        "#### Comentários do código\n",
        "Criamos uma função para fazer o parse da string dos dados por coluna e tipo\n",
        "```python\n",
        "def parse_ratings_as_key(row):\n",
        "    fields = row.split(',') # Gerar uma lista com os valores da linha\n",
        "    rating_field = float(fields[2]) # Converter o valor da terceira coluna (rating) para float\n",
        "    return (rating_field, 1) # Retornar um key-value pair com o valor de rating e o inteiro 1\n",
        "```\n",
        "Fazemos um map para capturar apenas os valores da terceira coluna como `float` em **key-value pairs** (float, 1)\n",
        "```python\n",
        "ratings_count = ratings.map(parse_ratings_as_key)\n",
        "```\n",
        "Depois usamos o método `reduceByKey` que executa a função passando os **values** de dois **key-value pairs** cujo **key** é o mesmo. O resultado de cada operação segue como argumento junto com o **value** do próximo **key-value pair**.\n",
        "```python\n",
        "ratings_sum = ratings_count.reduceByKey(lambda x, y: x + y)\n",
        "```\n",
        "Depois usamos o método `collect` (**Action**) que nesse caso retorna uma lista com todos os **key-value pairs** resultantes das **Transformations** acima\n",
        "```python\n",
        "results = ratings_sum.collect()\n",
        "```\n",
        "O código abaixo imprime o resultado ordenado pelo primeiro valor das tuplas da lista, que são os valores da coluna **rating**\n",
        "```python\n",
        "for rating, number_of_ratings in sorted(result):\n",
        "    print(f\"{number_of_ratings} avaliações tiveram a nota {rating}\")\n",
        "```"
      ]
    },
    {
      "cell_type": "markdown",
      "metadata": {
        "id": "wVzH1zQIGvbu"
      },
      "source": [
        "#### Exemplo de reduceByKey com 1 thread"
      ]
    },
    {
      "cell_type": "code",
      "execution_count": null,
      "metadata": {
        "id": "wEZDK3zDGvbu",
        "outputId": "7a8d4cda-3daf-45f6-9bff-1267e7d092d0"
      },
      "outputs": [
        {
          "data": {
            "text/plain": [
              "(5.0, 6)"
            ]
          },
          "execution_count": 12,
          "metadata": {},
          "output_type": "execute_result"
        }
      ],
      "source": [
        "(5.0, 1), (5.0, 1), (5.0, 1), (5.0, 1), (5.0, 1), (5.0, 1)\n",
        "(5.0, 2), (5.0, 1), (5.0, 1), (5.0, 1), (5.0, 1)\n",
        "(5.0, 3), (5.0, 1), (5.0, 1), (5.0, 1)\n",
        "(5.0, 4), (5.0, 1), (5.0, 1)\n",
        "(5.0, 5), (5.0, 1)\n",
        "(5.0, 6)"
      ]
    },
    {
      "cell_type": "markdown",
      "metadata": {
        "id": "fSdGM9iuGvbu"
      },
      "source": [
        "#### Exemplo de reduceByKey com 2 threads"
      ]
    },
    {
      "cell_type": "code",
      "execution_count": null,
      "metadata": {
        "id": "tMI5pPsAGvbu",
        "outputId": "02da6e54-cf97-49e0-bc5f-b706cc6be0a9"
      },
      "outputs": [
        {
          "data": {
            "text/plain": [
              "(5.0, 6)"
            ]
          },
          "execution_count": 13,
          "metadata": {},
          "output_type": "execute_result"
        }
      ],
      "source": [
        "(5.0, 1), (5.0, 1), (5.0, 1), (5.0, 1), (5.0, 1), (5.0, 1)\n",
        "(5.0, 2), (5.0, 1), (5.0, 2), (5.0, 1)\n",
        "(5.0, 3), (5.0, 3)\n",
        "(5.0, 6)"
      ]
    },
    {
      "cell_type": "markdown",
      "metadata": {
        "id": "ENJWZvmhGvbu"
      },
      "source": [
        "## Qual é a média das avaliações dos 10 primeiros usuários do sistema? (mapValues)"
      ]
    },
    {
      "cell_type": "code",
      "execution_count": null,
      "metadata": {
        "colab": {
          "base_uri": "https://localhost:8080/"
        },
        "id": "fkMnl9WiGvbv",
        "outputId": "7c2700ae-7ce0-411d-a07e-5b33acbd05eb"
      },
      "outputs": [
        {
          "output_type": "stream",
          "name": "stdout",
          "text": [
            "userId,movieId,rating,timestamp\r\n",
            "1,296,5.0,1147880044\r\n",
            "1,306,3.5,1147868817\r\n",
            "1,307,5.0,1147868828\r\n",
            "1,665,5.0,1147878820\r\n",
            "1,899,3.5,1147868510\r\n",
            "1,1088,4.0,1147868495\r\n",
            "1,1175,3.5,1147868826\r\n",
            "1,1217,3.5,1147878326\r\n",
            "1,1237,5.0,1147868839\r\n"
          ]
        }
      ],
      "source": [
        "!head 'drive/MyDrive/data/ml-25m/ratings.csv'"
      ]
    },
    {
      "cell_type": "code",
      "execution_count": null,
      "metadata": {
        "colab": {
          "base_uri": "https://localhost:8080/"
        },
        "id": "1naFXPF0Gvbv",
        "outputId": "07882c82-5351-46c4-b605-a9ad5d04c823"
      },
      "outputs": [
        {
          "output_type": "stream",
          "name": "stdout",
          "text": [
            "A média de notas do usuário 1 é 3.8142857142857145\n",
            "A média de notas do usuário 2 é 3.630434782608696\n",
            "A média de notas do usuário 3 é 3.6974085365853657\n",
            "A média de notas do usuário 4 é 3.378099173553719\n",
            "A média de notas do usuário 5 é 3.7524752475247523\n",
            "A média de notas do usuário 6 é 4.153846153846154\n",
            "A média de notas do usuário 7 é 3.64\n",
            "A média de notas do usuário 8 é 3.6129032258064515\n",
            "A média de notas do usuário 9 é 3.865168539325843\n",
            "A média de notas do usuário 10 é 3.452830188679245\n",
            "CPU times: user 555 ms, sys: 82.4 ms, total: 637 ms\n",
            "Wall time: 1min 53s\n"
          ]
        }
      ],
      "source": [
        "%%time\n",
        "\n",
        "def parse_user_and_rating(row):\n",
        "    fields = row.split(',')\n",
        "    user_field = int(fields[0])\n",
        "    rating_field = float(fields[2])\n",
        "    return (user_field, rating_field)\n",
        "\n",
        "file_csv = sc.textFile(RATINGS_CSV_PATH)\n",
        "header = file_csv.first()\n",
        "ratings = file_csv.filter(lambda row: row != header)\n",
        "ratings_by_user = ratings.map(parse_user_and_rating)\n",
        "totals_by_user_map = ratings_by_user.mapValues(lambda rating: (rating, 1))\n",
        "totals_by_user = totals_by_user_map.reduceByKey(lambda x, y: (x[0] + y[0], x[1] + y[1]))\n",
        "ratings_avg = totals_by_user.mapValues(lambda z: z[0] / z[1])\n",
        "results = ratings_avg.takeOrdered(10)\n",
        "for user, avg in results:\n",
        "    print(f\"A média de notas do usuário {user} é {avg}\")"
      ]
    },
    {
      "cell_type": "markdown",
      "metadata": {
        "id": "nWwKzhHqGvbv"
      },
      "source": [
        "#### Comentários do código\n",
        "Fazemos um map para capturar apenas os valores da primeira coluna como `int` da terceira coluna como `float` em **key-value pairs** (int, float)\n",
        "```python\n",
        "ratings_by_user = ratings.map(parse_user_and_rating)\n",
        "```\n",
        "Depois calculamos ao mesmo tempo a soma dos ratings com a quantidade de ratings por usuário. Para isso usamos o método `mapValues` para trocar os **values** dos **key-value pairs** de float por (float, 1). Então usamos o método `reduceByKey` para fazer a soma dos valores de rating e das quantidades por usuário.\n",
        "```python\n",
        "totals_by_user = ratings_by_user.mapValues(lambda rating: (rating, 1))\\\n",
        "    .reduceByKey(lambda x, y: (x[0] + y[0], x[1] + y[1]))\n",
        "```\n",
        "Depois usamos o `mapValues` novamente para calcular a média das notas dos usuários\n",
        "```python\n",
        "ratings_avg = totals_by_user.mapValues(lambda z: z[0] / z[1])\n",
        "```\n",
        "Depois usamos o método `takeOrdered(10)` (**Action**) que nesse caso retorna uma lista com 10 **key-value pairs** resultantes das **Transformations** acima ordenados pelo **key**\n",
        "```python\n",
        "results = ratings_avg.takeOrdered(10)\n",
        "```"
      ]
    },
    {
      "cell_type": "code",
      "execution_count": null,
      "metadata": {
        "id": "P3vHfvWnGvbv",
        "outputId": "a9caa7ef-fc2d-45e1-bc1e-1ab2fcb3391f"
      },
      "outputs": [
        {
          "data": {
            "text/plain": [
              "15"
            ]
          },
          "execution_count": 16,
          "metadata": {},
          "output_type": "execute_result"
        }
      ],
      "source": [
        "(1 + 2 + 3 + 4 + 5)"
      ]
    },
    {
      "cell_type": "code",
      "execution_count": null,
      "metadata": {
        "id": "46lAs6FxGvbv",
        "outputId": "eaa852f2-93a5-415c-8557-c4ddf41242a0"
      },
      "outputs": [
        {
          "data": {
            "text/plain": [
              "3.0"
            ]
          },
          "execution_count": 17,
          "metadata": {},
          "output_type": "execute_result"
        }
      ],
      "source": [
        "(1 + 2 + 3 + 4 + 5) / 5"
      ]
    },
    {
      "cell_type": "markdown",
      "metadata": {
        "id": "G4xanYpbGvbw"
      },
      "source": [
        "#### Exemplo de reduceByKey no totals_by_user_map"
      ]
    },
    {
      "cell_type": "code",
      "execution_count": null,
      "metadata": {
        "id": "DJthVkrXGvbw",
        "outputId": "59e6e6f0-6474-461f-cc99-6555dda865f5"
      },
      "outputs": [
        {
          "data": {
            "text/plain": [
              "(1, (15.0, 5))"
            ]
          },
          "execution_count": 18,
          "metadata": {},
          "output_type": "execute_result"
        }
      ],
      "source": [
        "(1, (1.0, 1)), (1, (2.0, 1)), (1, (3.0, 1)), (1, (4.0, 1)), (1, (5.0, 1))\n",
        "(1, (3.0, 2)), (1, (3.0, 1)), (1, (4.0, 1)), (1, (5.0, 1))\n",
        "(1, (6.0, 3)), (1, (4.0, 1)), (1, (5.0, 1))\n",
        "(1, (10.0, 4)), (1, (5.0, 1))\n",
        "(1, (15.0, 5))"
      ]
    },
    {
      "cell_type": "markdown",
      "metadata": {
        "id": "1yZysfg8Gvbw"
      },
      "source": [
        "#### Exemplo de mapValues no totals_by_user"
      ]
    },
    {
      "cell_type": "code",
      "execution_count": null,
      "metadata": {
        "id": "zp7hRKjzGvbw"
      },
      "outputs": [],
      "source": [
        "(1, (15.0, 5)) => (1, 3.0)"
      ]
    },
    {
      "cell_type": "markdown",
      "metadata": {
        "id": "GlFBKIEHGvb0"
      },
      "source": [
        "## Como testar um código Spark quando eu não tenho um CSV? (parallelize)"
      ]
    },
    {
      "cell_type": "code",
      "execution_count": null,
      "metadata": {
        "colab": {
          "base_uri": "https://localhost:8080/"
        },
        "id": "dmymQS4wGvb0",
        "outputId": "e79117c6-c610-403f-93e5-70f75de936d9"
      },
      "outputs": [
        {
          "output_type": "stream",
          "name": "stdout",
          "text": [
            "<class 'pyspark.rdd.RDD'>\n",
            "['Um texto simples', 'Um texto de exemplo', 'Exemplo de texto']\n",
            "[['Um', 'texto', 'simples'], ['Um', 'texto', 'de', 'exemplo'], ['Exemplo', 'de', 'texto']]\n",
            "['Um', 'texto', 'simples', 'Um', 'texto', 'de', 'exemplo', 'Exemplo', 'de', 'texto']\n",
            "Um: 2\n",
            "texto: 3\n",
            "simples: 1\n",
            "de: 2\n",
            "exemplo: 1\n",
            "Exemplo: 1\n",
            "CPU times: user 50.8 ms, sys: 3.31 ms, total: 54.1 ms\n",
            "Wall time: 1.42 s\n"
          ]
        }
      ],
      "source": [
        "%%time\n",
        "\n",
        "text = sc.parallelize([\"Um texto simples\",\n",
        "                       \"Um texto de exemplo\",\n",
        "                       \"Exemplo de texto\"])\n",
        "print(type(text))\n",
        "print(text.take(10))\n",
        "rdd = text.map(lambda x: x.split())\n",
        "print(rdd.take(10))\n",
        "rdd = text.flatMap(lambda x: x.split()) # Experimente usar x.lower().split() para ver o que muda no resultado\n",
        "print(rdd.take(10))\n",
        "word_count = rdd.countByValue()\n",
        "\n",
        "for word, count in word_count.items():\n",
        "    print(f\"{word}: {count}\")"
      ]
    },
    {
      "cell_type": "markdown",
      "metadata": {
        "id": "H6rYqOVVGvb1"
      },
      "source": [
        "#### Comentários do código\n",
        "Usamos o método `parallelize` para carregar um RDD a partir de uma lista Python\n",
        "```python\n",
        "text = sc.parallelize([\"Um texto simples\", \"Um texto de exemplo\", \"Exemplo de texto\"])\n",
        "```"
      ]
    },
    {
      "cell_type": "markdown",
      "metadata": {
        "id": "OABSYVFpGvb1"
      },
      "source": [
        "## Como ordenar o resultado pelo count das palavras? (sortByKey)"
      ]
    },
    {
      "cell_type": "code",
      "execution_count": null,
      "metadata": {
        "colab": {
          "base_uri": "https://localhost:8080/"
        },
        "id": "CK7yNEwqGvb1",
        "outputId": "7c384ecb-893d-4bcf-f3cd-d56585c4b40f"
      },
      "outputs": [
        {
          "output_type": "stream",
          "name": "stdout",
          "text": [
            "1: simples\n",
            "1: de\n",
            "2: exemplo\n",
            "2: um\n",
            "3: texto\n",
            "CPU times: user 46 ms, sys: 2.69 ms, total: 48.7 ms\n",
            "Wall time: 2.42 s\n"
          ]
        }
      ],
      "source": [
        "%%time\n",
        "\n",
        "text = sc.parallelize([\"Um texto simples\",\n",
        "                       \"Um texto exemplo\",\n",
        "                       \"Exemplo de texto\"])\n",
        "rdd = text.flatMap(lambda x: x.lower().split())\n",
        "rdd_counted = rdd.map(lambda x: (x, 1)).reduceByKey(lambda x, y: x + y)\n",
        "rdd_sorted = rdd_counted.map(lambda x: (x[1], x[0])).sortByKey() # Experimente adicionar o argumento ascending=False no sortByKey\n",
        "\n",
        "word_count = rdd_sorted.collect()\n",
        "for count, word in word_count:\n",
        "    print(f\"{count}: {word}\")"
      ]
    },
    {
      "cell_type": "markdown",
      "metadata": {
        "id": "HOa9CR82Gvb1"
      },
      "source": [
        "#### Comentários do código\n",
        "Usamos o método `sortByKey` para fazer o sort dos dados de maneira distribuída pela **key** dos **key-value pairs**. No momento do sort um `map` executado anteriormente fez uma troca colocando o count das palavras como **key** e as palavras como **value**\n",
        "```python\n",
        "rdd_sorted = rdd_counted.map(lambda x: (x[1], x[0])).sortByKey()\n",
        "```"
      ]
    },
    {
      "cell_type": "code",
      "source": [],
      "metadata": {
        "id": "aMxB8PuStINh"
      },
      "execution_count": null,
      "outputs": []
    }
  ],
  "metadata": {
    "kernelspec": {
      "display_name": "Python 3 (ipykernel)",
      "language": "python",
      "name": "python3"
    },
    "language_info": {
      "codemirror_mode": {
        "name": "ipython",
        "version": 3
      },
      "file_extension": ".py",
      "mimetype": "text/x-python",
      "name": "python",
      "nbconvert_exporter": "python",
      "pygments_lexer": "ipython3",
      "version": "3.10.6"
    },
    "colab": {
      "provenance": [],
      "include_colab_link": true
    }
  },
  "nbformat": 4,
  "nbformat_minor": 0
}