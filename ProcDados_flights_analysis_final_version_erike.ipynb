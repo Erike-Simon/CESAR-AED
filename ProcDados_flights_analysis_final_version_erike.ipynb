{
  "nbformat": 4,
  "nbformat_minor": 0,
  "metadata": {
    "colab": {
      "provenance": [],
      "toc_visible": true,
      "include_colab_link": true
    },
    "kernelspec": {
      "name": "python3",
      "display_name": "Python 3"
    },
    "language_info": {
      "name": "python"
    }
  },
  "cells": [
    {
      "cell_type": "markdown",
      "metadata": {
        "id": "view-in-github",
        "colab_type": "text"
      },
      "source": [
        "<a href=\"https://colab.research.google.com/github/Erike-Simon/CESAR-AED/blob/main/ProcDados_flights_analysis_final_version_erike.ipynb\" target=\"_parent\"><img src=\"https://colab.research.google.com/assets/colab-badge.svg\" alt=\"Open In Colab\"/></a>"
      ]
    },
    {
      "cell_type": "markdown",
      "source": [
        "**CESAR School Recife**\n",
        "\n",
        "**Trabalho em equipe**\n",
        "\n",
        "**Disciplina:** *Processamento de Dados em Larga Escala*\n",
        "\n",
        "**Alunos:** *Erike Simon, José Aparecido, Marcel Caraciolo*"
      ],
      "metadata": {
        "id": "HrHQekNLUgN2"
      }
    },
    {
      "cell_type": "markdown",
      "source": [
        "# Vôos Brasil - 2000 a 2020\n",
        "\n",
        "Dataset disponível da Agência Nacional de Vôos Civis (ANAC) pela plataforma VRA (Voo Regular Ativo) de Janeiro de 2000 até Agosto 2020.\n",
        "\n",
        "Dados disponíveis em:\n",
        "https://www.kaggle.com/datasets/rdewes/voo-regular-ativo-vra-anac.\n",
        "\n",
        "![Aeroporto Jaboatão dos Guararapes](https://www.recifepasseios.com.br/blog/wp-content/uploads/2019/02/Arquivo_000-2.jpeg)\n",
        "\n",
        "\n"
      ],
      "metadata": {
        "id": "MdhBn9iSKQv1"
      }
    },
    {
      "cell_type": "markdown",
      "source": [
        "## Configurações iniciais\n",
        "\n"
      ],
      "metadata": {
        "id": "-y_tvyIccUXd"
      }
    },
    {
      "cell_type": "code",
      "execution_count": null,
      "metadata": {
        "colab": {
          "base_uri": "https://localhost:8080/"
        },
        "id": "tFHisjO7aFuG",
        "outputId": "f93ae42c-89f2-4611-81e4-06c85259805e"
      },
      "outputs": [
        {
          "output_type": "stream",
          "name": "stdout",
          "text": [
            "Mounted at /content/drive\n"
          ]
        }
      ],
      "source": [
        "from google.colab import drive\n",
        "drive.mount('/content/drive')"
      ]
    },
    {
      "cell_type": "code",
      "source": [
        "!pip install --upgrade pyspark"
      ],
      "metadata": {
        "colab": {
          "base_uri": "https://localhost:8080/"
        },
        "id": "WEmdYaufbz8j",
        "outputId": "3df64506-faad-4d51-e5ce-047fa1f705be"
      },
      "execution_count": null,
      "outputs": [
        {
          "output_type": "stream",
          "name": "stdout",
          "text": [
            "Collecting pyspark\n",
            "  Downloading pyspark-3.5.1.tar.gz (317.0 MB)\n",
            "\u001b[2K     \u001b[90m━━━━━━━━━━━━━━━━━━━━━━━━━━━━━━━━━━━━━━━━\u001b[0m \u001b[32m317.0/317.0 MB\u001b[0m \u001b[31m4.5 MB/s\u001b[0m eta \u001b[36m0:00:00\u001b[0m\n",
            "\u001b[?25h  Preparing metadata (setup.py) ... \u001b[?25l\u001b[?25hdone\n",
            "Requirement already satisfied: py4j==0.10.9.7 in /usr/local/lib/python3.10/dist-packages (from pyspark) (0.10.9.7)\n",
            "Building wheels for collected packages: pyspark\n",
            "  Building wheel for pyspark (setup.py) ... \u001b[?25l\u001b[?25hdone\n",
            "  Created wheel for pyspark: filename=pyspark-3.5.1-py2.py3-none-any.whl size=317488493 sha256=f6c2be565ace0cd6a0c3e2deaeeb371b0d8da790ec044d083e369ddb2b9c5a3d\n",
            "  Stored in directory: /root/.cache/pip/wheels/80/1d/60/2c256ed38dddce2fdd93be545214a63e02fbd8d74fb0b7f3a6\n",
            "Successfully built pyspark\n",
            "Installing collected packages: pyspark\n",
            "Successfully installed pyspark-3.5.1\n"
          ]
        }
      ]
    },
    {
      "cell_type": "code",
      "source": [
        "import os\n",
        "import pyspark.sql.functions as F\n",
        "import pyspark.sql.types as T\n",
        "\n",
        "from pyspark.sql import SparkSession\n",
        "\n",
        "\n",
        "os.environ['PYSPARK_SUBMIT_ARGS'] = '\\\n",
        "    --driver-memory 4G \\\n",
        "    --executor-memory 4G \\\n",
        "    pyspark-shell'"
      ],
      "metadata": {
        "id": "_qeErdY1bz5E"
      },
      "execution_count": null,
      "outputs": []
    },
    {
      "cell_type": "code",
      "source": [
        "# Criando um cluster local com 1 executor e a quantidade de threads igual a quantidade de cores de CPU disponíveis\n",
        "\n",
        "spark = SparkSession.builder\\\n",
        "    .master(\"local[*]\")\\\n",
        "    .getOrCreate()\n",
        "spark"
      ],
      "metadata": {
        "colab": {
          "base_uri": "https://localhost:8080/",
          "height": 222
        },
        "id": "0-UaqrPlbzsG",
        "outputId": "dbc629fb-afbb-4b4d-f13b-6c2fedcc7cbd"
      },
      "execution_count": null,
      "outputs": [
        {
          "output_type": "execute_result",
          "data": {
            "text/plain": [
              "<pyspark.sql.session.SparkSession at 0x79f14fdba2f0>"
            ],
            "text/html": [
              "\n",
              "            <div>\n",
              "                <p><b>SparkSession - in-memory</b></p>\n",
              "                \n",
              "        <div>\n",
              "            <p><b>SparkContext</b></p>\n",
              "\n",
              "            <p><a href=\"http://fa678076c5be:4040\">Spark UI</a></p>\n",
              "\n",
              "            <dl>\n",
              "              <dt>Version</dt>\n",
              "                <dd><code>v3.5.1</code></dd>\n",
              "              <dt>Master</dt>\n",
              "                <dd><code>local[*]</code></dd>\n",
              "              <dt>AppName</dt>\n",
              "                <dd><code>pyspark-shell</code></dd>\n",
              "            </dl>\n",
              "        </div>\n",
              "        \n",
              "            </div>\n",
              "        "
            ]
          },
          "metadata": {},
          "execution_count": 5
        }
      ]
    },
    {
      "cell_type": "markdown",
      "source": [
        "## Import do Dataset"
      ],
      "metadata": {
        "id": "ebchE032ii3X"
      }
    },
    {
      "cell_type": "code",
      "source": [
        "ROOT_DATA_PATH = \"/content/drive/MyDrive/Colab Notebooks/proc-dados-larga-escala/spark/archive\""
      ],
      "metadata": {
        "id": "DM7eGJ0Rbzoe"
      },
      "execution_count": null,
      "outputs": []
    },
    {
      "cell_type": "code",
      "source": [
        "from pyspark.sql.types import StructType, StringType, TimestampType\n",
        "\n",
        "# Defina manualmente o esquema\n",
        "custom_schema = StructType() \\\n",
        "    .add(\"index\", T.IntegerType()) \\\n",
        "    .add(\"sigla_empresa\", StringType()) \\\n",
        "    .add(\"numero_voo\", T.IntegerType()) \\\n",
        "    .add(\"di\", T.IntegerType()) \\\n",
        "    .add(\"tipo_linha\", T.IntegerType()) \\\n",
        "    .add(\"aero_origem\", StringType()) \\\n",
        "    .add(\"aero_destino\", StringType()) \\\n",
        "    .add(\"part_prevista\", TimestampType()) \\\n",
        "    .add(\"part_real\", TimestampType()) \\\n",
        "    .add(\"cheg_prevista\", TimestampType()) \\\n",
        "    .add(\"cheg_real\", TimestampType()) \\\n",
        "    .add(\"situacao_voo\", StringType()) \\\n",
        "    .add(\"justificativa\", StringType())\n",
        "\n",
        "# Leia o arquivo CSV com o esquema personalizado e especificando o separador como ponto e vírgula\n",
        "flights_df = spark.read.csv(f'{ROOT_DATA_PATH}/arquivo_limpo.csv', header=True, schema=custom_schema, sep=';')\n",
        "flights_df.printSchema()"
      ],
      "metadata": {
        "colab": {
          "base_uri": "https://localhost:8080/"
        },
        "id": "TZlnZ8sGnAuL",
        "outputId": "5cc931e6-2f28-4e51-ce42-150ffe4c826a"
      },
      "execution_count": null,
      "outputs": [
        {
          "output_type": "stream",
          "name": "stdout",
          "text": [
            "root\n",
            " |-- index: integer (nullable = true)\n",
            " |-- sigla_empresa: string (nullable = true)\n",
            " |-- numero_voo: integer (nullable = true)\n",
            " |-- di: integer (nullable = true)\n",
            " |-- tipo_linha: integer (nullable = true)\n",
            " |-- aero_origem: string (nullable = true)\n",
            " |-- aero_destino: string (nullable = true)\n",
            " |-- part_prevista: timestamp (nullable = true)\n",
            " |-- part_real: timestamp (nullable = true)\n",
            " |-- cheg_prevista: timestamp (nullable = true)\n",
            " |-- cheg_real: timestamp (nullable = true)\n",
            " |-- situacao_voo: string (nullable = true)\n",
            " |-- justificativa: string (nullable = true)\n",
            "\n"
          ]
        }
      ]
    },
    {
      "cell_type": "code",
      "source": [
        "flights_df.show()"
      ],
      "metadata": {
        "colab": {
          "base_uri": "https://localhost:8080/"
        },
        "id": "xSd0GIiikyRV",
        "outputId": "d03cd23d-6fdb-4b95-8c35-0a6e25e91e19"
      },
      "execution_count": null,
      "outputs": [
        {
          "output_type": "stream",
          "name": "stdout",
          "text": [
            "+-----+-------------+----------+---+----------+-----------+------------+-------------------+-------------------+-------------------+-------------------+------------+-------------+\n",
            "|index|sigla_empresa|numero_voo| di|tipo_linha|aero_origem|aero_destino|      part_prevista|          part_real|      cheg_prevista|          cheg_real|situacao_voo|justificativa|\n",
            "+-----+-------------+----------+---+----------+-----------+------------+-------------------+-------------------+-------------------+-------------------+------------+-------------+\n",
            "|    0|          TBA|      9270|  0|      NULL|       SBSV|        SBFZ|2000-01-25 05:50:00|2000-01-25 05:50:00|2000-01-25 07:20:00|2000-01-25 07:20:00|   Realizado|          nan|\n",
            "|    1|          PEP|      2960|  0|      NULL|       SBBE|        SBSN|2000-01-29 05:50:00|2000-01-29 05:50:00|2000-01-29 07:30:00|2000-01-29 07:30:00|   Realizado|          nan|\n",
            "|    2|          PEP|      2960|  0|      NULL|       SBBE|        SBSN|2000-06-01 05:50:00|2000-06-01 05:50:00|2000-06-01 07:30:00|2000-06-01 07:30:00|   Realizado|          nan|\n",
            "|    3|          TBA|      1680|  0|      NULL|       SBSV|        SBFZ|2000-01-16 05:50:00|2000-01-16 05:50:00|2000-01-16 07:19:00|2000-01-16 07:19:00|   Realizado|          nan|\n",
            "|    4|          BLC|      8770|  0|      NULL|       SBCY|        SBGR|2000-03-01 05:50:00|2000-03-01 05:50:00|2000-03-01 07:53:00|2000-03-01 07:53:00|   Realizado|          nan|\n",
            "|    5|          TBA|      1680|  0|      NULL|       SBSV|        SBFZ|2000-01-24 05:50:00|2000-01-24 05:50:00|2000-01-24 07:19:00|2000-01-24 07:19:00|   Realizado|          nan|\n",
            "|    6|          TBA|      9270|  0|      NULL|       SBSV|        SBFZ|2000-12-01 05:50:00|2000-12-01 05:50:00|2000-12-01 07:20:00|2000-12-01 07:20:00|   Realizado|          nan|\n",
            "|    7|          PTN|      3470|  0|      NULL|       SBFC|        SBSP|2000-11-01 05:50:00|               NULL|2000-11-01 06:51:00|               NULL|   Cancelado|           XN|\n",
            "|    8|          PTN|      3470|  0|      NULL|       SBFC|        SBSP|2000-01-01 05:50:00|               NULL|2000-01-01 06:51:00|               NULL|   Cancelado|           XN|\n",
            "|    9|          TBA|      9270|  0|      NULL|       SBSV|        SBFZ|2000-01-27 05:50:00|2000-01-27 05:50:00|2000-01-27 07:20:00|2000-01-27 07:20:00|   Realizado|          nan|\n",
            "|   10|          BLC|      8770|  0|      NULL|       SBCY|        SBGR|2000-01-01 05:50:00|               NULL|2000-01-01 07:53:00|               NULL|   Cancelado|           XA|\n",
            "|   11|          TBA|      9270|  0|      NULL|       SBSV|        SBFZ|2000-11-01 05:50:00|2000-11-01 05:50:00|2000-11-01 07:20:00|2000-11-01 07:20:00|   Realizado|          nan|\n",
            "|   12|          TBA|      1680|  0|      NULL|       SBSV|        SBFZ|2000-01-31 05:50:00|2000-01-31 05:50:00|2000-01-31 07:19:00|2000-01-31 07:19:00|   Realizado|          nan|\n",
            "|   13|          TBA|      1680|  0|      NULL|       SBSV|        SBFZ|2000-03-01 05:50:00|2000-03-01 05:50:00|2000-03-01 07:19:00|2000-03-01 07:19:00|   Realizado|          nan|\n",
            "|   14|          PTN|      3470|  0|      NULL|       SBFC|        SBSP|2000-01-28 05:50:00|               NULL|2000-01-28 06:51:00|               NULL|   Cancelado|           XN|\n",
            "|   15|          BLC|      8770|  0|      NULL|       SBCY|        SBGR|2000-04-01 05:50:00|2000-04-01 05:50:00|2000-04-01 07:53:00|2000-04-01 07:53:00|   Realizado|          nan|\n",
            "|   16|          PTN|      3470|  0|      NULL|       SBFC|        SBSP|2000-05-01 05:50:00|               NULL|2000-05-01 06:51:00|               NULL|   Cancelado|           XN|\n",
            "|   17|          TBA|      9270|  0|      NULL|       SBSV|        SBFZ|2000-01-18 05:50:00|2000-01-18 05:50:00|2000-01-18 07:20:00|2000-01-18 07:20:00|   Realizado|          nan|\n",
            "|   18|          BLC|      8770|  0|      NULL|       SBCY|        SBGR|2000-01-22 05:50:00|2000-01-22 05:50:00|2000-01-22 07:53:00|2000-01-22 07:53:00|   Realizado|          nan|\n",
            "|   19|          TBA|      1680|  0|      NULL|       SBSV|        SBFZ|2000-02-01 05:50:00|2000-02-01 05:50:00|2000-02-01 07:19:00|2000-02-01 07:19:00|   Realizado|          nan|\n",
            "+-----+-------------+----------+---+----------+-----------+------------+-------------------+-------------------+-------------------+-------------------+------------+-------------+\n",
            "only showing top 20 rows\n",
            "\n"
          ]
        }
      ]
    },
    {
      "cell_type": "markdown",
      "source": [
        " **Transformando os dados em arquivo *.parquet***"
      ],
      "metadata": {
        "id": "F27zuutXi2aB"
      }
    },
    {
      "cell_type": "code",
      "source": [
        "%%time\n",
        "\n",
        "flights_df.write.parquet(f'{ROOT_DATA_PATH}/flights_parquet_df', mode='overwrite')"
      ],
      "metadata": {
        "colab": {
          "base_uri": "https://localhost:8080/"
        },
        "id": "Dcxj1pZCi7Id",
        "outputId": "ba9885e4-1b93-4e37-e067-04f1e8764d3f"
      },
      "execution_count": null,
      "outputs": [
        {
          "output_type": "stream",
          "name": "stdout",
          "text": [
            "CPU times: user 1.86 s, sys: 263 ms, total: 2.13 s\n",
            "Wall time: 6min 18s\n"
          ]
        }
      ]
    },
    {
      "cell_type": "code",
      "source": [
        "flights_parquet_df = spark.read.parquet(f'{ROOT_DATA_PATH}/flights_parquet_df')\n",
        "flights_parquet_df.printSchema()"
      ],
      "metadata": {
        "colab": {
          "base_uri": "https://localhost:8080/"
        },
        "id": "6buT50dxi-lM",
        "outputId": "207c0a27-9487-47df-9161-2aec03c55226"
      },
      "execution_count": null,
      "outputs": [
        {
          "output_type": "stream",
          "name": "stdout",
          "text": [
            "root\n",
            " |-- index: integer (nullable = true)\n",
            " |-- sigla_empresa: string (nullable = true)\n",
            " |-- numero_voo: integer (nullable = true)\n",
            " |-- di: integer (nullable = true)\n",
            " |-- tipo_linha: integer (nullable = true)\n",
            " |-- aero_origem: string (nullable = true)\n",
            " |-- aero_destino: string (nullable = true)\n",
            " |-- part_prevista: timestamp (nullable = true)\n",
            " |-- part_real: timestamp (nullable = true)\n",
            " |-- cheg_prevista: timestamp (nullable = true)\n",
            " |-- cheg_real: timestamp (nullable = true)\n",
            " |-- situacao_voo: string (nullable = true)\n",
            " |-- justificativa: string (nullable = true)\n",
            "\n"
          ]
        }
      ]
    },
    {
      "cell_type": "code",
      "source": [
        "flights_parquet_df.count()"
      ],
      "metadata": {
        "colab": {
          "base_uri": "https://localhost:8080/"
        },
        "id": "OrJqAuRPoldx",
        "outputId": "f4321123-cdec-4d44-a573-f59bb4e956e1"
      },
      "execution_count": null,
      "outputs": [
        {
          "output_type": "execute_result",
          "data": {
            "text/plain": [
              "20546428"
            ]
          },
          "metadata": {},
          "execution_count": 23
        }
      ]
    },
    {
      "cell_type": "code",
      "source": [
        "# Limpando voos que não tem partida prevista e nem chegada prevista\n",
        "\n",
        "# Primeiro limpando aqueles sem partida prevista\n",
        "voos = flights_parquet_df.filter(flights_parquet_df.part_prevista.isNotNull())\n",
        "\n",
        "# Removendo os sem Partida Real\n",
        "voos = voos.filter(voos.part_real.isNotNull())\n",
        "\n",
        "# Removendo os sem Chegada Prevista\n",
        "voos = voos.filter(voos.cheg_prevista.isNotNull())\n",
        "\n",
        "# Removendo os sem Chegada Real\n",
        "voos = voos.filter(voos.cheg_real.isNotNull())\n",
        "\n",
        "voos.count()"
      ],
      "metadata": {
        "colab": {
          "base_uri": "https://localhost:8080/"
        },
        "id": "1N-8vIZXnrS6",
        "outputId": "d5908244-dbec-4b10-9b7c-7f68de23af0f"
      },
      "execution_count": null,
      "outputs": [
        {
          "output_type": "execute_result",
          "data": {
            "text/plain": [
              "16783207"
            ]
          },
          "metadata": {},
          "execution_count": 24
        }
      ]
    },
    {
      "cell_type": "code",
      "source": [
        "from pyspark.sql.functions import year, month, day, dayofweek, unix_timestamp"
      ],
      "metadata": {
        "id": "4xS9qMD9pi4O"
      },
      "execution_count": null,
      "outputs": []
    },
    {
      "cell_type": "code",
      "source": [
        "# Separando Ano, mes e dia\n",
        "# Ano\n",
        "\n",
        "voos = voos.withColumn('ano',  year(F.col('part_prevista')))\n",
        "\n",
        "# Mes\n",
        "voos = voos.withColumn('mes',  month(F.col('part_prevista')))\n",
        "# Dia\n",
        "voos = voos.withColumn('dia',  day(F.col('part_prevista')))\n",
        "\n",
        "# Classificando o dia da semana\n",
        "voos = voos.withColumn('dia_da_semana',  dayofweek(F.col('part_prevista')))\n",
        "\n",
        "voos.show()"
      ],
      "metadata": {
        "colab": {
          "base_uri": "https://localhost:8080/"
        },
        "id": "UYbsU7s7o5xU",
        "outputId": "9aa53ae2-b111-4499-ccf2-d867ebea8269"
      },
      "execution_count": null,
      "outputs": [
        {
          "output_type": "stream",
          "name": "stdout",
          "text": [
            "+-------+-------------+----------+---+----------+-----------+------------+-------------------+-------------------+-------------------+-------------------+------------+-------------+----+---+---+-------------+\n",
            "|  index|sigla_empresa|numero_voo| di|tipo_linha|aero_origem|aero_destino|      part_prevista|          part_real|      cheg_prevista|          cheg_real|situacao_voo|justificativa| ano|mes|dia|dia_da_semana|\n",
            "+-------+-------------+----------+---+----------+-----------+------------+-------------------+-------------------+-------------------+-------------------+------------+-------------+----+---+---+-------------+\n",
            "|5784360|          GLO|      1783|  0|      NULL|       SBBR|        SBGL|2007-02-01 07:40:00|2007-02-01 07:40:00|2007-02-01 09:20:00|2007-02-01 09:20:00|   Realizado|          nan|2007|  2|  1|            5|\n",
            "|5784361|          ONE|      6311|  0|      NULL|       SBCH|        SBSP|2007-01-24 07:40:00|2007-01-24 07:40:00|2007-01-24 09:05:00|2007-01-24 09:05:00|   Realizado|          nan|2007|  1| 24|            4|\n",
            "|5784362|          TAP|       187|  0|      NULL|       LPPT|        SBGR|2007-01-13 07:40:00|2007-01-13 07:10:00|2007-01-13 17:50:00|2007-01-13 18:40:00|   Realizado|           TC|2007|  1| 13|            7|\n",
            "|5784363|          TAP|       185|  0|      NULL|       LPPT|        SBGR|2007-12-01 07:40:00|2007-12-01 07:05:00|2007-12-01 17:50:00|2007-12-01 18:25:00|   Realizado|           RA|2007| 12|  1|            7|\n",
            "|5784365|          TAP|       185|  0|      NULL|       LPPT|        SBGR|2007-03-01 07:40:00|2007-03-01 07:20:00|2007-03-01 17:50:00|2007-03-01 18:35:00|   Realizado|           AS|2007|  3|  1|            5|\n",
            "|5784366|          GLO|      7458|  0|      NULL|       SBFL|        SBPA|2007-09-01 07:40:00|2007-09-01 07:40:00|2007-09-01 08:30:00|2007-09-01 08:30:00|   Realizado|          nan|2007|  9|  1|            7|\n",
            "|5784368|          GLO|      1751|  0|      NULL|       SBBR|        SBGO|2007-04-01 07:40:00|2007-04-01 07:40:00|2007-04-01 08:10:00|2007-04-01 08:10:00|   Realizado|          nan|2007|  4|  1|            1|\n",
            "|5784369|          GLO|      7458|  0|      NULL|       SBFL|        SBPA|2007-02-01 07:40:00|2007-02-01 07:40:00|2007-02-01 08:30:00|2007-02-01 08:30:00|   Realizado|          nan|2007|  2|  1|            5|\n",
            "|5784370|          AMG|      6600|  0|      NULL|       SBVG|        SBGR|2007-01-17 07:40:00|2007-01-17 07:40:00|2007-01-17 08:20:00|2007-01-17 08:20:00|   Realizado|          nan|2007|  1| 17|            4|\n",
            "|5784372|          TAM|      3211|  0|      NULL|       SBCF|        SBSP|2007-01-31 07:40:00|2007-01-31 07:40:00|2007-01-31 08:55:00|2007-01-31 08:55:00|   Realizado|          nan|2007|  1| 31|            4|\n",
            "|5784373|          GLO|      1783|  0|      NULL|       SBBR|        SBGL|2007-01-25 07:40:00|2007-01-25 07:40:00|2007-01-25 09:20:00|2007-01-25 09:20:00|   Realizado|          nan|2007|  1| 25|            5|\n",
            "|5784374|          GLO|      1853|  0|      NULL|       SBBR|        SBGR|2007-01-22 07:40:00|2007-01-22 10:00:00|2007-01-22 09:10:00|2007-01-22 11:35:00|   Realizado|           AR|2007|  1| 22|            2|\n",
            "|5784375|          TAM|      3211|  0|      NULL|       SBCF|        SBSP|2007-01-30 07:40:00|2007-01-30 07:40:00|2007-01-30 08:55:00|2007-01-30 08:55:00|   Realizado|          nan|2007|  1| 30|            3|\n",
            "|5784376|          GLO|      1936|  0|      NULL|       SBSP|        SBBR|2007-01-27 07:40:00|2007-01-27 07:40:00|2007-01-27 09:20:00|2007-01-27 09:20:00|   Realizado|          nan|2007|  1| 27|            7|\n",
            "|5784377|          GLO|      7458|  0|      NULL|       SBFL|        SBPA|2007-01-15 07:40:00|2007-01-15 08:27:00|2007-01-15 08:30:00|2007-01-15 09:25:00|   Realizado|           AR|2007|  1| 15|            2|\n",
            "|5784378|          TAP|       187|  0|      NULL|       LPPT|        SBGR|2007-01-16 07:40:00|2007-01-16 07:40:00|2007-01-16 17:50:00|2007-01-16 17:50:00|   Realizado|          nan|2007|  1| 16|            3|\n",
            "|5784379|          GLO|      1853|  0|      NULL|       SBBR|        SBGR|2007-01-19 07:40:00|2007-01-19 07:40:00|2007-01-19 09:10:00|2007-01-19 09:10:00|   Realizado|          nan|2007|  1| 19|            6|\n",
            "|5784380|          GLO|      7458|  0|      NULL|       SBFL|        SBPA|2007-01-18 07:40:00|2007-01-18 07:40:00|2007-01-18 08:30:00|2007-01-18 08:30:00|   Realizado|          nan|2007|  1| 18|            5|\n",
            "|5784381|          TAM|      3211|  0|      NULL|       SBCF|        SBSP|2007-01-24 07:40:00|2007-01-24 07:40:00|2007-01-24 08:55:00|2007-01-24 08:55:00|   Realizado|          nan|2007|  1| 24|            4|\n",
            "|5784382|          ONE|      6311|  0|      NULL|       SBCH|        SBSP|2007-02-01 07:40:00|2007-02-01 07:35:00|2007-02-01 09:05:00|2007-02-01 09:26:00|   Realizado|           AR|2007|  2|  1|            5|\n",
            "+-------+-------------+----------+---+----------+-----------+------------+-------------------+-------------------+-------------------+-------------------+------------+-------------+----+---+---+-------------+\n",
            "only showing top 20 rows\n",
            "\n"
          ]
        }
      ]
    },
    {
      "cell_type": "code",
      "source": [
        "### Lendo o arquivo de descrição de siglas de aeroportos\n",
        "import pandas\n",
        "\n",
        "aeroportos = pandas.read_excel(f'{ROOT_DATA_PATH}/glossario_de_aerodromo.xls', header=3)\n",
        "aeroportos = aeroportos.drop('Unnamed: 0', axis=1)\n",
        "\n",
        "aeroportos = spark.createDataFrame(aeroportos)\n",
        "\n",
        "aeroportos.show()"
      ],
      "metadata": {
        "colab": {
          "base_uri": "https://localhost:8080/"
        },
        "id": "TCK9iAmyO13U",
        "outputId": "ba6343b3-4c1b-4df8-d46f-b396f7bee69f"
      },
      "execution_count": null,
      "outputs": [
        {
          "output_type": "stream",
          "name": "stdout",
          "text": [
            "+----------+--------------------+--------------------+---+---------------+----------------+\n",
            "|Sigla OACI|           Descrição|              Cidade| UF|           País|      Continente|\n",
            "+----------+--------------------+--------------------+---+---------------+----------------+\n",
            "|      1AON| OUROLANDIA DO NORTE| OURILANDIA DO NORTE| PA|         BRASIL|  AMERICA DO SUL|\n",
            "|      2NHT|  HOTEL TRANSAMÉRICA|                UNA | BA|         BRASIL|  AMERICA DO SUL|\n",
            "|      6ASO|             SORRISO|             SORRISO| MT|         BRASIL|  AMERICA DO SUL|\n",
            "|      CYMX|MONTREAL-MIRABEL ...|             MIRABEL|NaN|         CANADA|AMERICA DO NORTE|\n",
            "|      CYQB|QUEBEC CITY JEAN ...|QUEBEC JEAN LESAG...|NaN|         CANADA|AMERICA DO NORTE|\n",
            "|      CYWG|WINNIPEG JAMES AR...|                 NaN|NaN|         CANADA|AMERICA DO NORTE|\n",
            "|      CYYC|CALGARY INTERNATI...|                 NaN|NaN|         CANADA|AMERICA DO NORTE|\n",
            "|      CYYZ|TORONTO PEARSON I...|             TORONTO|NaN|         CANADA|AMERICA DO NORTE|\n",
            "|      DAAG|HOUARI BOUMEDIENN...|                 NaN|NaN|        ARGELIA|          AFRICA|\n",
            "|      DABT|       BATNA AIRPORT|                 NaN|NaN|        ARGELIA|          AFRICA|\n",
            "|      DFFD| OUAGADOUGOU AIRPORT|                 NaN|NaN|  BURKINA-FASSO|          AFRICA|\n",
            "|      DGAA|KOTOKA INTERNATIO...|   ACCRA/KOTOKA INTL|NaN|           GANA|          AFRICA|\n",
            "|      DIAP|PORT BOUET AIRPOR...|             ABIDJAN|NaN|COSTA DO MARFIM|          AFRICA|\n",
            "|      DNAA|NNAMDI AZIKIWE IN...|                 NaN|NaN|        NIGERIA|          AFRICA|\n",
            "|      DNMM|MURTALA MOHAMMED ...|               LAGOS|NaN|        NIGERIA|          AFRICA|\n",
            "|      DNPO|PORT HARCOURT INT...|              OMAGWA|NaN|        NIGERIA|          AFRICA|\n",
            "|      DTTA|TUNIS - CARTHAGE ...|               TUNIS|NaN|        TUNISIA|          AFRICA|\n",
            "|      DXXX| LOME-TOKOIN AIRPORT|                LOME|NaN|           TOGO|          AFRICA|\n",
            "|      EBBR|    BRUSSELS AIRPORT|            BRUXELAS|NaN|        BELGICA|          EUROPA|\n",
            "|      EBCI|BRUSSELS SOUTH CH...|                 NaN|NaN|        BELGICA|          EUROPA|\n",
            "+----------+--------------------+--------------------+---+---------------+----------------+\n",
            "only showing top 20 rows\n",
            "\n"
          ]
        }
      ]
    },
    {
      "cell_type": "markdown",
      "source": [
        "## 1.Como varia a média de voos realizados e cancelados ao longo dos anos de 2000 a 2020? De acordo com ANAC vôos atrasados são considerados vôos com partida realizada >= 30 min da partida prevista."
      ],
      "metadata": {
        "id": "v_QASlpS6-_F"
      }
    },
    {
      "cell_type": "markdown",
      "source": [
        "Calculando os atrasos em segundos e armazenando na coluna `'atraso_partida'`"
      ],
      "metadata": {
        "id": "121mWT1yDaW-"
      }
    },
    {
      "cell_type": "code",
      "source": [
        "# Classificando os atrasados (segundos)\n",
        "voos = voos.withColumn('atraso_partida' , unix_timestamp('part_real') - unix_timestamp('part_prevista'))\n",
        "voos.show()"
      ],
      "metadata": {
        "colab": {
          "base_uri": "https://localhost:8080/"
        },
        "id": "B6pHB8xk8RKV",
        "outputId": "d369c38a-05c3-446d-d5c0-dca537b5c370"
      },
      "execution_count": null,
      "outputs": [
        {
          "output_type": "stream",
          "name": "stdout",
          "text": [
            "+-------+-------------+----------+---+----------+-----------+------------+-------------------+-------------------+-------------------+-------------------+------------+-------------+----+---+---+-------------+--------------+\n",
            "|  index|sigla_empresa|numero_voo| di|tipo_linha|aero_origem|aero_destino|      part_prevista|          part_real|      cheg_prevista|          cheg_real|situacao_voo|justificativa| ano|mes|dia|dia_da_semana|atraso_partida|\n",
            "+-------+-------------+----------+---+----------+-----------+------------+-------------------+-------------------+-------------------+-------------------+------------+-------------+----+---+---+-------------+--------------+\n",
            "|5784360|          GLO|      1783|  0|      NULL|       SBBR|        SBGL|2007-02-01 07:40:00|2007-02-01 07:40:00|2007-02-01 09:20:00|2007-02-01 09:20:00|   Realizado|          nan|2007|  2|  1|            5|             0|\n",
            "|5784361|          ONE|      6311|  0|      NULL|       SBCH|        SBSP|2007-01-24 07:40:00|2007-01-24 07:40:00|2007-01-24 09:05:00|2007-01-24 09:05:00|   Realizado|          nan|2007|  1| 24|            4|             0|\n",
            "|5784362|          TAP|       187|  0|      NULL|       LPPT|        SBGR|2007-01-13 07:40:00|2007-01-13 07:10:00|2007-01-13 17:50:00|2007-01-13 18:40:00|   Realizado|           TC|2007|  1| 13|            7|         -1800|\n",
            "|5784363|          TAP|       185|  0|      NULL|       LPPT|        SBGR|2007-12-01 07:40:00|2007-12-01 07:05:00|2007-12-01 17:50:00|2007-12-01 18:25:00|   Realizado|           RA|2007| 12|  1|            7|         -2100|\n",
            "|5784365|          TAP|       185|  0|      NULL|       LPPT|        SBGR|2007-03-01 07:40:00|2007-03-01 07:20:00|2007-03-01 17:50:00|2007-03-01 18:35:00|   Realizado|           AS|2007|  3|  1|            5|         -1200|\n",
            "|5784366|          GLO|      7458|  0|      NULL|       SBFL|        SBPA|2007-09-01 07:40:00|2007-09-01 07:40:00|2007-09-01 08:30:00|2007-09-01 08:30:00|   Realizado|          nan|2007|  9|  1|            7|             0|\n",
            "|5784368|          GLO|      1751|  0|      NULL|       SBBR|        SBGO|2007-04-01 07:40:00|2007-04-01 07:40:00|2007-04-01 08:10:00|2007-04-01 08:10:00|   Realizado|          nan|2007|  4|  1|            1|             0|\n",
            "|5784369|          GLO|      7458|  0|      NULL|       SBFL|        SBPA|2007-02-01 07:40:00|2007-02-01 07:40:00|2007-02-01 08:30:00|2007-02-01 08:30:00|   Realizado|          nan|2007|  2|  1|            5|             0|\n",
            "|5784370|          AMG|      6600|  0|      NULL|       SBVG|        SBGR|2007-01-17 07:40:00|2007-01-17 07:40:00|2007-01-17 08:20:00|2007-01-17 08:20:00|   Realizado|          nan|2007|  1| 17|            4|             0|\n",
            "|5784372|          TAM|      3211|  0|      NULL|       SBCF|        SBSP|2007-01-31 07:40:00|2007-01-31 07:40:00|2007-01-31 08:55:00|2007-01-31 08:55:00|   Realizado|          nan|2007|  1| 31|            4|             0|\n",
            "|5784373|          GLO|      1783|  0|      NULL|       SBBR|        SBGL|2007-01-25 07:40:00|2007-01-25 07:40:00|2007-01-25 09:20:00|2007-01-25 09:20:00|   Realizado|          nan|2007|  1| 25|            5|             0|\n",
            "|5784374|          GLO|      1853|  0|      NULL|       SBBR|        SBGR|2007-01-22 07:40:00|2007-01-22 10:00:00|2007-01-22 09:10:00|2007-01-22 11:35:00|   Realizado|           AR|2007|  1| 22|            2|          8400|\n",
            "|5784375|          TAM|      3211|  0|      NULL|       SBCF|        SBSP|2007-01-30 07:40:00|2007-01-30 07:40:00|2007-01-30 08:55:00|2007-01-30 08:55:00|   Realizado|          nan|2007|  1| 30|            3|             0|\n",
            "|5784376|          GLO|      1936|  0|      NULL|       SBSP|        SBBR|2007-01-27 07:40:00|2007-01-27 07:40:00|2007-01-27 09:20:00|2007-01-27 09:20:00|   Realizado|          nan|2007|  1| 27|            7|             0|\n",
            "|5784377|          GLO|      7458|  0|      NULL|       SBFL|        SBPA|2007-01-15 07:40:00|2007-01-15 08:27:00|2007-01-15 08:30:00|2007-01-15 09:25:00|   Realizado|           AR|2007|  1| 15|            2|          2820|\n",
            "|5784378|          TAP|       187|  0|      NULL|       LPPT|        SBGR|2007-01-16 07:40:00|2007-01-16 07:40:00|2007-01-16 17:50:00|2007-01-16 17:50:00|   Realizado|          nan|2007|  1| 16|            3|             0|\n",
            "|5784379|          GLO|      1853|  0|      NULL|       SBBR|        SBGR|2007-01-19 07:40:00|2007-01-19 07:40:00|2007-01-19 09:10:00|2007-01-19 09:10:00|   Realizado|          nan|2007|  1| 19|            6|             0|\n",
            "|5784380|          GLO|      7458|  0|      NULL|       SBFL|        SBPA|2007-01-18 07:40:00|2007-01-18 07:40:00|2007-01-18 08:30:00|2007-01-18 08:30:00|   Realizado|          nan|2007|  1| 18|            5|             0|\n",
            "|5784381|          TAM|      3211|  0|      NULL|       SBCF|        SBSP|2007-01-24 07:40:00|2007-01-24 07:40:00|2007-01-24 08:55:00|2007-01-24 08:55:00|   Realizado|          nan|2007|  1| 24|            4|             0|\n",
            "|5784382|          ONE|      6311|  0|      NULL|       SBCH|        SBSP|2007-02-01 07:40:00|2007-02-01 07:35:00|2007-02-01 09:05:00|2007-02-01 09:26:00|   Realizado|           AR|2007|  2|  1|            5|          -300|\n",
            "+-------+-------------+----------+---+----------+-----------+------------+-------------------+-------------------+-------------------+-------------------+------------+-------------+----+---+---+-------------+--------------+\n",
            "only showing top 20 rows\n",
            "\n"
          ]
        }
      ]
    },
    {
      "cell_type": "markdown",
      "source": [
        "Classificando os voos como atrasados ou não atrasados na coluna **'atrasado'**"
      ],
      "metadata": {
        "id": "g0oocMyHDnjF"
      }
    },
    {
      "cell_type": "code",
      "source": [
        "from pyspark.sql.functions import when\n",
        "\n",
        "# Classificando aqueles acima de 30 minutos (1800segundos)\n",
        "voos = voos.withColumn('atrasado', when(voos.atraso_partida >= 1800, 'SIM').otherwise('NAO'))\n",
        "voos.show()"
      ],
      "metadata": {
        "colab": {
          "base_uri": "https://localhost:8080/"
        },
        "id": "dRei-eJR7Fvt",
        "outputId": "dbc20dbc-da17-4421-c2c4-eb31c0e10f90"
      },
      "execution_count": null,
      "outputs": [
        {
          "output_type": "stream",
          "name": "stdout",
          "text": [
            "+-------+-------------+----------+---+----------+-----------+------------+-------------------+-------------------+-------------------+-------------------+------------+-------------+----+---+---+-------------+--------------+--------+\n",
            "|  index|sigla_empresa|numero_voo| di|tipo_linha|aero_origem|aero_destino|      part_prevista|          part_real|      cheg_prevista|          cheg_real|situacao_voo|justificativa| ano|mes|dia|dia_da_semana|atraso_partida|atrasado|\n",
            "+-------+-------------+----------+---+----------+-----------+------------+-------------------+-------------------+-------------------+-------------------+------------+-------------+----+---+---+-------------+--------------+--------+\n",
            "|5784360|          GLO|      1783|  0|      NULL|       SBBR|        SBGL|2007-02-01 07:40:00|2007-02-01 07:40:00|2007-02-01 09:20:00|2007-02-01 09:20:00|   Realizado|          nan|2007|  2|  1|            5|             0|     NAO|\n",
            "|5784361|          ONE|      6311|  0|      NULL|       SBCH|        SBSP|2007-01-24 07:40:00|2007-01-24 07:40:00|2007-01-24 09:05:00|2007-01-24 09:05:00|   Realizado|          nan|2007|  1| 24|            4|             0|     NAO|\n",
            "|5784362|          TAP|       187|  0|      NULL|       LPPT|        SBGR|2007-01-13 07:40:00|2007-01-13 07:10:00|2007-01-13 17:50:00|2007-01-13 18:40:00|   Realizado|           TC|2007|  1| 13|            7|         -1800|     NAO|\n",
            "|5784363|          TAP|       185|  0|      NULL|       LPPT|        SBGR|2007-12-01 07:40:00|2007-12-01 07:05:00|2007-12-01 17:50:00|2007-12-01 18:25:00|   Realizado|           RA|2007| 12|  1|            7|         -2100|     NAO|\n",
            "|5784365|          TAP|       185|  0|      NULL|       LPPT|        SBGR|2007-03-01 07:40:00|2007-03-01 07:20:00|2007-03-01 17:50:00|2007-03-01 18:35:00|   Realizado|           AS|2007|  3|  1|            5|         -1200|     NAO|\n",
            "|5784366|          GLO|      7458|  0|      NULL|       SBFL|        SBPA|2007-09-01 07:40:00|2007-09-01 07:40:00|2007-09-01 08:30:00|2007-09-01 08:30:00|   Realizado|          nan|2007|  9|  1|            7|             0|     NAO|\n",
            "|5784368|          GLO|      1751|  0|      NULL|       SBBR|        SBGO|2007-04-01 07:40:00|2007-04-01 07:40:00|2007-04-01 08:10:00|2007-04-01 08:10:00|   Realizado|          nan|2007|  4|  1|            1|             0|     NAO|\n",
            "|5784369|          GLO|      7458|  0|      NULL|       SBFL|        SBPA|2007-02-01 07:40:00|2007-02-01 07:40:00|2007-02-01 08:30:00|2007-02-01 08:30:00|   Realizado|          nan|2007|  2|  1|            5|             0|     NAO|\n",
            "|5784370|          AMG|      6600|  0|      NULL|       SBVG|        SBGR|2007-01-17 07:40:00|2007-01-17 07:40:00|2007-01-17 08:20:00|2007-01-17 08:20:00|   Realizado|          nan|2007|  1| 17|            4|             0|     NAO|\n",
            "|5784372|          TAM|      3211|  0|      NULL|       SBCF|        SBSP|2007-01-31 07:40:00|2007-01-31 07:40:00|2007-01-31 08:55:00|2007-01-31 08:55:00|   Realizado|          nan|2007|  1| 31|            4|             0|     NAO|\n",
            "|5784373|          GLO|      1783|  0|      NULL|       SBBR|        SBGL|2007-01-25 07:40:00|2007-01-25 07:40:00|2007-01-25 09:20:00|2007-01-25 09:20:00|   Realizado|          nan|2007|  1| 25|            5|             0|     NAO|\n",
            "|5784374|          GLO|      1853|  0|      NULL|       SBBR|        SBGR|2007-01-22 07:40:00|2007-01-22 10:00:00|2007-01-22 09:10:00|2007-01-22 11:35:00|   Realizado|           AR|2007|  1| 22|            2|          8400|     SIM|\n",
            "|5784375|          TAM|      3211|  0|      NULL|       SBCF|        SBSP|2007-01-30 07:40:00|2007-01-30 07:40:00|2007-01-30 08:55:00|2007-01-30 08:55:00|   Realizado|          nan|2007|  1| 30|            3|             0|     NAO|\n",
            "|5784376|          GLO|      1936|  0|      NULL|       SBSP|        SBBR|2007-01-27 07:40:00|2007-01-27 07:40:00|2007-01-27 09:20:00|2007-01-27 09:20:00|   Realizado|          nan|2007|  1| 27|            7|             0|     NAO|\n",
            "|5784377|          GLO|      7458|  0|      NULL|       SBFL|        SBPA|2007-01-15 07:40:00|2007-01-15 08:27:00|2007-01-15 08:30:00|2007-01-15 09:25:00|   Realizado|           AR|2007|  1| 15|            2|          2820|     SIM|\n",
            "|5784378|          TAP|       187|  0|      NULL|       LPPT|        SBGR|2007-01-16 07:40:00|2007-01-16 07:40:00|2007-01-16 17:50:00|2007-01-16 17:50:00|   Realizado|          nan|2007|  1| 16|            3|             0|     NAO|\n",
            "|5784379|          GLO|      1853|  0|      NULL|       SBBR|        SBGR|2007-01-19 07:40:00|2007-01-19 07:40:00|2007-01-19 09:10:00|2007-01-19 09:10:00|   Realizado|          nan|2007|  1| 19|            6|             0|     NAO|\n",
            "|5784380|          GLO|      7458|  0|      NULL|       SBFL|        SBPA|2007-01-18 07:40:00|2007-01-18 07:40:00|2007-01-18 08:30:00|2007-01-18 08:30:00|   Realizado|          nan|2007|  1| 18|            5|             0|     NAO|\n",
            "|5784381|          TAM|      3211|  0|      NULL|       SBCF|        SBSP|2007-01-24 07:40:00|2007-01-24 07:40:00|2007-01-24 08:55:00|2007-01-24 08:55:00|   Realizado|          nan|2007|  1| 24|            4|             0|     NAO|\n",
            "|5784382|          ONE|      6311|  0|      NULL|       SBCH|        SBSP|2007-02-01 07:40:00|2007-02-01 07:35:00|2007-02-01 09:05:00|2007-02-01 09:26:00|   Realizado|           AR|2007|  2|  1|            5|          -300|     NAO|\n",
            "+-------+-------------+----------+---+----------+-----------+------------+-------------------+-------------------+-------------------+-------------------+------------+-------------+----+---+---+-------------+--------------+--------+\n",
            "only showing top 20 rows\n",
            "\n"
          ]
        }
      ]
    },
    {
      "cell_type": "markdown",
      "source": [
        "Calculando e armazenando a porcentagem de atrasos anuais totais."
      ],
      "metadata": {
        "id": "fDySGz76D1LO"
      }
    },
    {
      "cell_type": "code",
      "source": [
        "from pyspark.sql import functions as F\n",
        "\n",
        "# Agrupa os voos por ano e calcula a porcentagem de voos atrasados\n",
        "voos_por_ano = voos.groupBy('ano')\\\n",
        "    .agg(\n",
        "        F.count('*').alias('total_voos'),\n",
        "        F.round((F.sum(F.when(voos['atrasado'] == 'SIM', 1).otherwise(0)) / F.count('*') * 100), 2).alias('porcentagem_atrasados')\n",
        "    )\\\n",
        "    .orderBy('ano')\n",
        "\n",
        "voos_por_ano.show()"
      ],
      "metadata": {
        "colab": {
          "base_uri": "https://localhost:8080/"
        },
        "id": "9bcKHu-N-a6r",
        "outputId": "cae191ac-8284-45af-a4c0-0430b8f05631"
      },
      "execution_count": null,
      "outputs": [
        {
          "output_type": "stream",
          "name": "stdout",
          "text": [
            "+----+----------+---------------------+\n",
            "| ano|total_voos|porcentagem_atrasados|\n",
            "+----+----------+---------------------+\n",
            "|2000|    709365|                10.04|\n",
            "|2001|    729362|                11.34|\n",
            "|2002|    668898|                11.35|\n",
            "|2003|    530979|                 9.98|\n",
            "|2004|    531545|                10.18|\n",
            "|2005|    574807|                12.43|\n",
            "|2006|    608159|                18.32|\n",
            "|2007|    641285|                28.09|\n",
            "|2008|    740108|                15.35|\n",
            "|2009|    814946|                 9.51|\n",
            "|2010|    947014|                11.68|\n",
            "|2011|   1079256|                11.04|\n",
            "|2012|   1125659|                 9.42|\n",
            "|2013|   1076071|                 8.05|\n",
            "|2014|    891655|                  8.2|\n",
            "|2015|   1069070|                 6.43|\n",
            "|2016|    952397|                 6.45|\n",
            "|2017|    853548|                 7.39|\n",
            "|2018|    976740|                  8.1|\n",
            "|2019|    965181|                 7.67|\n",
            "+----+----------+---------------------+\n",
            "only showing top 20 rows\n",
            "\n"
          ]
        }
      ]
    },
    {
      "cell_type": "markdown",
      "source": [
        "Exibindo o resultado"
      ],
      "metadata": {
        "id": "nY-9uM2_D7Zz"
      }
    },
    {
      "cell_type": "code",
      "source": [
        "import matplotlib.pyplot as plt\n",
        "\n",
        "# Extrai os dados do dataframe\n",
        "years = voos_por_ano.select('ano').rdd.flatMap(lambda x: x).collect()\n",
        "percent_atrasado = voos_por_ano.select('porcentagem_atrasados').rdd.flatMap(lambda x: x).collect()\n",
        "\n",
        "# Plot do gráfico\n",
        "plt.figure(figsize=(8, 5))\n",
        "plt.plot(years, percent_atrasado, marker='o', color='red', label='% atrasado')\n",
        "plt.title('Porcentagem de Voos Atrasados ao longo de 2000 - 2020')\n",
        "plt.xlabel('Ano')\n",
        "plt.ylabel('Porcentagem')\n",
        "plt.legend()\n",
        "plt.xticks(years, rotation=45)  # Garantir que todos os anos estejam no eixo x\n",
        "plt.tight_layout()\n",
        "plt.show()"
      ],
      "metadata": {
        "colab": {
          "base_uri": "https://localhost:8080/",
          "height": 507
        },
        "id": "WPiWS0A6ACXf",
        "outputId": "3de8bcf0-a083-460a-bf48-cf59607ced17"
      },
      "execution_count": null,
      "outputs": [
        {
          "output_type": "display_data",
          "data": {
            "text/plain": [
              "<Figure size 800x500 with 1 Axes>"
            ],
            "image/png": "[encoded data removed]"
          },
          "metadata": {}
        }
      ]
    },
    {
      "cell_type": "markdown",
      "source": [
        "Curiosidamente, o pior período foi durante o apagão aéreo que atingiu o país entre 2007 e 2008, mais informações em : https://pt.wikipedia.org/wiki/Apag%C3%A3o_a%C3%A9reo_de_2006"
      ],
      "metadata": {
        "id": "mjxL4z-XBrBl"
      }
    },
    {
      "cell_type": "markdown",
      "source": [
        "## 2.Saindo do Aeroporto Gilberto Freyre (Recife) quais foram 5 top destinos (aeroportos) ?"
      ],
      "metadata": {
        "id": "GTTBrmNpkogT"
      }
    },
    {
      "cell_type": "code",
      "source": [
        "# Filtrando todos os voos cujo Aeroporto de Saída é o de Recife (SBRF)\n",
        "\n",
        "voos_recife = voos.where(F.col('aero_origem') == 'SBRF')\n",
        "voos_recife.show()"
      ],
      "metadata": {
        "colab": {
          "base_uri": "https://localhost:8080/"
        },
        "id": "NrJCgujLq263",
        "outputId": "84dd6695-8650-412b-aeac-2a27dccd19be"
      },
      "execution_count": null,
      "outputs": [
        {
          "output_type": "stream",
          "name": "stdout",
          "text": [
            "+-------+-------------+----------+---+----------+-----------+------------+-------------------+-------------------+-------------------+-------------------+------------+-------------+----+---+---+-------------+--------------+--------+\n",
            "|  index|sigla_empresa|numero_voo| di|tipo_linha|aero_origem|aero_destino|      part_prevista|          part_real|      cheg_prevista|          cheg_real|situacao_voo|justificativa| ano|mes|dia|dia_da_semana|atraso_partida|atrasado|\n",
            "+-------+-------------+----------+---+----------+-----------+------------+-------------------+-------------------+-------------------+-------------------+------------+-------------+----+---+---+-------------+--------------+--------+\n",
            "|5786149|          GLO|      1565|  0|      NULL|       SBRF|        SBSV|2007-05-01 08:15:00|2007-05-01 08:15:00|2007-05-01 09:25:00|2007-05-01 09:25:00|   Realizado|          nan|2007|  5|  1|            3|             0|     NAO|\n",
            "|5786182|          GLO|      1565|  0|      NULL|       SBRF|        SBSV|2007-04-01 08:15:00|2007-04-01 08:15:00|2007-04-01 09:25:00|2007-04-01 09:25:00|   Realizado|          nan|2007|  4|  1|            1|             0|     NAO|\n",
            "|5786257|          GLO|      1565|  0|      NULL|       SBRF|        SBSV|2007-01-21 08:15:00|2007-01-21 08:15:00|2007-01-21 09:25:00|2007-01-21 09:25:00|   Realizado|          nan|2007|  1| 21|            1|             0|     NAO|\n",
            "|5786291|          GLO|      1565|  0|      NULL|       SBRF|        SBSV|2007-07-01 08:15:00|2007-07-01 08:15:00|2007-07-01 09:25:00|2007-07-01 09:25:00|   Realizado|          nan|2007|  7|  1|            1|             0|     NAO|\n",
            "|5787796|          TAM|      3395|  0|      NULL|       SBRF|        SBSP|2007-01-20 03:10:00|2007-01-20 03:36:00|2007-01-20 06:20:00|2007-01-20 06:44:00|   Realizado|           FP|2007|  1| 20|            7|          1560|     NAO|\n",
            "|5787804|          TAM|      3175|  0|      NULL|       SBRF|        SBGL|2007-01-18 03:10:00|2007-01-18 03:51:00|2007-01-18 06:00:00|2007-01-18 06:38:00|   Realizado|           AR|2007|  1| 18|            5|          2460|     SIM|\n",
            "|5787808|          TAM|      3395|  0|      NULL|       SBRF|        SBSP|2007-12-01 03:10:00|2007-12-01 03:36:00|2007-12-01 06:20:00|2007-12-01 06:53:00|   Realizado|           AR|2007| 12|  1|            7|          1560|     NAO|\n",
            "|5787816|          TAM|      3175|  0|      NULL|       SBRF|        SBGL|2007-01-24 03:10:00|2007-01-24 03:10:00|2007-01-24 06:00:00|2007-01-24 06:00:00|   Realizado|          nan|2007|  1| 24|            4|             0|     NAO|\n",
            "|5787824|          TAM|      3395|  0|      NULL|       SBRF|        SBSP|2007-05-01 03:10:00|2007-05-01 03:10:00|2007-05-01 06:20:00|2007-05-01 06:20:00|   Realizado|          nan|2007|  5|  1|            3|             0|     NAO|\n",
            "|5787839|          TAM|      3395|  0|      NULL|       SBRF|        SBSP|2007-01-15 03:10:00|2007-01-15 03:41:00|2007-01-15 06:20:00|2007-01-15 06:42:00|   Realizado|           MA|2007|  1| 15|            2|          1860|     SIM|\n",
            "|5787850|          TAM|      3395|  0|      NULL|       SBRF|        SBSP|2007-01-17 03:10:00|2007-01-17 03:10:00|2007-01-17 06:20:00|2007-01-17 06:20:00|   Realizado|          nan|2007|  1| 17|            4|             0|     NAO|\n",
            "|5787851|          TAM|      3175|  0|      NULL|       SBRF|        SBGL|2007-01-16 03:10:00|2007-01-16 03:35:00|2007-01-16 06:00:00|2007-01-16 06:14:00|   Realizado|           AR|2007|  1| 16|            3|          1500|     NAO|\n",
            "|5787853|          TAM|      3395|  0|      NULL|       SBRF|        SBSP|2007-01-27 03:10:00|2007-01-27 03:35:00|2007-01-27 06:20:00|2007-01-27 06:37:00|   Realizado|           RA|2007|  1| 27|            7|          1500|     NAO|\n",
            "|5787856|          TAM|      3175|  0|      NULL|       SBRF|        SBGL|2007-01-30 03:10:00|2007-01-30 03:10:00|2007-01-30 06:00:00|2007-01-30 06:00:00|   Realizado|          nan|2007|  1| 30|            3|             0|     NAO|\n",
            "|5787862|          TAM|      3395|  0|      NULL|       SBRF|        SBSP|2007-11-01 03:10:00|2007-11-01 03:34:00|2007-11-01 06:20:00|2007-11-01 06:44:00|   Realizado|           RA|2007| 11|  1|            5|          1440|     NAO|\n",
            "|5787873|          TAM|      3395|  0|      NULL|       SBRF|        SBSP|2007-01-16 03:10:00|2007-01-16 03:10:00|2007-01-16 06:20:00|2007-01-16 06:20:00|   Realizado|          nan|2007|  1| 16|            3|             0|     NAO|\n",
            "|5787876|          TAM|      3395|  0|      NULL|       SBRF|        SBSP|2007-10-01 03:10:00|2007-10-01 03:10:00|2007-10-01 06:20:00|2007-10-01 06:20:00|   Realizado|          nan|2007| 10|  1|            2|             0|     NAO|\n",
            "|5787878|          TAM|      3395|  0|      NULL|       SBRF|        SBSP|2007-03-01 03:10:00|2007-03-01 03:10:00|2007-03-01 06:20:00|2007-03-01 06:20:00|   Realizado|          nan|2007|  3|  1|            5|             0|     NAO|\n",
            "|5787885|          TAM|      3395|  0|      NULL|       SBRF|        SBSP|2007-01-18 03:10:00|2007-01-18 03:38:00|2007-01-18 06:20:00|2007-01-18 06:45:00|   Realizado|           RA|2007|  1| 18|            5|          1680|     NAO|\n",
            "|5787887|          TAM|      3175|  0|      NULL|       SBRF|        SBGL|2007-01-25 03:10:00|2007-01-25 03:10:00|2007-01-25 06:00:00|2007-01-25 06:00:00|   Realizado|          nan|2007|  1| 25|            5|             0|     NAO|\n",
            "+-------+-------------+----------+---+----------+-----------+------------+-------------------+-------------------+-------------------+-------------------+------------+-------------+----+---+---+-------------+--------------+--------+\n",
            "only showing top 20 rows\n",
            "\n"
          ]
        }
      ]
    },
    {
      "cell_type": "code",
      "source": [
        "resultado = voos_recife.groupBy('aero_destino').count().orderBy(F.desc('count')).limit(5)\n",
        "resultado.show()"
      ],
      "metadata": {
        "colab": {
          "base_uri": "https://localhost:8080/"
        },
        "id": "__3BaL1xrWEf",
        "outputId": "90f8c11f-685b-4f53-faf1-05aaac403d9f"
      },
      "execution_count": null,
      "outputs": [
        {
          "output_type": "stream",
          "name": "stdout",
          "text": [
            "+------------+-----+\n",
            "|aero_destino|count|\n",
            "+------------+-----+\n",
            "|        SBGR|89056|\n",
            "|        SBSV|68593|\n",
            "|        SBFZ|61171|\n",
            "|        SBGL|55531|\n",
            "|        SBBR|43409|\n",
            "+------------+-----+\n",
            "\n"
          ]
        }
      ]
    },
    {
      "cell_type": "code",
      "source": [
        "# União das tabelas, primeiro aeroporto de origem e depois o de destino\n",
        "resultado = resultado.withColumn('Sigla OACI', F.col('aero_destino')).join(aeroportos.alias('aero_destino'), how='left', on='Sigla OACI')\n",
        "resultado.show()"
      ],
      "metadata": {
        "colab": {
          "base_uri": "https://localhost:8080/"
        },
        "id": "NkK_Q-jyLj2a",
        "outputId": "8e2f768f-20d5-452a-b1d5-097f1f7b8bed"
      },
      "execution_count": null,
      "outputs": [
        {
          "output_type": "stream",
          "name": "stdout",
          "text": [
            "+----------+------------+-----+--------------------+--------------+---+------+--------------+\n",
            "|Sigla OACI|aero_destino|count|           Descrição|        Cidade| UF|  País|    Continente|\n",
            "+----------+------------+-----+--------------------+--------------+---+------+--------------+\n",
            "|      SBGR|        SBGR|89056|GUARULHOS - GOVER...|     GUARULHOS| SP|BRASIL|AMERICA DO SUL|\n",
            "|      SBSV|        SBSV|68593|DEPUTADO LUÍS EDU...|      SALVADOR| BA|BRASIL|AMERICA DO SUL|\n",
            "|      SBFZ|        SBFZ|61171|       PINTO MARTINS|     FORTALEZA| CE|BRASIL|AMERICA DO SUL|\n",
            "|      SBGL|        SBGL|55531|AEROPORTO INTERNA...|RIO DE JANEIRO| RJ|BRASIL|AMERICA DO SUL|\n",
            "|      SBBR|        SBBR|43409|PRESIDENTE JUSCEL...|      BRASÍLIA| DF|BRASIL|AMERICA DO SUL|\n",
            "+----------+------------+-----+--------------------+--------------+---+------+--------------+\n",
            "\n"
          ]
        }
      ]
    },
    {
      "cell_type": "markdown",
      "source": [
        "Resposta: Guarulhos (SP), Salvador (BA), Fortaleza(CE), Rio de Janeiro(RJ), Brasilia(DF)."
      ],
      "metadata": {
        "id": "ToorIdjYPYPP"
      }
    },
    {
      "cell_type": "markdown",
      "source": [
        "## 3.Considerando como o Aeroporto Gilberto Freyre (Recife) (código SBRF) como origem, quais as top 3 companhias que mais atrasaram por ano entre 2015 e 2020?"
      ],
      "metadata": {
        "id": "3_NJApkQmJIq"
      }
    },
    {
      "cell_type": "code",
      "source": [
        "voos_recife = voos.where(F.col('aero_origem') == 'SBRF')\n",
        "voos_recife.show()"
      ],
      "metadata": {
        "colab": {
          "base_uri": "https://localhost:8080/"
        },
        "id": "SaSRRn7DiSPr",
        "outputId": "0938693f-cc97-4015-b1c1-42e246357ff4"
      },
      "execution_count": null,
      "outputs": [
        {
          "output_type": "stream",
          "name": "stdout",
          "text": [
            "+-------+-------------+----------+---+----------+-----------+------------+-------------------+-------------------+-------------------+-------------------+------------+-------------+----+---+---+-------------+--------------+--------+\n",
            "|  index|sigla_empresa|numero_voo| di|tipo_linha|aero_origem|aero_destino|      part_prevista|          part_real|      cheg_prevista|          cheg_real|situacao_voo|justificativa| ano|mes|dia|dia_da_semana|atraso_partida|atrasado|\n",
            "+-------+-------------+----------+---+----------+-----------+------------+-------------------+-------------------+-------------------+-------------------+------------+-------------+----+---+---+-------------+--------------+--------+\n",
            "|5786149|          GLO|      1565|  0|      NULL|       SBRF|        SBSV|2007-05-01 08:15:00|2007-05-01 08:15:00|2007-05-01 09:25:00|2007-05-01 09:25:00|   Realizado|          nan|2007|  5|  1|            3|             0|     NAO|\n",
            "|5786182|          GLO|      1565|  0|      NULL|       SBRF|        SBSV|2007-04-01 08:15:00|2007-04-01 08:15:00|2007-04-01 09:25:00|2007-04-01 09:25:00|   Realizado|          nan|2007|  4|  1|            1|             0|     NAO|\n",
            "|5786257|          GLO|      1565|  0|      NULL|       SBRF|        SBSV|2007-01-21 08:15:00|2007-01-21 08:15:00|2007-01-21 09:25:00|2007-01-21 09:25:00|   Realizado|          nan|2007|  1| 21|            1|             0|     NAO|\n",
            "|5786291|          GLO|      1565|  0|      NULL|       SBRF|        SBSV|2007-07-01 08:15:00|2007-07-01 08:15:00|2007-07-01 09:25:00|2007-07-01 09:25:00|   Realizado|          nan|2007|  7|  1|            1|             0|     NAO|\n",
            "|5787796|          TAM|      3395|  0|      NULL|       SBRF|        SBSP|2007-01-20 03:10:00|2007-01-20 03:36:00|2007-01-20 06:20:00|2007-01-20 06:44:00|   Realizado|           FP|2007|  1| 20|            7|          1560|     NAO|\n",
            "|5787804|          TAM|      3175|  0|      NULL|       SBRF|        SBGL|2007-01-18 03:10:00|2007-01-18 03:51:00|2007-01-18 06:00:00|2007-01-18 06:38:00|   Realizado|           AR|2007|  1| 18|            5|          2460|     SIM|\n",
            "|5787808|          TAM|      3395|  0|      NULL|       SBRF|        SBSP|2007-12-01 03:10:00|2007-12-01 03:36:00|2007-12-01 06:20:00|2007-12-01 06:53:00|   Realizado|           AR|2007| 12|  1|            7|          1560|     NAO|\n",
            "|5787816|          TAM|      3175|  0|      NULL|       SBRF|        SBGL|2007-01-24 03:10:00|2007-01-24 03:10:00|2007-01-24 06:00:00|2007-01-24 06:00:00|   Realizado|          nan|2007|  1| 24|            4|             0|     NAO|\n",
            "|5787824|          TAM|      3395|  0|      NULL|       SBRF|        SBSP|2007-05-01 03:10:00|2007-05-01 03:10:00|2007-05-01 06:20:00|2007-05-01 06:20:00|   Realizado|          nan|2007|  5|  1|            3|             0|     NAO|\n",
            "|5787839|          TAM|      3395|  0|      NULL|       SBRF|        SBSP|2007-01-15 03:10:00|2007-01-15 03:41:00|2007-01-15 06:20:00|2007-01-15 06:42:00|   Realizado|           MA|2007|  1| 15|            2|          1860|     SIM|\n",
            "|5787850|          TAM|      3395|  0|      NULL|       SBRF|        SBSP|2007-01-17 03:10:00|2007-01-17 03:10:00|2007-01-17 06:20:00|2007-01-17 06:20:00|   Realizado|          nan|2007|  1| 17|            4|             0|     NAO|\n",
            "|5787851|          TAM|      3175|  0|      NULL|       SBRF|        SBGL|2007-01-16 03:10:00|2007-01-16 03:35:00|2007-01-16 06:00:00|2007-01-16 06:14:00|   Realizado|           AR|2007|  1| 16|            3|          1500|     NAO|\n",
            "|5787853|          TAM|      3395|  0|      NULL|       SBRF|        SBSP|2007-01-27 03:10:00|2007-01-27 03:35:00|2007-01-27 06:20:00|2007-01-27 06:37:00|   Realizado|           RA|2007|  1| 27|            7|          1500|     NAO|\n",
            "|5787856|          TAM|      3175|  0|      NULL|       SBRF|        SBGL|2007-01-30 03:10:00|2007-01-30 03:10:00|2007-01-30 06:00:00|2007-01-30 06:00:00|   Realizado|          nan|2007|  1| 30|            3|             0|     NAO|\n",
            "|5787862|          TAM|      3395|  0|      NULL|       SBRF|        SBSP|2007-11-01 03:10:00|2007-11-01 03:34:00|2007-11-01 06:20:00|2007-11-01 06:44:00|   Realizado|           RA|2007| 11|  1|            5|          1440|     NAO|\n",
            "|5787873|          TAM|      3395|  0|      NULL|       SBRF|        SBSP|2007-01-16 03:10:00|2007-01-16 03:10:00|2007-01-16 06:20:00|2007-01-16 06:20:00|   Realizado|          nan|2007|  1| 16|            3|             0|     NAO|\n",
            "|5787876|          TAM|      3395|  0|      NULL|       SBRF|        SBSP|2007-10-01 03:10:00|2007-10-01 03:10:00|2007-10-01 06:20:00|2007-10-01 06:20:00|   Realizado|          nan|2007| 10|  1|            2|             0|     NAO|\n",
            "|5787878|          TAM|      3395|  0|      NULL|       SBRF|        SBSP|2007-03-01 03:10:00|2007-03-01 03:10:00|2007-03-01 06:20:00|2007-03-01 06:20:00|   Realizado|          nan|2007|  3|  1|            5|             0|     NAO|\n",
            "|5787885|          TAM|      3395|  0|      NULL|       SBRF|        SBSP|2007-01-18 03:10:00|2007-01-18 03:38:00|2007-01-18 06:20:00|2007-01-18 06:45:00|   Realizado|           RA|2007|  1| 18|            5|          1680|     NAO|\n",
            "|5787887|          TAM|      3175|  0|      NULL|       SBRF|        SBGL|2007-01-25 03:10:00|2007-01-25 03:10:00|2007-01-25 06:00:00|2007-01-25 06:00:00|   Realizado|          nan|2007|  1| 25|            5|             0|     NAO|\n",
            "+-------+-------------+----------+---+----------+-----------+------------+-------------------+-------------------+-------------------+-------------------+------------+-------------+----+---+---+-------------+--------------+--------+\n",
            "only showing top 20 rows\n",
            "\n"
          ]
        }
      ]
    },
    {
      "cell_type": "code",
      "source": [
        "voos_recife_atrasados = voos.where(F.col('atrasado') == 'SIM')\n",
        "\n",
        "voos_recife_atrasados.show()"
      ],
      "metadata": {
        "colab": {
          "base_uri": "https://localhost:8080/"
        },
        "id": "pUQ3Leuzihw_",
        "outputId": "d368f50e-4eaf-4aaf-f1ea-16f6f08c44b2"
      },
      "execution_count": null,
      "outputs": [
        {
          "output_type": "stream",
          "name": "stdout",
          "text": [
            "+-------+-------------+----------+---+----------+-----------+------------+-------------------+-------------------+-------------------+-------------------+------------+-------------+----+---+---+-------------+--------------+--------+\n",
            "|  index|sigla_empresa|numero_voo| di|tipo_linha|aero_origem|aero_destino|      part_prevista|          part_real|      cheg_prevista|          cheg_real|situacao_voo|justificativa| ano|mes|dia|dia_da_semana|atraso_partida|atrasado|\n",
            "+-------+-------------+----------+---+----------+-----------+------------+-------------------+-------------------+-------------------+-------------------+------------+-------------+----+---+---+-------------+--------------+--------+\n",
            "|5784374|          GLO|      1853|  0|      NULL|       SBBR|        SBGR|2007-01-22 07:40:00|2007-01-22 10:00:00|2007-01-22 09:10:00|2007-01-22 11:35:00|   Realizado|           AR|2007|  1| 22|            2|          8400|     SIM|\n",
            "|5784377|          GLO|      7458|  0|      NULL|       SBFL|        SBPA|2007-01-15 07:40:00|2007-01-15 08:27:00|2007-01-15 08:30:00|2007-01-15 09:25:00|   Realizado|           AR|2007|  1| 15|            2|          2820|     SIM|\n",
            "|5784384|          ONE|      6300|  0|      NULL|       SBCT|        SBCA|2007-11-01 07:40:00|2007-11-01 08:10:00|2007-11-01 08:45:00|2007-11-01 09:55:00|   Realizado|           WT|2007| 11|  1|            5|          1800|     SIM|\n",
            "|5784388|          GLO|      1853|  0|      NULL|       SBBR|        SBGR|2007-01-31 07:40:00|2007-01-31 08:30:00|2007-01-31 09:10:00|2007-01-31 10:13:00|   Realizado|           AR|2007|  1| 31|            4|          3000|     SIM|\n",
            "|5784393|          GLO|      1853|  0|      NULL|       SBBR|        SBGR|2007-01-23 07:40:00|2007-01-23 08:26:00|2007-01-23 09:10:00|2007-01-23 10:01:00|   Realizado|           AR|2007|  1| 23|            3|          2760|     SIM|\n",
            "|5784396|          GLO|      1783|  0|      NULL|       SBBR|        SBGL|2007-01-30 07:40:00|2007-01-30 08:29:00|2007-01-30 09:20:00|2007-01-30 10:24:00|   Realizado|           AR|2007|  1| 30|            3|          2940|     SIM|\n",
            "|5784399|          GLO|      1853|  0|      NULL|       SBBR|        SBGR|2007-01-21 07:40:00|2007-01-21 09:37:00|2007-01-21 09:10:00|2007-01-21 11:15:00|   Realizado|           AR|2007|  1| 21|            1|          7020|     SIM|\n",
            "|5784404|          GLO|      1783|  0|      NULL|       SBBR|        SBGL|2007-04-01 07:40:00|2007-04-01 08:38:00|2007-04-01 09:20:00|2007-04-01 10:12:00|   Realizado|           AR|2007|  4|  1|            1|          3480|     SIM|\n",
            "|5784412|          GLO|      1783|  0|      NULL|       SBBR|        SBGL|2007-01-28 07:40:00|2007-01-28 12:06:00|2007-01-28 09:20:00|2007-01-28 13:34:00|   Realizado|           AR|2007|  1| 28|            1|         15960|     SIM|\n",
            "|5784415|          GLO|      1783|  0|      NULL|       SBBR|        SBGL|2007-07-01 07:40:00|2007-07-01 08:30:00|2007-07-01 09:20:00|2007-07-01 10:12:00|   Realizado|           AR|2007|  7|  1|            1|          3000|     SIM|\n",
            "|5784419|          GLO|      1783|  0|      NULL|       SBBR|        SBGL|2007-01-14 07:40:00|2007-01-14 11:13:00|2007-01-14 09:20:00|2007-01-14 12:52:00|   Realizado|           AR|2007|  1| 14|            1|         12780|     SIM|\n",
            "|5784421|          ONE|      6311|  0|      NULL|       SBCH|        SBSP|2007-01-17 07:40:00|2007-01-17 11:13:00|2007-01-17 09:05:00|2007-01-17 12:35:00|   Realizado|           TD|2007|  1| 17|            4|         12780|     SIM|\n",
            "|5784422|          TAP|       187|  0|      NULL|       LPPT|        SBGR|2007-01-18 07:40:00|2007-01-18 09:55:00|2007-01-18 17:50:00|2007-01-18 22:25:00|   Realizado|           TC|2007|  1| 18|            5|          8100|     SIM|\n",
            "|5784461|          TAM|      3210|  0|      NULL|       SBSP|        SBCF|2007-08-01 07:43:00|2007-08-01 08:32:00|2007-08-01 08:50:00|2007-08-01 09:33:00|   Realizado|           AR|2007|  8|  1|            4|          2940|     SIM|\n",
            "|5784463|          TAM|      3210|  0|      NULL|       SBSP|        SBCF|2007-01-23 07:43:00|2007-01-23 08:51:00|2007-01-23 08:50:00|2007-01-23 09:54:00|   Realizado|           AR|2007|  1| 23|            3|          4080|     SIM|\n",
            "|5784464|          TAM|      3210|  0|      NULL|       SBSP|        SBCF|2007-01-15 07:43:00|2007-01-15 08:32:00|2007-01-15 08:50:00|2007-01-15 09:49:00|   Realizado|           AR|2007|  1| 15|            2|          2940|     SIM|\n",
            "|5784510|          BAW|       247|  0|      NULL|       SBGR|        SAEZ|2007-05-01 07:45:00|2007-05-01 09:05:00|2007-05-01 10:25:00|2007-05-01 11:43:00|   Realizado|           RA|2007|  5|  1|            3|          4800|     SIM|\n",
            "|5784530|          PLY|      4914|  0|      NULL|       SBBE|        SBMD|2007-01-16 07:45:00|2007-01-16 08:20:00|2007-01-16 08:55:00|2007-01-16 09:35:00|   Realizado|           MX|2007|  1| 16|            3|          2100|     SIM|\n",
            "|5784535|          PLY|      4904|  0|      NULL|       SBBE|        SBMD|2007-05-01 07:45:00|2007-05-01 08:15:00|2007-05-01 08:55:00|2007-05-01 09:35:00|   Realizado|           MX|2007|  5|  1|            3|          1800|     SIM|\n",
            "|5784549|          BAW|      1247|  0|      NULL|       SBGR|        SBGL|2007-08-01 07:45:00|2007-08-01 09:24:00|2007-08-01 08:45:00|2007-08-01 10:21:00|   Realizado|           RA|2007|  8|  1|            4|          5940|     SIM|\n",
            "+-------+-------------+----------+---+----------+-----------+------------+-------------------+-------------------+-------------------+-------------------+------------+-------------+----+---+---+-------------+--------------+--------+\n",
            "only showing top 20 rows\n",
            "\n"
          ]
        }
      ]
    },
    {
      "cell_type": "code",
      "source": [
        "voos_atrasados_por_ano = voos_recife_atrasados.groupBy(['ano', 'sigla_empresa'])\\\n",
        "    .agg({'atraso_partida': 'sum'})\\\n",
        "    .withColumnRenamed('sum(atraso_partida)', 'total_atraso')\\\n",
        "    .orderBy('ano', 'total_atraso', ascending=[True, False])\n",
        "\n",
        "voos_atrasados_por_ano.show()"
      ],
      "metadata": {
        "colab": {
          "base_uri": "https://localhost:8080/"
        },
        "id": "SqXMAUypjOR0",
        "outputId": "85b9e665-0eb5-4ae8-ce7d-07f16300cd92"
      },
      "execution_count": null,
      "outputs": [
        {
          "output_type": "stream",
          "name": "stdout",
          "text": [
            "+----+-------------+------------+\n",
            "| ano|sigla_empresa|total_atraso|\n",
            "+----+-------------+------------+\n",
            "|2000|          PEP|128180941740|\n",
            "|2000|          VRG|   993681660|\n",
            "|2000|          VSP|   497181060|\n",
            "|2000|          BLC|   465193140|\n",
            "|2000|          TAM|   303004860|\n",
            "|2000|          NES|   281295600|\n",
            "|2000|          TBA|   200823540|\n",
            "|2000|          JAL|   152202360|\n",
            "|2000|          ITB|   143251440|\n",
            "|2000|          RSL|   102310500|\n",
            "|2000|          ARG|    93361500|\n",
            "|2000|          AFR|    74238480|\n",
            "|2000|          TAP|    59256600|\n",
            "|2000|          TVJ|    58240620|\n",
            "|2000|          LLB|    48316260|\n",
            "|2000|          TIB|    37051860|\n",
            "|2000|          TTL|    33826860|\n",
            "|2000|          LAN|    26565180|\n",
            "|2000|          COA|    25936860|\n",
            "|2000|          PAC|    19400940|\n",
            "+----+-------------+------------+\n",
            "only showing top 20 rows\n",
            "\n"
          ]
        }
      ]
    },
    {
      "cell_type": "code",
      "source": [
        "# Obtendo os top 3 companhias por ano\n",
        "\n",
        "from pyspark.sql.window import Window\n",
        "\n",
        "window_spec = Window.partitionBy('ano').orderBy(F.col('total_atraso').desc())\n",
        "top3_empresas_atraso = voos_atrasados_por_ano.withColumn('rank', F.row_number().over(window_spec))\n",
        "\n",
        "# Selecionar apenas as três maiores em atraso\n",
        "top3_empresas_atraso = top3_empresas_atraso.filter((F.col('ano') >= 2015) & (F.col('rank') <= 3))\n",
        "\n",
        "top3_empresas_atraso.show()"
      ],
      "metadata": {
        "colab": {
          "base_uri": "https://localhost:8080/"
        },
        "id": "XYQrH2U1l6Yu",
        "outputId": "260a78be-3f90-442a-e3d5-40f3987bed52"
      },
      "execution_count": null,
      "outputs": [
        {
          "output_type": "stream",
          "name": "stdout",
          "text": [
            "+----+-------------+------------+----+\n",
            "| ano|sigla_empresa|total_atraso|rank|\n",
            "+----+-------------+------------+----+\n",
            "|2015|          AZU|  1906897500|   1|\n",
            "|2015|          GLO|  1006630740|   2|\n",
            "|2015|          TAM|   751261320|   3|\n",
            "|2016|          AZU|  6228778140|   1|\n",
            "|2016|          TAM|  4501681320|   2|\n",
            "|2016|          GLO|  2084384280|   3|\n",
            "|2017|          AZU|   874012140|   1|\n",
            "|2017|          TAM|   669466800|   2|\n",
            "|2017|          LTG|   538176900|   3|\n",
            "|2018|          TAM|  1530679380|   1|\n",
            "|2018|          AZU|  1356655020|   2|\n",
            "|2018|          GLO|   781273020|   3|\n",
            "|2019|          AZU|  1467116160|   1|\n",
            "|2019|          TAM|  1257104460|   2|\n",
            "|2019|          GLO|  1210813560|   3|\n",
            "|2020|          GLO|   608753100|   1|\n",
            "|2020|          AZU|   547981260|   2|\n",
            "|2020|          TAM|   224715960|   3|\n",
            "+----+-------------+------------+----+\n",
            "\n"
          ]
        }
      ]
    },
    {
      "cell_type": "code",
      "source": [
        "# Coletando os dados para o gráfico\n",
        "anos = top3_empresas_atraso.select('ano').distinct().orderBy('ano').rdd.flatMap(lambda x: x).collect()\n",
        "empresas = top3_empresas_atraso.select('sigla_empresa').distinct().rdd.flatMap(lambda x: x).collect()\n",
        "\n",
        "# Cria o gráfico de barras\n",
        "fig, axs = plt.subplots(len(anos), figsize=(8, 5 * len(anos)))\n",
        "\n",
        "for i, ano in enumerate(anos):\n",
        "    dados_ano = top3_empresas_atraso.filter(F.col('ano') == ano).toPandas()\n",
        "    axs[i].bar(dados_ano['sigla_empresa'], dados_ano['total_atraso'], color=['blue', 'orange', 'green'])\n",
        "    axs[i].set_title(f'Atrasos por Empresa em {ano}')\n",
        "    axs[i].set_xlabel('Empresa')\n",
        "    axs[i].set_ylabel('Total de Atrasos (s)')\n",
        "\n",
        "plt.tight_layout()\n",
        "plt.show()"
      ],
      "metadata": {
        "colab": {
          "base_uri": "https://localhost:8080/",
          "height": 1000
        },
        "id": "jj51k_IeHqYE",
        "outputId": "5b8acf91-c54c-4c7b-a91e-5eeb3fa69e54"
      },
      "execution_count": null,
      "outputs": [
        {
          "output_type": "display_data",
          "data": {
            "text/plain": [
              "<Figure size 800x3000 with 6 Axes>"
            ],
            "image/png": "[encoded data removed]"
          },
          "metadata": {}
        }
      ]
    },
    {
      "cell_type": "markdown",
      "source": [
        "## 4.Quais aeroportos tiveram maior crescimento de seu numero de voos realizados entre 2000 e 2020?"
      ],
      "metadata": {
        "id": "tL9HgkGZlrb2"
      }
    },
    {
      "cell_type": "code",
      "source": [
        "# Calculando o número de voos por aeroporto em cada ano\n",
        "voos_por_aeroporto_por_ano = voos.groupBy(\"aero_origem\", \"ano\").agg(F.count(\"numero_voo\").alias(\"num_voos\"))\n",
        "\n",
        "voos_por_aeroporto_por_ano.show()"
      ],
      "metadata": {
        "colab": {
          "base_uri": "https://localhost:8080/"
        },
        "id": "n0L1uCpOmOE6",
        "outputId": "a0f28267-e10d-49aa-8cf4-a11c0e156047"
      },
      "execution_count": null,
      "outputs": [
        {
          "output_type": "stream",
          "name": "stdout",
          "text": [
            "+-----------+----+--------+\n",
            "|aero_origem| ano|num_voos|\n",
            "+-----------+----+--------+\n",
            "|       SWRD|2007|    1202|\n",
            "|       GCLP|2005|      23|\n",
            "|       SBKG|2006|     375|\n",
            "|       SUMU|2003|    1634|\n",
            "|       SBTE|2007|    3010|\n",
            "|       SBUG|2007|     222|\n",
            "|       SBMG|2007|    2142|\n",
            "|       SWTP|2005|     133|\n",
            "|       FNLU|2006|     103|\n",
            "|       SNVS|2000|     375|\n",
            "|       SNTI|2000|     464|\n",
            "|       EHAM|2001|     339|\n",
            "|       MMUN|2001|     408|\n",
            "|       KEWR|2002|     368|\n",
            "|       SWGN|2002|     361|\n",
            "|       SYCJ|2007|     105|\n",
            "|       SBPL|2008|    1196|\n",
            "|       CYYZ|2008|     387|\n",
            "|       SLPS|2005|      88|\n",
            "|       SBJF|2006|     921|\n",
            "+-----------+----+--------+\n",
            "only showing top 20 rows\n",
            "\n"
          ]
        }
      ]
    },
    {
      "cell_type": "code",
      "source": [
        "# Calculando o número de voos por aeroporto no ano anterior\n",
        "window_spec = Window.partitionBy(\"aero_origem\").orderBy(\"ano\")\n",
        "\n",
        "voos_por_aeroporto_por_ano = voos_por_aeroporto_por_ano.withColumn(\"num_voos_ano_anterior\", F.lag(\"num_voos\", 1).over(window_spec))\n",
        "voos_por_aeroporto_por_ano.show()"
      ],
      "metadata": {
        "colab": {
          "base_uri": "https://localhost:8080/"
        },
        "id": "TOG_iD0qMlD3",
        "outputId": "4327e11b-cd08-49de-b407-5b9b2b8ca9c9"
      },
      "execution_count": null,
      "outputs": [
        {
          "output_type": "stream",
          "name": "stdout",
          "text": [
            "+-----------+----+--------+---------------------+\n",
            "|aero_origem| ano|num_voos|num_voos_ano_anterior|\n",
            "+-----------+----+--------+---------------------+\n",
            "|       1AON|2000|     145|                 NULL|\n",
            "|       2NHT|2000|     102|                 NULL|\n",
            "|       6ASO|2000|       5|                 NULL|\n",
            "|       CYMX|2019|       1|                 NULL|\n",
            "|       CYUL|2019|       9|                 NULL|\n",
            "|       CYUL|2020|      38|                    9|\n",
            "|       CYVR|2020|       1|                 NULL|\n",
            "|       CYYZ|2000|     291|                 NULL|\n",
            "|       CYYZ|2001|     298|                  291|\n",
            "|       CYYZ|2002|     264|                  298|\n",
            "|       CYYZ|2003|     274|                  264|\n",
            "|       CYYZ|2004|     315|                  274|\n",
            "|       CYYZ|2005|     451|                  315|\n",
            "|       CYYZ|2006|     365|                  451|\n",
            "|       CYYZ|2007|     365|                  365|\n",
            "|       CYYZ|2008|     387|                  365|\n",
            "|       CYYZ|2009|     308|                  387|\n",
            "|       CYYZ|2010|     361|                  308|\n",
            "|       CYYZ|2011|     353|                  361|\n",
            "|       CYYZ|2012|     361|                  353|\n",
            "+-----------+----+--------+---------------------+\n",
            "only showing top 20 rows\n",
            "\n"
          ]
        }
      ]
    },
    {
      "cell_type": "code",
      "source": [
        "# Calculando o crescimento do número de voos para cada aeroporto ao longo do tempo\n",
        "voos_por_aeroporto_por_ano = voos_por_aeroporto_por_ano.withColumn(\"crescimento\", when(voos_por_aeroporto_por_ano[\"num_voos_ano_anterior\"].isNull(), 0)\n",
        "                                                                .otherwise(\n",
        "                                                                    (voos_por_aeroporto_por_ano[\"num_voos\"] - voos_por_aeroporto_por_ano[\"num_voos_ano_anterior\"]) / voos_por_aeroporto_por_ano[\"num_voos_ano_anterior\"])\n",
        "                                                                )\n",
        "\n",
        "voos_por_aeroporto_por_ano.show()"
      ],
      "metadata": {
        "colab": {
          "base_uri": "https://localhost:8080/"
        },
        "id": "-MoROBu6Mtxp",
        "outputId": "a8892716-4e57-4cb1-c498-c7b0a99dda25"
      },
      "execution_count": null,
      "outputs": [
        {
          "output_type": "stream",
          "name": "stdout",
          "text": [
            "+-----------+----+--------+---------------------+--------------------+\n",
            "|aero_origem| ano|num_voos|num_voos_ano_anterior|         crescimento|\n",
            "+-----------+----+--------+---------------------+--------------------+\n",
            "|       1AON|2000|     145|                 NULL|                 0.0|\n",
            "|       2NHT|2000|     102|                 NULL|                 0.0|\n",
            "|       6ASO|2000|       5|                 NULL|                 0.0|\n",
            "|       CYMX|2019|       1|                 NULL|                 0.0|\n",
            "|       CYUL|2019|       9|                 NULL|                 0.0|\n",
            "|       CYUL|2020|      38|                    9|  3.2222222222222223|\n",
            "|       CYVR|2020|       1|                 NULL|                 0.0|\n",
            "|       CYYZ|2000|     291|                 NULL|                 0.0|\n",
            "|       CYYZ|2001|     298|                  291|0.024054982817869417|\n",
            "|       CYYZ|2002|     264|                  298|-0.11409395973154363|\n",
            "|       CYYZ|2003|     274|                  264| 0.03787878787878788|\n",
            "|       CYYZ|2004|     315|                  274| 0.14963503649635038|\n",
            "|       CYYZ|2005|     451|                  315| 0.43174603174603177|\n",
            "|       CYYZ|2006|     365|                  451|-0.19068736141906872|\n",
            "|       CYYZ|2007|     365|                  365|                 0.0|\n",
            "|       CYYZ|2008|     387|                  365| 0.06027397260273973|\n",
            "|       CYYZ|2009|     308|                  387| -0.2041343669250646|\n",
            "|       CYYZ|2010|     361|                  308| 0.17207792207792208|\n",
            "|       CYYZ|2011|     353|                  361| -0.0221606648199446|\n",
            "|       CYYZ|2012|     361|                  353|  0.0226628895184136|\n",
            "+-----------+----+--------+---------------------+--------------------+\n",
            "only showing top 20 rows\n",
            "\n"
          ]
        }
      ]
    },
    {
      "cell_type": "code",
      "source": [
        "# Encontrando os aeroportos que tiveram o maior crescimento de número de voos ao longo do tempo\n",
        "aeroportos_maior_crescimento = voos_por_aeroporto_por_ano.groupBy(\"aero_origem\").agg(F.round(F.avg(\"crescimento\"), 2).alias(\"avg_crescimento %\")).orderBy(\"avg_crescimento %\", ascending=False)\n",
        "\n",
        "top10_aeroportos = aeroportos_maior_crescimento.limit(10)\n",
        "top10_aeroportos.show()"
      ],
      "metadata": {
        "colab": {
          "base_uri": "https://localhost:8080/"
        },
        "id": "EXg3CTWkM7oS",
        "outputId": "59f93ae8-45d4-40c0-d26b-cefdbed16285"
      },
      "execution_count": null,
      "outputs": [
        {
          "output_type": "stream",
          "name": "stdout",
          "text": [
            "+-----------+-----------------+\n",
            "|aero_origem|avg_crescimento %|\n",
            "+-----------+-----------------+\n",
            "|       SJTC|            39.73|\n",
            "|       SABE|            33.44|\n",
            "|       SNBA|            30.75|\n",
            "|       SANT|            27.35|\n",
            "|       SBPP|            17.96|\n",
            "|       SSDO|            13.47|\n",
            "|       SBUF|            13.44|\n",
            "|       SBVG|            13.21|\n",
            "|       SWNK|              9.9|\n",
            "|       SLCB|             9.62|\n",
            "+-----------+-----------------+\n",
            "\n"
          ]
        }
      ]
    },
    {
      "cell_type": "markdown",
      "source": [
        "Coletando a descrição das siglas OACI dos top 10 aeroportos com maior crescimento de voos."
      ],
      "metadata": {
        "id": "mnANVKDxT5K7"
      }
    },
    {
      "cell_type": "code",
      "source": [
        "# Junta os dois DataFrames usando a coluna 'aero_origem' e 'Sigla OACI' como chave de junção\n",
        "aeroportos_com_descricao = top10_aeroportos.join(aeroportos, top10_aeroportos['aero_origem'] == aeroportos['Sigla OACI'], how='inner')\n",
        "\n",
        "# Seleciona apenas as colunas 'aero_origem' e 'Descrição'\n",
        "aeroportos_com_descricao_selecionados = aeroportos_com_descricao.select('aero_origem', 'Descrição')\n",
        "aeroportos_com_descricao_selecionados.toPandas()"
      ],
      "metadata": {
        "colab": {
          "base_uri": "https://localhost:8080/",
          "height": 363
        },
        "id": "lY9BCSC5S63C",
        "outputId": "cf069a98-8f52-45e3-d42e-fc33bbb45542"
      },
      "execution_count": null,
      "outputs": [
        {
          "output_type": "execute_result",
          "data": {
            "text/plain": [
              "  aero_origem                                          Descrição\n",
              "0        SABE                              JORGE NEWBERY AIRPORT\n",
              "1        SANT  TTE. GRAL. BENJAMÃN MATIENZO INTERNATIONAL AI...\n",
              "2        SBPP                                         PONTA PORÃ\n",
              "3        SBUF                                       PAULO AFONSO\n",
              "4        SBVG                        MAJOR BRIGADEIRO TROMPOWSKY\n",
              "5        SJTC                                MOUSSA NAKHL TOBIAS\n",
              "6        SLCB            JORGE WILSTERMANN INTERNATIONAL AIRPORT\n",
              "7        SNBA                                       CHAFEI AMSEI\n",
              "8        SSDO               MUNICIPAL FRANCISCO DE MATOS PEREIRA\n",
              "9        SWNK                                         NOVO CAMPO"
            ],
            "text/html": [
              "\n",
              "  <div id=\"df-8a48917f-0ad7-43f6-8eb4-d1d289898e31\" class=\"colab-df-container\">\n",
              "    <div>\n",
              "<style scoped>\n",
              "    .dataframe tbody tr th:only-of-type {\n",
              "        vertical-align: middle;\n",
              "    }\n",
              "\n",
              "    .dataframe tbody tr th {\n",
              "        vertical-align: top;\n",
              "    }\n",
              "\n",
              "    .dataframe thead th {\n",
              "        text-align: right;\n",
              "    }\n",
              "</style>\n",
              "<table border=\"1\" class=\"dataframe\">\n",
              "  <thead>\n",
              "    <tr style=\"text-align: right;\">\n",
              "      <th></th>\n",
              "      <th>aero_origem</th>\n",
              "      <th>Descrição</th>\n",
              "    </tr>\n",
              "  </thead>\n",
              "  <tbody>\n",
              "    <tr>\n",
              "      <th>0</th>\n",
              "      <td>SABE</td>\n",
              "      <td>JORGE NEWBERY AIRPORT</td>\n",
              "    </tr>\n",
              "    <tr>\n",
              "      <th>1</th>\n",
              "      <td>SANT</td>\n",
              "      <td>TTE. GRAL. BENJAMÃN MATIENZO INTERNATIONAL AI...</td>\n",
              "    </tr>\n",
              "    <tr>\n",
              "      <th>2</th>\n",
              "      <td>SBPP</td>\n",
              "      <td>PONTA PORÃ</td>\n",
              "    </tr>\n",
              "    <tr>\n",
              "      <th>3</th>\n",
              "      <td>SBUF</td>\n",
              "      <td>PAULO AFONSO</td>\n",
              "    </tr>\n",
              "    <tr>\n",
              "      <th>4</th>\n",
              "      <td>SBVG</td>\n",
              "      <td>MAJOR BRIGADEIRO TROMPOWSKY</td>\n",
              "    </tr>\n",
              "    <tr>\n",
              "      <th>5</th>\n",
              "      <td>SJTC</td>\n",
              "      <td>MOUSSA NAKHL TOBIAS</td>\n",
              "    </tr>\n",
              "    <tr>\n",
              "      <th>6</th>\n",
              "      <td>SLCB</td>\n",
              "      <td>JORGE WILSTERMANN INTERNATIONAL AIRPORT</td>\n",
              "    </tr>\n",
              "    <tr>\n",
              "      <th>7</th>\n",
              "      <td>SNBA</td>\n",
              "      <td>CHAFEI AMSEI</td>\n",
              "    </tr>\n",
              "    <tr>\n",
              "      <th>8</th>\n",
              "      <td>SSDO</td>\n",
              "      <td>MUNICIPAL FRANCISCO DE MATOS PEREIRA</td>\n",
              "    </tr>\n",
              "    <tr>\n",
              "      <th>9</th>\n",
              "      <td>SWNK</td>\n",
              "      <td>NOVO CAMPO</td>\n",
              "    </tr>\n",
              "  </tbody>\n",
              "</table>\n",
              "</div>\n",
              "    <div class=\"colab-df-buttons\">\n",
              "\n",
              "  <div class=\"colab-df-container\">\n",
              "    <button class=\"colab-df-convert\" onclick=\"convertToInteractive('df-8a48917f-0ad7-43f6-8eb4-d1d289898e31')\"\n",
              "            title=\"Convert this dataframe to an interactive table.\"\n",
              "            style=\"display:none;\">\n",
              "\n",
              "  <svg xmlns=\"http://www.w3.org/2000/svg\" height=\"24px\" viewBox=\"0 -960 960 960\">\n",
              "    <path d=\"M120-120v-720h720v720H120Zm60-500h600v-160H180v160Zm220 220h160v-160H400v160Zm0 220h160v-160H400v160ZM180-400h160v-160H180v160Zm440 0h160v-160H620v160ZM180-180h160v-160H180v160Zm440 0h160v-160H620v160Z\"/>\n",
              "  </svg>\n",
              "    </button>\n",
              "\n",
              "  <style>\n",
              "    .colab-df-container {\n",
              "      display:flex;\n",
              "      gap: 12px;\n",
              "    }\n",
              "\n",
              "    .colab-df-convert {\n",
              "      background-color: #E8F0FE;\n",
              "      border: none;\n",
              "      border-radius: 50%;\n",
              "      cursor: pointer;\n",
              "      display: none;\n",
              "      fill: #1967D2;\n",
              "      height: 32px;\n",
              "      padding: 0 0 0 0;\n",
              "      width: 32px;\n",
              "    }\n",
              "\n",
              "    .colab-df-convert:hover {\n",
              "      background-color: #E2EBFA;\n",
              "      box-shadow: 0px 1px 2px rgba(60, 64, 67, 0.3), 0px 1px 3px 1px rgba(60, 64, 67, 0.15);\n",
              "      fill: #174EA6;\n",
              "    }\n",
              "\n",
              "    .colab-df-buttons div {\n",
              "      margin-bottom: 4px;\n",
              "    }\n",
              "\n",
              "    [theme=dark] .colab-df-convert {\n",
              "      background-color: #3B4455;\n",
              "      fill: #D2E3FC;\n",
              "    }\n",
              "\n",
              "    [theme=dark] .colab-df-convert:hover {\n",
              "      background-color: #434B5C;\n",
              "      box-shadow: 0px 1px 3px 1px rgba(0, 0, 0, 0.15);\n",
              "      filter: drop-shadow(0px 1px 2px rgba(0, 0, 0, 0.3));\n",
              "      fill: #FFFFFF;\n",
              "    }\n",
              "  </style>\n",
              "\n",
              "    <script>\n",
              "      const buttonEl =\n",
              "        document.querySelector('#df-8a48917f-0ad7-43f6-8eb4-d1d289898e31 button.colab-df-convert');\n",
              "      buttonEl.style.display =\n",
              "        google.colab.kernel.accessAllowed ? 'block' : 'none';\n",
              "\n",
              "      async function convertToInteractive(key) {\n",
              "        const element = document.querySelector('#df-8a48917f-0ad7-43f6-8eb4-d1d289898e31');\n",
              "        const dataTable =\n",
              "          await google.colab.kernel.invokeFunction('convertToInteractive',\n",
              "                                                    [key], {});\n",
              "        if (!dataTable) return;\n",
              "\n",
              "        const docLinkHtml = 'Like what you see? Visit the ' +\n",
              "          '<a target=\"_blank\" href=https://colab.research.google.com/notebooks/data_table.ipynb>data table notebook</a>'\n",
              "          + ' to learn more about interactive tables.';\n",
              "        element.innerHTML = '';\n",
              "        dataTable['output_type'] = 'display_data';\n",
              "        await google.colab.output.renderOutput(dataTable, element);\n",
              "        const docLink = document.createElement('div');\n",
              "        docLink.innerHTML = docLinkHtml;\n",
              "        element.appendChild(docLink);\n",
              "      }\n",
              "    </script>\n",
              "  </div>\n",
              "\n",
              "\n",
              "<div id=\"df-30027106-2943-4cc0-b239-0adf682fc2d7\">\n",
              "  <button class=\"colab-df-quickchart\" onclick=\"quickchart('df-30027106-2943-4cc0-b239-0adf682fc2d7')\"\n",
              "            title=\"Suggest charts\"\n",
              "            style=\"display:none;\">\n",
              "\n",
              "<svg xmlns=\"http://www.w3.org/2000/svg\" height=\"24px\"viewBox=\"0 0 24 24\"\n",
              "     width=\"24px\">\n",
              "    <g>\n",
              "        <path d=\"M19 3H5c-1.1 0-2 .9-2 2v14c0 1.1.9 2 2 2h14c1.1 0 2-.9 2-2V5c0-1.1-.9-2-2-2zM9 17H7v-7h2v7zm4 0h-2V7h2v10zm4 0h-2v-4h2v4z\"/>\n",
              "    </g>\n",
              "</svg>\n",
              "  </button>\n",
              "\n",
              "<style>\n",
              "  .colab-df-quickchart {\n",
              "      --bg-color: #E8F0FE;\n",
              "      --fill-color: #1967D2;\n",
              "      --hover-bg-color: #E2EBFA;\n",
              "      --hover-fill-color: #174EA6;\n",
              "      --disabled-fill-color: #AAA;\n",
              "      --disabled-bg-color: #DDD;\n",
              "  }\n",
              "\n",
              "  [theme=dark] .colab-df-quickchart {\n",
              "      --bg-color: #3B4455;\n",
              "      --fill-color: #D2E3FC;\n",
              "      --hover-bg-color: #434B5C;\n",
              "      --hover-fill-color: #FFFFFF;\n",
              "      --disabled-bg-color: #3B4455;\n",
              "      --disabled-fill-color: #666;\n",
              "  }\n",
              "\n",
              "  .colab-df-quickchart {\n",
              "    background-color: var(--bg-color);\n",
              "    border: none;\n",
              "    border-radius: 50%;\n",
              "    cursor: pointer;\n",
              "    display: none;\n",
              "    fill: var(--fill-color);\n",
              "    height: 32px;\n",
              "    padding: 0;\n",
              "    width: 32px;\n",
              "  }\n",
              "\n",
              "  .colab-df-quickchart:hover {\n",
              "    background-color: var(--hover-bg-color);\n",
              "    box-shadow: 0 1px 2px rgba(60, 64, 67, 0.3), 0 1px 3px 1px rgba(60, 64, 67, 0.15);\n",
              "    fill: var(--button-hover-fill-color);\n",
              "  }\n",
              "\n",
              "  .colab-df-quickchart-complete:disabled,\n",
              "  .colab-df-quickchart-complete:disabled:hover {\n",
              "    background-color: var(--disabled-bg-color);\n",
              "    fill: var(--disabled-fill-color);\n",
              "    box-shadow: none;\n",
              "  }\n",
              "\n",
              "  .colab-df-spinner {\n",
              "    border: 2px solid var(--fill-color);\n",
              "    border-color: transparent;\n",
              "    border-bottom-color: var(--fill-color);\n",
              "    animation:\n",
              "      spin 1s steps(1) infinite;\n",
              "  }\n",
              "\n",
              "  @keyframes spin {\n",
              "    0% {\n",
              "      border-color: transparent;\n",
              "      border-bottom-color: var(--fill-color);\n",
              "      border-left-color: var(--fill-color);\n",
              "    }\n",
              "    20% {\n",
              "      border-color: transparent;\n",
              "      border-left-color: var(--fill-color);\n",
              "      border-top-color: var(--fill-color);\n",
              "    }\n",
              "    30% {\n",
              "      border-color: transparent;\n",
              "      border-left-color: var(--fill-color);\n",
              "      border-top-color: var(--fill-color);\n",
              "      border-right-color: var(--fill-color);\n",
              "    }\n",
              "    40% {\n",
              "      border-color: transparent;\n",
              "      border-right-color: var(--fill-color);\n",
              "      border-top-color: var(--fill-color);\n",
              "    }\n",
              "    60% {\n",
              "      border-color: transparent;\n",
              "      border-right-color: var(--fill-color);\n",
              "    }\n",
              "    80% {\n",
              "      border-color: transparent;\n",
              "      border-right-color: var(--fill-color);\n",
              "      border-bottom-color: var(--fill-color);\n",
              "    }\n",
              "    90% {\n",
              "      border-color: transparent;\n",
              "      border-bottom-color: var(--fill-color);\n",
              "    }\n",
              "  }\n",
              "</style>\n",
              "\n",
              "  <script>\n",
              "    async function quickchart(key) {\n",
              "      const quickchartButtonEl =\n",
              "        document.querySelector('#' + key + ' button');\n",
              "      quickchartButtonEl.disabled = true;  // To prevent multiple clicks.\n",
              "      quickchartButtonEl.classList.add('colab-df-spinner');\n",
              "      try {\n",
              "        const charts = await google.colab.kernel.invokeFunction(\n",
              "            'suggestCharts', [key], {});\n",
              "      } catch (error) {\n",
              "        console.error('Error during call to suggestCharts:', error);\n",
              "      }\n",
              "      quickchartButtonEl.classList.remove('colab-df-spinner');\n",
              "      quickchartButtonEl.classList.add('colab-df-quickchart-complete');\n",
              "    }\n",
              "    (() => {\n",
              "      let quickchartButtonEl =\n",
              "        document.querySelector('#df-30027106-2943-4cc0-b239-0adf682fc2d7 button');\n",
              "      quickchartButtonEl.style.display =\n",
              "        google.colab.kernel.accessAllowed ? 'block' : 'none';\n",
              "    })();\n",
              "  </script>\n",
              "</div>\n",
              "    </div>\n",
              "  </div>\n"
            ],
            "application/vnd.google.colaboratory.intrinsic+json": {
              "type": "dataframe",
              "summary": "{\n  \"name\": \"aeroportos_com_descricao_selecionados\",\n  \"rows\": 10,\n  \"fields\": [\n    {\n      \"column\": \"aero_origem\",\n      \"properties\": {\n        \"dtype\": \"string\",\n        \"num_unique_values\": 10,\n        \"samples\": [\n          \"SSDO\",\n          \"SANT\",\n          \"SJTC\"\n        ],\n        \"semantic_type\": \"\",\n        \"description\": \"\"\n      }\n    },\n    {\n      \"column\": \"Descri\\u00e7\\u00e3o\",\n      \"properties\": {\n        \"dtype\": \"string\",\n        \"num_unique_values\": 10,\n        \"samples\": [\n          \"MUNICIPAL FRANCISCO DE MATOS PEREIRA\",\n          \"TTE. GRAL. BENJAM\\u00c3\\u008dN MATIENZO INTERNATIONAL AIRPORT\",\n          \"MOUSSA NAKHL TOBIAS\"\n        ],\n        \"semantic_type\": \"\",\n        \"description\": \"\"\n      }\n    }\n  ]\n}"
            }
          },
          "metadata": {},
          "execution_count": 66
        }
      ]
    },
    {
      "cell_type": "markdown",
      "source": [
        "Os 10 aeroportos que tiveram o maior crescimento no número de voos no período de 2000 a 2020:\n",
        "\n",
        "\n",
        "\n",
        "```\n",
        "aero_origem\tavg_crescimento %\n",
        "  SJTC\t          39.73\n",
        "  SABE\t          33.44\n",
        "  SNBA\t          30.75\n",
        "  SANT\t          27.35\n",
        "  SBPP\t          17.96\n",
        "  SSDO\t          13.47\n",
        "  SBUF\t          13.44\n",
        "  SBVG\t          13.21\n",
        "  SWNK\t           9.90\n",
        "  SLCB\t           9.62\n",
        "```"
      ],
      "metadata": {
        "id": "LeHHexX4QE04"
      }
    }
  ]
}