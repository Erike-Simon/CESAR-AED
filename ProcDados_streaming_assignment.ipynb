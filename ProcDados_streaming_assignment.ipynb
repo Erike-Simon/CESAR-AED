{
  "cells": [
    {
      "cell_type": "markdown",
      "metadata": {
        "id": "view-in-github",
        "colab_type": "text"
      },
      "source": [
        "<a href=\"https://colab.research.google.com/github/Erike-Simon/CESAR-AED/blob/main/ProcDados_streaming_assignment.ipynb\" target=\"_parent\"><img src=\"https://colab.research.google.com/assets/colab-badge.svg\" alt=\"Open In Colab\"/></a>"
      ]
    },
    {
      "cell_type": "markdown",
      "source": [
        "**CESAR School Recife**\n",
        "\n",
        "**Disciplina:** *Processamento de Dados em Larga Escala*\n",
        "\n",
        "**Alunos:** *Erike Simon, José Aparecido*"
      ],
      "metadata": {
        "id": "ii4PlFpiUogF"
      }
    },
    {
      "cell_type": "code",
      "execution_count": null,
      "metadata": {
        "colab": {
          "base_uri": "https://localhost:8080/"
        },
        "id": "mNi_m6d5YOWu",
        "outputId": "08b17264-f0f5-4709-894e-0f1e51d97671"
      },
      "outputs": [
        {
          "output_type": "stream",
          "name": "stdout",
          "text": [
            "Mounted at /content/drive\n"
          ]
        }
      ],
      "source": [
        "from google.colab import drive\n",
        "drive.mount('/content/drive')"
      ]
    },
    {
      "cell_type": "code",
      "execution_count": null,
      "metadata": {
        "colab": {
          "base_uri": "https://localhost:8080/"
        },
        "id": "GfRy81cwYYiH",
        "outputId": "cb68a662-ddc3-4ae8-a546-ae3cfcbaea77"
      },
      "outputs": [
        {
          "output_type": "stream",
          "name": "stdout",
          "text": [
            "Collecting pyspark\n",
            "  Downloading pyspark-3.5.0.tar.gz (316.9 MB)\n",
            "\u001b[2K     \u001b[90m━━━━━━━━━━━━━━━━━━━━━━━━━━━━━━━━━━━━━━━━\u001b[0m \u001b[32m316.9/316.9 MB\u001b[0m \u001b[31m2.1 MB/s\u001b[0m eta \u001b[36m0:00:00\u001b[0m\n",
            "\u001b[?25h  Preparing metadata (setup.py) ... \u001b[?25l\u001b[?25hdone\n",
            "Requirement already satisfied: py4j==0.10.9.7 in /usr/local/lib/python3.10/dist-packages (from pyspark) (0.10.9.7)\n",
            "Building wheels for collected packages: pyspark\n",
            "  Building wheel for pyspark (setup.py) ... \u001b[?25l\u001b[?25hdone\n",
            "  Created wheel for pyspark: filename=pyspark-3.5.0-py2.py3-none-any.whl size=317425345 sha256=c4995daca21e7f03815044e632a8074987c9b912fc0b16189a5957741b128a49\n",
            "  Stored in directory: /root/.cache/pip/wheels/41/4e/10/c2cf2467f71c678cfc8a6b9ac9241e5e44a01940da8fbb17fc\n",
            "Successfully built pyspark\n",
            "Installing collected packages: pyspark\n",
            "Successfully installed pyspark-3.5.0\n"
          ]
        }
      ],
      "source": [
        "!pip install --upgrade pyspark"
      ]
    },
    {
      "cell_type": "markdown",
      "metadata": {
        "id": "DJ8HUYW3YJbE"
      },
      "source": [
        "## Sobre os dados\n",
        "\n",
        "O arquivo CSV contém eventos 'click' ou 'view' no tempo, de usuários em anúncios de determinadas campanhas.\n",
        "\n",
        "**Descrição das colunas:**  \n",
        "timestamp,user_id,action,adId,campaignId\n",
        "\n",
        "**Amostra:**  \n",
        "2016-09-21 22:11:00,7c74953c-66cc-48bd-9d02-a02bf039cf3f,click,adId_09,campaignId_01  \n",
        "2016-06-25 18:29:00,676a083e-2f8e-4ff2-9ec2-270f7f9d6033,view,adId_09,campaignId_02  \n",
        "2016-02-14 19:03:00,77158997-0dfa-48b7-9149-973dc151ef8d,click,adId_02,campaignId_02  \n",
        "2016-03-26 06:27:00,78aa2467-b502-413b-94e9-04ec8210bd13,click,adId_07,campaignId_03\n",
        "\n",
        "**Nome da pasta com os arquivos CSV:**  \n",
        "data/ad_action_assignment\n",
        "\n",
        "## Sobre as questões\n",
        "\n",
        "Usar código de Structured Streaming na resposta.\n",
        "\n",
        "Favor não alterar o código que gera o inputStream para manter o mesmo padrão na resposta.\n",
        "\n",
        "Mesmo que não consiga terminar alguma questão, favor enviar, porque parte do código pode valer alguma pontuação.\n",
        "## ----------------------"
      ]
    },
    {
      "cell_type": "code",
      "execution_count": null,
      "metadata": {
        "id": "gdJY9d9tYJbG"
      },
      "outputs": [],
      "source": [
        "import pyspark.sql.functions as F\n",
        "import pyspark.sql.types as T\n",
        "\n",
        "from pyspark import SparkConf, SparkContext\n",
        "from pyspark.sql import SparkSession\n",
        "from pyspark.sql.window import Window\n",
        "from pyspark.streaming import StreamingContext"
      ]
    },
    {
      "cell_type": "code",
      "execution_count": null,
      "metadata": {
        "colab": {
          "base_uri": "https://localhost:8080/",
          "height": 219
        },
        "id": "OTieGO7wYJbG",
        "outputId": "4c3cd9d1-2dd3-42b8-8437-1be48814d686"
      },
      "outputs": [
        {
          "output_type": "execute_result",
          "data": {
            "text/plain": [
              "<pyspark.sql.session.SparkSession at 0x7a22e045a410>"
            ],
            "text/html": [
              "\n",
              "            <div>\n",
              "                <p><b>SparkSession - in-memory</b></p>\n",
              "                \n",
              "        <div>\n",
              "            <p><b>SparkContext</b></p>\n",
              "\n",
              "            <p><a href=\"http://aae84115f114:4040\">Spark UI</a></p>\n",
              "\n",
              "            <dl>\n",
              "              <dt>Version</dt>\n",
              "                <dd><code>v3.5.0</code></dd>\n",
              "              <dt>Master</dt>\n",
              "                <dd><code>local-cluster[2, 1, 3072]</code></dd>\n",
              "              <dt>AppName</dt>\n",
              "                <dd><code>pyspark-shell</code></dd>\n",
              "            </dl>\n",
              "        </div>\n",
              "        \n",
              "            </div>\n",
              "        "
            ]
          },
          "metadata": {},
          "execution_count": 4
        }
      ],
      "source": [
        "# Criando um cluster local com 2 workers, 1 cores por worker e 3GB de RAM por worker\n",
        "\n",
        "spark = SparkSession.builder\\\n",
        "    .master('local-cluster[2, 1, 3072]')\\\n",
        "    .getOrCreate()\n",
        "spark"
      ]
    },
    {
      "cell_type": "code",
      "execution_count": null,
      "metadata": {
        "id": "BsAbJtKPamsz"
      },
      "outputs": [],
      "source": [
        "AD_ACTION_CSV_PATH = \"drive/MyDrive/Data/ad_action_assignment\""
      ]
    },
    {
      "cell_type": "code",
      "execution_count": null,
      "metadata": {
        "id": "9V6jkTaOYJbH"
      },
      "outputs": [],
      "source": [
        "# Descomente e execute para parar o SparkSession\n",
        "# spark.stop()"
      ]
    },
    {
      "cell_type": "markdown",
      "metadata": {
        "id": "-HopxD1OYJbH"
      },
      "source": [
        "## Foi utilizado o notebook `assignment_split_ad_action_data.ipynb` para criar os dados do streaming escrevendo arquivos CSV na pasta `data/ad_action_assignment`"
      ]
    },
    {
      "cell_type": "markdown",
      "metadata": {
        "id": "IlTPOXqsYJbI"
      },
      "source": [
        "## 1) Quantos eventos as campanhas geraram nos últimos 10 segundos? Ordene crescente pelo window.start, descrescente pela quantidade de eventos e calcule a cada 3 segundos. (4 pontos)"
      ]
    },
    {
      "cell_type": "code",
      "execution_count": null,
      "metadata": {
        "id": "Z6lvi4YOYJbI",
        "colab": {
          "base_uri": "https://localhost:8080/"
        },
        "outputId": "90631204-2adb-43e4-8b4f-8f9a96e7031c"
      },
      "outputs": [
        {
          "output_type": "stream",
          "name": "stdout",
          "text": [
            "0\n",
            "                                        window     campaignId  event_count\n",
            "0   (2023-09-01 03:30:51, 2023-09-01 03:31:01)  campaignId_02         1428\n",
            "1   (2023-09-01 03:30:51, 2023-09-01 03:31:01)  campaignId_03         1418\n",
            "2   (2023-09-01 03:30:51, 2023-09-01 03:31:01)  campaignId_01         1400\n",
            "3   (2023-09-01 03:30:54, 2023-09-01 03:31:04)  campaignId_03         5923\n",
            "4   (2023-09-01 03:30:54, 2023-09-01 03:31:04)  campaignId_02         5786\n",
            "5   (2023-09-01 03:30:54, 2023-09-01 03:31:04)  campaignId_01         5275\n",
            "6   (2023-09-01 03:30:57, 2023-09-01 03:31:07)  campaignId_02        10326\n",
            "7   (2023-09-01 03:30:57, 2023-09-01 03:31:07)  campaignId_03        10223\n",
            "8   (2023-09-01 03:30:57, 2023-09-01 03:31:07)  campaignId_01         9173\n",
            "9   (2023-09-01 03:31:00, 2023-09-01 03:31:10)  campaignId_02        14900\n",
            "10  (2023-09-01 03:31:00, 2023-09-01 03:31:10)  campaignId_03        14625\n",
            "11  (2023-09-01 03:31:00, 2023-09-01 03:31:10)  campaignId_01        12935\n",
            "12  (2023-09-01 03:31:03, 2023-09-01 03:31:13)  campaignId_02        15203\n",
            "13  (2023-09-01 03:31:03, 2023-09-01 03:31:13)  campaignId_03        14511\n",
            "14  (2023-09-01 03:31:03, 2023-09-01 03:31:13)  campaignId_01        12746\n",
            "15  (2023-09-01 03:31:06, 2023-09-01 03:31:16)  campaignId_02        15351\n",
            "16  (2023-09-01 03:31:06, 2023-09-01 03:31:16)  campaignId_03        14425\n",
            "17  (2023-09-01 03:31:06, 2023-09-01 03:31:16)  campaignId_01        12681\n",
            "18  (2023-09-01 03:31:09, 2023-09-01 03:31:19)  campaignId_02        15294\n",
            "19  (2023-09-01 03:31:09, 2023-09-01 03:31:19)  campaignId_03        14411\n",
            "20  (2023-09-01 03:31:09, 2023-09-01 03:31:19)  campaignId_01        12749\n",
            "21  (2023-09-01 03:31:12, 2023-09-01 03:31:22)  campaignId_02        15272\n",
            "22  (2023-09-01 03:31:12, 2023-09-01 03:31:22)  campaignId_03        14386\n",
            "23  (2023-09-01 03:31:12, 2023-09-01 03:31:22)  campaignId_01        12793\n",
            "24  (2023-09-01 03:31:15, 2023-09-01 03:31:25)  campaignId_02        15294\n",
            "25  (2023-09-01 03:31:15, 2023-09-01 03:31:25)  campaignId_03        14397\n",
            "26  (2023-09-01 03:31:15, 2023-09-01 03:31:25)  campaignId_01        12759\n",
            "27  (2023-09-01 03:31:18, 2023-09-01 03:31:28)  campaignId_02        13752\n",
            "28  (2023-09-01 03:31:18, 2023-09-01 03:31:28)  campaignId_03        12988\n",
            "29  (2023-09-01 03:31:18, 2023-09-01 03:31:28)  campaignId_01        11465\n",
            "30  (2023-09-01 03:31:21, 2023-09-01 03:31:31)  campaignId_02        13638\n",
            "31  (2023-09-01 03:31:21, 2023-09-01 03:31:31)  campaignId_03        13123\n",
            "32  (2023-09-01 03:31:21, 2023-09-01 03:31:31)  campaignId_01        11444\n",
            "33  (2023-09-01 03:31:24, 2023-09-01 03:31:34)  campaignId_02        13549\n",
            "34  (2023-09-01 03:31:24, 2023-09-01 03:31:34)  campaignId_03        13168\n",
            "35  (2023-09-01 03:31:24, 2023-09-01 03:31:34)  campaignId_01        11488\n",
            "36  (2023-09-01 03:31:27, 2023-09-01 03:31:37)  campaignId_02        15100\n",
            "37  (2023-09-01 03:31:27, 2023-09-01 03:31:37)  campaignId_03        14736\n",
            "38  (2023-09-01 03:31:27, 2023-09-01 03:31:37)  campaignId_01        12614\n",
            "39  (2023-09-01 03:31:30, 2023-09-01 03:31:40)  campaignId_02        15401\n",
            "40  (2023-09-01 03:31:30, 2023-09-01 03:31:40)  campaignId_03        14463\n",
            "41  (2023-09-01 03:31:30, 2023-09-01 03:31:40)  campaignId_01        12586\n",
            "42  (2023-09-01 03:31:33, 2023-09-01 03:31:43)  campaignId_02        15375\n",
            "43  (2023-09-01 03:31:33, 2023-09-01 03:31:43)  campaignId_03        14474\n",
            "44  (2023-09-01 03:31:33, 2023-09-01 03:31:43)  campaignId_01        12601\n",
            "45  (2023-09-01 03:31:36, 2023-09-01 03:31:46)  campaignId_02        15340\n",
            "46  (2023-09-01 03:31:36, 2023-09-01 03:31:46)  campaignId_03        14383\n",
            "47  (2023-09-01 03:31:36, 2023-09-01 03:31:46)  campaignId_01        12727\n",
            "48  (2023-09-01 03:31:39, 2023-09-01 03:31:49)  campaignId_02        15166\n",
            "49  (2023-09-01 03:31:39, 2023-09-01 03:31:49)  campaignId_03        14527\n",
            "50  (2023-09-01 03:31:39, 2023-09-01 03:31:49)  campaignId_01        12757\n",
            "51  (2023-09-01 03:31:42, 2023-09-01 03:31:52)  campaignId_02        15359\n",
            "52  (2023-09-01 03:31:42, 2023-09-01 03:31:52)  campaignId_03        14364\n",
            "53  (2023-09-01 03:31:42, 2023-09-01 03:31:52)  campaignId_01        12727\n",
            "54  (2023-09-01 03:31:45, 2023-09-01 03:31:55)  campaignId_02        15261\n",
            "55  (2023-09-01 03:31:45, 2023-09-01 03:31:55)  campaignId_03        14392\n",
            "56  (2023-09-01 03:31:45, 2023-09-01 03:31:55)  campaignId_01        12797\n",
            "57  (2023-09-01 03:31:48, 2023-09-01 03:31:58)  campaignId_02        15282\n",
            "58  (2023-09-01 03:31:48, 2023-09-01 03:31:58)  campaignId_03        14326\n",
            "59  (2023-09-01 03:31:48, 2023-09-01 03:31:58)  campaignId_01        12842\n",
            "60  (2023-09-01 03:31:51, 2023-09-01 03:32:01)  campaignId_02        15172\n",
            "61  (2023-09-01 03:31:51, 2023-09-01 03:32:01)  campaignId_03        14573\n",
            "62  (2023-09-01 03:31:51, 2023-09-01 03:32:01)  campaignId_01        12705\n",
            "63  (2023-09-01 03:31:54, 2023-09-01 03:32:04)  campaignId_02        10692\n",
            "64  (2023-09-01 03:31:54, 2023-09-01 03:32:04)  campaignId_03        10221\n",
            "65  (2023-09-01 03:31:54, 2023-09-01 03:32:04)  campaignId_01         8802\n",
            "66  (2023-09-01 03:31:57, 2023-09-01 03:32:07)  campaignId_02         6178\n",
            "67  (2023-09-01 03:31:57, 2023-09-01 03:32:07)  campaignId_03         5884\n",
            "68  (2023-09-01 03:31:57, 2023-09-01 03:32:07)  campaignId_01         4918\n",
            "69  (2023-09-01 03:32:00, 2023-09-01 03:32:10)  campaignId_03         1561\n",
            "70  (2023-09-01 03:32:00, 2023-09-01 03:32:10)  campaignId_02         1525\n",
            "71  (2023-09-01 03:32:00, 2023-09-01 03:32:10)  campaignId_01         1159\n"
          ]
        },
        {
          "output_type": "execute_result",
          "data": {
            "text/plain": [
              "False"
            ]
          },
          "metadata": {},
          "execution_count": 33
        }
      ],
      "source": [
        "inputStream = spark.readStream.csv(\n",
        "    AD_ACTION_CSV_PATH,\n",
        "    schema=\"timestamp TIMESTAMP, \\\n",
        "        user_id STRING, \\\n",
        "        action STRING, \\\n",
        "        adId STRING, \\\n",
        "        campaignId STRING\"\n",
        ")\n",
        "\n",
        "inputStream = inputStream.groupBy(\n",
        "      F.window('timestamp', '10 seconds', '3 seconds'),\n",
        "      'campaignId'\n",
        "  ).count()\\\n",
        "  .withColumnRenamed(\"count\", \"event_count\")\\\n",
        "  .sort(F.col(\"window.start\").asc(), F.col(\"event_count\").desc())\\\n",
        "\n",
        "def foreach_batch_function(df, epoch_id):\n",
        "    print(epoch_id)\n",
        "    print(df.toPandas().to_string())\n",
        "\n",
        "query = inputStream\\\n",
        "    .writeStream\\\n",
        "    .outputMode('complete')\\\n",
        "    .foreachBatch(foreach_batch_function)\\\n",
        "    .start()\n",
        "query.awaitTermination(60)"
      ]
    },
    {
      "cell_type": "code",
      "execution_count": null,
      "metadata": {
        "id": "vms0ZC5jYJbI"
      },
      "outputs": [],
      "source": [
        "# Stop job\n",
        "query.stop()"
      ]
    },
    {
      "cell_type": "markdown",
      "source": [
        "**Resposta**\n",
        "\n",
        "1.   Configuramos com os seguintes parâmetros referentes a janela de agrupamento dos dados: windowDuration = 10 segundos e o slideDuration = 3 segundos;\n",
        "2.   Agrupamos pela campanha e contamos as ocorrências;\n",
        "3.   Fizemos a ordenação de forma crescente pelo window.start e decrescente pela quantidade de eventos.\n",
        "\n",
        "Dessa forma obtivemos a listagem abaixo, a qual representa a contagem de eventos para cada campanha no intervalo de 10 segundos, considerando a janela de 3 segundos.\n",
        "\n",
        "\n",
        "\n",
        "\n",
        "```\n",
        "                                        window     campaignId  event_count\n",
        "0   (2023-09-01 03:30:51, 2023-09-01 03:31:01)  campaignId_02         1428\n",
        "1   (2023-09-01 03:30:51, 2023-09-01 03:31:01)  campaignId_03         1418\n",
        "2   (2023-09-01 03:30:51, 2023-09-01 03:31:01)  campaignId_01         1400\n",
        "--------------------------------------------------------------------------\n",
        "3   (2023-09-01 03:30:54, 2023-09-01 03:31:04)  campaignId_03         5923\n",
        "4   (2023-09-01 03:30:54, 2023-09-01 03:31:04)  campaignId_02         5786\n",
        "5   (2023-09-01 03:30:54, 2023-09-01 03:31:04)  campaignId_01         5275\n",
        "--------------------------------------------------------------------------\n",
        "6   (2023-09-01 03:30:57, 2023-09-01 03:31:07)  campaignId_02        10326\n",
        "7   (2023-09-01 03:30:57, 2023-09-01 03:31:07)  campaignId_03        10223\n",
        "8   (2023-09-01 03:30:57, 2023-09-01 03:31:07)  campaignId_01         9173\n",
        "--------------------------------------------------------------------------\n",
        "9   (2023-09-01 03:31:00, 2023-09-01 03:31:10)  campaignId_02        14900\n",
        "10  (2023-09-01 03:31:00, 2023-09-01 03:31:10)  campaignId_03        14625\n",
        "11  (2023-09-01 03:31:00, 2023-09-01 03:31:10)  campaignId_01        12935\n",
        "--------------------------------------------------------------------------\n",
        "12  (2023-09-01 03:31:03, 2023-09-01 03:31:13)  campaignId_02        15203\n",
        "13  (2023-09-01 03:31:03, 2023-09-01 03:31:13)  campaignId_03        14511\n",
        "14  (2023-09-01 03:31:03, 2023-09-01 03:31:13)  campaignId_01        12746\n",
        "--------------------------------------------------------------------------\n",
        "15  (2023-09-01 03:31:06, 2023-09-01 03:31:16)  campaignId_02        15351\n",
        "16  (2023-09-01 03:31:06, 2023-09-01 03:31:16)  campaignId_03        14425\n",
        "17  (2023-09-01 03:31:06, 2023-09-01 03:31:16)  campaignId_01        12681\n",
        "--------------------------------------------------------------------------\n",
        "18  (2023-09-01 03:31:09, 2023-09-01 03:31:19)  campaignId_02        15294\n",
        "19  (2023-09-01 03:31:09, 2023-09-01 03:31:19)  campaignId_03        14411\n",
        "20  (2023-09-01 03:31:09, 2023-09-01 03:31:19)  campaignId_01        12749\n",
        "--------------------------------------------------------------------------\n",
        "21  (2023-09-01 03:31:12, 2023-09-01 03:31:22)  campaignId_02        15272\n",
        "22  (2023-09-01 03:31:12, 2023-09-01 03:31:22)  campaignId_03        14386\n",
        "23  (2023-09-01 03:31:12, 2023-09-01 03:31:22)  campaignId_01        12793\n",
        "--------------------------------------------------------------------------\n",
        "24  (2023-09-01 03:31:15, 2023-09-01 03:31:25)  campaignId_02        15294\n",
        "25  (2023-09-01 03:31:15, 2023-09-01 03:31:25)  campaignId_03        14397\n",
        "26  (2023-09-01 03:31:15, 2023-09-01 03:31:25)  campaignId_01        12759\n",
        "--------------------------------------------------------------------------\n",
        "27  (2023-09-01 03:31:18, 2023-09-01 03:31:28)  campaignId_02        13752\n",
        "28  (2023-09-01 03:31:18, 2023-09-01 03:31:28)  campaignId_03        12988\n",
        "29  (2023-09-01 03:31:18, 2023-09-01 03:31:28)  campaignId_01        11465\n",
        "--------------------------------------------------------------------------\n",
        "30  (2023-09-01 03:31:21, 2023-09-01 03:31:31)  campaignId_02        13638\n",
        "31  (2023-09-01 03:31:21, 2023-09-01 03:31:31)  campaignId_03        13123\n",
        "32  (2023-09-01 03:31:21, 2023-09-01 03:31:31)  campaignId_01        11444\n",
        "--------------------------------------------------------------------------\n",
        "33  (2023-09-01 03:31:24, 2023-09-01 03:31:34)  campaignId_02        13549\n",
        "34  (2023-09-01 03:31:24, 2023-09-01 03:31:34)  campaignId_03        13168\n",
        "35  (2023-09-01 03:31:24, 2023-09-01 03:31:34)  campaignId_01        11488\n",
        "--------------------------------------------------------------------------\n",
        "36  (2023-09-01 03:31:27, 2023-09-01 03:31:37)  campaignId_02        15100\n",
        "37  (2023-09-01 03:31:27, 2023-09-01 03:31:37)  campaignId_03        14736\n",
        "38  (2023-09-01 03:31:27, 2023-09-01 03:31:37)  campaignId_01        12614\n",
        "--------------------------------------------------------------------------\n",
        "39  (2023-09-01 03:31:30, 2023-09-01 03:31:40)  campaignId_02        15401\n",
        "40  (2023-09-01 03:31:30, 2023-09-01 03:31:40)  campaignId_03        14463\n",
        "41  (2023-09-01 03:31:30, 2023-09-01 03:31:40)  campaignId_01        12586\n",
        "--------------------------------------------------------------------------\n",
        "42  (2023-09-01 03:31:33, 2023-09-01 03:31:43)  campaignId_02        15375\n",
        "43  (2023-09-01 03:31:33, 2023-09-01 03:31:43)  campaignId_03        14474\n",
        "44  (2023-09-01 03:31:33, 2023-09-01 03:31:43)  campaignId_01        12601\n",
        "--------------------------------------------------------------------------\n",
        "45  (2023-09-01 03:31:36, 2023-09-01 03:31:46)  campaignId_02        15340\n",
        "46  (2023-09-01 03:31:36, 2023-09-01 03:31:46)  campaignId_03        14383\n",
        "47  (2023-09-01 03:31:36, 2023-09-01 03:31:46)  campaignId_01        12727\n",
        "--------------------------------------------------------------------------\n",
        "48  (2023-09-01 03:31:39, 2023-09-01 03:31:49)  campaignId_02        15166\n",
        "49  (2023-09-01 03:31:39, 2023-09-01 03:31:49)  campaignId_03        14527\n",
        "50  (2023-09-01 03:31:39, 2023-09-01 03:31:49)  campaignId_01        12757\n",
        "--------------------------------------------------------------------------\n",
        "51  (2023-09-01 03:31:42, 2023-09-01 03:31:52)  campaignId_02        15359\n",
        "52  (2023-09-01 03:31:42, 2023-09-01 03:31:52)  campaignId_03        14364\n",
        "53  (2023-09-01 03:31:42, 2023-09-01 03:31:52)  campaignId_01        12727\n",
        "--------------------------------------------------------------------------\n",
        "54  (2023-09-01 03:31:45, 2023-09-01 03:31:55)  campaignId_02        15261\n",
        "55  (2023-09-01 03:31:45, 2023-09-01 03:31:55)  campaignId_03        14392\n",
        "56  (2023-09-01 03:31:45, 2023-09-01 03:31:55)  campaignId_01        12797\n",
        "--------------------------------------------------------------------------\n",
        "57  (2023-09-01 03:31:48, 2023-09-01 03:31:58)  campaignId_02        15282\n",
        "58  (2023-09-01 03:31:48, 2023-09-01 03:31:58)  campaignId_03        14326\n",
        "59  (2023-09-01 03:31:48, 2023-09-01 03:31:58)  campaignId_01        12842\n",
        "--------------------------------------------------------------------------\n",
        "60  (2023-09-01 03:31:51, 2023-09-01 03:32:01)  campaignId_02        15172\n",
        "61  (2023-09-01 03:31:51, 2023-09-01 03:32:01)  campaignId_03        14573\n",
        "62  (2023-09-01 03:31:51, 2023-09-01 03:32:01)  campaignId_01        12705\n",
        "--------------------------------------------------------------------------\n",
        "63  (2023-09-01 03:31:54, 2023-09-01 03:32:04)  campaignId_02        10692\n",
        "64  (2023-09-01 03:31:54, 2023-09-01 03:32:04)  campaignId_03        10221\n",
        "65  (2023-09-01 03:31:54, 2023-09-01 03:32:04)  campaignId_01         8802\n",
        "--------------------------------------------------------------------------\n",
        "66  (2023-09-01 03:31:57, 2023-09-01 03:32:07)  campaignId_02         6178\n",
        "67  (2023-09-01 03:31:57, 2023-09-01 03:32:07)  campaignId_03         5884\n",
        "68  (2023-09-01 03:31:57, 2023-09-01 03:32:07)  campaignId_01         4918\n",
        "--------------------------------------------------------------------------\n",
        "69  (2023-09-01 03:32:00, 2023-09-01 03:32:10)  campaignId_03         1561\n",
        "70  (2023-09-01 03:32:00, 2023-09-01 03:32:10)  campaignId_02         1525\n",
        "71  (2023-09-01 03:32:00, 2023-09-01 03:32:10)  campaignId_01         1159\n",
        "```\n",
        "\n"
      ],
      "metadata": {
        "id": "XUe4hZ4qw8V-"
      }
    },
    {
      "cell_type": "markdown",
      "metadata": {
        "id": "wRNTxL3jYJbI"
      },
      "source": [
        "## 2) Quais são os 5 pares de anúncio e campanha que geraram menos clicks no último minuto? Ordene crescente pelo window.start, crescente pela quantidade de clicks e calcule a cada 30 segundos. (3 pontos)"
      ]
    },
    {
      "cell_type": "code",
      "execution_count": null,
      "metadata": {
        "id": "7opApZjOYJbI",
        "colab": {
          "base_uri": "https://localhost:8080/"
        },
        "outputId": "ecb5b2e2-f74c-4884-d66b-dde3dc136a88"
      },
      "outputs": [
        {
          "output_type": "stream",
          "name": "stdout",
          "text": [
            "0\n",
            "                                        window     adId     campaignId action  count\n",
            "0   (2023-09-01 03:30:30, 2023-09-01 03:31:30)  adId_03  campaignId_03  click   2433\n",
            "1   (2023-09-01 03:30:30, 2023-09-01 03:31:30)  adId_10  campaignId_01  click   2460\n",
            "2   (2023-09-01 03:30:30, 2023-09-01 03:31:30)  adId_04  campaignId_01  click   2462\n",
            "3   (2023-09-01 03:30:30, 2023-09-01 03:31:30)  adId_02  campaignId_01  click   2505\n",
            "4   (2023-09-01 03:30:30, 2023-09-01 03:31:30)  adId_07  campaignId_01  click   2518\n",
            "5   (2023-09-01 03:31:00, 2023-09-01 03:32:00)  adId_04  campaignId_01  click   4950\n",
            "6   (2023-09-01 03:31:00, 2023-09-01 03:32:00)  adId_02  campaignId_01  click   4995\n",
            "7   (2023-09-01 03:31:00, 2023-09-01 03:32:00)  adId_10  campaignId_01  click   5010\n",
            "8   (2023-09-01 03:31:00, 2023-09-01 03:32:00)  adId_01  campaignId_01  click   5076\n",
            "9   (2023-09-01 03:31:00, 2023-09-01 03:32:00)  adId_03  campaignId_03  click   5109\n",
            "10  (2023-09-01 03:31:30, 2023-09-01 03:32:30)  adId_04  campaignId_01  click   2563\n",
            "11  (2023-09-01 03:31:30, 2023-09-01 03:32:30)  adId_02  campaignId_01  click   2568\n",
            "12  (2023-09-01 03:31:30, 2023-09-01 03:32:30)  adId_01  campaignId_01  click   2622\n",
            "13  (2023-09-01 03:31:30, 2023-09-01 03:32:30)  adId_10  campaignId_01  click   2624\n",
            "14  (2023-09-01 03:31:30, 2023-09-01 03:32:30)  adId_06  campaignId_01  click   2757\n",
            "15  (2023-09-01 03:32:00, 2023-09-01 03:33:00)  adId_07  campaignId_01  click     72\n",
            "16  (2023-09-01 03:32:00, 2023-09-01 03:33:00)  adId_08  campaignId_03  click     74\n",
            "17  (2023-09-01 03:32:00, 2023-09-01 03:33:00)  adId_10  campaignId_01  click     74\n",
            "18  (2023-09-01 03:32:00, 2023-09-01 03:33:00)  adId_04  campaignId_01  click     75\n",
            "19  (2023-09-01 03:32:00, 2023-09-01 03:33:00)  adId_02  campaignId_01  click     78\n"
          ]
        },
        {
          "output_type": "execute_result",
          "data": {
            "text/plain": [
              "False"
            ]
          },
          "metadata": {},
          "execution_count": 36
        }
      ],
      "source": [
        "inputStream = spark.readStream.csv(\n",
        "    AD_ACTION_CSV_PATH,\n",
        "    schema=\"timestamp TIMESTAMP, \\\n",
        "        user_id STRING, \\\n",
        "        action STRING, \\\n",
        "        adId STRING, \\\n",
        "        campaignId STRING\"\n",
        ")\n",
        "\n",
        "inputStream = inputStream.groupBy(\n",
        "      F.window('timestamp', '1 minutes', '30 seconds'),\n",
        "      'adId', 'campaignId', 'action'\n",
        "  ).count()\\\n",
        "  .where(F.col('action') == 'click')\\\n",
        "\n",
        "def foreach_batch_function(df, epoch_id):\n",
        "    window = Window.partitionBy('window.start')\\\n",
        "        .orderBy(F.asc('count'))\n",
        "    df = df.withColumn('rank', F.row_number().over(window))\\\n",
        "        .where(F.col('rank') <= 5)\\\n",
        "        .drop('rank')\\\n",
        "        .orderBy(F.asc('window.start'), F.asc('count'))\n",
        "    print(epoch_id)\n",
        "    print(df.toPandas())\n",
        "\n",
        "query = inputStream\\\n",
        "    .writeStream\\\n",
        "    .outputMode('complete')\\\n",
        "    .foreachBatch(foreach_batch_function)\\\n",
        "    .start()\n",
        "query.awaitTermination(50)"
      ]
    },
    {
      "cell_type": "code",
      "execution_count": null,
      "metadata": {
        "id": "oS9vVdSoYJbJ"
      },
      "outputs": [],
      "source": [
        "# Stop job\n",
        "query.stop()"
      ]
    },
    {
      "cell_type": "markdown",
      "source": [
        "**Resposta**\n",
        "\n",
        "1.   Configuramos com os seguintes parâmetros referentes a janela de agrupamento dos dados: windowDuration = 1 minuto e o slideDuration = 30 segundos;\n",
        "2.   Agrupamos conjuntamente pelo anúncio, campanha e ação;\n",
        "3.   Fizemos a contagem do grupo;\n",
        "4.   Fizemos um filtro pelas ações do tipo click;\n",
        "3.   Fizemos a ordenação de forma crescente pelo window.start e pela quantidade de eventos.\n",
        "\n",
        "\n",
        "Dessa forma obtivemos a listagem abaixo, a qual representa os cinco pares de anúncio que que tiveram menos clicks no último minuto, sendo calculado a cada 30 segundos:\n",
        "\n",
        "\n",
        "```\n",
        "                                        window     adId     campaignId action  count\n",
        "0   (2023-09-01 03:30:30, 2023-09-01 03:31:30)  adId_03  campaignId_03  click   2433\n",
        "1   (2023-09-01 03:30:30, 2023-09-01 03:31:30)  adId_10  campaignId_01  click   2460\n",
        "2   (2023-09-01 03:30:30, 2023-09-01 03:31:30)  adId_04  campaignId_01  click   2462\n",
        "3   (2023-09-01 03:30:30, 2023-09-01 03:31:30)  adId_02  campaignId_01  click   2505\n",
        "4   (2023-09-01 03:30:30, 2023-09-01 03:31:30)  adId_07  campaignId_01  click   2518\n",
        "-------------------------------------------------------------------------------------\n",
        "5   (2023-09-01 03:31:00, 2023-09-01 03:32:00)  adId_04  campaignId_01  click   4950\n",
        "6   (2023-09-01 03:31:00, 2023-09-01 03:32:00)  adId_02  campaignId_01  click   4995\n",
        "7   (2023-09-01 03:31:00, 2023-09-01 03:32:00)  adId_10  campaignId_01  click   5010\n",
        "8   (2023-09-01 03:31:00, 2023-09-01 03:32:00)  adId_01  campaignId_01  click   5076\n",
        "9   (2023-09-01 03:31:00, 2023-09-01 03:32:00)  adId_03  campaignId_03  click   5109\n",
        "-------------------------------------------------------------------------------------\n",
        "10  (2023-09-01 03:31:30, 2023-09-01 03:32:30)  adId_04  campaignId_01  click   2563\n",
        "11  (2023-09-01 03:31:30, 2023-09-01 03:32:30)  adId_02  campaignId_01  click   2568\n",
        "12  (2023-09-01 03:31:30, 2023-09-01 03:32:30)  adId_01  campaignId_01  click   2622\n",
        "13  (2023-09-01 03:31:30, 2023-09-01 03:32:30)  adId_10  campaignId_01  click   2624\n",
        "14  (2023-09-01 03:31:30, 2023-09-01 03:32:30)  adId_06  campaignId_01  click   2757\n",
        "-------------------------------------------------------------------------------------\n",
        "15  (2023-09-01 03:32:00, 2023-09-01 03:33:00)  adId_07  campaignId_01  click     72\n",
        "16  (2023-09-01 03:32:00, 2023-09-01 03:33:00)  adId_08  campaignId_03  click     74\n",
        "17  (2023-09-01 03:32:00, 2023-09-01 03:33:00)  adId_10  campaignId_01  click     74\n",
        "18  (2023-09-01 03:32:00, 2023-09-01 03:33:00)  adId_04  campaignId_01  click     75\n",
        "19  (2023-09-01 03:32:00, 2023-09-01 03:33:00)  adId_02  campaignId_01  click     78\n",
        "```\n",
        "\n"
      ],
      "metadata": {
        "id": "W2IteqC02BuA"
      }
    },
    {
      "cell_type": "markdown",
      "metadata": {
        "id": "IH0874NWYJbJ"
      },
      "source": [
        "## 3) Qual é o total acumulado de clicks e o total acumulado de views? Calcule a medida que os dados são recebidos no streaming (3 pontos)"
      ]
    },
    {
      "cell_type": "code",
      "execution_count": null,
      "metadata": {
        "id": "Tf98dkgdYJbJ",
        "colab": {
          "base_uri": "https://localhost:8080/"
        },
        "outputId": "7e52b45a-b19e-4f3d-ef2c-b22a768e6c77"
      },
      "outputs": [
        {
          "output_type": "stream",
          "name": "stdout",
          "text": [
            "0\n",
            "  action   count\n",
            "0   view   76408\n",
            "1  click  178305\n"
          ]
        },
        {
          "output_type": "execute_result",
          "data": {
            "text/plain": [
              "False"
            ]
          },
          "metadata": {},
          "execution_count": 37
        }
      ],
      "source": [
        "inputStream = spark.readStream.csv(\n",
        "    AD_ACTION_CSV_PATH,\n",
        "    schema=\"timestamp TIMESTAMP, \\\n",
        "        user_id STRING, \\\n",
        "        action STRING, \\\n",
        "        adId STRING, \\\n",
        "        campaignId STRING\"\n",
        ")\n",
        "\n",
        "inputStream = inputStream.groupBy('action').count()\n",
        "\n",
        "def foreach_batch_function(df, epoch_id):\n",
        "    print(epoch_id)\n",
        "    print(df.toPandas())\n",
        "\n",
        "query = inputStream\\\n",
        "    .writeStream\\\n",
        "    .outputMode('complete')\\\n",
        "    .foreachBatch(foreach_batch_function)\\\n",
        "    .start()\n",
        "query.awaitTermination(35)"
      ]
    },
    {
      "cell_type": "code",
      "execution_count": null,
      "metadata": {
        "id": "MkRb_ZY1YJbJ"
      },
      "outputs": [],
      "source": [
        "# Stop job\n",
        "query.stop()"
      ]
    },
    {
      "cell_type": "markdown",
      "source": [
        "**Resposta**\n",
        "\n",
        "Para solucionar este problema, primeiro agrupamos os dados com base na coluna 'action' e, em seguida, contamos quantas ocorrências existem em cada categoria. É importante destacar que não definimos um período específico para essa contagem, ou seja, consideramos todos os dados disponíveis durante a execução do programa. Com isso, conseguimos determinar que o número total acumulado de views foi de 76.408 e o de clicks foi de 178.305."
      ],
      "metadata": {
        "id": "OZ7zsuYy6O76"
      }
    },
    {
      "cell_type": "markdown",
      "metadata": {
        "id": "48h6UINHYJbJ"
      },
      "source": [
        "## 4) Qual é a porcentagem de usuários que visualizaram e clicaram em um mesmo anúncio e campanha pelo menos uma vez nos últimos 10 segundos? Calcule a cada 10 segundos. (1 ponto extra na nota final)\n",
        "\n",
        "Exemplo:\n",
        "20% de 5 usuários clicaram e visualizaram em um mesmo anúncio e campanha pelo menos uma vez. Nesse caso, dos 5 usuários, 1 tem eventos de click e view em pelo menos 1 par de anúncio e campanha. Enquanto que, 4 usuários não apresentam esse padrão.\n",
        "\n",
        "```\n",
        "user_id\tadId\tcampaignId\taction\n",
        "U1\t\tA1\t\tC1 \t \t\tclick\n",
        "U1\t\tA1\t\tC1 \t \t\tview\n",
        "U1\t\tA2\t\tC1 \t \t\tclick\n",
        "U1\t\tA2\t\tC1 \t \t\tview\n",
        "U2\t\tA1\t\tC1 \t \t\tview\n",
        "U3\t\tA1\t\tC1 \t \t\tview\n",
        "U4\t\tA2\t\tC1 \t \t\tclick\n",
        "U5\t\tA1\t\tC1 \t \t\tclick\n",
        "```"
      ]
    },
    {
      "cell_type": "code",
      "execution_count": null,
      "metadata": {
        "id": "8YYmgEY2YJbJ",
        "colab": {
          "base_uri": "https://localhost:8080/"
        },
        "outputId": "1d9808f8-9656-4ae5-9a3e-7ef0f1b16ddc"
      },
      "outputs": [
        {
          "output_type": "stream",
          "name": "stdout",
          "text": [
            "0\n",
            "                                        window                               user_id     adId     campaignId action  count                               user_id     adId     campaignId action  click_and_view_cont\n",
            "0   (2023-09-01 03:31:00, 2023-09-01 03:31:10)  3ecdf2e1-0501-4f71-8402-5adacc7da7db  adId_09  campaignId_02  click      5  3ecdf2e1-0501-4f71-8402-5adacc7da7db  adId_09  campaignId_02  click                    5\n",
            "1   (2023-09-01 03:31:00, 2023-09-01 03:31:10)  3ecdf2e1-0501-4f71-8402-5adacc7da7db  adId_09  campaignId_02  click      5  0324bb3d-e547-4560-862b-e7fc08e7783b  adId_06  campaignId_03  click                    3\n",
            "2   (2023-09-01 03:31:00, 2023-09-01 03:31:10)  3ecdf2e1-0501-4f71-8402-5adacc7da7db  adId_09  campaignId_02  click      5  76ae3bf7-de96-4f59-abae-37da446a4bea  adId_06  campaignId_02  click                    2\n",
            "3   (2023-09-01 03:31:00, 2023-09-01 03:31:10)  3ecdf2e1-0501-4f71-8402-5adacc7da7db  adId_09  campaignId_02  click      5  fe12324b-e5e5-420f-85fe-c5bda0563f76  adId_06  campaignId_03  click                    2\n",
            "4   (2023-09-01 03:31:00, 2023-09-01 03:31:10)  3ecdf2e1-0501-4f71-8402-5adacc7da7db  adId_09  campaignId_02  click      5  e2dc0771-e733-42c0-b43d-8152d258e20d  adId_06  campaignId_01  click                    3\n",
            "5   (2023-09-01 03:31:00, 2023-09-01 03:31:10)  3ecdf2e1-0501-4f71-8402-5adacc7da7db  adId_09  campaignId_02  click      5  30b32c54-786c-47f9-919f-313ec82b27e3  adId_04  campaignId_02  click                    2\n",
            "6   (2023-09-01 03:31:00, 2023-09-01 03:31:10)  3ecdf2e1-0501-4f71-8402-5adacc7da7db  adId_09  campaignId_02  click      5  bb062b11-aa62-4848-ad73-d4fe5b80eb43  adId_09  campaignId_03  click                    6\n",
            "7   (2023-09-01 03:31:00, 2023-09-01 03:31:10)  3ecdf2e1-0501-4f71-8402-5adacc7da7db  adId_09  campaignId_02  click      5  df06a579-e37c-4e31-b4de-87dc985e07e1  adId_06  campaignId_03   view                    5\n",
            "8   (2023-09-01 03:31:00, 2023-09-01 03:31:10)  3ecdf2e1-0501-4f71-8402-5adacc7da7db  adId_09  campaignId_02  click      5  dee447f5-78c2-4ffd-b427-ddd4b413f528  adId_04  campaignId_02  click                    2\n",
            "9   (2023-09-01 03:31:00, 2023-09-01 03:31:10)  3ecdf2e1-0501-4f71-8402-5adacc7da7db  adId_09  campaignId_02  click      5  11ed5203-009e-4c05-8bb3-a058af8a0961  adId_09  campaignId_03  click                    8\n",
            "10  (2023-09-01 03:31:00, 2023-09-01 03:31:10)  3ecdf2e1-0501-4f71-8402-5adacc7da7db  adId_09  campaignId_02  click      5  31bb25e4-1348-408c-a73f-8e587cfe5e31  adId_02  campaignId_03   view                    3\n",
            "11  (2023-09-01 03:31:00, 2023-09-01 03:31:10)  3ecdf2e1-0501-4f71-8402-5adacc7da7db  adId_09  campaignId_02  click      5  04c09a3b-78d6-4a60-94d4-0162c9b8f3e7  adId_08  campaignId_01  click                    4\n",
            "12  (2023-09-01 03:31:00, 2023-09-01 03:31:10)  3ecdf2e1-0501-4f71-8402-5adacc7da7db  adId_09  campaignId_02  click      5  2f7f41fd-f796-4208-ab5a-d9df04c2630d  adId_01  campaignId_01   view                    2\n",
            "13  (2023-09-01 03:31:00, 2023-09-01 03:31:10)  3ecdf2e1-0501-4f71-8402-5adacc7da7db  adId_09  campaignId_02  click      5  b2bb51c3-976c-4125-b376-8d73eb4c14e0  adId_08  campaignId_02   view                    2\n",
            "14  (2023-09-01 03:31:00, 2023-09-01 03:31:10)  3ecdf2e1-0501-4f71-8402-5adacc7da7db  adId_09  campaignId_02  click      5  2fcfd3c4-7c6b-4e25-99ee-4d19d42ec5c2  adId_05  campaignId_02  click                    2\n",
            "15  (2023-09-01 03:31:00, 2023-09-01 03:31:10)  3ecdf2e1-0501-4f71-8402-5adacc7da7db  adId_09  campaignId_02  click      5  2b2cb625-78fe-43ad-a2b6-b4e5805299bf  adId_06  campaignId_01  click                    3\n",
            "16  (2023-09-01 03:31:00, 2023-09-01 03:31:10)  3ecdf2e1-0501-4f71-8402-5adacc7da7db  adId_09  campaignId_02  click      5  87335a6b-8200-4612-bb1a-a1747a708a8c  adId_05  campaignId_01   view                    2\n",
            "17  (2023-09-01 03:31:00, 2023-09-01 03:31:10)  3ecdf2e1-0501-4f71-8402-5adacc7da7db  adId_09  campaignId_02  click      5  e7cffc72-c393-4ee3-a9ac-7496be888fc3  adId_04  campaignId_01   view                    2\n",
            "18  (2023-09-01 03:31:00, 2023-09-01 03:31:10)  3ecdf2e1-0501-4f71-8402-5adacc7da7db  adId_09  campaignId_02  click      5  25fa57e5-9252-4447-b1ed-f89a56b48dfc  adId_05  campaignId_02  click                    7\n",
            "19  (2023-09-01 03:31:00, 2023-09-01 03:31:10)  3ecdf2e1-0501-4f71-8402-5adacc7da7db  adId_09  campaignId_02  click      5  78bfd952-f6e8-4098-bacb-0cadd3f83ef2  adId_06  campaignId_02  click                    9\n"
          ]
        },
        {
          "output_type": "execute_result",
          "data": {
            "text/plain": [
              "False"
            ]
          },
          "metadata": {},
          "execution_count": 95
        }
      ],
      "source": [
        "inputStream = spark.readStream.csv(\n",
        "    AD_ACTION_CSV_PATH,\n",
        "    schema=\"timestamp TIMESTAMP, \\\n",
        "        user_id STRING, \\\n",
        "        action STRING, \\\n",
        "        adId STRING, \\\n",
        "        campaignId STRING\"\n",
        ")\n",
        "\n",
        "# ESCREVA SEU CÓDIGO AQUI\n",
        "inputStream = inputStream.groupBy(\n",
        "      F.window('timestamp', '10 seconds', '10 seconds'),\n",
        "      'user_id', 'adId', 'campaignId', 'action'\n",
        ").count()\n",
        "\n",
        "def foreach_batch_function(df, epoch_id):\n",
        "    # Contar o número de ocorrências de cada combinação user_id, adId e campaignId\n",
        "    #counted = df.groupBy('window', 'user_id', 'adId', 'campaignId').count()\n",
        "\n",
        "    # Filtrar os grupos onde tanto a visualização quanto o clique ocorreram\n",
        "    filtered = df.where(F.col('count') >= 2)\\\n",
        "       .withColumnRenamed('count', 'click_and_view_cont')\n",
        "\n",
        "    percentage_df = df.join(filtered, on='window', how='inner')\\\n",
        "       .orderBy('window')\n",
        "\n",
        "    #percentage_df = df.join(filtered, on='window', how='inner')\\\n",
        "    #  .withColumn('percentage', F.col('click_and_view_cont') / F.col('count') * 100)\\\n",
        "    #  .select('window', F.round('percentage', 2).alias('percentage'))\\\n",
        "    #  .orderBy('window')\n",
        "\n",
        "    print(epoch_id)\n",
        "    print(percentage_df.limit(20).toPandas().to_string())\n",
        "    # Garanta que esse novo DataFrame percentage_df tem as colunas window e percentage\n",
        "    #print(percentage_df.toPandas())\n",
        "\n",
        "query = inputStream\\\n",
        "    .writeStream\\\n",
        "    .outputMode('complete')\\\n",
        "    .foreachBatch(foreach_batch_function)\\\n",
        "    .start()\n",
        "query.awaitTermination(60)\n",
        "#query.awaitTermination(120)\n",
        "\n",
        "# a resposta final deve considerar 120 segundos"
      ]
    },
    {
      "cell_type": "markdown",
      "source": [
        "\n",
        "\n",
        "```\n",
        "0  (2023-09-01 03:31:20, 2023-09-01 03:31:30)       38205\n",
        "1  (2023-09-01 03:31:10, 2023-09-01 03:31:20)       42453\n",
        "2  (2023-09-01 03:31:40, 2023-09-01 03:31:50)       42450\n",
        "3  (2023-09-01 03:31:30, 2023-09-01 03:31:40)       42450\n",
        "4  (2023-09-01 03:32:00, 2023-09-01 03:32:10)        4245\n",
        "5  (2023-09-01 03:31:50, 2023-09-01 03:32:00)       42450\n",
        "6  (2023-09-01 03:31:00, 2023-09-01 03:31:10)       42460\n",
        "```\n",
        "\n"
      ],
      "metadata": {
        "id": "08xdWgh4HjBL"
      }
    },
    {
      "cell_type": "code",
      "execution_count": null,
      "metadata": {
        "id": "RQKaOvXHYJbK"
      },
      "outputs": [],
      "source": [
        "# Stop job\n",
        "query.stop()"
      ]
    }
  ],
  "metadata": {
    "colab": {
      "provenance": [],
      "include_colab_link": true
    },
    "kernelspec": {
      "display_name": "Python 3 (ipykernel)",
      "language": "python",
      "name": "python3"
    },
    "language_info": {
      "codemirror_mode": {
        "name": "ipython",
        "version": 3
      },
      "file_extension": ".py",
      "mimetype": "text/x-python",
      "name": "python",
      "nbconvert_exporter": "python",
      "pygments_lexer": "ipython3",
      "version": "3.10.6"
    }
  },
  "nbformat": 4,
  "nbformat_minor": 0
}