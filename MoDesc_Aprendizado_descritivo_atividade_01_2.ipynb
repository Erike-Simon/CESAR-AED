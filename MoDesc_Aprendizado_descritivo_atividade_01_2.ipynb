{
  "nbformat": 4,
  "nbformat_minor": 0,
  "metadata": {
    "colab": {
      "provenance": [],
      "collapsed_sections": [
        "gfnDQrzY9Ftr",
        "0iIc7kTXRgqU",
        "jmWLZLzINInw",
        "KmiHyd2fM4UZ"
      ],
      "toc_visible": true,
      "include_colab_link": true
    },
    "kernelspec": {
      "name": "python3",
      "display_name": "Python 3"
    },
    "language_info": {
      "name": "python"
    }
  },
  "cells": [
    {
      "cell_type": "markdown",
      "metadata": {
        "id": "view-in-github",
        "colab_type": "text"
      },
      "source": [
        "<a href=\"https://colab.research.google.com/github/Erike-Simon/CESAR-AED/blob/main/MoDesc_Aprendizado_descritivo_atividade_01_2.ipynb\" target=\"_parent\"><img src=\"https://colab.research.google.com/assets/colab-badge.svg\" alt=\"Open In Colab\"/></a>"
      ]
    },
    {
      "cell_type": "markdown",
      "source": [
        "**Grupo 3:** Buscador de músicas através de palavras chave\n",
        "\n",
        "* *Anna Carolina de Roldão*\n",
        "* *Arthur Lira*\n",
        "* *Erike Simon*\n",
        "* *José Aparecido Silvano de Albuquerque*\n",
        "* *Yaci Mair da Silva Ribeiro*\n"
      ],
      "metadata": {
        "id": "5R8y-5nyUJrn"
      }
    },
    {
      "cell_type": "markdown",
      "source": [
        "**Descrição**\n",
        "\n",
        "Explorar a base de dados e criar um buscador simples que calcula a distância entre um texto inserido e os nomes de músicas em um conjunto de dados."
      ],
      "metadata": {
        "id": "8HO-ViFgLS7E"
      }
    },
    {
      "cell_type": "markdown",
      "source": [
        "# Importando os dados"
      ],
      "metadata": {
        "id": "V2n-L3zIJqoj"
      }
    },
    {
      "cell_type": "code",
      "execution_count": null,
      "metadata": {
        "id": "V_ikY6xwvgRG"
      },
      "outputs": [],
      "source": [
        "import pandas as pd\n",
        "import numpy as np\n",
        "import matplotlib.pyplot as plt\n",
        "import seaborn as sns"
      ]
    },
    {
      "cell_type": "code",
      "source": [
        "df = pd.read_csv('https://raw.githubusercontent.com/devjaynemorais/modelos_descritivos_curso/main/Aula%2001/dados/dataset_lyrics.csv')"
      ],
      "metadata": {
        "id": "jXCy7GTlviI2"
      },
      "execution_count": null,
      "outputs": []
    },
    {
      "cell_type": "code",
      "source": [
        "df.head()"
      ],
      "metadata": {
        "colab": {
          "base_uri": "https://localhost:8080/"
        },
        "id": "epBLo7cavo1n",
        "outputId": "12dd286f-c101-4187-fe0c-84b46517f2cf"
      },
      "execution_count": null,
      "outputs": [
        {
          "output_type": "execute_result",
          "data": {
            "text/plain": [
              "   cantorId     cantorNome               musicaNome  \\\n",
              "0         0  10000-maniacs           More Than This   \n",
              "1         0  10000-maniacs        Because The Night   \n",
              "2         0  10000-maniacs           These Are Days   \n",
              "3         0  10000-maniacs          A Campfire Song   \n",
              "4         0  10000-maniacs  Everyday Is Like Sunday   \n",
              "\n",
              "                                               letra  \n",
              "0  I could feel at the time. There was no way of ...  \n",
              "1  Take me now, baby, here as I am. Hold me close...  \n",
              "2  These are. These are days you'll remember. Nev...  \n",
              "3  A lie to say, \"O my mountain has coal veins an...  \n",
              "4  Trudging slowly over wet sand. Back to the ben...  "
            ],
            "text/html": [
              "\n",
              "  <div id=\"df-1bae5a13-5e23-4dbc-9146-49d01def3828\" class=\"colab-df-container\">\n",
              "    <div>\n",
              "<style scoped>\n",
              "    .dataframe tbody tr th:only-of-type {\n",
              "        vertical-align: middle;\n",
              "    }\n",
              "\n",
              "    .dataframe tbody tr th {\n",
              "        vertical-align: top;\n",
              "    }\n",
              "\n",
              "    .dataframe thead th {\n",
              "        text-align: right;\n",
              "    }\n",
              "</style>\n",
              "<table border=\"1\" class=\"dataframe\">\n",
              "  <thead>\n",
              "    <tr style=\"text-align: right;\">\n",
              "      <th></th>\n",
              "      <th>cantorId</th>\n",
              "      <th>cantorNome</th>\n",
              "      <th>musicaNome</th>\n",
              "      <th>letra</th>\n",
              "    </tr>\n",
              "  </thead>\n",
              "  <tbody>\n",
              "    <tr>\n",
              "      <th>0</th>\n",
              "      <td>0</td>\n",
              "      <td>10000-maniacs</td>\n",
              "      <td>More Than This</td>\n",
              "      <td>I could feel at the time. There was no way of ...</td>\n",
              "    </tr>\n",
              "    <tr>\n",
              "      <th>1</th>\n",
              "      <td>0</td>\n",
              "      <td>10000-maniacs</td>\n",
              "      <td>Because The Night</td>\n",
              "      <td>Take me now, baby, here as I am. Hold me close...</td>\n",
              "    </tr>\n",
              "    <tr>\n",
              "      <th>2</th>\n",
              "      <td>0</td>\n",
              "      <td>10000-maniacs</td>\n",
              "      <td>These Are Days</td>\n",
              "      <td>These are. These are days you'll remember. Nev...</td>\n",
              "    </tr>\n",
              "    <tr>\n",
              "      <th>3</th>\n",
              "      <td>0</td>\n",
              "      <td>10000-maniacs</td>\n",
              "      <td>A Campfire Song</td>\n",
              "      <td>A lie to say, \"O my mountain has coal veins an...</td>\n",
              "    </tr>\n",
              "    <tr>\n",
              "      <th>4</th>\n",
              "      <td>0</td>\n",
              "      <td>10000-maniacs</td>\n",
              "      <td>Everyday Is Like Sunday</td>\n",
              "      <td>Trudging slowly over wet sand. Back to the ben...</td>\n",
              "    </tr>\n",
              "  </tbody>\n",
              "</table>\n",
              "</div>\n",
              "    <div class=\"colab-df-buttons\">\n",
              "\n",
              "  <div class=\"colab-df-container\">\n",
              "    <button class=\"colab-df-convert\" onclick=\"convertToInteractive('df-1bae5a13-5e23-4dbc-9146-49d01def3828')\"\n",
              "            title=\"Convert this dataframe to an interactive table.\"\n",
              "            style=\"display:none;\">\n",
              "\n",
              "  <svg xmlns=\"http://www.w3.org/2000/svg\" height=\"24px\" viewBox=\"0 -960 960 960\">\n",
              "    <path d=\"M120-120v-720h720v720H120Zm60-500h600v-160H180v160Zm220 220h160v-160H400v160Zm0 220h160v-160H400v160ZM180-400h160v-160H180v160Zm440 0h160v-160H620v160ZM180-180h160v-160H180v160Zm440 0h160v-160H620v160Z\"/>\n",
              "  </svg>\n",
              "    </button>\n",
              "\n",
              "  <style>\n",
              "    .colab-df-container {\n",
              "      display:flex;\n",
              "      gap: 12px;\n",
              "    }\n",
              "\n",
              "    .colab-df-convert {\n",
              "      background-color: #E8F0FE;\n",
              "      border: none;\n",
              "      border-radius: 50%;\n",
              "      cursor: pointer;\n",
              "      display: none;\n",
              "      fill: #1967D2;\n",
              "      height: 32px;\n",
              "      padding: 0 0 0 0;\n",
              "      width: 32px;\n",
              "    }\n",
              "\n",
              "    .colab-df-convert:hover {\n",
              "      background-color: #E2EBFA;\n",
              "      box-shadow: 0px 1px 2px rgba(60, 64, 67, 0.3), 0px 1px 3px 1px rgba(60, 64, 67, 0.15);\n",
              "      fill: #174EA6;\n",
              "    }\n",
              "\n",
              "    .colab-df-buttons div {\n",
              "      margin-bottom: 4px;\n",
              "    }\n",
              "\n",
              "    [theme=dark] .colab-df-convert {\n",
              "      background-color: #3B4455;\n",
              "      fill: #D2E3FC;\n",
              "    }\n",
              "\n",
              "    [theme=dark] .colab-df-convert:hover {\n",
              "      background-color: #434B5C;\n",
              "      box-shadow: 0px 1px 3px 1px rgba(0, 0, 0, 0.15);\n",
              "      filter: drop-shadow(0px 1px 2px rgba(0, 0, 0, 0.3));\n",
              "      fill: #FFFFFF;\n",
              "    }\n",
              "  </style>\n",
              "\n",
              "    <script>\n",
              "      const buttonEl =\n",
              "        document.querySelector('#df-1bae5a13-5e23-4dbc-9146-49d01def3828 button.colab-df-convert');\n",
              "      buttonEl.style.display =\n",
              "        google.colab.kernel.accessAllowed ? 'block' : 'none';\n",
              "\n",
              "      async function convertToInteractive(key) {\n",
              "        const element = document.querySelector('#df-1bae5a13-5e23-4dbc-9146-49d01def3828');\n",
              "        const dataTable =\n",
              "          await google.colab.kernel.invokeFunction('convertToInteractive',\n",
              "                                                    [key], {});\n",
              "        if (!dataTable) return;\n",
              "\n",
              "        const docLinkHtml = 'Like what you see? Visit the ' +\n",
              "          '<a target=\"_blank\" href=https://colab.research.google.com/notebooks/data_table.ipynb>data table notebook</a>'\n",
              "          + ' to learn more about interactive tables.';\n",
              "        element.innerHTML = '';\n",
              "        dataTable['output_type'] = 'display_data';\n",
              "        await google.colab.output.renderOutput(dataTable, element);\n",
              "        const docLink = document.createElement('div');\n",
              "        docLink.innerHTML = docLinkHtml;\n",
              "        element.appendChild(docLink);\n",
              "      }\n",
              "    </script>\n",
              "  </div>\n",
              "\n",
              "\n",
              "<div id=\"df-038ac2ba-97ec-438b-85e0-f34a802f4ddf\">\n",
              "  <button class=\"colab-df-quickchart\" onclick=\"quickchart('df-038ac2ba-97ec-438b-85e0-f34a802f4ddf')\"\n",
              "            title=\"Suggest charts.\"\n",
              "            style=\"display:none;\">\n",
              "\n",
              "<svg xmlns=\"http://www.w3.org/2000/svg\" height=\"24px\"viewBox=\"0 0 24 24\"\n",
              "     width=\"24px\">\n",
              "    <g>\n",
              "        <path d=\"M19 3H5c-1.1 0-2 .9-2 2v14c0 1.1.9 2 2 2h14c1.1 0 2-.9 2-2V5c0-1.1-.9-2-2-2zM9 17H7v-7h2v7zm4 0h-2V7h2v10zm4 0h-2v-4h2v4z\"/>\n",
              "    </g>\n",
              "</svg>\n",
              "  </button>\n",
              "\n",
              "<style>\n",
              "  .colab-df-quickchart {\n",
              "      --bg-color: #E8F0FE;\n",
              "      --fill-color: #1967D2;\n",
              "      --hover-bg-color: #E2EBFA;\n",
              "      --hover-fill-color: #174EA6;\n",
              "      --disabled-fill-color: #AAA;\n",
              "      --disabled-bg-color: #DDD;\n",
              "  }\n",
              "\n",
              "  [theme=dark] .colab-df-quickchart {\n",
              "      --bg-color: #3B4455;\n",
              "      --fill-color: #D2E3FC;\n",
              "      --hover-bg-color: #434B5C;\n",
              "      --hover-fill-color: #FFFFFF;\n",
              "      --disabled-bg-color: #3B4455;\n",
              "      --disabled-fill-color: #666;\n",
              "  }\n",
              "\n",
              "  .colab-df-quickchart {\n",
              "    background-color: var(--bg-color);\n",
              "    border: none;\n",
              "    border-radius: 50%;\n",
              "    cursor: pointer;\n",
              "    display: none;\n",
              "    fill: var(--fill-color);\n",
              "    height: 32px;\n",
              "    padding: 0;\n",
              "    width: 32px;\n",
              "  }\n",
              "\n",
              "  .colab-df-quickchart:hover {\n",
              "    background-color: var(--hover-bg-color);\n",
              "    box-shadow: 0 1px 2px rgba(60, 64, 67, 0.3), 0 1px 3px 1px rgba(60, 64, 67, 0.15);\n",
              "    fill: var(--button-hover-fill-color);\n",
              "  }\n",
              "\n",
              "  .colab-df-quickchart-complete:disabled,\n",
              "  .colab-df-quickchart-complete:disabled:hover {\n",
              "    background-color: var(--disabled-bg-color);\n",
              "    fill: var(--disabled-fill-color);\n",
              "    box-shadow: none;\n",
              "  }\n",
              "\n",
              "  .colab-df-spinner {\n",
              "    border: 2px solid var(--fill-color);\n",
              "    border-color: transparent;\n",
              "    border-bottom-color: var(--fill-color);\n",
              "    animation:\n",
              "      spin 1s steps(1) infinite;\n",
              "  }\n",
              "\n",
              "  @keyframes spin {\n",
              "    0% {\n",
              "      border-color: transparent;\n",
              "      border-bottom-color: var(--fill-color);\n",
              "      border-left-color: var(--fill-color);\n",
              "    }\n",
              "    20% {\n",
              "      border-color: transparent;\n",
              "      border-left-color: var(--fill-color);\n",
              "      border-top-color: var(--fill-color);\n",
              "    }\n",
              "    30% {\n",
              "      border-color: transparent;\n",
              "      border-left-color: var(--fill-color);\n",
              "      border-top-color: var(--fill-color);\n",
              "      border-right-color: var(--fill-color);\n",
              "    }\n",
              "    40% {\n",
              "      border-color: transparent;\n",
              "      border-right-color: var(--fill-color);\n",
              "      border-top-color: var(--fill-color);\n",
              "    }\n",
              "    60% {\n",
              "      border-color: transparent;\n",
              "      border-right-color: var(--fill-color);\n",
              "    }\n",
              "    80% {\n",
              "      border-color: transparent;\n",
              "      border-right-color: var(--fill-color);\n",
              "      border-bottom-color: var(--fill-color);\n",
              "    }\n",
              "    90% {\n",
              "      border-color: transparent;\n",
              "      border-bottom-color: var(--fill-color);\n",
              "    }\n",
              "  }\n",
              "</style>\n",
              "\n",
              "  <script>\n",
              "    async function quickchart(key) {\n",
              "      const quickchartButtonEl =\n",
              "        document.querySelector('#' + key + ' button');\n",
              "      quickchartButtonEl.disabled = true;  // To prevent multiple clicks.\n",
              "      quickchartButtonEl.classList.add('colab-df-spinner');\n",
              "      try {\n",
              "        const charts = await google.colab.kernel.invokeFunction(\n",
              "            'suggestCharts', [key], {});\n",
              "      } catch (error) {\n",
              "        console.error('Error during call to suggestCharts:', error);\n",
              "      }\n",
              "      quickchartButtonEl.classList.remove('colab-df-spinner');\n",
              "      quickchartButtonEl.classList.add('colab-df-quickchart-complete');\n",
              "    }\n",
              "    (() => {\n",
              "      let quickchartButtonEl =\n",
              "        document.querySelector('#df-038ac2ba-97ec-438b-85e0-f34a802f4ddf button');\n",
              "      quickchartButtonEl.style.display =\n",
              "        google.colab.kernel.accessAllowed ? 'block' : 'none';\n",
              "    })();\n",
              "  </script>\n",
              "</div>\n",
              "    </div>\n",
              "  </div>\n"
            ]
          },
          "metadata": {},
          "execution_count": 27
        }
      ]
    },
    {
      "cell_type": "code",
      "source": [
        "df.info()"
      ],
      "metadata": {
        "colab": {
          "base_uri": "https://localhost:8080/"
        },
        "id": "JunCHHzYvwD_",
        "outputId": "4bc82f6e-c3a7-4521-c033-6f5e0b44d17f"
      },
      "execution_count": null,
      "outputs": [
        {
          "output_type": "stream",
          "name": "stdout",
          "text": [
            "<class 'pandas.core.frame.DataFrame'>\n",
            "RangeIndex: 49387 entries, 0 to 49386\n",
            "Data columns (total 4 columns):\n",
            " #   Column      Non-Null Count  Dtype \n",
            "---  ------      --------------  ----- \n",
            " 0   cantorId    49387 non-null  int64 \n",
            " 1   cantorNome  49387 non-null  object\n",
            " 2   musicaNome  49387 non-null  object\n",
            " 3   letra       49376 non-null  object\n",
            "dtypes: int64(1), object(3)\n",
            "memory usage: 1.5+ MB\n"
          ]
        }
      ]
    },
    {
      "cell_type": "markdown",
      "source": [
        "# Removendo dados faltantes"
      ],
      "metadata": {
        "id": "RY4-NVt08uey"
      }
    },
    {
      "cell_type": "code",
      "source": [
        "df.dropna(inplace=True)"
      ],
      "metadata": {
        "id": "qIKl6kkn81RG"
      },
      "execution_count": null,
      "outputs": []
    },
    {
      "cell_type": "code",
      "source": [
        "df.info()"
      ],
      "metadata": {
        "colab": {
          "base_uri": "https://localhost:8080/"
        },
        "id": "dix9tSez9Cvj",
        "outputId": "bc196341-8b80-43ca-b4fc-ed6a13dc7ec8"
      },
      "execution_count": null,
      "outputs": [
        {
          "output_type": "stream",
          "name": "stdout",
          "text": [
            "<class 'pandas.core.frame.DataFrame'>\n",
            "Int64Index: 49376 entries, 0 to 49386\n",
            "Data columns (total 4 columns):\n",
            " #   Column      Non-Null Count  Dtype \n",
            "---  ------      --------------  ----- \n",
            " 0   cantorId    49376 non-null  int64 \n",
            " 1   cantorNome  49376 non-null  object\n",
            " 2   musicaNome  49376 non-null  object\n",
            " 3   letra       49376 non-null  object\n",
            "dtypes: int64(1), object(3)\n",
            "memory usage: 1.9+ MB\n"
          ]
        }
      ]
    },
    {
      "cell_type": "markdown",
      "source": [
        "# Removendo duplicatas"
      ],
      "metadata": {
        "id": "gfnDQrzY9Ftr"
      }
    },
    {
      "cell_type": "code",
      "source": [
        "df.drop_duplicates(inplace=True)"
      ],
      "metadata": {
        "id": "Yd-ocglswh--"
      },
      "execution_count": null,
      "outputs": []
    },
    {
      "cell_type": "code",
      "source": [
        "df.info()"
      ],
      "metadata": {
        "colab": {
          "base_uri": "https://localhost:8080/"
        },
        "id": "gYFegSvx9LGY",
        "outputId": "9650bcd3-f567-4571-bac3-e8dcf150d381"
      },
      "execution_count": null,
      "outputs": [
        {
          "output_type": "stream",
          "name": "stdout",
          "text": [
            "<class 'pandas.core.frame.DataFrame'>\n",
            "Int64Index: 38756 entries, 0 to 49386\n",
            "Data columns (total 4 columns):\n",
            " #   Column      Non-Null Count  Dtype \n",
            "---  ------      --------------  ----- \n",
            " 0   cantorId    38756 non-null  int64 \n",
            " 1   cantorNome  38756 non-null  object\n",
            " 2   musicaNome  38756 non-null  object\n",
            " 3   letra       38756 non-null  object\n",
            "dtypes: int64(1), object(3)\n",
            "memory usage: 1.5+ MB\n"
          ]
        }
      ]
    },
    {
      "cell_type": "markdown",
      "source": [
        "Continua com a observação dos dados"
      ],
      "metadata": {
        "id": "IF6NMldl9h58"
      }
    },
    {
      "cell_type": "code",
      "source": [
        "df"
      ],
      "metadata": {
        "colab": {
          "base_uri": "https://localhost:8080/",
          "height": 423
        },
        "id": "44xCSyh-wsuK",
        "outputId": "6684c881-395b-429a-efe7-d778be2d5ee0"
      },
      "execution_count": null,
      "outputs": [
        {
          "output_type": "execute_result",
          "data": {
            "text/plain": [
              "       cantorId      cantorNome               musicaNome  \\\n",
              "0             0   10000-maniacs           More Than This   \n",
              "1             0   10000-maniacs        Because The Night   \n",
              "2             0   10000-maniacs           These Are Days   \n",
              "3             0   10000-maniacs          A Campfire Song   \n",
              "4             0   10000-maniacs  Everyday Is Like Sunday   \n",
              "...         ...             ...                      ...   \n",
              "49382       525  paul-mccartney        Ode To Koala Bear   \n",
              "49383       525  paul-mccartney           Off The Ground   \n",
              "49384       525  paul-mccartney         Oh Woman, Oh Why   \n",
              "49385       525  paul-mccartney             Old Siam Sir   \n",
              "49386       525  paul-mccartney        On My Way To Work   \n",
              "\n",
              "                                                   letra  \n",
              "0      I could feel at the time. There was no way of ...  \n",
              "1      Take me now, baby, here as I am. Hold me close...  \n",
              "2      These are. These are days you'll remember. Nev...  \n",
              "3      A lie to say, \"O my mountain has coal veins an...  \n",
              "4      Trudging slowly over wet sand. Back to the ben...  \n",
              "...                                                  ...  \n",
              "49382  Oh, I love you, I still care.. All my affectio...  \n",
              "49383  There must have been a lot of heartache. For y...  \n",
              "49384  Oh woman, oh why, why, why, why. What have I d...  \n",
              "49385  In a village in Old Siam, sir, there's a lady ...  \n",
              "49386  On my way to work. I rode a big green bus. I c...  \n",
              "\n",
              "[38756 rows x 4 columns]"
            ],
            "text/html": [
              "\n",
              "  <div id=\"df-3d781031-0b60-4324-85f0-d8b0cede5a20\" class=\"colab-df-container\">\n",
              "    <div>\n",
              "<style scoped>\n",
              "    .dataframe tbody tr th:only-of-type {\n",
              "        vertical-align: middle;\n",
              "    }\n",
              "\n",
              "    .dataframe tbody tr th {\n",
              "        vertical-align: top;\n",
              "    }\n",
              "\n",
              "    .dataframe thead th {\n",
              "        text-align: right;\n",
              "    }\n",
              "</style>\n",
              "<table border=\"1\" class=\"dataframe\">\n",
              "  <thead>\n",
              "    <tr style=\"text-align: right;\">\n",
              "      <th></th>\n",
              "      <th>cantorId</th>\n",
              "      <th>cantorNome</th>\n",
              "      <th>musicaNome</th>\n",
              "      <th>letra</th>\n",
              "    </tr>\n",
              "  </thead>\n",
              "  <tbody>\n",
              "    <tr>\n",
              "      <th>0</th>\n",
              "      <td>0</td>\n",
              "      <td>10000-maniacs</td>\n",
              "      <td>More Than This</td>\n",
              "      <td>I could feel at the time. There was no way of ...</td>\n",
              "    </tr>\n",
              "    <tr>\n",
              "      <th>1</th>\n",
              "      <td>0</td>\n",
              "      <td>10000-maniacs</td>\n",
              "      <td>Because The Night</td>\n",
              "      <td>Take me now, baby, here as I am. Hold me close...</td>\n",
              "    </tr>\n",
              "    <tr>\n",
              "      <th>2</th>\n",
              "      <td>0</td>\n",
              "      <td>10000-maniacs</td>\n",
              "      <td>These Are Days</td>\n",
              "      <td>These are. These are days you'll remember. Nev...</td>\n",
              "    </tr>\n",
              "    <tr>\n",
              "      <th>3</th>\n",
              "      <td>0</td>\n",
              "      <td>10000-maniacs</td>\n",
              "      <td>A Campfire Song</td>\n",
              "      <td>A lie to say, \"O my mountain has coal veins an...</td>\n",
              "    </tr>\n",
              "    <tr>\n",
              "      <th>4</th>\n",
              "      <td>0</td>\n",
              "      <td>10000-maniacs</td>\n",
              "      <td>Everyday Is Like Sunday</td>\n",
              "      <td>Trudging slowly over wet sand. Back to the ben...</td>\n",
              "    </tr>\n",
              "    <tr>\n",
              "      <th>...</th>\n",
              "      <td>...</td>\n",
              "      <td>...</td>\n",
              "      <td>...</td>\n",
              "      <td>...</td>\n",
              "    </tr>\n",
              "    <tr>\n",
              "      <th>49382</th>\n",
              "      <td>525</td>\n",
              "      <td>paul-mccartney</td>\n",
              "      <td>Ode To Koala Bear</td>\n",
              "      <td>Oh, I love you, I still care.. All my affectio...</td>\n",
              "    </tr>\n",
              "    <tr>\n",
              "      <th>49383</th>\n",
              "      <td>525</td>\n",
              "      <td>paul-mccartney</td>\n",
              "      <td>Off The Ground</td>\n",
              "      <td>There must have been a lot of heartache. For y...</td>\n",
              "    </tr>\n",
              "    <tr>\n",
              "      <th>49384</th>\n",
              "      <td>525</td>\n",
              "      <td>paul-mccartney</td>\n",
              "      <td>Oh Woman, Oh Why</td>\n",
              "      <td>Oh woman, oh why, why, why, why. What have I d...</td>\n",
              "    </tr>\n",
              "    <tr>\n",
              "      <th>49385</th>\n",
              "      <td>525</td>\n",
              "      <td>paul-mccartney</td>\n",
              "      <td>Old Siam Sir</td>\n",
              "      <td>In a village in Old Siam, sir, there's a lady ...</td>\n",
              "    </tr>\n",
              "    <tr>\n",
              "      <th>49386</th>\n",
              "      <td>525</td>\n",
              "      <td>paul-mccartney</td>\n",
              "      <td>On My Way To Work</td>\n",
              "      <td>On my way to work. I rode a big green bus. I c...</td>\n",
              "    </tr>\n",
              "  </tbody>\n",
              "</table>\n",
              "<p>38756 rows × 4 columns</p>\n",
              "</div>\n",
              "    <div class=\"colab-df-buttons\">\n",
              "\n",
              "  <div class=\"colab-df-container\">\n",
              "    <button class=\"colab-df-convert\" onclick=\"convertToInteractive('df-3d781031-0b60-4324-85f0-d8b0cede5a20')\"\n",
              "            title=\"Convert this dataframe to an interactive table.\"\n",
              "            style=\"display:none;\">\n",
              "\n",
              "  <svg xmlns=\"http://www.w3.org/2000/svg\" height=\"24px\" viewBox=\"0 -960 960 960\">\n",
              "    <path d=\"M120-120v-720h720v720H120Zm60-500h600v-160H180v160Zm220 220h160v-160H400v160Zm0 220h160v-160H400v160ZM180-400h160v-160H180v160Zm440 0h160v-160H620v160ZM180-180h160v-160H180v160Zm440 0h160v-160H620v160Z\"/>\n",
              "  </svg>\n",
              "    </button>\n",
              "\n",
              "  <style>\n",
              "    .colab-df-container {\n",
              "      display:flex;\n",
              "      gap: 12px;\n",
              "    }\n",
              "\n",
              "    .colab-df-convert {\n",
              "      background-color: #E8F0FE;\n",
              "      border: none;\n",
              "      border-radius: 50%;\n",
              "      cursor: pointer;\n",
              "      display: none;\n",
              "      fill: #1967D2;\n",
              "      height: 32px;\n",
              "      padding: 0 0 0 0;\n",
              "      width: 32px;\n",
              "    }\n",
              "\n",
              "    .colab-df-convert:hover {\n",
              "      background-color: #E2EBFA;\n",
              "      box-shadow: 0px 1px 2px rgba(60, 64, 67, 0.3), 0px 1px 3px 1px rgba(60, 64, 67, 0.15);\n",
              "      fill: #174EA6;\n",
              "    }\n",
              "\n",
              "    .colab-df-buttons div {\n",
              "      margin-bottom: 4px;\n",
              "    }\n",
              "\n",
              "    [theme=dark] .colab-df-convert {\n",
              "      background-color: #3B4455;\n",
              "      fill: #D2E3FC;\n",
              "    }\n",
              "\n",
              "    [theme=dark] .colab-df-convert:hover {\n",
              "      background-color: #434B5C;\n",
              "      box-shadow: 0px 1px 3px 1px rgba(0, 0, 0, 0.15);\n",
              "      filter: drop-shadow(0px 1px 2px rgba(0, 0, 0, 0.3));\n",
              "      fill: #FFFFFF;\n",
              "    }\n",
              "  </style>\n",
              "\n",
              "    <script>\n",
              "      const buttonEl =\n",
              "        document.querySelector('#df-3d781031-0b60-4324-85f0-d8b0cede5a20 button.colab-df-convert');\n",
              "      buttonEl.style.display =\n",
              "        google.colab.kernel.accessAllowed ? 'block' : 'none';\n",
              "\n",
              "      async function convertToInteractive(key) {\n",
              "        const element = document.querySelector('#df-3d781031-0b60-4324-85f0-d8b0cede5a20');\n",
              "        const dataTable =\n",
              "          await google.colab.kernel.invokeFunction('convertToInteractive',\n",
              "                                                    [key], {});\n",
              "        if (!dataTable) return;\n",
              "\n",
              "        const docLinkHtml = 'Like what you see? Visit the ' +\n",
              "          '<a target=\"_blank\" href=https://colab.research.google.com/notebooks/data_table.ipynb>data table notebook</a>'\n",
              "          + ' to learn more about interactive tables.';\n",
              "        element.innerHTML = '';\n",
              "        dataTable['output_type'] = 'display_data';\n",
              "        await google.colab.output.renderOutput(dataTable, element);\n",
              "        const docLink = document.createElement('div');\n",
              "        docLink.innerHTML = docLinkHtml;\n",
              "        element.appendChild(docLink);\n",
              "      }\n",
              "    </script>\n",
              "  </div>\n",
              "\n",
              "\n",
              "<div id=\"df-9cd8b0f4-3298-4971-b6b6-cf4831fb0dad\">\n",
              "  <button class=\"colab-df-quickchart\" onclick=\"quickchart('df-9cd8b0f4-3298-4971-b6b6-cf4831fb0dad')\"\n",
              "            title=\"Suggest charts.\"\n",
              "            style=\"display:none;\">\n",
              "\n",
              "<svg xmlns=\"http://www.w3.org/2000/svg\" height=\"24px\"viewBox=\"0 0 24 24\"\n",
              "     width=\"24px\">\n",
              "    <g>\n",
              "        <path d=\"M19 3H5c-1.1 0-2 .9-2 2v14c0 1.1.9 2 2 2h14c1.1 0 2-.9 2-2V5c0-1.1-.9-2-2-2zM9 17H7v-7h2v7zm4 0h-2V7h2v10zm4 0h-2v-4h2v4z\"/>\n",
              "    </g>\n",
              "</svg>\n",
              "  </button>\n",
              "\n",
              "<style>\n",
              "  .colab-df-quickchart {\n",
              "      --bg-color: #E8F0FE;\n",
              "      --fill-color: #1967D2;\n",
              "      --hover-bg-color: #E2EBFA;\n",
              "      --hover-fill-color: #174EA6;\n",
              "      --disabled-fill-color: #AAA;\n",
              "      --disabled-bg-color: #DDD;\n",
              "  }\n",
              "\n",
              "  [theme=dark] .colab-df-quickchart {\n",
              "      --bg-color: #3B4455;\n",
              "      --fill-color: #D2E3FC;\n",
              "      --hover-bg-color: #434B5C;\n",
              "      --hover-fill-color: #FFFFFF;\n",
              "      --disabled-bg-color: #3B4455;\n",
              "      --disabled-fill-color: #666;\n",
              "  }\n",
              "\n",
              "  .colab-df-quickchart {\n",
              "    background-color: var(--bg-color);\n",
              "    border: none;\n",
              "    border-radius: 50%;\n",
              "    cursor: pointer;\n",
              "    display: none;\n",
              "    fill: var(--fill-color);\n",
              "    height: 32px;\n",
              "    padding: 0;\n",
              "    width: 32px;\n",
              "  }\n",
              "\n",
              "  .colab-df-quickchart:hover {\n",
              "    background-color: var(--hover-bg-color);\n",
              "    box-shadow: 0 1px 2px rgba(60, 64, 67, 0.3), 0 1px 3px 1px rgba(60, 64, 67, 0.15);\n",
              "    fill: var(--button-hover-fill-color);\n",
              "  }\n",
              "\n",
              "  .colab-df-quickchart-complete:disabled,\n",
              "  .colab-df-quickchart-complete:disabled:hover {\n",
              "    background-color: var(--disabled-bg-color);\n",
              "    fill: var(--disabled-fill-color);\n",
              "    box-shadow: none;\n",
              "  }\n",
              "\n",
              "  .colab-df-spinner {\n",
              "    border: 2px solid var(--fill-color);\n",
              "    border-color: transparent;\n",
              "    border-bottom-color: var(--fill-color);\n",
              "    animation:\n",
              "      spin 1s steps(1) infinite;\n",
              "  }\n",
              "\n",
              "  @keyframes spin {\n",
              "    0% {\n",
              "      border-color: transparent;\n",
              "      border-bottom-color: var(--fill-color);\n",
              "      border-left-color: var(--fill-color);\n",
              "    }\n",
              "    20% {\n",
              "      border-color: transparent;\n",
              "      border-left-color: var(--fill-color);\n",
              "      border-top-color: var(--fill-color);\n",
              "    }\n",
              "    30% {\n",
              "      border-color: transparent;\n",
              "      border-left-color: var(--fill-color);\n",
              "      border-top-color: var(--fill-color);\n",
              "      border-right-color: var(--fill-color);\n",
              "    }\n",
              "    40% {\n",
              "      border-color: transparent;\n",
              "      border-right-color: var(--fill-color);\n",
              "      border-top-color: var(--fill-color);\n",
              "    }\n",
              "    60% {\n",
              "      border-color: transparent;\n",
              "      border-right-color: var(--fill-color);\n",
              "    }\n",
              "    80% {\n",
              "      border-color: transparent;\n",
              "      border-right-color: var(--fill-color);\n",
              "      border-bottom-color: var(--fill-color);\n",
              "    }\n",
              "    90% {\n",
              "      border-color: transparent;\n",
              "      border-bottom-color: var(--fill-color);\n",
              "    }\n",
              "  }\n",
              "</style>\n",
              "\n",
              "  <script>\n",
              "    async function quickchart(key) {\n",
              "      const quickchartButtonEl =\n",
              "        document.querySelector('#' + key + ' button');\n",
              "      quickchartButtonEl.disabled = true;  // To prevent multiple clicks.\n",
              "      quickchartButtonEl.classList.add('colab-df-spinner');\n",
              "      try {\n",
              "        const charts = await google.colab.kernel.invokeFunction(\n",
              "            'suggestCharts', [key], {});\n",
              "      } catch (error) {\n",
              "        console.error('Error during call to suggestCharts:', error);\n",
              "      }\n",
              "      quickchartButtonEl.classList.remove('colab-df-spinner');\n",
              "      quickchartButtonEl.classList.add('colab-df-quickchart-complete');\n",
              "    }\n",
              "    (() => {\n",
              "      let quickchartButtonEl =\n",
              "        document.querySelector('#df-9cd8b0f4-3298-4971-b6b6-cf4831fb0dad button');\n",
              "      quickchartButtonEl.style.display =\n",
              "        google.colab.kernel.accessAllowed ? 'block' : 'none';\n",
              "    })();\n",
              "  </script>\n",
              "</div>\n",
              "    </div>\n",
              "  </div>\n"
            ]
          },
          "metadata": {},
          "execution_count": 5
        }
      ]
    },
    {
      "cell_type": "code",
      "source": [
        "import missingno as msno\n",
        "\n",
        "msno.matrix(df, figsize=(8,4))\n",
        "plt.title(\"Analisando a quantidade de dados faltantes\")\n",
        "plt.show()"
      ],
      "metadata": {
        "colab": {
          "base_uri": "https://localhost:8080/",
          "height": 510
        },
        "id": "ZSYAvzqshokR",
        "outputId": "e6e861a3-e778-4e25-f0ec-2d1604949773"
      },
      "execution_count": null,
      "outputs": [
        {
          "output_type": "display_data",
          "data": {
            "text/plain": [
              "<Figure size 800x400 with 2 Axes>"
            ],
            "image/png": "[encoded data removed]"
          },
          "metadata": {}
        }
      ]
    },
    {
      "cell_type": "markdown",
      "source": [
        "# Limpando e normalizando os dados"
      ],
      "metadata": {
        "id": "QV_9N45vHyX5"
      }
    },
    {
      "cell_type": "code",
      "source": [
        "!pip install unidecode"
      ],
      "metadata": {
        "colab": {
          "base_uri": "https://localhost:8080/"
        },
        "id": "Uh64PeesI_sf",
        "outputId": "a28d03de-4dd9-4254-edf2-7f09ed60f3f5"
      },
      "execution_count": null,
      "outputs": [
        {
          "output_type": "stream",
          "name": "stdout",
          "text": [
            "Collecting unidecode\n",
            "  Downloading Unidecode-1.3.6-py3-none-any.whl (235 kB)\n",
            "\u001b[2K     \u001b[90m━━━━━━━━━━━━━━━━━━━━━━━━━━━━━━━━━━━━━━━\u001b[0m \u001b[32m235.9/235.9 kB\u001b[0m \u001b[31m3.7 MB/s\u001b[0m eta \u001b[36m0:00:00\u001b[0m\n",
            "\u001b[?25hInstalling collected packages: unidecode\n",
            "Successfully installed unidecode-1.3.6\n"
          ]
        }
      ]
    },
    {
      "cell_type": "markdown",
      "source": [
        "Função para formatação de texto"
      ],
      "metadata": {
        "id": "-vUVO1XzMjXJ"
      }
    },
    {
      "cell_type": "code",
      "source": [
        "import re\n",
        "from unidecode import unidecode\n",
        "\n",
        "def clean_and_normalize(text):\n",
        "    # Remoção de caracteres especiais e pontuações\n",
        "    cleaned_text = re.sub(r'[^\\w\\s]', ' ', text)\n",
        "\n",
        "    # Normalização para minúsculas e remoção de acentos\n",
        "    normalized_text = unidecode(cleaned_text.lower())\n",
        "\n",
        "    # Remoção de espaços extras e espaços em branco no início e final\n",
        "    final_text = ' '.join(normalized_text.split())\n",
        "\n",
        "    return final_text\n",
        "\n",
        "# Aplicando a função a todas as colunas de texto do DataFrame\n",
        "text_columns = ['cantorNome', 'musicaNome', 'letra']\n",
        "for col in text_columns:\n",
        "    df[col] = df[col].apply(clean_and_normalize)"
      ],
      "metadata": {
        "id": "YbT7zS8WH2aa"
      },
      "execution_count": null,
      "outputs": []
    },
    {
      "cell_type": "markdown",
      "source": [
        "# Analisando os dados"
      ],
      "metadata": {
        "id": "hmcyrhjZQ8a6"
      }
    },
    {
      "cell_type": "markdown",
      "source": [
        "## Quais os cantores com mais músicas?"
      ],
      "metadata": {
        "id": "0iIc7kTXRgqU"
      }
    },
    {
      "cell_type": "code",
      "source": [
        "cantores_num = df['cantorNome'].value_counts()"
      ],
      "metadata": {
        "id": "nUz_NkIfy9-s"
      },
      "execution_count": null,
      "outputs": []
    },
    {
      "cell_type": "code",
      "source": [
        "df['cantorNome'].value_counts()"
      ],
      "metadata": {
        "colab": {
          "base_uri": "https://localhost:8080/"
        },
        "id": "9EGIp-glxtGS",
        "outputId": "c281f6ed-c3d3-4d21-d1a6-e465c58e68f2"
      },
      "execution_count": null,
      "outputs": [
        {
          "output_type": "execute_result",
          "data": {
            "text/plain": [
              "elvis presley                    759\n",
              "bob dylan                        544\n",
              "neil young                       490\n",
              "bruce springsteen                480\n",
              "elvis costello                   476\n",
              "                                ... \n",
              "lcsilva                            1\n",
              "marcos elemento                    1\n",
              "legiao 138                         1\n",
              "marcelo miglioli e bryan ryus      1\n",
              "leo diaz                           1\n",
              "Name: cantorNome, Length: 526, dtype: int64"
            ]
          },
          "metadata": {},
          "execution_count": 10
        }
      ]
    },
    {
      "cell_type": "code",
      "source": [
        "plt.figure(figsize=(10, 6))\n",
        "plt.bar(cantores_num.index[:20], cantores_num.values[:20], color='royalblue')\n",
        "plt.title('Top 20 Artistas')\n",
        "plt.xticks(rotation=55, ha='right')\n",
        "plt.show()"
      ],
      "metadata": {
        "colab": {
          "base_uri": "https://localhost:8080/",
          "height": 703
        },
        "id": "u6yU1Lt10W3o",
        "outputId": "ff5a5d37-fc31-4a9a-b87a-609cf20e3044"
      },
      "execution_count": null,
      "outputs": [
        {
          "output_type": "display_data",
          "data": {
            "text/plain": [
              "<Figure size 1000x600 with 1 Axes>"
            ],
            "image/png": "[encoded data removed]"
          },
          "metadata": {}
        }
      ]
    },
    {
      "cell_type": "markdown",
      "source": [
        "## Quais as músicas mais populares cantadas por mais de um cantor?"
      ],
      "metadata": {
        "id": "jmWLZLzINInw"
      }
    },
    {
      "cell_type": "code",
      "source": [
        "# formatando os nomes das músicas para minúsculo\n",
        "df['musicaNome'] = df['musicaNome'].str.lower()\n",
        "\n",
        "musicas_num = df['musicaNome'].value_counts()\n",
        "musicas_num[:10]"
      ],
      "metadata": {
        "colab": {
          "base_uri": "https://localhost:8080/"
        },
        "id": "1EZELkfpNTtt",
        "outputId": "ba50026f-a621-41ad-deaf-a1641ec4d218"
      },
      "execution_count": null,
      "outputs": [
        {
          "output_type": "execute_result",
          "data": {
            "text/plain": [
              "hold on               18\n",
              "walk away             17\n",
              "home                  16\n",
              "intro                 15\n",
              "time                  14\n",
              "wish you were here    12\n",
              "without you           12\n",
              "broken                11\n",
              "alone                 11\n",
              "coming home           11\n",
              "Name: musicaNome, dtype: int64"
            ]
          },
          "metadata": {},
          "execution_count": 12
        }
      ]
    },
    {
      "cell_type": "code",
      "source": [
        "plt.figure(figsize=(9, 5))\n",
        "plt.bar(musicas_num.index[:10], musicas_num.values[:10], color='royalblue')\n",
        "plt.title('Top 10 Músicas Populares')\n",
        "plt.xticks(rotation=55, ha='right')\n",
        "plt.xlabel('Música')\n",
        "plt.show()"
      ],
      "metadata": {
        "colab": {
          "base_uri": "https://localhost:8080/",
          "height": 592
        },
        "id": "n5zwOy-FNZMS",
        "outputId": "230606b6-c75f-43eb-862b-adb1e7d30a12"
      },
      "execution_count": null,
      "outputs": [
        {
          "output_type": "display_data",
          "data": {
            "text/plain": [
              "<Figure size 900x500 with 1 Axes>"
            ],
            "image/png": "[encoded data removed]"
          },
          "metadata": {}
        }
      ]
    },
    {
      "cell_type": "markdown",
      "source": [
        "## Quais as palavras mais frequentes nas letras das músicas?"
      ],
      "metadata": {
        "id": "KmiHyd2fM4UZ"
      }
    },
    {
      "cell_type": "code",
      "source": [
        "import nltk\n",
        "from nltk.tokenize import word_tokenize\n",
        "from nltk.probability import FreqDist\n",
        "\n",
        "nltk.download('punkt')"
      ],
      "metadata": {
        "colab": {
          "base_uri": "https://localhost:8080/"
        },
        "id": "pjKwwpWF_2fP",
        "outputId": "4d140bd0-46cc-4182-c848-e546d14aeaa0"
      },
      "execution_count": null,
      "outputs": [
        {
          "output_type": "stream",
          "name": "stderr",
          "text": [
            "[nltk_data] Downloading package punkt to /root/nltk_data...\n",
            "[nltk_data]   Unzipping tokenizers/punkt.zip.\n"
          ]
        },
        {
          "output_type": "execute_result",
          "data": {
            "text/plain": [
              "True"
            ]
          },
          "metadata": {},
          "execution_count": 14
        }
      ]
    },
    {
      "cell_type": "code",
      "source": [
        "def most_frequent_words():\n",
        "  # Concatenar todas as letras de músicas em um único texto\n",
        "  all_lyrics = ' '.join(df['letra'])\n",
        "\n",
        "  # Tokenizar as palavras\n",
        "  words = word_tokenize(all_lyrics)\n",
        "\n",
        "  # Filtrar palavras com pelo menos três letras\n",
        "  words = [word for word in words if len(word) >= 4]\n",
        "\n",
        "  # Calcular a frequência das palavras\n",
        "  freq_dist = FreqDist(words)\n",
        "\n",
        "  # Encontrar a palavra mais frequente\n",
        "  most_common_word = freq_dist.most_common(1)[0][0]\n",
        "\n",
        "  # Encontrar a palavra mais frequente\n",
        "  most_common_words = freq_dist.most_common(10)  # Altere o número para obter mais palavras\n",
        "\n",
        "  print(\"As palavras mais frequentes nas músicas são:\\n\")\n",
        "  for word, freq in most_common_words:\n",
        "    print(f\"{word}: {freq} ocorrências\")\n",
        "\n",
        "most_frequent_words()"
      ],
      "metadata": {
        "colab": {
          "base_uri": "https://localhost:8080/"
        },
        "id": "d_cYo17BM2eu",
        "outputId": "ed5d2e7a-0d26-4ca2-81ee-6aaabab0ae2c"
      },
      "execution_count": null,
      "outputs": [
        {
          "output_type": "stream",
          "name": "stdout",
          "text": [
            "As palavras mais frequentes nas músicas são:\n",
            "\n",
            "your: 66804 ocorrências\n",
            "that: 63733 ocorrências\n",
            "know: 36726 ocorrências\n",
            "love: 34721 ocorrências\n",
            "just: 34305 ocorrências\n",
            "this: 34220 ocorrências\n",
            "what: 33834 ocorrências\n",
            "with: 32077 ocorrências\n",
            "when: 30274 ocorrências\n",
            "like: 30026 ocorrências\n"
          ]
        }
      ]
    },
    {
      "cell_type": "markdown",
      "source": [
        "## Fazer busca por uma palavras chave nas músicas"
      ],
      "metadata": {
        "id": "52hVX5E4NPHh"
      }
    },
    {
      "cell_type": "markdown",
      "source": [
        "### Buscador simples"
      ],
      "metadata": {
        "id": "Pdiu0i7TSjnC"
      }
    },
    {
      "cell_type": "markdown",
      "source": [
        "Busca todos os nomes de músicas e seus respectivos artistas que contém o texto de busca"
      ],
      "metadata": {
        "id": "I2Whf926Napn"
      }
    },
    {
      "cell_type": "code",
      "source": [
        "# Função de busca por palavra-chave\n",
        "def search_lyrics(query):\n",
        "  # Remove caracteres especiais\n",
        "  query = unidecode(query.lower())\n",
        "  return df[df['letra'].str.contains(query, case=False, na=False)]\n",
        "\n",
        "query = input(\"Digite o texto de busca: \")\n",
        "search_result = search_lyrics(query)\n",
        "print(\"\\nResultados da busca:\\n\")\n",
        "print(search_result[['cantorNome', 'musicaNome']].head(10))\n",
        "print(\"\\nNuméro de músicas encontradas: \", len(search_result))"
      ],
      "metadata": {
        "id": "6yB9rhN2S0fa",
        "colab": {
          "base_uri": "https://localhost:8080/"
        },
        "outputId": "89271102-c8d1-448e-a84e-9120074487fb"
      },
      "execution_count": null,
      "outputs": [
        {
          "output_type": "stream",
          "name": "stdout",
          "text": [
            "Digite o texto de busca: saudade\n",
            "\n",
            "Resultados da busca:\n",
            "\n",
            "     cantorNome           musicaNome\n",
            "833       abril     paraiso singular\n",
            "840       abril        segunda feira\n",
            "1865     agnela              a gente\n",
            "2278    aliados          meu caminho\n",
            "2283    aliados     deixa eu mostrar\n",
            "2349    aliados  pra matar a saudade\n",
            "2355    aliados              saudade\n",
            "2358    aliados               sereia\n",
            "3084  alter ego      notas sobre ela\n",
            "4054  autoramas            voce sabe\n",
            "\n",
            "Numéro de músicas encontradas:  257\n"
          ]
        }
      ]
    },
    {
      "cell_type": "markdown",
      "source": [
        "### Buscador com distância"
      ],
      "metadata": {
        "id": "KGDk33toSo6c"
      }
    },
    {
      "cell_type": "code",
      "source": [
        "import scipy"
      ],
      "metadata": {
        "id": "tUZ5vf5DMHD0"
      },
      "execution_count": null,
      "outputs": []
    },
    {
      "cell_type": "markdown",
      "source": [
        "Distância de Jaccard"
      ],
      "metadata": {
        "id": "hZQve-T7Ni7U"
      }
    },
    {
      "cell_type": "code",
      "source": [
        "data = df\n",
        "\n",
        "# distância de Jaccard mede a similatidade entre dois conjuntos de dados\n",
        "def jaccard_distance(s1, s2):\n",
        "    set1 = set(s1)\n",
        "    set2 = set(s2)\n",
        "    intersection = len(set1.intersection(set2))\n",
        "    union = len(set1) + len(set2) - intersection\n",
        "    return 1 - (intersection / union)\n",
        "\n",
        "# percorre cada nome de música e insere o valor da distância em relação ao texto de busca\n",
        "def song_search_jaccard(query):\n",
        "    query = query.lower()\n",
        "    data['distance'] = data['musicaNome'].apply(lambda x: jaccard_distance(query, x.lower()))\n",
        "    results = data.sort_values(by='distance', ascending=True)\n",
        "    return results[['cantorNome', 'musicaNome', 'distance']].head(10)\n",
        "\n",
        "# Interface de busca\n",
        "def main():\n",
        "    search_text = input(\"Digite o texto de busca: \")\n",
        "    search_results_jaccard = song_search_jaccard(search_text)\n",
        "    print(\"\\nResultados da busca:\")\n",
        "    print(search_results_jaccard)"
      ],
      "metadata": {
        "id": "z-ctNhSR_cCl"
      },
      "execution_count": null,
      "outputs": []
    },
    {
      "cell_type": "code",
      "source": [
        "main()"
      ],
      "metadata": {
        "colab": {
          "base_uri": "https://localhost:8080/"
        },
        "id": "MRrdM3nJB5Zq",
        "outputId": "f4bd4675-b18a-4f7c-de96-0b780c97e4bf"
      },
      "execution_count": null,
      "outputs": [
        {
          "output_type": "stream",
          "name": "stdout",
          "text": [
            "Digite o texto de busca: fire\n",
            "\n",
            "Resultados da busca:\n",
            "              cantorNome musicaNome  distance\n",
            "33556              kerli       fire       0.0\n",
            "9812   bruce springsteen       fire       0.0\n",
            "33248           kasabian       fire       0.0\n",
            "11353          camp rock       fire       0.0\n",
            "30809       jimi hendrix       fire       0.0\n",
            "3812        arthur brown       fire       0.0\n",
            "18201             dr sin       fire       0.0\n",
            "15849       danni carlos       fire       0.0\n",
            "47744      ozzy osbourne       fire       0.0\n",
            "2469        alice cooper       fire       0.0\n"
          ]
        }
      ]
    },
    {
      "cell_type": "markdown",
      "source": [
        "Distância de hamming"
      ],
      "metadata": {
        "id": "jsQioFTvNoSm"
      }
    },
    {
      "cell_type": "code",
      "source": [
        "def hamming_distance(s1, s2):\n",
        "    # Certifique-se de que as strings têm o mesmo comprimento\n",
        "    if len(s1) != len(s2):\n",
        "        return float('inf')  # Retorne um valor alto para indicar que as strings têm comprimentos diferentes\n",
        "    return sum(c1 != c2 for c1, c2 in zip(s1, s2))\n",
        "\n",
        "def song_search_hamming(query):\n",
        "    query = query.lower()\n",
        "    df['distance'] = df['musicaNome'].apply(lambda x: hamming_distance(query, x.lower()))\n",
        "    results = df.sort_values(by='distance', ascending=True)\n",
        "    return results[['cantorNome', 'musicaNome', 'distance']].head(20)\n",
        "\n",
        "def main1():\n",
        "    search_text = input(\"Digite o texto de busca: \")\n",
        "    search_results_hamming = song_search_hamming(search_text)\n",
        "    print(\"\\nResultados da busca:\")\n",
        "    print(search_results_hamming)\n",
        "\n"
      ],
      "metadata": {
        "id": "E83fLaIrMz_2"
      },
      "execution_count": null,
      "outputs": []
    },
    {
      "cell_type": "code",
      "source": [
        "main1()"
      ],
      "metadata": {
        "colab": {
          "base_uri": "https://localhost:8080/"
        },
        "id": "UEEWwZXKN-Rr",
        "outputId": "acdca3fb-d4c3-4d1e-f713-e7496bdb541a"
      },
      "execution_count": null,
      "outputs": [
        {
          "output_type": "stream",
          "name": "stdout",
          "text": [
            "Digite o texto de busca: fire\n",
            "\n",
            "Resultados da busca:\n",
            "                      cantorNome musicaNome  distance\n",
            "33556                      kerli       fire       0.0\n",
            "33248                   kasabian       fire       0.0\n",
            "9812           bruce springsteen       fire       0.0\n",
            "15849               danni carlos       fire       0.0\n",
            "11353                  camp rock       fire       0.0\n",
            "3812                arthur brown       fire       0.0\n",
            "2469                alice cooper       fire       0.0\n",
            "18201                     dr sin       fire       0.0\n",
            "47744              ozzy osbourne       fire       0.0\n",
            "30809               jimi hendrix       fire       0.0\n",
            "31205  joan jett the blackhearts       five       1.0\n",
            "15029                      creed       hide       2.0\n",
            "9495                   boogarins       erre       2.0\n",
            "48961                patti smith       nine       2.0\n",
            "34593                       korn       fake       2.0\n",
            "15020                      creed       time       2.0\n",
            "35477              lenny kravitz       ride       2.0\n",
            "47857              ozzy osbourne       time       2.0\n",
            "16270                david bowie       fame       2.0\n",
            "3379                       angra       time       2.0\n"
          ]
        }
      ]
    },
    {
      "cell_type": "markdown",
      "source": [
        "Buscador com opções"
      ],
      "metadata": {
        "id": "7UCBL05BV7aA"
      }
    },
    {
      "cell_type": "code",
      "source": [
        "def search_word_frequency(word):\n",
        "    word = word.lower()\n",
        "\n",
        "    # Concatenar todas as letras de músicas em um único texto\n",
        "    all_lyrics = ' '.join(df['letra'])\n",
        "\n",
        "    # Tokenizar as palavras\n",
        "    words = word_tokenize(all_lyrics)\n",
        "\n",
        "    # Filtrar palavras com pelo menos três letras\n",
        "    words = [word for word in words if len(word) >= 4]\n",
        "\n",
        "    # Calcular a frequência das palavras\n",
        "    freq_dist = FreqDist(words)\n",
        "\n",
        "    word_count = freq_dist[word] if word in freq_dist else 0\n",
        "    print(f\"\\nA palavra '{word}' aparece {word_count} vezes.\")\n",
        "\n",
        "def search_artist_info(artist_name):\n",
        "    artist_name = artist_name.lower()\n",
        "    artist_songs = data[data['cantorNome'].str.lower() == artist_name]\n",
        "    num_songs = len(artist_songs)\n",
        "    print(f\"\\nO cantor '{artist_name}' tem {num_songs} músicas.\")\n",
        "\n",
        "    # Concatenar letras de músicas do cantor em um único texto\n",
        "    artist_lyrics = ' '.join(artist_songs['letra'])\n",
        "    artist_words = word_tokenize(artist_lyrics)\n",
        "    artist_words = [word for word in artist_words if len(word) >= 4]\n",
        "    artist_freq_dist = FreqDist(artist_words)\n",
        "    artist_common_words = artist_freq_dist.most_common(10)\n",
        "\n",
        "    print(\"\\nAs palavras mais frequentes nas músicas do cantor são:\")\n",
        "    for word, freq in artist_common_words:\n",
        "        print(f\"{word}: {freq} ocorrências\")\n",
        "\n",
        "def main():\n",
        "    print(\"Escolha uma opção: \\n\")\n",
        "    print(\"1 - Pesquisar palavra e exibir frequência\")\n",
        "    print(\"2 - Pesquisar cantor e exibir informações\")\n",
        "    choice = int(input())\n",
        "\n",
        "    if choice == 1:\n",
        "        search_word = input(\"\\nDigite a palavra para pesquisar: \\n\")\n",
        "        search_word_frequency(search_word)\n",
        "    elif choice == 2:\n",
        "        artist_name = input(\"\\nDigite o nome do cantor para pesquisar: \\n\")\n",
        "        search_artist_info(artist_name)\n",
        "    else:\n",
        "        print(\"\\nOpção inválida.\")\n",
        "\n",
        "#if _name_ == \"_main_\":\n",
        "#  main()"
      ],
      "metadata": {
        "id": "E0xUi-wqJpef"
      },
      "execution_count": null,
      "outputs": []
    },
    {
      "cell_type": "code",
      "source": [
        "main()"
      ],
      "metadata": {
        "colab": {
          "base_uri": "https://localhost:8080/"
        },
        "id": "NYLW_Q6MPLFJ",
        "outputId": "774ef0b1-74e5-4d65-ef7a-317b652e8ab9"
      },
      "execution_count": null,
      "outputs": [
        {
          "output_type": "stream",
          "name": "stdout",
          "text": [
            "Escolha uma opção: \n",
            "\n",
            "1 - Pesquisar palavra e exibir frequência\n",
            "2 - Pesquisar cantor e exibir informações\n",
            "3\n",
            "\n",
            "Opção inválida.\n"
          ]
        }
      ]
    },
    {
      "cell_type": "code",
      "source": [
        "main()"
      ],
      "metadata": {
        "colab": {
          "base_uri": "https://localhost:8080/"
        },
        "id": "yf0gK05IPxYP",
        "outputId": "7a85836c-df83-4960-8007-90d9b44f6b80"
      },
      "execution_count": null,
      "outputs": [
        {
          "output_type": "stream",
          "name": "stdout",
          "text": [
            "Escolha uma opção: \n",
            "\n",
            "1 - Pesquisar palavra e exibir frequência\n",
            "2 - Pesquisar cantor e exibir informações\n",
            "1\n",
            "\n",
            "Digite a palavra para pesquisar: \n",
            "love\n",
            "\n",
            "A palavra 'love' aparece 34721 vezes.\n"
          ]
        }
      ]
    },
    {
      "cell_type": "code",
      "source": [
        "main()"
      ],
      "metadata": {
        "colab": {
          "base_uri": "https://localhost:8080/"
        },
        "id": "o0Pxv0BzUX1v",
        "outputId": "766dba64-e64a-4b77-f48b-02c8a0381be1"
      },
      "execution_count": null,
      "outputs": [
        {
          "output_type": "stream",
          "name": "stdout",
          "text": [
            "Escolha uma opção: \n",
            "\n",
            "1 - Pesquisar palavra e exibir frequência\n",
            "2 - Pesquisar cantor e exibir informações\n",
            "2\n",
            "\n",
            "Digite o nome do cantor para pesquisar: \n",
            "lulu santos\n",
            "\n",
            "O cantor 'lulu santos' tem 271 músicas.\n",
            "\n",
            "As palavras mais frequentes nas músicas do cantor são:\n",
            "voce: 349 ocorrências\n",
            "mais: 244 ocorrências\n",
            "vida: 162 ocorrências\n",
            "tudo: 155 ocorrências\n",
            "amor: 149 ocorrências\n",
            "como: 132 ocorrências\n",
            "gente: 123 ocorrências\n",
            "quero: 119 ocorrências\n",
            "minha: 116 ocorrências\n",
            "quando: 109 ocorrências\n"
          ]
        }
      ]
    }
  ]
}