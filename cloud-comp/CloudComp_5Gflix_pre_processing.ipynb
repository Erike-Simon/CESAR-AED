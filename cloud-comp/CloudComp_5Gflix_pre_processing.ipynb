{
  "nbformat": 4,
  "nbformat_minor": 0,
  "metadata": {
    "colab": {
      "provenance": [],
      "toc_visible": true
    },
    "kernelspec": {
      "name": "python3",
      "display_name": "Python 3"
    },
    "language_info": {
      "name": "python"
    }
  },
  "cells": [
    {
      "cell_type": "markdown",
      "source": [
        "*CESAR School*\n",
        "\n",
        "*Engenharia em Análise de dados*\n",
        "\n",
        "*Disciplina: Computação em Nuvem*\n",
        "\n",
        "*Aluno: Erike Simon Costa Cativo do Nascimento*\n",
        "\n",
        "*Desafio Final*"
      ],
      "metadata": {
        "id": "Lud1eMueTPG8"
      }
    },
    {
      "cell_type": "markdown",
      "source": [
        "## Configurações iniciais"
      ],
      "metadata": {
        "id": "tjUao8DJb252"
      }
    },
    {
      "cell_type": "markdown",
      "source": [
        "Configurações de drive"
      ],
      "metadata": {
        "id": "hhRi1iMEd4GX"
      }
    },
    {
      "cell_type": "code",
      "execution_count": null,
      "metadata": {
        "colab": {
          "base_uri": "https://localhost:8080/"
        },
        "id": "VaCqE236XKJ3",
        "outputId": "df8454e6-aa48-4ff7-c973-64f9be4bea93"
      },
      "outputs": [
        {
          "output_type": "stream",
          "name": "stdout",
          "text": [
            "Mounted at /content/drive\n"
          ]
        }
      ],
      "source": [
        "from google.colab import drive\n",
        "drive.mount('/content/drive')"
      ]
    },
    {
      "cell_type": "markdown",
      "source": [
        "Instalação do Spark"
      ],
      "metadata": {
        "id": "6OOLnjhrd5yU"
      }
    },
    {
      "cell_type": "code",
      "source": [
        "!pip install --upgrade pyspark"
      ],
      "metadata": {
        "colab": {
          "base_uri": "https://localhost:8080/"
        },
        "id": "Br9SsPGQcEYs",
        "outputId": "320c3e32-8c40-4272-c9f7-f589f7765fc4"
      },
      "execution_count": null,
      "outputs": [
        {
          "output_type": "stream",
          "name": "stdout",
          "text": [
            "Collecting pyspark\n",
            "  Downloading pyspark-3.5.1.tar.gz (317.0 MB)\n",
            "\u001b[2K     \u001b[90m━━━━━━━━━━━━━━━━━━━━━━━━━━━━━━━━━━━━━━━━\u001b[0m \u001b[32m317.0/317.0 MB\u001b[0m \u001b[31m3.5 MB/s\u001b[0m eta \u001b[36m0:00:00\u001b[0m\n",
            "\u001b[?25h  Preparing metadata (setup.py) ... \u001b[?25l\u001b[?25hdone\n",
            "Requirement already satisfied: py4j==0.10.9.7 in /usr/local/lib/python3.10/dist-packages (from pyspark) (0.10.9.7)\n",
            "Building wheels for collected packages: pyspark\n",
            "  Building wheel for pyspark (setup.py) ... \u001b[?25l\u001b[?25hdone\n",
            "  Created wheel for pyspark: filename=pyspark-3.5.1-py2.py3-none-any.whl size=317488491 sha256=acaa10da488f6a36716b769c17d7538c9911730754ea9cc3e3884b020d1998c7\n",
            "  Stored in directory: /root/.cache/pip/wheels/80/1d/60/2c256ed38dddce2fdd93be545214a63e02fbd8d74fb0b7f3a6\n",
            "Successfully built pyspark\n",
            "Installing collected packages: pyspark\n",
            "Successfully installed pyspark-3.5.1\n"
          ]
        }
      ]
    },
    {
      "cell_type": "markdown",
      "source": [
        "Imports e configurações do Spark"
      ],
      "metadata": {
        "id": "g3pTlZhGd-Nm"
      }
    },
    {
      "cell_type": "code",
      "source": [
        "import os\n",
        "import pandas as pd\n",
        "import numpy as np\n",
        "import pyspark.sql.functions as F\n",
        "\n",
        "from pyspark.sql import SparkSession\n",
        "\n",
        "os.environ['PYSPARK_SUBMIT_ARGS'] = '\\\n",
        "      --driver-memory 4G \\\n",
        "      --executor-memory 4G \\\n",
        "      pyspark-shell'\n",
        "\n",
        "# Não utilizar matplotlib como engine de gráficos e usar plotly\n",
        "pd.options.plotting.backend = \"plotly\""
      ],
      "metadata": {
        "id": "OweCy3ZZaTcR"
      },
      "execution_count": null,
      "outputs": []
    },
    {
      "cell_type": "code",
      "source": [
        "# Criando um cluster local com 1 executor e a quantidade de threads igual a quantidade de cores de CPU disponíveis\n",
        "\n",
        "spark = SparkSession.builder\\\n",
        "    .master(\"local[*]\")\\\n",
        "    .getOrCreate()\n",
        "spark"
      ],
      "metadata": {
        "colab": {
          "base_uri": "https://localhost:8080/",
          "height": 222
        },
        "id": "q5xfoBMDcK80",
        "outputId": "0d817131-851c-4adb-b786-112e2d70a8ab"
      },
      "execution_count": null,
      "outputs": [
        {
          "output_type": "execute_result",
          "data": {
            "text/plain": [
              "<pyspark.sql.session.SparkSession at 0x7f3b53406bc0>"
            ],
            "text/html": [
              "\n",
              "            <div>\n",
              "                <p><b>SparkSession - in-memory</b></p>\n",
              "                \n",
              "        <div>\n",
              "            <p><b>SparkContext</b></p>\n",
              "\n",
              "            <p><a href=\"http://3bb04be1ac92:4040\">Spark UI</a></p>\n",
              "\n",
              "            <dl>\n",
              "              <dt>Version</dt>\n",
              "                <dd><code>v3.5.1</code></dd>\n",
              "              <dt>Master</dt>\n",
              "                <dd><code>local[*]</code></dd>\n",
              "              <dt>AppName</dt>\n",
              "                <dd><code>pyspark-shell</code></dd>\n",
              "            </dl>\n",
              "        </div>\n",
              "        \n",
              "            </div>\n",
              "        "
            ]
          },
          "metadata": {},
          "execution_count": 5
        }
      ]
    },
    {
      "cell_type": "code",
      "source": [
        "# Comando para desativar os recursos do spark\n",
        "# spark.stop()"
      ],
      "metadata": {
        "id": "tuoIAQK-cM7z"
      },
      "execution_count": null,
      "outputs": []
    },
    {
      "cell_type": "markdown",
      "source": [
        "## Import e análise dos dados"
      ],
      "metadata": {
        "id": "5eyIDDehis18"
      }
    },
    {
      "cell_type": "code",
      "source": [
        "ROOT_DATA_PATH = \"/content/drive/MyDrive/Colab Notebooks/computacao-nuvem/data\""
      ],
      "metadata": {
        "id": "vyaxz5VSZkM0"
      },
      "execution_count": null,
      "outputs": []
    },
    {
      "cell_type": "markdown",
      "source": [
        "Dataset de filmes"
      ],
      "metadata": {
        "id": "b7mA4hlBjU8R"
      }
    },
    {
      "cell_type": "code",
      "source": [
        "movies_df = spark.read.csv(f'{ROOT_DATA_PATH}/movies.csv', header=False, inferSchema=True, sep=';')\\\n",
        "            .toDF('Movie_Id' , 'Title')\n",
        "movies_df.show(5)"
      ],
      "metadata": {
        "colab": {
          "base_uri": "https://localhost:8080/"
        },
        "id": "X-0yS0FNeHtm",
        "outputId": "c1a057f4-18cf-4130-bd95-8e47e5513d93"
      },
      "execution_count": null,
      "outputs": [
        {
          "output_type": "stream",
          "name": "stdout",
          "text": [
            "+--------+--------------------+\n",
            "|Movie_Id|               Title|\n",
            "+--------+--------------------+\n",
            "|       1|(Dinosaur Planet,...|\n",
            "|       2|(Isle of Man TT 2...|\n",
            "|       3|   (Character, 1997)|\n",
            "|       4|(Paula Abdul's Ge...|\n",
            "|       5|(The Rise and Fal...|\n",
            "+--------+--------------------+\n",
            "only showing top 5 rows\n",
            "\n"
          ]
        }
      ]
    },
    {
      "cell_type": "code",
      "source": [
        "movies_df.printSchema()"
      ],
      "metadata": {
        "colab": {
          "base_uri": "https://localhost:8080/"
        },
        "id": "H5ryJabNizvc",
        "outputId": "e1ff724d-ff9b-40de-a243-3a20dc3741ce"
      },
      "execution_count": null,
      "outputs": [
        {
          "output_type": "stream",
          "name": "stdout",
          "text": [
            "root\n",
            " |-- Movie_Id: integer (nullable = true)\n",
            " |-- Title: string (nullable = true)\n",
            "\n"
          ]
        }
      ]
    },
    {
      "cell_type": "markdown",
      "source": [
        "Dataset de avaliações"
      ],
      "metadata": {
        "id": "CWsZcviSjYZO"
      }
    },
    {
      "cell_type": "code",
      "source": [
        "customers_df = spark.read.csv(f'{ROOT_DATA_PATH}/customers_rating.csv', header=True, inferSchema=True, sep=';')\n",
        "customers_df.show(5)"
      ],
      "metadata": {
        "colab": {
          "base_uri": "https://localhost:8080/"
        },
        "id": "ON_dW8IMc4eb",
        "outputId": "c4d89a02-5570-4452-d48c-aa78e203cf32"
      },
      "execution_count": null,
      "outputs": [
        {
          "output_type": "stream",
          "name": "stdout",
          "text": [
            "+-------+------+----------+--------+\n",
            "|Cust_Id|Rating|      Date|Movie_Id|\n",
            "+-------+------+----------+--------+\n",
            "|1488844|   3.0|2005-09-06|       1|\n",
            "| 822109|   5.0|2005-05-13|       1|\n",
            "| 885013|   4.0|2005-10-19|       1|\n",
            "|  30878|   4.0|2005-12-26|       1|\n",
            "| 823519|   3.0|2004-05-03|       1|\n",
            "+-------+------+----------+--------+\n",
            "only showing top 5 rows\n",
            "\n"
          ]
        }
      ]
    },
    {
      "cell_type": "code",
      "source": [
        "customers_df.printSchema()"
      ],
      "metadata": {
        "colab": {
          "base_uri": "https://localhost:8080/"
        },
        "id": "yuD1gbr_iwSE",
        "outputId": "09aa9140-da61-4ca5-e260-271cbf83ed1d"
      },
      "execution_count": null,
      "outputs": [
        {
          "output_type": "stream",
          "name": "stdout",
          "text": [
            "root\n",
            " |-- Cust_Id: integer (nullable = true)\n",
            " |-- Rating: double (nullable = true)\n",
            " |-- Date: date (nullable = true)\n",
            " |-- Movie_Id: integer (nullable = true)\n",
            "\n"
          ]
        }
      ]
    },
    {
      "cell_type": "markdown",
      "source": [
        "Observando e tratando dados"
      ],
      "metadata": {
        "id": "09WSDM7DkVzi"
      }
    },
    {
      "cell_type": "markdown",
      "source": [
        "`movies_df`"
      ],
      "metadata": {
        "id": "Zd4jWY6onqTi"
      }
    },
    {
      "cell_type": "code",
      "source": [
        "# Conta o número de valores nulos em cada coluna\n",
        "null_counts = movies_df.select([F.when(F.col(c).isNull(), 1).otherwise(0).alias(c) for c in movies_df.columns]) \\\n",
        "                       .agg(*[F.sum(F.col(c)).alias(c) for c in movies_df.columns])\n",
        "\n",
        "null_counts.show()"
      ],
      "metadata": {
        "colab": {
          "base_uri": "https://localhost:8080/"
        },
        "id": "AbAXHjk4kZUO",
        "outputId": "4f8270ad-cfc9-4ad4-b767-441d4cfdeaad"
      },
      "execution_count": null,
      "outputs": [
        {
          "output_type": "stream",
          "name": "stdout",
          "text": [
            "+--------+-----+\n",
            "|Movie_Id|Title|\n",
            "+--------+-----+\n",
            "|       0|    0|\n",
            "+--------+-----+\n",
            "\n"
          ]
        }
      ]
    },
    {
      "cell_type": "code",
      "source": [
        "# Calcula estatísticas resumidas\n",
        "summary_df = movies_df.summary()\n",
        "\n",
        "summary_df.show()"
      ],
      "metadata": {
        "colab": {
          "base_uri": "https://localhost:8080/"
        },
        "id": "GKinSyZgoAGB",
        "outputId": "48f830c8-473e-46fe-c983-6ecd02f35a70"
      },
      "execution_count": null,
      "outputs": [
        {
          "output_type": "stream",
          "name": "stdout",
          "text": [
            "+-------+------------------+--------------------+\n",
            "|summary|          Movie_Id|               Title|\n",
            "+-------+------------------+--------------------+\n",
            "|  count|              4499|                4499|\n",
            "|   mean|            2250.0|                NULL|\n",
            "| stddev|1298.8937600897157|                NULL|\n",
            "|    min|                 1|('N Sync: 'N the ...|\n",
            "|    25%|              1125|                NULL|\n",
            "|    50%|              2250|                NULL|\n",
            "|    75%|              3375|                NULL|\n",
            "|    max|              4499|    (s-Cry-ed, 2003)|\n",
            "+-------+------------------+--------------------+\n",
            "\n"
          ]
        }
      ]
    },
    {
      "cell_type": "markdown",
      "source": [
        "obs: não existem dados nulos no dataset `movies_df`"
      ],
      "metadata": {
        "id": "i_80JALJqzW_"
      }
    },
    {
      "cell_type": "markdown",
      "source": [
        "Extraindo informações de data de lançamento da coluna *'Title'*"
      ],
      "metadata": {
        "id": "crVOB3v2yMqJ"
      }
    },
    {
      "cell_type": "code",
      "source": [
        "# Extrai o ano do título usando regex 'Year'\n",
        "movies_df = movies_df.withColumn('Year', F.regexp_extract('Title', '\\((.*),\\s*(\\d{4})\\)', 2))\n",
        "\n",
        "# Converte a coluna 'Year' para o formato de data\n",
        "movies_df = movies_df.withColumn('Year', F.year('Year'))\n",
        "\n",
        "# Aplica regex para extrair apenas o nome do filme\n",
        "movies_df = movies_df.withColumn('Title', F.regexp_extract('Title', r'\\((.*),\\s*\\d{4}\\)', 1))\n",
        "\n",
        "movies_df.toPandas().head()"
      ],
      "metadata": {
        "colab": {
          "base_uri": "https://localhost:8080/",
          "height": 206
        },
        "id": "0dX98NzL3kiV",
        "outputId": "5722fedf-68e0-4d48-f716-c90379c699b7"
      },
      "execution_count": null,
      "outputs": [
        {
          "output_type": "execute_result",
          "data": {
            "text/plain": [
              "   Movie_Id                         Title  Year\n",
              "0         1               Dinosaur Planet  2003\n",
              "1         2    Isle of Man TT 2004 Review  2004\n",
              "2         3                     Character  1997\n",
              "3         4  Paula Abdul's Get Up & Dance  1994\n",
              "4         5      The Rise and Fall of ECW  2004"
            ],
            "text/html": [
              "\n",
              "  <div id=\"df-11ae2c73-a132-425e-84d4-430c5a62e6ac\" class=\"colab-df-container\">\n",
              "    <div>\n",
              "<style scoped>\n",
              "    .dataframe tbody tr th:only-of-type {\n",
              "        vertical-align: middle;\n",
              "    }\n",
              "\n",
              "    .dataframe tbody tr th {\n",
              "        vertical-align: top;\n",
              "    }\n",
              "\n",
              "    .dataframe thead th {\n",
              "        text-align: right;\n",
              "    }\n",
              "</style>\n",
              "<table border=\"1\" class=\"dataframe\">\n",
              "  <thead>\n",
              "    <tr style=\"text-align: right;\">\n",
              "      <th></th>\n",
              "      <th>Movie_Id</th>\n",
              "      <th>Title</th>\n",
              "      <th>Year</th>\n",
              "    </tr>\n",
              "  </thead>\n",
              "  <tbody>\n",
              "    <tr>\n",
              "      <th>0</th>\n",
              "      <td>1</td>\n",
              "      <td>Dinosaur Planet</td>\n",
              "      <td>2003</td>\n",
              "    </tr>\n",
              "    <tr>\n",
              "      <th>1</th>\n",
              "      <td>2</td>\n",
              "      <td>Isle of Man TT 2004 Review</td>\n",
              "      <td>2004</td>\n",
              "    </tr>\n",
              "    <tr>\n",
              "      <th>2</th>\n",
              "      <td>3</td>\n",
              "      <td>Character</td>\n",
              "      <td>1997</td>\n",
              "    </tr>\n",
              "    <tr>\n",
              "      <th>3</th>\n",
              "      <td>4</td>\n",
              "      <td>Paula Abdul's Get Up &amp; Dance</td>\n",
              "      <td>1994</td>\n",
              "    </tr>\n",
              "    <tr>\n",
              "      <th>4</th>\n",
              "      <td>5</td>\n",
              "      <td>The Rise and Fall of ECW</td>\n",
              "      <td>2004</td>\n",
              "    </tr>\n",
              "  </tbody>\n",
              "</table>\n",
              "</div>\n",
              "    <div class=\"colab-df-buttons\">\n",
              "\n",
              "  <div class=\"colab-df-container\">\n",
              "    <button class=\"colab-df-convert\" onclick=\"convertToInteractive('df-11ae2c73-a132-425e-84d4-430c5a62e6ac')\"\n",
              "            title=\"Convert this dataframe to an interactive table.\"\n",
              "            style=\"display:none;\">\n",
              "\n",
              "  <svg xmlns=\"http://www.w3.org/2000/svg\" height=\"24px\" viewBox=\"0 -960 960 960\">\n",
              "    <path d=\"M120-120v-720h720v720H120Zm60-500h600v-160H180v160Zm220 220h160v-160H400v160Zm0 220h160v-160H400v160ZM180-400h160v-160H180v160Zm440 0h160v-160H620v160ZM180-180h160v-160H180v160Zm440 0h160v-160H620v160Z\"/>\n",
              "  </svg>\n",
              "    </button>\n",
              "\n",
              "  <style>\n",
              "    .colab-df-container {\n",
              "      display:flex;\n",
              "      gap: 12px;\n",
              "    }\n",
              "\n",
              "    .colab-df-convert {\n",
              "      background-color: #E8F0FE;\n",
              "      border: none;\n",
              "      border-radius: 50%;\n",
              "      cursor: pointer;\n",
              "      display: none;\n",
              "      fill: #1967D2;\n",
              "      height: 32px;\n",
              "      padding: 0 0 0 0;\n",
              "      width: 32px;\n",
              "    }\n",
              "\n",
              "    .colab-df-convert:hover {\n",
              "      background-color: #E2EBFA;\n",
              "      box-shadow: 0px 1px 2px rgba(60, 64, 67, 0.3), 0px 1px 3px 1px rgba(60, 64, 67, 0.15);\n",
              "      fill: #174EA6;\n",
              "    }\n",
              "\n",
              "    .colab-df-buttons div {\n",
              "      margin-bottom: 4px;\n",
              "    }\n",
              "\n",
              "    [theme=dark] .colab-df-convert {\n",
              "      background-color: #3B4455;\n",
              "      fill: #D2E3FC;\n",
              "    }\n",
              "\n",
              "    [theme=dark] .colab-df-convert:hover {\n",
              "      background-color: #434B5C;\n",
              "      box-shadow: 0px 1px 3px 1px rgba(0, 0, 0, 0.15);\n",
              "      filter: drop-shadow(0px 1px 2px rgba(0, 0, 0, 0.3));\n",
              "      fill: #FFFFFF;\n",
              "    }\n",
              "  </style>\n",
              "\n",
              "    <script>\n",
              "      const buttonEl =\n",
              "        document.querySelector('#df-11ae2c73-a132-425e-84d4-430c5a62e6ac button.colab-df-convert');\n",
              "      buttonEl.style.display =\n",
              "        google.colab.kernel.accessAllowed ? 'block' : 'none';\n",
              "\n",
              "      async function convertToInteractive(key) {\n",
              "        const element = document.querySelector('#df-11ae2c73-a132-425e-84d4-430c5a62e6ac');\n",
              "        const dataTable =\n",
              "          await google.colab.kernel.invokeFunction('convertToInteractive',\n",
              "                                                    [key], {});\n",
              "        if (!dataTable) return;\n",
              "\n",
              "        const docLinkHtml = 'Like what you see? Visit the ' +\n",
              "          '<a target=\"_blank\" href=https://colab.research.google.com/notebooks/data_table.ipynb>data table notebook</a>'\n",
              "          + ' to learn more about interactive tables.';\n",
              "        element.innerHTML = '';\n",
              "        dataTable['output_type'] = 'display_data';\n",
              "        await google.colab.output.renderOutput(dataTable, element);\n",
              "        const docLink = document.createElement('div');\n",
              "        docLink.innerHTML = docLinkHtml;\n",
              "        element.appendChild(docLink);\n",
              "      }\n",
              "    </script>\n",
              "  </div>\n",
              "\n",
              "\n",
              "<div id=\"df-eda14b49-a03f-4235-bda8-db7b2006f0ad\">\n",
              "  <button class=\"colab-df-quickchart\" onclick=\"quickchart('df-eda14b49-a03f-4235-bda8-db7b2006f0ad')\"\n",
              "            title=\"Suggest charts\"\n",
              "            style=\"display:none;\">\n",
              "\n",
              "<svg xmlns=\"http://www.w3.org/2000/svg\" height=\"24px\"viewBox=\"0 0 24 24\"\n",
              "     width=\"24px\">\n",
              "    <g>\n",
              "        <path d=\"M19 3H5c-1.1 0-2 .9-2 2v14c0 1.1.9 2 2 2h14c1.1 0 2-.9 2-2V5c0-1.1-.9-2-2-2zM9 17H7v-7h2v7zm4 0h-2V7h2v10zm4 0h-2v-4h2v4z\"/>\n",
              "    </g>\n",
              "</svg>\n",
              "  </button>\n",
              "\n",
              "<style>\n",
              "  .colab-df-quickchart {\n",
              "      --bg-color: #E8F0FE;\n",
              "      --fill-color: #1967D2;\n",
              "      --hover-bg-color: #E2EBFA;\n",
              "      --hover-fill-color: #174EA6;\n",
              "      --disabled-fill-color: #AAA;\n",
              "      --disabled-bg-color: #DDD;\n",
              "  }\n",
              "\n",
              "  [theme=dark] .colab-df-quickchart {\n",
              "      --bg-color: #3B4455;\n",
              "      --fill-color: #D2E3FC;\n",
              "      --hover-bg-color: #434B5C;\n",
              "      --hover-fill-color: #FFFFFF;\n",
              "      --disabled-bg-color: #3B4455;\n",
              "      --disabled-fill-color: #666;\n",
              "  }\n",
              "\n",
              "  .colab-df-quickchart {\n",
              "    background-color: var(--bg-color);\n",
              "    border: none;\n",
              "    border-radius: 50%;\n",
              "    cursor: pointer;\n",
              "    display: none;\n",
              "    fill: var(--fill-color);\n",
              "    height: 32px;\n",
              "    padding: 0;\n",
              "    width: 32px;\n",
              "  }\n",
              "\n",
              "  .colab-df-quickchart:hover {\n",
              "    background-color: var(--hover-bg-color);\n",
              "    box-shadow: 0 1px 2px rgba(60, 64, 67, 0.3), 0 1px 3px 1px rgba(60, 64, 67, 0.15);\n",
              "    fill: var(--button-hover-fill-color);\n",
              "  }\n",
              "\n",
              "  .colab-df-quickchart-complete:disabled,\n",
              "  .colab-df-quickchart-complete:disabled:hover {\n",
              "    background-color: var(--disabled-bg-color);\n",
              "    fill: var(--disabled-fill-color);\n",
              "    box-shadow: none;\n",
              "  }\n",
              "\n",
              "  .colab-df-spinner {\n",
              "    border: 2px solid var(--fill-color);\n",
              "    border-color: transparent;\n",
              "    border-bottom-color: var(--fill-color);\n",
              "    animation:\n",
              "      spin 1s steps(1) infinite;\n",
              "  }\n",
              "\n",
              "  @keyframes spin {\n",
              "    0% {\n",
              "      border-color: transparent;\n",
              "      border-bottom-color: var(--fill-color);\n",
              "      border-left-color: var(--fill-color);\n",
              "    }\n",
              "    20% {\n",
              "      border-color: transparent;\n",
              "      border-left-color: var(--fill-color);\n",
              "      border-top-color: var(--fill-color);\n",
              "    }\n",
              "    30% {\n",
              "      border-color: transparent;\n",
              "      border-left-color: var(--fill-color);\n",
              "      border-top-color: var(--fill-color);\n",
              "      border-right-color: var(--fill-color);\n",
              "    }\n",
              "    40% {\n",
              "      border-color: transparent;\n",
              "      border-right-color: var(--fill-color);\n",
              "      border-top-color: var(--fill-color);\n",
              "    }\n",
              "    60% {\n",
              "      border-color: transparent;\n",
              "      border-right-color: var(--fill-color);\n",
              "    }\n",
              "    80% {\n",
              "      border-color: transparent;\n",
              "      border-right-color: var(--fill-color);\n",
              "      border-bottom-color: var(--fill-color);\n",
              "    }\n",
              "    90% {\n",
              "      border-color: transparent;\n",
              "      border-bottom-color: var(--fill-color);\n",
              "    }\n",
              "  }\n",
              "</style>\n",
              "\n",
              "  <script>\n",
              "    async function quickchart(key) {\n",
              "      const quickchartButtonEl =\n",
              "        document.querySelector('#' + key + ' button');\n",
              "      quickchartButtonEl.disabled = true;  // To prevent multiple clicks.\n",
              "      quickchartButtonEl.classList.add('colab-df-spinner');\n",
              "      try {\n",
              "        const charts = await google.colab.kernel.invokeFunction(\n",
              "            'suggestCharts', [key], {});\n",
              "      } catch (error) {\n",
              "        console.error('Error during call to suggestCharts:', error);\n",
              "      }\n",
              "      quickchartButtonEl.classList.remove('colab-df-spinner');\n",
              "      quickchartButtonEl.classList.add('colab-df-quickchart-complete');\n",
              "    }\n",
              "    (() => {\n",
              "      let quickchartButtonEl =\n",
              "        document.querySelector('#df-eda14b49-a03f-4235-bda8-db7b2006f0ad button');\n",
              "      quickchartButtonEl.style.display =\n",
              "        google.colab.kernel.accessAllowed ? 'block' : 'none';\n",
              "    })();\n",
              "  </script>\n",
              "</div>\n",
              "    </div>\n",
              "  </div>\n"
            ],
            "application/vnd.google.colaboratory.intrinsic+json": {
              "type": "dataframe",
              "summary": "{\n  \"name\": \"movies_df\",\n  \"rows\": 5,\n  \"fields\": [\n    {\n      \"column\": \"Movie_Id\",\n      \"properties\": {\n        \"dtype\": \"int32\",\n        \"num_unique_values\": 5,\n        \"samples\": [\n          2,\n          5,\n          3\n        ],\n        \"semantic_type\": \"\",\n        \"description\": \"\"\n      }\n    },\n    {\n      \"column\": \"Title\",\n      \"properties\": {\n        \"dtype\": \"string\",\n        \"num_unique_values\": 5,\n        \"samples\": [\n          \"Isle of Man TT 2004 Review\",\n          \"The Rise and Fall of ECW\",\n          \"Character\"\n        ],\n        \"semantic_type\": \"\",\n        \"description\": \"\"\n      }\n    },\n    {\n      \"column\": \"Year\",\n      \"properties\": {\n        \"dtype\": \"int32\",\n        \"num_unique_values\": 4,\n        \"samples\": [\n          2004,\n          1994,\n          2003\n        ],\n        \"semantic_type\": \"\",\n        \"description\": \"\"\n      }\n    }\n  ]\n}"
            }
          },
          "metadata": {},
          "execution_count": 44
        }
      ]
    },
    {
      "cell_type": "markdown",
      "source": [
        "`customers_df`"
      ],
      "metadata": {
        "id": "zpvY3tf0nt6H"
      }
    },
    {
      "cell_type": "code",
      "source": [
        "null_counts = customers_df.select([F.when(F.col(c).isNull(), 1).otherwise(0).alias(c) for c in customers_df.columns]) \\\n",
        "                       .agg(*[F.sum(F.col(c)).alias(c) for c in customers_df.columns])\n",
        "\n",
        "null_counts.show()"
      ],
      "metadata": {
        "colab": {
          "base_uri": "https://localhost:8080/"
        },
        "id": "GMChh4sGlobc",
        "outputId": "0d30f60e-ed27-41a4-a798-83ee52ee0a76"
      },
      "execution_count": null,
      "outputs": [
        {
          "output_type": "stream",
          "name": "stdout",
          "text": [
            "+-------+------+----+--------+\n",
            "|Cust_Id|Rating|Date|Movie_Id|\n",
            "+-------+------+----+--------+\n",
            "|      0|     0|   0|       0|\n",
            "+-------+------+----+--------+\n",
            "\n"
          ]
        }
      ]
    },
    {
      "cell_type": "markdown",
      "source": [
        "obs: não existem dados nulos no dataset `customers_df`\n",
        "\n",
        "\n",
        "\n"
      ],
      "metadata": {
        "id": "VcgSur88qlF2"
      }
    },
    {
      "cell_type": "code",
      "source": [
        "summary_df = customers_df.summary()\n",
        "\n",
        "summary_df.show()"
      ],
      "metadata": {
        "colab": {
          "base_uri": "https://localhost:8080/"
        },
        "id": "AVyAuqfFmdUC",
        "outputId": "b7c8a712-56c5-4dd1-eae1-8c71ff90a04b"
      },
      "execution_count": null,
      "outputs": [
        {
          "output_type": "stream",
          "name": "stdout",
          "text": [
            "+-------+------------------+------------------+------------------+\n",
            "|summary|           Cust_Id|            Rating|          Movie_Id|\n",
            "+-------+------------------+------------------+------------------+\n",
            "|  count|          24053764|          24053764|          24053764|\n",
            "|   mean|1322285.3422910443|3.5996343025565563|2308.3239047743214|\n",
            "| stddev| 764577.9360816252|1.0861181978521708|1303.9093031879506|\n",
            "|    min|                 6|               1.0|                 1|\n",
            "|    25%|            660822|               3.0|              1180|\n",
            "|    50%|           1318548|               4.0|              2342|\n",
            "|    75%|           1984315|               4.0|              3433|\n",
            "|    max|           2649429|               5.0|              4499|\n",
            "+-------+------------------+------------------+------------------+\n",
            "\n"
          ]
        }
      ]
    },
    {
      "cell_type": "markdown",
      "source": [
        "Criando um *.join()* com os dois datasets"
      ],
      "metadata": {
        "id": "PTX0xZzWpSzB"
      }
    },
    {
      "cell_type": "code",
      "source": [
        "movies = customers_df.join(movies_df, on='Movie_Id', how='inner')\n",
        "movies = movies.cache()\n",
        "movies.show(5)"
      ],
      "metadata": {
        "colab": {
          "base_uri": "https://localhost:8080/"
        },
        "id": "RN6J8nDQi5SM",
        "outputId": "13ca4f08-55f7-4c1f-cd9f-d9a0ca01416b"
      },
      "execution_count": null,
      "outputs": [
        {
          "output_type": "stream",
          "name": "stdout",
          "text": [
            "+--------+-------+------+----------+---------------+----+\n",
            "|Movie_Id|Cust_Id|Rating|      Date|          Title|Year|\n",
            "+--------+-------+------+----------+---------------+----+\n",
            "|       1|1488844|   3.0|2005-09-06|Dinosaur Planet|2003|\n",
            "|       1| 822109|   5.0|2005-05-13|Dinosaur Planet|2003|\n",
            "|       1| 885013|   4.0|2005-10-19|Dinosaur Planet|2003|\n",
            "|       1|  30878|   4.0|2005-12-26|Dinosaur Planet|2003|\n",
            "|       1| 823519|   3.0|2004-05-03|Dinosaur Planet|2003|\n",
            "+--------+-------+------+----------+---------------+----+\n",
            "only showing top 5 rows\n",
            "\n"
          ]
        }
      ]
    },
    {
      "cell_type": "markdown",
      "source": [
        "Salvando os dados em *.parquet* após análise e pré-processamento\n",
        "\n",
        "\n"
      ],
      "metadata": {
        "id": "Tyn31DyyrNzB"
      }
    },
    {
      "cell_type": "code",
      "source": [
        "movies.write.parquet(f'{ROOT_DATA_PATH}/movies', mode='overwrite')"
      ],
      "metadata": {
        "id": "mXMel_jl9CNX"
      },
      "execution_count": null,
      "outputs": []
    }
  ]
}