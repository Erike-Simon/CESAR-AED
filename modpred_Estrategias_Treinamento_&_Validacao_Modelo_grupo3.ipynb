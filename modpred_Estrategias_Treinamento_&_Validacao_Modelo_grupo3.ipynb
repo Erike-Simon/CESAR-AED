{
  "nbformat": 4,
  "nbformat_minor": 0,
  "metadata": {
    "kernelspec": {
      "display_name": "Python 3",
      "language": "python",
      "name": "python3"
    },
    "language_info": {
      "codemirror_mode": {
        "name": "ipython",
        "version": 3
      },
      "file_extension": ".py",
      "mimetype": "text/x-python",
      "name": "python",
      "nbconvert_exporter": "python",
      "pygments_lexer": "ipython3",
      "version": "3.6.1"
    },
    "colab": {
      "provenance": [],
      "include_colab_link": true
    }
  },
  "cells": [
    {
      "cell_type": "markdown",
      "metadata": {
        "id": "view-in-github",
        "colab_type": "text"
      },
      "source": [
        "<a href=\"https://colab.research.google.com/github/Erike-Simon/CESAR-AED/blob/main/modpred_Estrategias_Treinamento_%26_Validacao_Modelo_grupo3.ipynb\" target=\"_parent\"><img src=\"https://colab.research.google.com/assets/colab-badge.svg\" alt=\"Open In Colab\"/></a>"
      ]
    },
    {
      "cell_type": "markdown",
      "source": [
        "**Grupo 3:**\n",
        "* *Anna Carolina de Roldão*\n",
        "* *Arthur Lira*\n",
        "* *Erike Simon*\n",
        "* *José Aparecido Silvano*\n",
        "* *Yaci Mair da Silva Ribeiro*"
      ],
      "metadata": {
        "id": "IXLg72TbBZla"
      }
    },
    {
      "cell_type": "markdown",
      "metadata": {
        "id": "OIYx2HmPNNmP"
      },
      "source": [
        "# Estratégias de Treinamento - Exercício\n",
        "\n",
        "## Importar bibliotecas\n",
        "** Importe pandas, seaborn e as bibliotecas usuais. **"
      ]
    },
    {
      "cell_type": "code",
      "metadata": {
        "collapsed": true,
        "id": "YyOOxWx_NNmY"
      },
      "source": [
        "import pandas as pd\n",
        "import numpy as np\n",
        "import matplotlib.pyplot as plt\n",
        "import seaborn as sns\n",
        "from google.colab import drive\n",
        "from sklearn import preprocessing"
      ],
      "execution_count": null,
      "outputs": []
    },
    {
      "cell_type": "code",
      "source": [
        "%matplotlib inline"
      ],
      "metadata": {
        "id": "IHVd3Ixb4Cg2"
      },
      "execution_count": null,
      "outputs": []
    },
    {
      "cell_type": "markdown",
      "source": [
        "# Usando o algoritmo PCA para diminuir a dimensionalidade"
      ],
      "metadata": {
        "id": "RhY-viCu_lJ_"
      }
    },
    {
      "cell_type": "markdown",
      "source": [
        "\n",
        "\n",
        "1.   Gere uma base de dados com make_classification (https://scikit-learn.org/stable/modules/generated/sklearn.datasets.make_classification.html#sklearn.datasets.make_classification)\n",
        "4.   Faça a separação em treino e teste\n",
        "5.   Utilize o algoritmo PCA https://scikit-learn.org/stable/modules/generated/sklearn.decomposition.PCA.html?highlight=pca#sklearn.decomposition.PCA e gere mais dois conjuntos de dados com 10 e 5 features, além dos dados originais\n",
        "6.   Treine modelos de k-NN com os dados originais e os transformados\n",
        "6.   Analise os resultados\n"
      ],
      "metadata": {
        "id": "ybPxQWn8mNlE"
      }
    },
    {
      "cell_type": "markdown",
      "source": [
        "**make_classification** é uma utilidade fornecida pela biblioteca scikit-learn em Python que permite gerar um conjunto de dados simulados para problemas de classificação. Esses dados são gerados de forma controlada, o que é útil para testar algoritmos de aprendizado de máquina, avaliar modelos e realizar experimentos.\n",
        "\n",
        "* **X** (matriz de características)\n",
        "* **y** (vetor de rótulos de classe)\n",
        "\n",
        "Parâmetros da geração de dados:\n",
        "\n",
        "* **n_samples**: O número total de amostras a serem geradas.\n",
        "* **n_features:** O número de características (colunas) em cada amostra.\n",
        "* **n_classes**: O número de classes no problema de classificação.\n",
        "* **n_informative:** O número de características que têm relação direta com a classe.\n",
        "* **n_redundant:** O número de características que são redundantes (linearmente dependentes) com outras características.\n",
        "* **n_repeated:** O número de recursos duplicados, selecionados aleatoriamente dos recursos informativos e redundantes.\n",
        "* **random_state:** Semente para a geração de números aleatórios, para garantir a reproducibilidade."
      ],
      "metadata": {
        "id": "XC9m4vfyh00G"
      }
    },
    {
      "cell_type": "code",
      "source": [
        "from sklearn.datasets import make_classification\n",
        "\n",
        "X, y = make_classification(\n",
        "    n_samples=1000,\n",
        "    n_features=20,\n",
        "    n_informative=3,\n",
        "    n_redundant=0,\n",
        "    n_repeated=0,\n",
        "    n_classes=2,\n",
        "    random_state=0,\n",
        "    shuffle=False,\n",
        ")"
      ],
      "metadata": {
        "id": "KbaTnkklAcWa"
      },
      "execution_count": null,
      "outputs": []
    },
    {
      "cell_type": "code",
      "source": [
        "pd.DataFrame(X)"
      ],
      "metadata": {
        "colab": {
          "base_uri": "https://localhost:8080/",
          "height": 487
        },
        "id": "Zub--3moe6jj",
        "outputId": "c2f4111a-4b3e-439b-d140-2e09e72dcfbf"
      },
      "execution_count": null,
      "outputs": [
        {
          "output_type": "execute_result",
          "data": {
            "text/plain": [
              "           0         1         2         3         4         5         6   \\\n",
              "0    0.249837  2.079998 -2.415743  1.552502 -0.020253  1.523087  1.508760   \n",
              "1   -0.486287  2.432548 -2.819842 -1.703312 -1.318149 -1.184271  0.975993   \n",
              "2    0.130374  1.371650 -1.486616 -1.749875 -0.281145 -0.747411  0.592592   \n",
              "3    0.036658  0.963423 -1.689170 -0.144788 -0.409029  0.554625 -1.089267   \n",
              "4    1.564024  1.105053 -0.727427 -0.544666  0.303130 -0.240204  1.527715   \n",
              "..        ...       ...       ...       ...       ...       ...       ...   \n",
              "995  1.753272  1.350762  0.579777  1.355334 -0.682064  0.388216  0.499391   \n",
              "996  2.887198  2.005846 -0.527338  0.224019 -1.206909 -1.893959 -0.750064   \n",
              "997  1.415506  1.622401  0.144164  1.343262  0.557403 -0.131092  1.874027   \n",
              "998  0.512619  2.197778  1.178041 -1.861749 -0.717806  1.626153 -0.481092   \n",
              "999  1.571688  0.693505  0.902668 -0.170605 -0.295923 -0.231400  0.920006   \n",
              "\n",
              "           7         8         9         10        11        12        13  \\\n",
              "0   -0.449835 -0.047949 -0.364251 -0.167656  1.152433 -0.205154  1.674354   \n",
              "1   -1.654944  1.080409 -0.739782 -0.268013 -0.626122  1.000353  1.644316   \n",
              "2   -0.024075  1.139351 -1.018469  0.044192 -0.312338 -0.737030  1.900307   \n",
              "3   -1.962814 -1.202401  1.805641 -0.467881  0.756017  1.875314 -0.097472   \n",
              "4    0.002573  0.633612 -0.896717  0.006612 -1.045437  0.051558 -0.262640   \n",
              "..        ...       ...       ...       ...       ...       ...       ...   \n",
              "995 -0.287679  0.169421  1.199816  1.049459  2.229563  0.304981  1.031538   \n",
              "996 -1.382790 -0.644107  1.030650 -0.794827 -1.475122  1.367025 -1.264167   \n",
              "997  0.006228  0.259135 -0.031595 -1.055073  1.589037  0.069098 -0.338229   \n",
              "998  1.581467 -0.315114 -0.510139 -0.556783 -1.045428 -0.615565  0.444112   \n",
              "999  0.537530  0.636700  0.546595 -2.879495  0.782536  0.491549  0.883053   \n",
              "\n",
              "           14        15        16        17        18        19  \n",
              "0    0.923366 -0.597097 -0.782575  0.284199 -0.279372  0.483238  \n",
              "1   -0.160419 -1.008433  0.996747 -1.442006  0.378500 -0.821349  \n",
              "2    0.153546  1.281873 -0.002821 -0.307015 -0.079766 -0.813653  \n",
              "3   -1.916834  0.472943  0.138737 -1.187220 -1.291161  0.158436  \n",
              "4   -1.255730  0.854526 -2.024553 -0.483249  0.011380 -0.161171  \n",
              "..        ...       ...       ...       ...       ...       ...  \n",
              "995 -0.268379 -1.402898  1.278386  2.454545  0.003742  1.175104  \n",
              "996  1.434472  0.160110 -0.246771 -1.374850 -0.047521  1.142797  \n",
              "997  1.239979 -0.044653  0.115578 -2.300739  1.217180 -1.577991  \n",
              "998 -2.643913 -0.220775  1.265747 -0.127596 -1.177026 -0.312941  \n",
              "999  0.245011  0.665044  0.784129 -0.227828  0.744739  2.176270  \n",
              "\n",
              "[1000 rows x 20 columns]"
            ],
            "text/html": [
              "\n",
              "\n",
              "  <div id=\"df-a1004fc7-cca3-406f-9da6-c8e6faad53f4\">\n",
              "    <div class=\"colab-df-container\">\n",
              "      <div>\n",
              "<style scoped>\n",
              "    .dataframe tbody tr th:only-of-type {\n",
              "        vertical-align: middle;\n",
              "    }\n",
              "\n",
              "    .dataframe tbody tr th {\n",
              "        vertical-align: top;\n",
              "    }\n",
              "\n",
              "    .dataframe thead th {\n",
              "        text-align: right;\n",
              "    }\n",
              "</style>\n",
              "<table border=\"1\" class=\"dataframe\">\n",
              "  <thead>\n",
              "    <tr style=\"text-align: right;\">\n",
              "      <th></th>\n",
              "      <th>0</th>\n",
              "      <th>1</th>\n",
              "      <th>2</th>\n",
              "      <th>3</th>\n",
              "      <th>4</th>\n",
              "      <th>5</th>\n",
              "      <th>6</th>\n",
              "      <th>7</th>\n",
              "      <th>8</th>\n",
              "      <th>9</th>\n",
              "      <th>10</th>\n",
              "      <th>11</th>\n",
              "      <th>12</th>\n",
              "      <th>13</th>\n",
              "      <th>14</th>\n",
              "      <th>15</th>\n",
              "      <th>16</th>\n",
              "      <th>17</th>\n",
              "      <th>18</th>\n",
              "      <th>19</th>\n",
              "    </tr>\n",
              "  </thead>\n",
              "  <tbody>\n",
              "    <tr>\n",
              "      <th>0</th>\n",
              "      <td>0.249837</td>\n",
              "      <td>2.079998</td>\n",
              "      <td>-2.415743</td>\n",
              "      <td>1.552502</td>\n",
              "      <td>-0.020253</td>\n",
              "      <td>1.523087</td>\n",
              "      <td>1.508760</td>\n",
              "      <td>-0.449835</td>\n",
              "      <td>-0.047949</td>\n",
              "      <td>-0.364251</td>\n",
              "      <td>-0.167656</td>\n",
              "      <td>1.152433</td>\n",
              "      <td>-0.205154</td>\n",
              "      <td>1.674354</td>\n",
              "      <td>0.923366</td>\n",
              "      <td>-0.597097</td>\n",
              "      <td>-0.782575</td>\n",
              "      <td>0.284199</td>\n",
              "      <td>-0.279372</td>\n",
              "      <td>0.483238</td>\n",
              "    </tr>\n",
              "    <tr>\n",
              "      <th>1</th>\n",
              "      <td>-0.486287</td>\n",
              "      <td>2.432548</td>\n",
              "      <td>-2.819842</td>\n",
              "      <td>-1.703312</td>\n",
              "      <td>-1.318149</td>\n",
              "      <td>-1.184271</td>\n",
              "      <td>0.975993</td>\n",
              "      <td>-1.654944</td>\n",
              "      <td>1.080409</td>\n",
              "      <td>-0.739782</td>\n",
              "      <td>-0.268013</td>\n",
              "      <td>-0.626122</td>\n",
              "      <td>1.000353</td>\n",
              "      <td>1.644316</td>\n",
              "      <td>-0.160419</td>\n",
              "      <td>-1.008433</td>\n",
              "      <td>0.996747</td>\n",
              "      <td>-1.442006</td>\n",
              "      <td>0.378500</td>\n",
              "      <td>-0.821349</td>\n",
              "    </tr>\n",
              "    <tr>\n",
              "      <th>2</th>\n",
              "      <td>0.130374</td>\n",
              "      <td>1.371650</td>\n",
              "      <td>-1.486616</td>\n",
              "      <td>-1.749875</td>\n",
              "      <td>-0.281145</td>\n",
              "      <td>-0.747411</td>\n",
              "      <td>0.592592</td>\n",
              "      <td>-0.024075</td>\n",
              "      <td>1.139351</td>\n",
              "      <td>-1.018469</td>\n",
              "      <td>0.044192</td>\n",
              "      <td>-0.312338</td>\n",
              "      <td>-0.737030</td>\n",
              "      <td>1.900307</td>\n",
              "      <td>0.153546</td>\n",
              "      <td>1.281873</td>\n",
              "      <td>-0.002821</td>\n",
              "      <td>-0.307015</td>\n",
              "      <td>-0.079766</td>\n",
              "      <td>-0.813653</td>\n",
              "    </tr>\n",
              "    <tr>\n",
              "      <th>3</th>\n",
              "      <td>0.036658</td>\n",
              "      <td>0.963423</td>\n",
              "      <td>-1.689170</td>\n",
              "      <td>-0.144788</td>\n",
              "      <td>-0.409029</td>\n",
              "      <td>0.554625</td>\n",
              "      <td>-1.089267</td>\n",
              "      <td>-1.962814</td>\n",
              "      <td>-1.202401</td>\n",
              "      <td>1.805641</td>\n",
              "      <td>-0.467881</td>\n",
              "      <td>0.756017</td>\n",
              "      <td>1.875314</td>\n",
              "      <td>-0.097472</td>\n",
              "      <td>-1.916834</td>\n",
              "      <td>0.472943</td>\n",
              "      <td>0.138737</td>\n",
              "      <td>-1.187220</td>\n",
              "      <td>-1.291161</td>\n",
              "      <td>0.158436</td>\n",
              "    </tr>\n",
              "    <tr>\n",
              "      <th>4</th>\n",
              "      <td>1.564024</td>\n",
              "      <td>1.105053</td>\n",
              "      <td>-0.727427</td>\n",
              "      <td>-0.544666</td>\n",
              "      <td>0.303130</td>\n",
              "      <td>-0.240204</td>\n",
              "      <td>1.527715</td>\n",
              "      <td>0.002573</td>\n",
              "      <td>0.633612</td>\n",
              "      <td>-0.896717</td>\n",
              "      <td>0.006612</td>\n",
              "      <td>-1.045437</td>\n",
              "      <td>0.051558</td>\n",
              "      <td>-0.262640</td>\n",
              "      <td>-1.255730</td>\n",
              "      <td>0.854526</td>\n",
              "      <td>-2.024553</td>\n",
              "      <td>-0.483249</td>\n",
              "      <td>0.011380</td>\n",
              "      <td>-0.161171</td>\n",
              "    </tr>\n",
              "    <tr>\n",
              "      <th>...</th>\n",
              "      <td>...</td>\n",
              "      <td>...</td>\n",
              "      <td>...</td>\n",
              "      <td>...</td>\n",
              "      <td>...</td>\n",
              "      <td>...</td>\n",
              "      <td>...</td>\n",
              "      <td>...</td>\n",
              "      <td>...</td>\n",
              "      <td>...</td>\n",
              "      <td>...</td>\n",
              "      <td>...</td>\n",
              "      <td>...</td>\n",
              "      <td>...</td>\n",
              "      <td>...</td>\n",
              "      <td>...</td>\n",
              "      <td>...</td>\n",
              "      <td>...</td>\n",
              "      <td>...</td>\n",
              "      <td>...</td>\n",
              "    </tr>\n",
              "    <tr>\n",
              "      <th>995</th>\n",
              "      <td>1.753272</td>\n",
              "      <td>1.350762</td>\n",
              "      <td>0.579777</td>\n",
              "      <td>1.355334</td>\n",
              "      <td>-0.682064</td>\n",
              "      <td>0.388216</td>\n",
              "      <td>0.499391</td>\n",
              "      <td>-0.287679</td>\n",
              "      <td>0.169421</td>\n",
              "      <td>1.199816</td>\n",
              "      <td>1.049459</td>\n",
              "      <td>2.229563</td>\n",
              "      <td>0.304981</td>\n",
              "      <td>1.031538</td>\n",
              "      <td>-0.268379</td>\n",
              "      <td>-1.402898</td>\n",
              "      <td>1.278386</td>\n",
              "      <td>2.454545</td>\n",
              "      <td>0.003742</td>\n",
              "      <td>1.175104</td>\n",
              "    </tr>\n",
              "    <tr>\n",
              "      <th>996</th>\n",
              "      <td>2.887198</td>\n",
              "      <td>2.005846</td>\n",
              "      <td>-0.527338</td>\n",
              "      <td>0.224019</td>\n",
              "      <td>-1.206909</td>\n",
              "      <td>-1.893959</td>\n",
              "      <td>-0.750064</td>\n",
              "      <td>-1.382790</td>\n",
              "      <td>-0.644107</td>\n",
              "      <td>1.030650</td>\n",
              "      <td>-0.794827</td>\n",
              "      <td>-1.475122</td>\n",
              "      <td>1.367025</td>\n",
              "      <td>-1.264167</td>\n",
              "      <td>1.434472</td>\n",
              "      <td>0.160110</td>\n",
              "      <td>-0.246771</td>\n",
              "      <td>-1.374850</td>\n",
              "      <td>-0.047521</td>\n",
              "      <td>1.142797</td>\n",
              "    </tr>\n",
              "    <tr>\n",
              "      <th>997</th>\n",
              "      <td>1.415506</td>\n",
              "      <td>1.622401</td>\n",
              "      <td>0.144164</td>\n",
              "      <td>1.343262</td>\n",
              "      <td>0.557403</td>\n",
              "      <td>-0.131092</td>\n",
              "      <td>1.874027</td>\n",
              "      <td>0.006228</td>\n",
              "      <td>0.259135</td>\n",
              "      <td>-0.031595</td>\n",
              "      <td>-1.055073</td>\n",
              "      <td>1.589037</td>\n",
              "      <td>0.069098</td>\n",
              "      <td>-0.338229</td>\n",
              "      <td>1.239979</td>\n",
              "      <td>-0.044653</td>\n",
              "      <td>0.115578</td>\n",
              "      <td>-2.300739</td>\n",
              "      <td>1.217180</td>\n",
              "      <td>-1.577991</td>\n",
              "    </tr>\n",
              "    <tr>\n",
              "      <th>998</th>\n",
              "      <td>0.512619</td>\n",
              "      <td>2.197778</td>\n",
              "      <td>1.178041</td>\n",
              "      <td>-1.861749</td>\n",
              "      <td>-0.717806</td>\n",
              "      <td>1.626153</td>\n",
              "      <td>-0.481092</td>\n",
              "      <td>1.581467</td>\n",
              "      <td>-0.315114</td>\n",
              "      <td>-0.510139</td>\n",
              "      <td>-0.556783</td>\n",
              "      <td>-1.045428</td>\n",
              "      <td>-0.615565</td>\n",
              "      <td>0.444112</td>\n",
              "      <td>-2.643913</td>\n",
              "      <td>-0.220775</td>\n",
              "      <td>1.265747</td>\n",
              "      <td>-0.127596</td>\n",
              "      <td>-1.177026</td>\n",
              "      <td>-0.312941</td>\n",
              "    </tr>\n",
              "    <tr>\n",
              "      <th>999</th>\n",
              "      <td>1.571688</td>\n",
              "      <td>0.693505</td>\n",
              "      <td>0.902668</td>\n",
              "      <td>-0.170605</td>\n",
              "      <td>-0.295923</td>\n",
              "      <td>-0.231400</td>\n",
              "      <td>0.920006</td>\n",
              "      <td>0.537530</td>\n",
              "      <td>0.636700</td>\n",
              "      <td>0.546595</td>\n",
              "      <td>-2.879495</td>\n",
              "      <td>0.782536</td>\n",
              "      <td>0.491549</td>\n",
              "      <td>0.883053</td>\n",
              "      <td>0.245011</td>\n",
              "      <td>0.665044</td>\n",
              "      <td>0.784129</td>\n",
              "      <td>-0.227828</td>\n",
              "      <td>0.744739</td>\n",
              "      <td>2.176270</td>\n",
              "    </tr>\n",
              "  </tbody>\n",
              "</table>\n",
              "<p>1000 rows × 20 columns</p>\n",
              "</div>\n",
              "      <button class=\"colab-df-convert\" onclick=\"convertToInteractive('df-a1004fc7-cca3-406f-9da6-c8e6faad53f4')\"\n",
              "              title=\"Convert this dataframe to an interactive table.\"\n",
              "              style=\"display:none;\">\n",
              "\n",
              "  <svg xmlns=\"http://www.w3.org/2000/svg\" height=\"24px\"viewBox=\"0 0 24 24\"\n",
              "       width=\"24px\">\n",
              "    <path d=\"M0 0h24v24H0V0z\" fill=\"none\"/>\n",
              "    <path d=\"M18.56 5.44l.94 2.06.94-2.06 2.06-.94-2.06-.94-.94-2.06-.94 2.06-2.06.94zm-11 1L8.5 8.5l.94-2.06 2.06-.94-2.06-.94L8.5 2.5l-.94 2.06-2.06.94zm10 10l.94 2.06.94-2.06 2.06-.94-2.06-.94-.94-2.06-.94 2.06-2.06.94z\"/><path d=\"M17.41 7.96l-1.37-1.37c-.4-.4-.92-.59-1.43-.59-.52 0-1.04.2-1.43.59L10.3 9.45l-7.72 7.72c-.78.78-.78 2.05 0 2.83L4 21.41c.39.39.9.59 1.41.59.51 0 1.02-.2 1.41-.59l7.78-7.78 2.81-2.81c.8-.78.8-2.07 0-2.86zM5.41 20L4 18.59l7.72-7.72 1.47 1.35L5.41 20z\"/>\n",
              "  </svg>\n",
              "      </button>\n",
              "\n",
              "\n",
              "\n",
              "    <div id=\"df-cd66ce55-47d1-4eb0-b9be-635a0b892eaf\">\n",
              "      <button class=\"colab-df-quickchart\" onclick=\"quickchart('df-cd66ce55-47d1-4eb0-b9be-635a0b892eaf')\"\n",
              "              title=\"Suggest charts.\"\n",
              "              style=\"display:none;\">\n",
              "\n",
              "<svg xmlns=\"http://www.w3.org/2000/svg\" height=\"24px\"viewBox=\"0 0 24 24\"\n",
              "     width=\"24px\">\n",
              "    <g>\n",
              "        <path d=\"M19 3H5c-1.1 0-2 .9-2 2v14c0 1.1.9 2 2 2h14c1.1 0 2-.9 2-2V5c0-1.1-.9-2-2-2zM9 17H7v-7h2v7zm4 0h-2V7h2v10zm4 0h-2v-4h2v4z\"/>\n",
              "    </g>\n",
              "</svg>\n",
              "      </button>\n",
              "    </div>\n",
              "\n",
              "<style>\n",
              "  .colab-df-quickchart {\n",
              "    background-color: #E8F0FE;\n",
              "    border: none;\n",
              "    border-radius: 50%;\n",
              "    cursor: pointer;\n",
              "    display: none;\n",
              "    fill: #1967D2;\n",
              "    height: 32px;\n",
              "    padding: 0 0 0 0;\n",
              "    width: 32px;\n",
              "  }\n",
              "\n",
              "  .colab-df-quickchart:hover {\n",
              "    background-color: #E2EBFA;\n",
              "    box-shadow: 0px 1px 2px rgba(60, 64, 67, 0.3), 0px 1px 3px 1px rgba(60, 64, 67, 0.15);\n",
              "    fill: #174EA6;\n",
              "  }\n",
              "\n",
              "  [theme=dark] .colab-df-quickchart {\n",
              "    background-color: #3B4455;\n",
              "    fill: #D2E3FC;\n",
              "  }\n",
              "\n",
              "  [theme=dark] .colab-df-quickchart:hover {\n",
              "    background-color: #434B5C;\n",
              "    box-shadow: 0px 1px 3px 1px rgba(0, 0, 0, 0.15);\n",
              "    filter: drop-shadow(0px 1px 2px rgba(0, 0, 0, 0.3));\n",
              "    fill: #FFFFFF;\n",
              "  }\n",
              "</style>\n",
              "\n",
              "    <script>\n",
              "      async function quickchart(key) {\n",
              "        const containerElement = document.querySelector('#' + key);\n",
              "        const charts = await google.colab.kernel.invokeFunction(\n",
              "            'suggestCharts', [key], {});\n",
              "      }\n",
              "    </script>\n",
              "\n",
              "      <script>\n",
              "\n",
              "function displayQuickchartButton(domScope) {\n",
              "  let quickchartButtonEl =\n",
              "    domScope.querySelector('#df-cd66ce55-47d1-4eb0-b9be-635a0b892eaf button.colab-df-quickchart');\n",
              "  quickchartButtonEl.style.display =\n",
              "    google.colab.kernel.accessAllowed ? 'block' : 'none';\n",
              "}\n",
              "\n",
              "        displayQuickchartButton(document);\n",
              "      </script>\n",
              "      <style>\n",
              "    .colab-df-container {\n",
              "      display:flex;\n",
              "      flex-wrap:wrap;\n",
              "      gap: 12px;\n",
              "    }\n",
              "\n",
              "    .colab-df-convert {\n",
              "      background-color: #E8F0FE;\n",
              "      border: none;\n",
              "      border-radius: 50%;\n",
              "      cursor: pointer;\n",
              "      display: none;\n",
              "      fill: #1967D2;\n",
              "      height: 32px;\n",
              "      padding: 0 0 0 0;\n",
              "      width: 32px;\n",
              "    }\n",
              "\n",
              "    .colab-df-convert:hover {\n",
              "      background-color: #E2EBFA;\n",
              "      box-shadow: 0px 1px 2px rgba(60, 64, 67, 0.3), 0px 1px 3px 1px rgba(60, 64, 67, 0.15);\n",
              "      fill: #174EA6;\n",
              "    }\n",
              "\n",
              "    [theme=dark] .colab-df-convert {\n",
              "      background-color: #3B4455;\n",
              "      fill: #D2E3FC;\n",
              "    }\n",
              "\n",
              "    [theme=dark] .colab-df-convert:hover {\n",
              "      background-color: #434B5C;\n",
              "      box-shadow: 0px 1px 3px 1px rgba(0, 0, 0, 0.15);\n",
              "      filter: drop-shadow(0px 1px 2px rgba(0, 0, 0, 0.3));\n",
              "      fill: #FFFFFF;\n",
              "    }\n",
              "  </style>\n",
              "\n",
              "      <script>\n",
              "        const buttonEl =\n",
              "          document.querySelector('#df-a1004fc7-cca3-406f-9da6-c8e6faad53f4 button.colab-df-convert');\n",
              "        buttonEl.style.display =\n",
              "          google.colab.kernel.accessAllowed ? 'block' : 'none';\n",
              "\n",
              "        async function convertToInteractive(key) {\n",
              "          const element = document.querySelector('#df-a1004fc7-cca3-406f-9da6-c8e6faad53f4');\n",
              "          const dataTable =\n",
              "            await google.colab.kernel.invokeFunction('convertToInteractive',\n",
              "                                                     [key], {});\n",
              "          if (!dataTable) return;\n",
              "\n",
              "          const docLinkHtml = 'Like what you see? Visit the ' +\n",
              "            '<a target=\"_blank\" href=https://colab.research.google.com/notebooks/data_table.ipynb>data table notebook</a>'\n",
              "            + ' to learn more about interactive tables.';\n",
              "          element.innerHTML = '';\n",
              "          dataTable['output_type'] = 'display_data';\n",
              "          await google.colab.output.renderOutput(dataTable, element);\n",
              "          const docLink = document.createElement('div');\n",
              "          docLink.innerHTML = docLinkHtml;\n",
              "          element.appendChild(docLink);\n",
              "        }\n",
              "      </script>\n",
              "    </div>\n",
              "  </div>\n"
            ]
          },
          "metadata": {},
          "execution_count": 4
        }
      ]
    },
    {
      "cell_type": "code",
      "source": [
        "pd.DataFrame(y)"
      ],
      "metadata": {
        "colab": {
          "base_uri": "https://localhost:8080/",
          "height": 423
        },
        "id": "KkccGR0EfJrn",
        "outputId": "804a49e4-d49b-4b94-c980-6a5e133789f9"
      },
      "execution_count": null,
      "outputs": [
        {
          "output_type": "execute_result",
          "data": {
            "text/plain": [
              "     0\n",
              "0    0\n",
              "1    0\n",
              "2    0\n",
              "3    0\n",
              "4    0\n",
              "..  ..\n",
              "995  1\n",
              "996  1\n",
              "997  1\n",
              "998  1\n",
              "999  1\n",
              "\n",
              "[1000 rows x 1 columns]"
            ],
            "text/html": [
              "\n",
              "\n",
              "  <div id=\"df-23ec0d9a-a06b-450f-a39e-ab5b4b222aa5\">\n",
              "    <div class=\"colab-df-container\">\n",
              "      <div>\n",
              "<style scoped>\n",
              "    .dataframe tbody tr th:only-of-type {\n",
              "        vertical-align: middle;\n",
              "    }\n",
              "\n",
              "    .dataframe tbody tr th {\n",
              "        vertical-align: top;\n",
              "    }\n",
              "\n",
              "    .dataframe thead th {\n",
              "        text-align: right;\n",
              "    }\n",
              "</style>\n",
              "<table border=\"1\" class=\"dataframe\">\n",
              "  <thead>\n",
              "    <tr style=\"text-align: right;\">\n",
              "      <th></th>\n",
              "      <th>0</th>\n",
              "    </tr>\n",
              "  </thead>\n",
              "  <tbody>\n",
              "    <tr>\n",
              "      <th>0</th>\n",
              "      <td>0</td>\n",
              "    </tr>\n",
              "    <tr>\n",
              "      <th>1</th>\n",
              "      <td>0</td>\n",
              "    </tr>\n",
              "    <tr>\n",
              "      <th>2</th>\n",
              "      <td>0</td>\n",
              "    </tr>\n",
              "    <tr>\n",
              "      <th>3</th>\n",
              "      <td>0</td>\n",
              "    </tr>\n",
              "    <tr>\n",
              "      <th>4</th>\n",
              "      <td>0</td>\n",
              "    </tr>\n",
              "    <tr>\n",
              "      <th>...</th>\n",
              "      <td>...</td>\n",
              "    </tr>\n",
              "    <tr>\n",
              "      <th>995</th>\n",
              "      <td>1</td>\n",
              "    </tr>\n",
              "    <tr>\n",
              "      <th>996</th>\n",
              "      <td>1</td>\n",
              "    </tr>\n",
              "    <tr>\n",
              "      <th>997</th>\n",
              "      <td>1</td>\n",
              "    </tr>\n",
              "    <tr>\n",
              "      <th>998</th>\n",
              "      <td>1</td>\n",
              "    </tr>\n",
              "    <tr>\n",
              "      <th>999</th>\n",
              "      <td>1</td>\n",
              "    </tr>\n",
              "  </tbody>\n",
              "</table>\n",
              "<p>1000 rows × 1 columns</p>\n",
              "</div>\n",
              "      <button class=\"colab-df-convert\" onclick=\"convertToInteractive('df-23ec0d9a-a06b-450f-a39e-ab5b4b222aa5')\"\n",
              "              title=\"Convert this dataframe to an interactive table.\"\n",
              "              style=\"display:none;\">\n",
              "\n",
              "  <svg xmlns=\"http://www.w3.org/2000/svg\" height=\"24px\"viewBox=\"0 0 24 24\"\n",
              "       width=\"24px\">\n",
              "    <path d=\"M0 0h24v24H0V0z\" fill=\"none\"/>\n",
              "    <path d=\"M18.56 5.44l.94 2.06.94-2.06 2.06-.94-2.06-.94-.94-2.06-.94 2.06-2.06.94zm-11 1L8.5 8.5l.94-2.06 2.06-.94-2.06-.94L8.5 2.5l-.94 2.06-2.06.94zm10 10l.94 2.06.94-2.06 2.06-.94-2.06-.94-.94-2.06-.94 2.06-2.06.94z\"/><path d=\"M17.41 7.96l-1.37-1.37c-.4-.4-.92-.59-1.43-.59-.52 0-1.04.2-1.43.59L10.3 9.45l-7.72 7.72c-.78.78-.78 2.05 0 2.83L4 21.41c.39.39.9.59 1.41.59.51 0 1.02-.2 1.41-.59l7.78-7.78 2.81-2.81c.8-.78.8-2.07 0-2.86zM5.41 20L4 18.59l7.72-7.72 1.47 1.35L5.41 20z\"/>\n",
              "  </svg>\n",
              "      </button>\n",
              "\n",
              "\n",
              "\n",
              "    <div id=\"df-c9ea149d-cda7-487e-a375-bb522accb0be\">\n",
              "      <button class=\"colab-df-quickchart\" onclick=\"quickchart('df-c9ea149d-cda7-487e-a375-bb522accb0be')\"\n",
              "              title=\"Suggest charts.\"\n",
              "              style=\"display:none;\">\n",
              "\n",
              "<svg xmlns=\"http://www.w3.org/2000/svg\" height=\"24px\"viewBox=\"0 0 24 24\"\n",
              "     width=\"24px\">\n",
              "    <g>\n",
              "        <path d=\"M19 3H5c-1.1 0-2 .9-2 2v14c0 1.1.9 2 2 2h14c1.1 0 2-.9 2-2V5c0-1.1-.9-2-2-2zM9 17H7v-7h2v7zm4 0h-2V7h2v10zm4 0h-2v-4h2v4z\"/>\n",
              "    </g>\n",
              "</svg>\n",
              "      </button>\n",
              "    </div>\n",
              "\n",
              "<style>\n",
              "  .colab-df-quickchart {\n",
              "    background-color: #E8F0FE;\n",
              "    border: none;\n",
              "    border-radius: 50%;\n",
              "    cursor: pointer;\n",
              "    display: none;\n",
              "    fill: #1967D2;\n",
              "    height: 32px;\n",
              "    padding: 0 0 0 0;\n",
              "    width: 32px;\n",
              "  }\n",
              "\n",
              "  .colab-df-quickchart:hover {\n",
              "    background-color: #E2EBFA;\n",
              "    box-shadow: 0px 1px 2px rgba(60, 64, 67, 0.3), 0px 1px 3px 1px rgba(60, 64, 67, 0.15);\n",
              "    fill: #174EA6;\n",
              "  }\n",
              "\n",
              "  [theme=dark] .colab-df-quickchart {\n",
              "    background-color: #3B4455;\n",
              "    fill: #D2E3FC;\n",
              "  }\n",
              "\n",
              "  [theme=dark] .colab-df-quickchart:hover {\n",
              "    background-color: #434B5C;\n",
              "    box-shadow: 0px 1px 3px 1px rgba(0, 0, 0, 0.15);\n",
              "    filter: drop-shadow(0px 1px 2px rgba(0, 0, 0, 0.3));\n",
              "    fill: #FFFFFF;\n",
              "  }\n",
              "</style>\n",
              "\n",
              "    <script>\n",
              "      async function quickchart(key) {\n",
              "        const containerElement = document.querySelector('#' + key);\n",
              "        const charts = await google.colab.kernel.invokeFunction(\n",
              "            'suggestCharts', [key], {});\n",
              "      }\n",
              "    </script>\n",
              "\n",
              "      <script>\n",
              "\n",
              "function displayQuickchartButton(domScope) {\n",
              "  let quickchartButtonEl =\n",
              "    domScope.querySelector('#df-c9ea149d-cda7-487e-a375-bb522accb0be button.colab-df-quickchart');\n",
              "  quickchartButtonEl.style.display =\n",
              "    google.colab.kernel.accessAllowed ? 'block' : 'none';\n",
              "}\n",
              "\n",
              "        displayQuickchartButton(document);\n",
              "      </script>\n",
              "      <style>\n",
              "    .colab-df-container {\n",
              "      display:flex;\n",
              "      flex-wrap:wrap;\n",
              "      gap: 12px;\n",
              "    }\n",
              "\n",
              "    .colab-df-convert {\n",
              "      background-color: #E8F0FE;\n",
              "      border: none;\n",
              "      border-radius: 50%;\n",
              "      cursor: pointer;\n",
              "      display: none;\n",
              "      fill: #1967D2;\n",
              "      height: 32px;\n",
              "      padding: 0 0 0 0;\n",
              "      width: 32px;\n",
              "    }\n",
              "\n",
              "    .colab-df-convert:hover {\n",
              "      background-color: #E2EBFA;\n",
              "      box-shadow: 0px 1px 2px rgba(60, 64, 67, 0.3), 0px 1px 3px 1px rgba(60, 64, 67, 0.15);\n",
              "      fill: #174EA6;\n",
              "    }\n",
              "\n",
              "    [theme=dark] .colab-df-convert {\n",
              "      background-color: #3B4455;\n",
              "      fill: #D2E3FC;\n",
              "    }\n",
              "\n",
              "    [theme=dark] .colab-df-convert:hover {\n",
              "      background-color: #434B5C;\n",
              "      box-shadow: 0px 1px 3px 1px rgba(0, 0, 0, 0.15);\n",
              "      filter: drop-shadow(0px 1px 2px rgba(0, 0, 0, 0.3));\n",
              "      fill: #FFFFFF;\n",
              "    }\n",
              "  </style>\n",
              "\n",
              "      <script>\n",
              "        const buttonEl =\n",
              "          document.querySelector('#df-23ec0d9a-a06b-450f-a39e-ab5b4b222aa5 button.colab-df-convert');\n",
              "        buttonEl.style.display =\n",
              "          google.colab.kernel.accessAllowed ? 'block' : 'none';\n",
              "\n",
              "        async function convertToInteractive(key) {\n",
              "          const element = document.querySelector('#df-23ec0d9a-a06b-450f-a39e-ab5b4b222aa5');\n",
              "          const dataTable =\n",
              "            await google.colab.kernel.invokeFunction('convertToInteractive',\n",
              "                                                     [key], {});\n",
              "          if (!dataTable) return;\n",
              "\n",
              "          const docLinkHtml = 'Like what you see? Visit the ' +\n",
              "            '<a target=\"_blank\" href=https://colab.research.google.com/notebooks/data_table.ipynb>data table notebook</a>'\n",
              "            + ' to learn more about interactive tables.';\n",
              "          element.innerHTML = '';\n",
              "          dataTable['output_type'] = 'display_data';\n",
              "          await google.colab.output.renderOutput(dataTable, element);\n",
              "          const docLink = document.createElement('div');\n",
              "          docLink.innerHTML = docLinkHtml;\n",
              "          element.appendChild(docLink);\n",
              "        }\n",
              "      </script>\n",
              "    </div>\n",
              "  </div>\n"
            ]
          },
          "metadata": {},
          "execution_count": 5
        }
      ]
    },
    {
      "cell_type": "markdown",
      "metadata": {
        "id": "WmfFK4ukQA1a"
      },
      "source": [
        "# Divisão treino-teste\n",
        "\n",
        "Use o método train_test_split para dividir seus dados em um conjunto treino e teste."
      ]
    },
    {
      "cell_type": "code",
      "metadata": {
        "collapsed": true,
        "id": "IK7YQMfDQA1b"
      },
      "source": [
        "from sklearn.model_selection import train_test_split"
      ],
      "execution_count": null,
      "outputs": []
    },
    {
      "cell_type": "code",
      "metadata": {
        "collapsed": true,
        "id": "FNEzKKgAQA1d"
      },
      "source": [
        "#                                                   # 1 parametro: X, 2 parametro: Y\n",
        "X_train, X_test, y_train, y_test = train_test_split(X, y,\n",
        "                                                    test_size=0.30,\n",
        "                                                    random_state=111)"
      ],
      "execution_count": null,
      "outputs": []
    },
    {
      "cell_type": "code",
      "source": [
        "pd.DataFrame(X_train)"
      ],
      "metadata": {
        "colab": {
          "base_uri": "https://localhost:8080/",
          "height": 487
        },
        "id": "CTadS_bXkQdY",
        "outputId": "26820ac8-6c12-4114-99a0-617484e45ac1"
      },
      "execution_count": null,
      "outputs": [
        {
          "output_type": "execute_result",
          "data": {
            "text/plain": [
              "           0         1         2         3         4         5         6   \\\n",
              "0   -0.126584 -1.556869 -0.393826 -0.537029  0.244593  0.909225 -0.335435   \n",
              "1   -0.560851  0.007607 -1.250866  0.790119 -0.971438  2.171174  1.474813   \n",
              "2   -0.141132 -0.988946  1.703233 -1.191640  0.003872  0.052027  1.494709   \n",
              "3   -0.751421  0.678175 -1.145951 -0.618201 -1.509645  0.453928  1.188726   \n",
              "4   -1.287418 -0.570223  1.944239  0.504160  1.469254  1.011170  0.698313   \n",
              "..        ...       ...       ...       ...       ...       ...       ...   \n",
              "695  1.259228  0.093750 -0.170545 -0.145614 -0.305567  0.022338  0.033837   \n",
              "696 -0.167795 -1.064876  0.548325  0.739557  1.040714 -0.821612 -0.690663   \n",
              "697  1.102762  1.617529 -0.137752 -1.836307  1.447674 -0.261039 -0.631118   \n",
              "698  0.460563  0.304735  1.743974 -0.164564 -1.225236 -1.031973 -1.476970   \n",
              "699  1.095820  2.256124  0.607349 -0.293746 -0.057139 -0.861931 -1.753300   \n",
              "\n",
              "           7         8         9         10        11        12        13  \\\n",
              "0   -0.926489  0.030067 -1.041111 -1.894451  0.009549 -0.539616  0.335386   \n",
              "1    2.019364 -0.887596  1.155326  1.903693 -1.628754 -1.335810 -0.057917   \n",
              "2    0.266196 -0.594795  0.060193  2.255620 -0.780041 -1.034345  0.664241   \n",
              "3    1.441281 -1.256541  1.095307 -0.132422  0.088595 -0.069472 -0.083308   \n",
              "4   -0.430206  0.986950  0.343508  0.679335 -0.869308 -1.079720  1.243285   \n",
              "..        ...       ...       ...       ...       ...       ...       ...   \n",
              "695 -1.033990  1.670193 -2.631995 -0.652061 -0.482154 -0.042979 -0.776220   \n",
              "696  0.323779  0.196112  1.045185  0.573334  0.426461  0.164445 -0.550351   \n",
              "697  0.814594 -0.400019  0.197014 -1.418650  1.246415 -0.612698  0.062948   \n",
              "698 -0.771503 -1.015393  1.572609 -1.094883  0.622019  0.214341  0.145393   \n",
              "699  0.777668 -2.061508 -1.475895  0.769902  0.570931  0.647793  1.056050   \n",
              "\n",
              "           14        15        16        17        18        19  \n",
              "0   -0.610495  0.725847 -0.266054 -0.298323  0.981439  0.214337  \n",
              "1   -0.558684  0.310031  0.812405  0.561879  0.550139  0.244694  \n",
              "2    0.161702  0.121052  0.278309 -1.236594 -0.747080 -0.397337  \n",
              "3   -1.232816  0.427011  0.882100 -1.373310  1.125968 -0.062110  \n",
              "4    1.408410  0.094659 -0.417223 -0.898552  0.436590 -0.233951  \n",
              "..        ...       ...       ...       ...       ...       ...  \n",
              "695  2.106576 -0.489806 -0.448134 -0.737414  1.242988 -0.399053  \n",
              "696 -0.788338  0.347695  0.557746 -1.679785 -0.758403  0.297600  \n",
              "697 -0.794200 -1.133524  0.515778 -0.076092  0.226114  0.516449  \n",
              "698  0.699119 -0.303463 -0.375053  0.381186 -2.088375  0.004993  \n",
              "699  1.279353 -0.676138 -0.374750 -2.472639  1.580265 -0.545632  \n",
              "\n",
              "[700 rows x 20 columns]"
            ],
            "text/html": [
              "\n",
              "\n",
              "  <div id=\"df-6d1bc781-c1c2-4bb4-848d-1950af6b3290\">\n",
              "    <div class=\"colab-df-container\">\n",
              "      <div>\n",
              "<style scoped>\n",
              "    .dataframe tbody tr th:only-of-type {\n",
              "        vertical-align: middle;\n",
              "    }\n",
              "\n",
              "    .dataframe tbody tr th {\n",
              "        vertical-align: top;\n",
              "    }\n",
              "\n",
              "    .dataframe thead th {\n",
              "        text-align: right;\n",
              "    }\n",
              "</style>\n",
              "<table border=\"1\" class=\"dataframe\">\n",
              "  <thead>\n",
              "    <tr style=\"text-align: right;\">\n",
              "      <th></th>\n",
              "      <th>0</th>\n",
              "      <th>1</th>\n",
              "      <th>2</th>\n",
              "      <th>3</th>\n",
              "      <th>4</th>\n",
              "      <th>5</th>\n",
              "      <th>6</th>\n",
              "      <th>7</th>\n",
              "      <th>8</th>\n",
              "      <th>9</th>\n",
              "      <th>10</th>\n",
              "      <th>11</th>\n",
              "      <th>12</th>\n",
              "      <th>13</th>\n",
              "      <th>14</th>\n",
              "      <th>15</th>\n",
              "      <th>16</th>\n",
              "      <th>17</th>\n",
              "      <th>18</th>\n",
              "      <th>19</th>\n",
              "    </tr>\n",
              "  </thead>\n",
              "  <tbody>\n",
              "    <tr>\n",
              "      <th>0</th>\n",
              "      <td>-0.126584</td>\n",
              "      <td>-1.556869</td>\n",
              "      <td>-0.393826</td>\n",
              "      <td>-0.537029</td>\n",
              "      <td>0.244593</td>\n",
              "      <td>0.909225</td>\n",
              "      <td>-0.335435</td>\n",
              "      <td>-0.926489</td>\n",
              "      <td>0.030067</td>\n",
              "      <td>-1.041111</td>\n",
              "      <td>-1.894451</td>\n",
              "      <td>0.009549</td>\n",
              "      <td>-0.539616</td>\n",
              "      <td>0.335386</td>\n",
              "      <td>-0.610495</td>\n",
              "      <td>0.725847</td>\n",
              "      <td>-0.266054</td>\n",
              "      <td>-0.298323</td>\n",
              "      <td>0.981439</td>\n",
              "      <td>0.214337</td>\n",
              "    </tr>\n",
              "    <tr>\n",
              "      <th>1</th>\n",
              "      <td>-0.560851</td>\n",
              "      <td>0.007607</td>\n",
              "      <td>-1.250866</td>\n",
              "      <td>0.790119</td>\n",
              "      <td>-0.971438</td>\n",
              "      <td>2.171174</td>\n",
              "      <td>1.474813</td>\n",
              "      <td>2.019364</td>\n",
              "      <td>-0.887596</td>\n",
              "      <td>1.155326</td>\n",
              "      <td>1.903693</td>\n",
              "      <td>-1.628754</td>\n",
              "      <td>-1.335810</td>\n",
              "      <td>-0.057917</td>\n",
              "      <td>-0.558684</td>\n",
              "      <td>0.310031</td>\n",
              "      <td>0.812405</td>\n",
              "      <td>0.561879</td>\n",
              "      <td>0.550139</td>\n",
              "      <td>0.244694</td>\n",
              "    </tr>\n",
              "    <tr>\n",
              "      <th>2</th>\n",
              "      <td>-0.141132</td>\n",
              "      <td>-0.988946</td>\n",
              "      <td>1.703233</td>\n",
              "      <td>-1.191640</td>\n",
              "      <td>0.003872</td>\n",
              "      <td>0.052027</td>\n",
              "      <td>1.494709</td>\n",
              "      <td>0.266196</td>\n",
              "      <td>-0.594795</td>\n",
              "      <td>0.060193</td>\n",
              "      <td>2.255620</td>\n",
              "      <td>-0.780041</td>\n",
              "      <td>-1.034345</td>\n",
              "      <td>0.664241</td>\n",
              "      <td>0.161702</td>\n",
              "      <td>0.121052</td>\n",
              "      <td>0.278309</td>\n",
              "      <td>-1.236594</td>\n",
              "      <td>-0.747080</td>\n",
              "      <td>-0.397337</td>\n",
              "    </tr>\n",
              "    <tr>\n",
              "      <th>3</th>\n",
              "      <td>-0.751421</td>\n",
              "      <td>0.678175</td>\n",
              "      <td>-1.145951</td>\n",
              "      <td>-0.618201</td>\n",
              "      <td>-1.509645</td>\n",
              "      <td>0.453928</td>\n",
              "      <td>1.188726</td>\n",
              "      <td>1.441281</td>\n",
              "      <td>-1.256541</td>\n",
              "      <td>1.095307</td>\n",
              "      <td>-0.132422</td>\n",
              "      <td>0.088595</td>\n",
              "      <td>-0.069472</td>\n",
              "      <td>-0.083308</td>\n",
              "      <td>-1.232816</td>\n",
              "      <td>0.427011</td>\n",
              "      <td>0.882100</td>\n",
              "      <td>-1.373310</td>\n",
              "      <td>1.125968</td>\n",
              "      <td>-0.062110</td>\n",
              "    </tr>\n",
              "    <tr>\n",
              "      <th>4</th>\n",
              "      <td>-1.287418</td>\n",
              "      <td>-0.570223</td>\n",
              "      <td>1.944239</td>\n",
              "      <td>0.504160</td>\n",
              "      <td>1.469254</td>\n",
              "      <td>1.011170</td>\n",
              "      <td>0.698313</td>\n",
              "      <td>-0.430206</td>\n",
              "      <td>0.986950</td>\n",
              "      <td>0.343508</td>\n",
              "      <td>0.679335</td>\n",
              "      <td>-0.869308</td>\n",
              "      <td>-1.079720</td>\n",
              "      <td>1.243285</td>\n",
              "      <td>1.408410</td>\n",
              "      <td>0.094659</td>\n",
              "      <td>-0.417223</td>\n",
              "      <td>-0.898552</td>\n",
              "      <td>0.436590</td>\n",
              "      <td>-0.233951</td>\n",
              "    </tr>\n",
              "    <tr>\n",
              "      <th>...</th>\n",
              "      <td>...</td>\n",
              "      <td>...</td>\n",
              "      <td>...</td>\n",
              "      <td>...</td>\n",
              "      <td>...</td>\n",
              "      <td>...</td>\n",
              "      <td>...</td>\n",
              "      <td>...</td>\n",
              "      <td>...</td>\n",
              "      <td>...</td>\n",
              "      <td>...</td>\n",
              "      <td>...</td>\n",
              "      <td>...</td>\n",
              "      <td>...</td>\n",
              "      <td>...</td>\n",
              "      <td>...</td>\n",
              "      <td>...</td>\n",
              "      <td>...</td>\n",
              "      <td>...</td>\n",
              "      <td>...</td>\n",
              "    </tr>\n",
              "    <tr>\n",
              "      <th>695</th>\n",
              "      <td>1.259228</td>\n",
              "      <td>0.093750</td>\n",
              "      <td>-0.170545</td>\n",
              "      <td>-0.145614</td>\n",
              "      <td>-0.305567</td>\n",
              "      <td>0.022338</td>\n",
              "      <td>0.033837</td>\n",
              "      <td>-1.033990</td>\n",
              "      <td>1.670193</td>\n",
              "      <td>-2.631995</td>\n",
              "      <td>-0.652061</td>\n",
              "      <td>-0.482154</td>\n",
              "      <td>-0.042979</td>\n",
              "      <td>-0.776220</td>\n",
              "      <td>2.106576</td>\n",
              "      <td>-0.489806</td>\n",
              "      <td>-0.448134</td>\n",
              "      <td>-0.737414</td>\n",
              "      <td>1.242988</td>\n",
              "      <td>-0.399053</td>\n",
              "    </tr>\n",
              "    <tr>\n",
              "      <th>696</th>\n",
              "      <td>-0.167795</td>\n",
              "      <td>-1.064876</td>\n",
              "      <td>0.548325</td>\n",
              "      <td>0.739557</td>\n",
              "      <td>1.040714</td>\n",
              "      <td>-0.821612</td>\n",
              "      <td>-0.690663</td>\n",
              "      <td>0.323779</td>\n",
              "      <td>0.196112</td>\n",
              "      <td>1.045185</td>\n",
              "      <td>0.573334</td>\n",
              "      <td>0.426461</td>\n",
              "      <td>0.164445</td>\n",
              "      <td>-0.550351</td>\n",
              "      <td>-0.788338</td>\n",
              "      <td>0.347695</td>\n",
              "      <td>0.557746</td>\n",
              "      <td>-1.679785</td>\n",
              "      <td>-0.758403</td>\n",
              "      <td>0.297600</td>\n",
              "    </tr>\n",
              "    <tr>\n",
              "      <th>697</th>\n",
              "      <td>1.102762</td>\n",
              "      <td>1.617529</td>\n",
              "      <td>-0.137752</td>\n",
              "      <td>-1.836307</td>\n",
              "      <td>1.447674</td>\n",
              "      <td>-0.261039</td>\n",
              "      <td>-0.631118</td>\n",
              "      <td>0.814594</td>\n",
              "      <td>-0.400019</td>\n",
              "      <td>0.197014</td>\n",
              "      <td>-1.418650</td>\n",
              "      <td>1.246415</td>\n",
              "      <td>-0.612698</td>\n",
              "      <td>0.062948</td>\n",
              "      <td>-0.794200</td>\n",
              "      <td>-1.133524</td>\n",
              "      <td>0.515778</td>\n",
              "      <td>-0.076092</td>\n",
              "      <td>0.226114</td>\n",
              "      <td>0.516449</td>\n",
              "    </tr>\n",
              "    <tr>\n",
              "      <th>698</th>\n",
              "      <td>0.460563</td>\n",
              "      <td>0.304735</td>\n",
              "      <td>1.743974</td>\n",
              "      <td>-0.164564</td>\n",
              "      <td>-1.225236</td>\n",
              "      <td>-1.031973</td>\n",
              "      <td>-1.476970</td>\n",
              "      <td>-0.771503</td>\n",
              "      <td>-1.015393</td>\n",
              "      <td>1.572609</td>\n",
              "      <td>-1.094883</td>\n",
              "      <td>0.622019</td>\n",
              "      <td>0.214341</td>\n",
              "      <td>0.145393</td>\n",
              "      <td>0.699119</td>\n",
              "      <td>-0.303463</td>\n",
              "      <td>-0.375053</td>\n",
              "      <td>0.381186</td>\n",
              "      <td>-2.088375</td>\n",
              "      <td>0.004993</td>\n",
              "    </tr>\n",
              "    <tr>\n",
              "      <th>699</th>\n",
              "      <td>1.095820</td>\n",
              "      <td>2.256124</td>\n",
              "      <td>0.607349</td>\n",
              "      <td>-0.293746</td>\n",
              "      <td>-0.057139</td>\n",
              "      <td>-0.861931</td>\n",
              "      <td>-1.753300</td>\n",
              "      <td>0.777668</td>\n",
              "      <td>-2.061508</td>\n",
              "      <td>-1.475895</td>\n",
              "      <td>0.769902</td>\n",
              "      <td>0.570931</td>\n",
              "      <td>0.647793</td>\n",
              "      <td>1.056050</td>\n",
              "      <td>1.279353</td>\n",
              "      <td>-0.676138</td>\n",
              "      <td>-0.374750</td>\n",
              "      <td>-2.472639</td>\n",
              "      <td>1.580265</td>\n",
              "      <td>-0.545632</td>\n",
              "    </tr>\n",
              "  </tbody>\n",
              "</table>\n",
              "<p>700 rows × 20 columns</p>\n",
              "</div>\n",
              "      <button class=\"colab-df-convert\" onclick=\"convertToInteractive('df-6d1bc781-c1c2-4bb4-848d-1950af6b3290')\"\n",
              "              title=\"Convert this dataframe to an interactive table.\"\n",
              "              style=\"display:none;\">\n",
              "\n",
              "  <svg xmlns=\"http://www.w3.org/2000/svg\" height=\"24px\"viewBox=\"0 0 24 24\"\n",
              "       width=\"24px\">\n",
              "    <path d=\"M0 0h24v24H0V0z\" fill=\"none\"/>\n",
              "    <path d=\"M18.56 5.44l.94 2.06.94-2.06 2.06-.94-2.06-.94-.94-2.06-.94 2.06-2.06.94zm-11 1L8.5 8.5l.94-2.06 2.06-.94-2.06-.94L8.5 2.5l-.94 2.06-2.06.94zm10 10l.94 2.06.94-2.06 2.06-.94-2.06-.94-.94-2.06-.94 2.06-2.06.94z\"/><path d=\"M17.41 7.96l-1.37-1.37c-.4-.4-.92-.59-1.43-.59-.52 0-1.04.2-1.43.59L10.3 9.45l-7.72 7.72c-.78.78-.78 2.05 0 2.83L4 21.41c.39.39.9.59 1.41.59.51 0 1.02-.2 1.41-.59l7.78-7.78 2.81-2.81c.8-.78.8-2.07 0-2.86zM5.41 20L4 18.59l7.72-7.72 1.47 1.35L5.41 20z\"/>\n",
              "  </svg>\n",
              "      </button>\n",
              "\n",
              "\n",
              "\n",
              "    <div id=\"df-1166564a-ed87-4cb0-8335-a845b35b831d\">\n",
              "      <button class=\"colab-df-quickchart\" onclick=\"quickchart('df-1166564a-ed87-4cb0-8335-a845b35b831d')\"\n",
              "              title=\"Suggest charts.\"\n",
              "              style=\"display:none;\">\n",
              "\n",
              "<svg xmlns=\"http://www.w3.org/2000/svg\" height=\"24px\"viewBox=\"0 0 24 24\"\n",
              "     width=\"24px\">\n",
              "    <g>\n",
              "        <path d=\"M19 3H5c-1.1 0-2 .9-2 2v14c0 1.1.9 2 2 2h14c1.1 0 2-.9 2-2V5c0-1.1-.9-2-2-2zM9 17H7v-7h2v7zm4 0h-2V7h2v10zm4 0h-2v-4h2v4z\"/>\n",
              "    </g>\n",
              "</svg>\n",
              "      </button>\n",
              "    </div>\n",
              "\n",
              "<style>\n",
              "  .colab-df-quickchart {\n",
              "    background-color: #E8F0FE;\n",
              "    border: none;\n",
              "    border-radius: 50%;\n",
              "    cursor: pointer;\n",
              "    display: none;\n",
              "    fill: #1967D2;\n",
              "    height: 32px;\n",
              "    padding: 0 0 0 0;\n",
              "    width: 32px;\n",
              "  }\n",
              "\n",
              "  .colab-df-quickchart:hover {\n",
              "    background-color: #E2EBFA;\n",
              "    box-shadow: 0px 1px 2px rgba(60, 64, 67, 0.3), 0px 1px 3px 1px rgba(60, 64, 67, 0.15);\n",
              "    fill: #174EA6;\n",
              "  }\n",
              "\n",
              "  [theme=dark] .colab-df-quickchart {\n",
              "    background-color: #3B4455;\n",
              "    fill: #D2E3FC;\n",
              "  }\n",
              "\n",
              "  [theme=dark] .colab-df-quickchart:hover {\n",
              "    background-color: #434B5C;\n",
              "    box-shadow: 0px 1px 3px 1px rgba(0, 0, 0, 0.15);\n",
              "    filter: drop-shadow(0px 1px 2px rgba(0, 0, 0, 0.3));\n",
              "    fill: #FFFFFF;\n",
              "  }\n",
              "</style>\n",
              "\n",
              "    <script>\n",
              "      async function quickchart(key) {\n",
              "        const containerElement = document.querySelector('#' + key);\n",
              "        const charts = await google.colab.kernel.invokeFunction(\n",
              "            'suggestCharts', [key], {});\n",
              "      }\n",
              "    </script>\n",
              "\n",
              "      <script>\n",
              "\n",
              "function displayQuickchartButton(domScope) {\n",
              "  let quickchartButtonEl =\n",
              "    domScope.querySelector('#df-1166564a-ed87-4cb0-8335-a845b35b831d button.colab-df-quickchart');\n",
              "  quickchartButtonEl.style.display =\n",
              "    google.colab.kernel.accessAllowed ? 'block' : 'none';\n",
              "}\n",
              "\n",
              "        displayQuickchartButton(document);\n",
              "      </script>\n",
              "      <style>\n",
              "    .colab-df-container {\n",
              "      display:flex;\n",
              "      flex-wrap:wrap;\n",
              "      gap: 12px;\n",
              "    }\n",
              "\n",
              "    .colab-df-convert {\n",
              "      background-color: #E8F0FE;\n",
              "      border: none;\n",
              "      border-radius: 50%;\n",
              "      cursor: pointer;\n",
              "      display: none;\n",
              "      fill: #1967D2;\n",
              "      height: 32px;\n",
              "      padding: 0 0 0 0;\n",
              "      width: 32px;\n",
              "    }\n",
              "\n",
              "    .colab-df-convert:hover {\n",
              "      background-color: #E2EBFA;\n",
              "      box-shadow: 0px 1px 2px rgba(60, 64, 67, 0.3), 0px 1px 3px 1px rgba(60, 64, 67, 0.15);\n",
              "      fill: #174EA6;\n",
              "    }\n",
              "\n",
              "    [theme=dark] .colab-df-convert {\n",
              "      background-color: #3B4455;\n",
              "      fill: #D2E3FC;\n",
              "    }\n",
              "\n",
              "    [theme=dark] .colab-df-convert:hover {\n",
              "      background-color: #434B5C;\n",
              "      box-shadow: 0px 1px 3px 1px rgba(0, 0, 0, 0.15);\n",
              "      filter: drop-shadow(0px 1px 2px rgba(0, 0, 0, 0.3));\n",
              "      fill: #FFFFFF;\n",
              "    }\n",
              "  </style>\n",
              "\n",
              "      <script>\n",
              "        const buttonEl =\n",
              "          document.querySelector('#df-6d1bc781-c1c2-4bb4-848d-1950af6b3290 button.colab-df-convert');\n",
              "        buttonEl.style.display =\n",
              "          google.colab.kernel.accessAllowed ? 'block' : 'none';\n",
              "\n",
              "        async function convertToInteractive(key) {\n",
              "          const element = document.querySelector('#df-6d1bc781-c1c2-4bb4-848d-1950af6b3290');\n",
              "          const dataTable =\n",
              "            await google.colab.kernel.invokeFunction('convertToInteractive',\n",
              "                                                     [key], {});\n",
              "          if (!dataTable) return;\n",
              "\n",
              "          const docLinkHtml = 'Like what you see? Visit the ' +\n",
              "            '<a target=\"_blank\" href=https://colab.research.google.com/notebooks/data_table.ipynb>data table notebook</a>'\n",
              "            + ' to learn more about interactive tables.';\n",
              "          element.innerHTML = '';\n",
              "          dataTable['output_type'] = 'display_data';\n",
              "          await google.colab.output.renderOutput(dataTable, element);\n",
              "          const docLink = document.createElement('div');\n",
              "          docLink.innerHTML = docLinkHtml;\n",
              "          element.appendChild(docLink);\n",
              "        }\n",
              "      </script>\n",
              "    </div>\n",
              "  </div>\n"
            ]
          },
          "metadata": {},
          "execution_count": 8
        }
      ]
    },
    {
      "cell_type": "markdown",
      "source": [
        "## Utilizando o algoritmo PCA"
      ],
      "metadata": {
        "id": "gBcIqXtSQvUK"
      }
    },
    {
      "cell_type": "code",
      "source": [
        "from sklearn.decomposition import PCA"
      ],
      "metadata": {
        "id": "gh7GyDmNQxM6"
      },
      "execution_count": null,
      "outputs": []
    },
    {
      "cell_type": "markdown",
      "source": [
        "### Com 10 features"
      ],
      "metadata": {
        "id": "NiAj6eGSRF25"
      }
    },
    {
      "cell_type": "code",
      "source": [
        "pca10 = PCA(n_components=10)"
      ],
      "metadata": {
        "id": "WjgvAwq0RAbf"
      },
      "execution_count": null,
      "outputs": []
    },
    {
      "cell_type": "code",
      "source": [
        "# Ajusta o PCA ao conjunto de treinamento e transforma os dados de treinamento\n",
        "X_train_pca10 = pca10.fit_transform(X_train)\n",
        "# Transforma os dados de teste usando as mesmas transformações do PCA\n",
        "X_test_pca10 = pca10.transform(X_test)"
      ],
      "metadata": {
        "id": "EbjuVQtjzxcO"
      },
      "execution_count": null,
      "outputs": []
    },
    {
      "cell_type": "markdown",
      "source": [
        "1. **fit_transform(X_train):** Calcula os componentes principais (PCs) e transforma os dados de treinamento.\n",
        "2. **transform(X_test):** Aplica a mesma transformação (projeção nos PCs) aos dados de teste, usando os PCs calculados a partir dos dados de treinamento."
      ],
      "metadata": {
        "id": "q4LsHd113Zj3"
      }
    },
    {
      "cell_type": "code",
      "source": [
        "pd.DataFrame(X_train_pca10)"
      ],
      "metadata": {
        "colab": {
          "base_uri": "https://localhost:8080/",
          "height": 423
        },
        "id": "N2Qmt6i_0CY0",
        "outputId": "cd28c8d3-a3fd-408c-d00f-2407283ab606"
      },
      "execution_count": null,
      "outputs": [
        {
          "output_type": "execute_result",
          "data": {
            "text/plain": [
              "            0         1         2         3         4         5         6  \\\n",
              "0   -0.403415  0.949991 -0.087822  0.608000 -1.875286  0.415293 -0.163935   \n",
              "1   -1.095938 -0.790708  0.224108 -0.598849 -0.715290  1.267206  0.306884   \n",
              "2    0.913792  2.076771  1.155947 -1.308760  0.934344 -0.684106  0.299904   \n",
              "3   -1.129805 -0.604220 -1.909362 -0.498973  0.534841  0.483538  0.742637   \n",
              "4    0.035723  2.519087  1.393636 -1.695639 -0.837996  0.361739  0.383346   \n",
              "..        ...       ...       ...       ...       ...       ...       ...   \n",
              "695  0.817737 -0.237524  0.937895 -1.985480 -1.220079  0.514399 -0.516056   \n",
              "696  0.435193  1.263991 -0.331422 -0.033384  0.119495  0.343694  0.040526   \n",
              "697  0.927367 -0.733271 -0.558973  0.278573  0.266024 -1.748133  0.949561   \n",
              "698  1.118572  1.211115 -1.267668  1.451012  0.554190 -1.578721 -0.178965   \n",
              "699  1.651732 -0.760702 -0.977368 -0.112543  1.406412  0.016452  3.064868   \n",
              "\n",
              "            7         8         9  \n",
              "0   -0.548710 -0.582523  1.941298  \n",
              "1   -1.692510  0.674955 -0.475863  \n",
              "2   -0.767156  0.814814  0.463853  \n",
              "3   -1.642267  0.117598 -0.036325  \n",
              "4   -0.797692 -0.161532  0.258834  \n",
              "..        ...       ...       ...  \n",
              "695  0.062583  0.342538  1.845664  \n",
              "696  0.171431  0.851471 -1.310733  \n",
              "697  0.051204 -1.784800 -0.366710  \n",
              "698  0.447025 -0.278387 -0.660252  \n",
              "699 -0.810033 -0.134172  0.413859  \n",
              "\n",
              "[700 rows x 10 columns]"
            ],
            "text/html": [
              "\n",
              "\n",
              "  <div id=\"df-b9a8d7f1-8985-480e-af5a-292950fea516\">\n",
              "    <div class=\"colab-df-container\">\n",
              "      <div>\n",
              "<style scoped>\n",
              "    .dataframe tbody tr th:only-of-type {\n",
              "        vertical-align: middle;\n",
              "    }\n",
              "\n",
              "    .dataframe tbody tr th {\n",
              "        vertical-align: top;\n",
              "    }\n",
              "\n",
              "    .dataframe thead th {\n",
              "        text-align: right;\n",
              "    }\n",
              "</style>\n",
              "<table border=\"1\" class=\"dataframe\">\n",
              "  <thead>\n",
              "    <tr style=\"text-align: right;\">\n",
              "      <th></th>\n",
              "      <th>0</th>\n",
              "      <th>1</th>\n",
              "      <th>2</th>\n",
              "      <th>3</th>\n",
              "      <th>4</th>\n",
              "      <th>5</th>\n",
              "      <th>6</th>\n",
              "      <th>7</th>\n",
              "      <th>8</th>\n",
              "      <th>9</th>\n",
              "    </tr>\n",
              "  </thead>\n",
              "  <tbody>\n",
              "    <tr>\n",
              "      <th>0</th>\n",
              "      <td>-0.403415</td>\n",
              "      <td>0.949991</td>\n",
              "      <td>-0.087822</td>\n",
              "      <td>0.608000</td>\n",
              "      <td>-1.875286</td>\n",
              "      <td>0.415293</td>\n",
              "      <td>-0.163935</td>\n",
              "      <td>-0.548710</td>\n",
              "      <td>-0.582523</td>\n",
              "      <td>1.941298</td>\n",
              "    </tr>\n",
              "    <tr>\n",
              "      <th>1</th>\n",
              "      <td>-1.095938</td>\n",
              "      <td>-0.790708</td>\n",
              "      <td>0.224108</td>\n",
              "      <td>-0.598849</td>\n",
              "      <td>-0.715290</td>\n",
              "      <td>1.267206</td>\n",
              "      <td>0.306884</td>\n",
              "      <td>-1.692510</td>\n",
              "      <td>0.674955</td>\n",
              "      <td>-0.475863</td>\n",
              "    </tr>\n",
              "    <tr>\n",
              "      <th>2</th>\n",
              "      <td>0.913792</td>\n",
              "      <td>2.076771</td>\n",
              "      <td>1.155947</td>\n",
              "      <td>-1.308760</td>\n",
              "      <td>0.934344</td>\n",
              "      <td>-0.684106</td>\n",
              "      <td>0.299904</td>\n",
              "      <td>-0.767156</td>\n",
              "      <td>0.814814</td>\n",
              "      <td>0.463853</td>\n",
              "    </tr>\n",
              "    <tr>\n",
              "      <th>3</th>\n",
              "      <td>-1.129805</td>\n",
              "      <td>-0.604220</td>\n",
              "      <td>-1.909362</td>\n",
              "      <td>-0.498973</td>\n",
              "      <td>0.534841</td>\n",
              "      <td>0.483538</td>\n",
              "      <td>0.742637</td>\n",
              "      <td>-1.642267</td>\n",
              "      <td>0.117598</td>\n",
              "      <td>-0.036325</td>\n",
              "    </tr>\n",
              "    <tr>\n",
              "      <th>4</th>\n",
              "      <td>0.035723</td>\n",
              "      <td>2.519087</td>\n",
              "      <td>1.393636</td>\n",
              "      <td>-1.695639</td>\n",
              "      <td>-0.837996</td>\n",
              "      <td>0.361739</td>\n",
              "      <td>0.383346</td>\n",
              "      <td>-0.797692</td>\n",
              "      <td>-0.161532</td>\n",
              "      <td>0.258834</td>\n",
              "    </tr>\n",
              "    <tr>\n",
              "      <th>...</th>\n",
              "      <td>...</td>\n",
              "      <td>...</td>\n",
              "      <td>...</td>\n",
              "      <td>...</td>\n",
              "      <td>...</td>\n",
              "      <td>...</td>\n",
              "      <td>...</td>\n",
              "      <td>...</td>\n",
              "      <td>...</td>\n",
              "      <td>...</td>\n",
              "    </tr>\n",
              "    <tr>\n",
              "      <th>695</th>\n",
              "      <td>0.817737</td>\n",
              "      <td>-0.237524</td>\n",
              "      <td>0.937895</td>\n",
              "      <td>-1.985480</td>\n",
              "      <td>-1.220079</td>\n",
              "      <td>0.514399</td>\n",
              "      <td>-0.516056</td>\n",
              "      <td>0.062583</td>\n",
              "      <td>0.342538</td>\n",
              "      <td>1.845664</td>\n",
              "    </tr>\n",
              "    <tr>\n",
              "      <th>696</th>\n",
              "      <td>0.435193</td>\n",
              "      <td>1.263991</td>\n",
              "      <td>-0.331422</td>\n",
              "      <td>-0.033384</td>\n",
              "      <td>0.119495</td>\n",
              "      <td>0.343694</td>\n",
              "      <td>0.040526</td>\n",
              "      <td>0.171431</td>\n",
              "      <td>0.851471</td>\n",
              "      <td>-1.310733</td>\n",
              "    </tr>\n",
              "    <tr>\n",
              "      <th>697</th>\n",
              "      <td>0.927367</td>\n",
              "      <td>-0.733271</td>\n",
              "      <td>-0.558973</td>\n",
              "      <td>0.278573</td>\n",
              "      <td>0.266024</td>\n",
              "      <td>-1.748133</td>\n",
              "      <td>0.949561</td>\n",
              "      <td>0.051204</td>\n",
              "      <td>-1.784800</td>\n",
              "      <td>-0.366710</td>\n",
              "    </tr>\n",
              "    <tr>\n",
              "      <th>698</th>\n",
              "      <td>1.118572</td>\n",
              "      <td>1.211115</td>\n",
              "      <td>-1.267668</td>\n",
              "      <td>1.451012</td>\n",
              "      <td>0.554190</td>\n",
              "      <td>-1.578721</td>\n",
              "      <td>-0.178965</td>\n",
              "      <td>0.447025</td>\n",
              "      <td>-0.278387</td>\n",
              "      <td>-0.660252</td>\n",
              "    </tr>\n",
              "    <tr>\n",
              "      <th>699</th>\n",
              "      <td>1.651732</td>\n",
              "      <td>-0.760702</td>\n",
              "      <td>-0.977368</td>\n",
              "      <td>-0.112543</td>\n",
              "      <td>1.406412</td>\n",
              "      <td>0.016452</td>\n",
              "      <td>3.064868</td>\n",
              "      <td>-0.810033</td>\n",
              "      <td>-0.134172</td>\n",
              "      <td>0.413859</td>\n",
              "    </tr>\n",
              "  </tbody>\n",
              "</table>\n",
              "<p>700 rows × 10 columns</p>\n",
              "</div>\n",
              "      <button class=\"colab-df-convert\" onclick=\"convertToInteractive('df-b9a8d7f1-8985-480e-af5a-292950fea516')\"\n",
              "              title=\"Convert this dataframe to an interactive table.\"\n",
              "              style=\"display:none;\">\n",
              "\n",
              "  <svg xmlns=\"http://www.w3.org/2000/svg\" height=\"24px\"viewBox=\"0 0 24 24\"\n",
              "       width=\"24px\">\n",
              "    <path d=\"M0 0h24v24H0V0z\" fill=\"none\"/>\n",
              "    <path d=\"M18.56 5.44l.94 2.06.94-2.06 2.06-.94-2.06-.94-.94-2.06-.94 2.06-2.06.94zm-11 1L8.5 8.5l.94-2.06 2.06-.94-2.06-.94L8.5 2.5l-.94 2.06-2.06.94zm10 10l.94 2.06.94-2.06 2.06-.94-2.06-.94-.94-2.06-.94 2.06-2.06.94z\"/><path d=\"M17.41 7.96l-1.37-1.37c-.4-.4-.92-.59-1.43-.59-.52 0-1.04.2-1.43.59L10.3 9.45l-7.72 7.72c-.78.78-.78 2.05 0 2.83L4 21.41c.39.39.9.59 1.41.59.51 0 1.02-.2 1.41-.59l7.78-7.78 2.81-2.81c.8-.78.8-2.07 0-2.86zM5.41 20L4 18.59l7.72-7.72 1.47 1.35L5.41 20z\"/>\n",
              "  </svg>\n",
              "      </button>\n",
              "\n",
              "\n",
              "\n",
              "    <div id=\"df-24321c74-ed18-442f-9226-0e6bdc3235e6\">\n",
              "      <button class=\"colab-df-quickchart\" onclick=\"quickchart('df-24321c74-ed18-442f-9226-0e6bdc3235e6')\"\n",
              "              title=\"Suggest charts.\"\n",
              "              style=\"display:none;\">\n",
              "\n",
              "<svg xmlns=\"http://www.w3.org/2000/svg\" height=\"24px\"viewBox=\"0 0 24 24\"\n",
              "     width=\"24px\">\n",
              "    <g>\n",
              "        <path d=\"M19 3H5c-1.1 0-2 .9-2 2v14c0 1.1.9 2 2 2h14c1.1 0 2-.9 2-2V5c0-1.1-.9-2-2-2zM9 17H7v-7h2v7zm4 0h-2V7h2v10zm4 0h-2v-4h2v4z\"/>\n",
              "    </g>\n",
              "</svg>\n",
              "      </button>\n",
              "    </div>\n",
              "\n",
              "<style>\n",
              "  .colab-df-quickchart {\n",
              "    background-color: #E8F0FE;\n",
              "    border: none;\n",
              "    border-radius: 50%;\n",
              "    cursor: pointer;\n",
              "    display: none;\n",
              "    fill: #1967D2;\n",
              "    height: 32px;\n",
              "    padding: 0 0 0 0;\n",
              "    width: 32px;\n",
              "  }\n",
              "\n",
              "  .colab-df-quickchart:hover {\n",
              "    background-color: #E2EBFA;\n",
              "    box-shadow: 0px 1px 2px rgba(60, 64, 67, 0.3), 0px 1px 3px 1px rgba(60, 64, 67, 0.15);\n",
              "    fill: #174EA6;\n",
              "  }\n",
              "\n",
              "  [theme=dark] .colab-df-quickchart {\n",
              "    background-color: #3B4455;\n",
              "    fill: #D2E3FC;\n",
              "  }\n",
              "\n",
              "  [theme=dark] .colab-df-quickchart:hover {\n",
              "    background-color: #434B5C;\n",
              "    box-shadow: 0px 1px 3px 1px rgba(0, 0, 0, 0.15);\n",
              "    filter: drop-shadow(0px 1px 2px rgba(0, 0, 0, 0.3));\n",
              "    fill: #FFFFFF;\n",
              "  }\n",
              "</style>\n",
              "\n",
              "    <script>\n",
              "      async function quickchart(key) {\n",
              "        const containerElement = document.querySelector('#' + key);\n",
              "        const charts = await google.colab.kernel.invokeFunction(\n",
              "            'suggestCharts', [key], {});\n",
              "      }\n",
              "    </script>\n",
              "\n",
              "      <script>\n",
              "\n",
              "function displayQuickchartButton(domScope) {\n",
              "  let quickchartButtonEl =\n",
              "    domScope.querySelector('#df-24321c74-ed18-442f-9226-0e6bdc3235e6 button.colab-df-quickchart');\n",
              "  quickchartButtonEl.style.display =\n",
              "    google.colab.kernel.accessAllowed ? 'block' : 'none';\n",
              "}\n",
              "\n",
              "        displayQuickchartButton(document);\n",
              "      </script>\n",
              "      <style>\n",
              "    .colab-df-container {\n",
              "      display:flex;\n",
              "      flex-wrap:wrap;\n",
              "      gap: 12px;\n",
              "    }\n",
              "\n",
              "    .colab-df-convert {\n",
              "      background-color: #E8F0FE;\n",
              "      border: none;\n",
              "      border-radius: 50%;\n",
              "      cursor: pointer;\n",
              "      display: none;\n",
              "      fill: #1967D2;\n",
              "      height: 32px;\n",
              "      padding: 0 0 0 0;\n",
              "      width: 32px;\n",
              "    }\n",
              "\n",
              "    .colab-df-convert:hover {\n",
              "      background-color: #E2EBFA;\n",
              "      box-shadow: 0px 1px 2px rgba(60, 64, 67, 0.3), 0px 1px 3px 1px rgba(60, 64, 67, 0.15);\n",
              "      fill: #174EA6;\n",
              "    }\n",
              "\n",
              "    [theme=dark] .colab-df-convert {\n",
              "      background-color: #3B4455;\n",
              "      fill: #D2E3FC;\n",
              "    }\n",
              "\n",
              "    [theme=dark] .colab-df-convert:hover {\n",
              "      background-color: #434B5C;\n",
              "      box-shadow: 0px 1px 3px 1px rgba(0, 0, 0, 0.15);\n",
              "      filter: drop-shadow(0px 1px 2px rgba(0, 0, 0, 0.3));\n",
              "      fill: #FFFFFF;\n",
              "    }\n",
              "  </style>\n",
              "\n",
              "      <script>\n",
              "        const buttonEl =\n",
              "          document.querySelector('#df-b9a8d7f1-8985-480e-af5a-292950fea516 button.colab-df-convert');\n",
              "        buttonEl.style.display =\n",
              "          google.colab.kernel.accessAllowed ? 'block' : 'none';\n",
              "\n",
              "        async function convertToInteractive(key) {\n",
              "          const element = document.querySelector('#df-b9a8d7f1-8985-480e-af5a-292950fea516');\n",
              "          const dataTable =\n",
              "            await google.colab.kernel.invokeFunction('convertToInteractive',\n",
              "                                                     [key], {});\n",
              "          if (!dataTable) return;\n",
              "\n",
              "          const docLinkHtml = 'Like what you see? Visit the ' +\n",
              "            '<a target=\"_blank\" href=https://colab.research.google.com/notebooks/data_table.ipynb>data table notebook</a>'\n",
              "            + ' to learn more about interactive tables.';\n",
              "          element.innerHTML = '';\n",
              "          dataTable['output_type'] = 'display_data';\n",
              "          await google.colab.output.renderOutput(dataTable, element);\n",
              "          const docLink = document.createElement('div');\n",
              "          docLink.innerHTML = docLinkHtml;\n",
              "          element.appendChild(docLink);\n",
              "        }\n",
              "      </script>\n",
              "    </div>\n",
              "  </div>\n"
            ]
          },
          "metadata": {},
          "execution_count": 12
        }
      ]
    },
    {
      "cell_type": "code",
      "source": [
        "print(pca10.explained_variance_ratio_)"
      ],
      "metadata": {
        "id": "In4HzNSARL9o",
        "colab": {
          "base_uri": "https://localhost:8080/"
        },
        "outputId": "aab835c9-3217-4f4b-a006-0481d059d016"
      },
      "execution_count": null,
      "outputs": [
        {
          "output_type": "stream",
          "name": "stdout",
          "text": [
            "[0.09823297 0.09480138 0.0589045  0.05637678 0.05478465 0.05074289\n",
            " 0.05046501 0.0488245  0.04806336 0.04718303]\n"
          ]
        }
      ]
    },
    {
      "cell_type": "markdown",
      "source": [
        "Proporção da variância explicada por cada um dos componentes principais calculados. A variância explicada é uma medida que indica quanto da variabilidade total dos dados é capturada por cada componente principal."
      ],
      "metadata": {
        "id": "Usz-ygfqtjBO"
      }
    },
    {
      "cell_type": "code",
      "source": [
        "print(pca10.singular_values_)"
      ],
      "metadata": {
        "colab": {
          "base_uri": "https://localhost:8080/"
        },
        "id": "k1RAO71Wnfhk",
        "outputId": "7e8eb60a-96f6-4d3d-cd37-047f3d821d6c"
      },
      "execution_count": null,
      "outputs": [
        {
          "output_type": "stream",
          "name": "stdout",
          "text": [
            "[39.09203847 38.40316409 30.27149882 29.61486822 29.19369891 28.0961809\n",
            " 28.01914458 27.55996013 27.34429613 27.09271719]\n"
          ]
        }
      ]
    },
    {
      "cell_type": "markdown",
      "source": [
        "Valores singulares associados a cada componente principal. Os valores singulares são úteis para entender a importância relativa de cada componente principal na decomposição dos dados originais."
      ],
      "metadata": {
        "id": "TJo-mD2gtnhO"
      }
    },
    {
      "cell_type": "markdown",
      "source": [
        "### Com 5 features"
      ],
      "metadata": {
        "id": "1Fd_R8NQRoot"
      }
    },
    {
      "cell_type": "code",
      "source": [
        "pca5 = PCA(n_components=5)"
      ],
      "metadata": {
        "id": "5nEZSg2-GoOJ"
      },
      "execution_count": null,
      "outputs": []
    },
    {
      "cell_type": "code",
      "source": [
        "# Ajusta o PCA ao conjunto de treinamento e transforma os dados de treinamento\n",
        "X_train_pca5 = pca5.fit_transform(X_train)\n",
        "# Transforma os dados de teste usando as mesmas transformações do PCA\n",
        "X_test_pca5 = pca5.transform(X_test)"
      ],
      "metadata": {
        "id": "-M11agUNRv2O"
      },
      "execution_count": null,
      "outputs": []
    },
    {
      "cell_type": "code",
      "source": [
        "pd.DataFrame(X_train_pca5)"
      ],
      "metadata": {
        "colab": {
          "base_uri": "https://localhost:8080/",
          "height": 423
        },
        "id": "3exRtB90GlUP",
        "outputId": "d8bad730-5f56-4cc2-85f2-829a7d4bf93b"
      },
      "execution_count": null,
      "outputs": [
        {
          "output_type": "execute_result",
          "data": {
            "text/plain": [
              "            0         1         2         3         4\n",
              "0   -0.409333  0.939214 -0.264643  0.090990 -2.039612\n",
              "1   -1.098447 -0.818379  0.194969  1.137836 -0.444428\n",
              "2    0.908618  2.073418  1.255201  1.202278  1.241033\n",
              "3   -1.129306 -0.609081 -2.001581  1.144988  0.716219\n",
              "4    0.004335  2.485447  1.556732  1.658257 -0.590875\n",
              "..        ...       ...       ...       ...       ...\n",
              "695  0.839375 -0.166069  1.563437  1.372743 -0.906609\n",
              "696  0.441824  1.273672 -0.094490 -0.248165  0.121372\n",
              "697  0.907658 -0.746837 -0.875614  0.064638  0.099696\n",
              "698  1.138735  1.217994 -1.382752 -1.023855  0.412795\n",
              "699  1.667502 -0.696592 -0.974335 -0.099489  1.351816\n",
              "\n",
              "[700 rows x 5 columns]"
            ],
            "text/html": [
              "\n",
              "\n",
              "  <div id=\"df-5b67b500-2ccd-430c-a875-1ed0b33183be\">\n",
              "    <div class=\"colab-df-container\">\n",
              "      <div>\n",
              "<style scoped>\n",
              "    .dataframe tbody tr th:only-of-type {\n",
              "        vertical-align: middle;\n",
              "    }\n",
              "\n",
              "    .dataframe tbody tr th {\n",
              "        vertical-align: top;\n",
              "    }\n",
              "\n",
              "    .dataframe thead th {\n",
              "        text-align: right;\n",
              "    }\n",
              "</style>\n",
              "<table border=\"1\" class=\"dataframe\">\n",
              "  <thead>\n",
              "    <tr style=\"text-align: right;\">\n",
              "      <th></th>\n",
              "      <th>0</th>\n",
              "      <th>1</th>\n",
              "      <th>2</th>\n",
              "      <th>3</th>\n",
              "      <th>4</th>\n",
              "    </tr>\n",
              "  </thead>\n",
              "  <tbody>\n",
              "    <tr>\n",
              "      <th>0</th>\n",
              "      <td>-0.409333</td>\n",
              "      <td>0.939214</td>\n",
              "      <td>-0.264643</td>\n",
              "      <td>0.090990</td>\n",
              "      <td>-2.039612</td>\n",
              "    </tr>\n",
              "    <tr>\n",
              "      <th>1</th>\n",
              "      <td>-1.098447</td>\n",
              "      <td>-0.818379</td>\n",
              "      <td>0.194969</td>\n",
              "      <td>1.137836</td>\n",
              "      <td>-0.444428</td>\n",
              "    </tr>\n",
              "    <tr>\n",
              "      <th>2</th>\n",
              "      <td>0.908618</td>\n",
              "      <td>2.073418</td>\n",
              "      <td>1.255201</td>\n",
              "      <td>1.202278</td>\n",
              "      <td>1.241033</td>\n",
              "    </tr>\n",
              "    <tr>\n",
              "      <th>3</th>\n",
              "      <td>-1.129306</td>\n",
              "      <td>-0.609081</td>\n",
              "      <td>-2.001581</td>\n",
              "      <td>1.144988</td>\n",
              "      <td>0.716219</td>\n",
              "    </tr>\n",
              "    <tr>\n",
              "      <th>4</th>\n",
              "      <td>0.004335</td>\n",
              "      <td>2.485447</td>\n",
              "      <td>1.556732</td>\n",
              "      <td>1.658257</td>\n",
              "      <td>-0.590875</td>\n",
              "    </tr>\n",
              "    <tr>\n",
              "      <th>...</th>\n",
              "      <td>...</td>\n",
              "      <td>...</td>\n",
              "      <td>...</td>\n",
              "      <td>...</td>\n",
              "      <td>...</td>\n",
              "    </tr>\n",
              "    <tr>\n",
              "      <th>695</th>\n",
              "      <td>0.839375</td>\n",
              "      <td>-0.166069</td>\n",
              "      <td>1.563437</td>\n",
              "      <td>1.372743</td>\n",
              "      <td>-0.906609</td>\n",
              "    </tr>\n",
              "    <tr>\n",
              "      <th>696</th>\n",
              "      <td>0.441824</td>\n",
              "      <td>1.273672</td>\n",
              "      <td>-0.094490</td>\n",
              "      <td>-0.248165</td>\n",
              "      <td>0.121372</td>\n",
              "    </tr>\n",
              "    <tr>\n",
              "      <th>697</th>\n",
              "      <td>0.907658</td>\n",
              "      <td>-0.746837</td>\n",
              "      <td>-0.875614</td>\n",
              "      <td>0.064638</td>\n",
              "      <td>0.099696</td>\n",
              "    </tr>\n",
              "    <tr>\n",
              "      <th>698</th>\n",
              "      <td>1.138735</td>\n",
              "      <td>1.217994</td>\n",
              "      <td>-1.382752</td>\n",
              "      <td>-1.023855</td>\n",
              "      <td>0.412795</td>\n",
              "    </tr>\n",
              "    <tr>\n",
              "      <th>699</th>\n",
              "      <td>1.667502</td>\n",
              "      <td>-0.696592</td>\n",
              "      <td>-0.974335</td>\n",
              "      <td>-0.099489</td>\n",
              "      <td>1.351816</td>\n",
              "    </tr>\n",
              "  </tbody>\n",
              "</table>\n",
              "<p>700 rows × 5 columns</p>\n",
              "</div>\n",
              "      <button class=\"colab-df-convert\" onclick=\"convertToInteractive('df-5b67b500-2ccd-430c-a875-1ed0b33183be')\"\n",
              "              title=\"Convert this dataframe to an interactive table.\"\n",
              "              style=\"display:none;\">\n",
              "\n",
              "  <svg xmlns=\"http://www.w3.org/2000/svg\" height=\"24px\"viewBox=\"0 0 24 24\"\n",
              "       width=\"24px\">\n",
              "    <path d=\"M0 0h24v24H0V0z\" fill=\"none\"/>\n",
              "    <path d=\"M18.56 5.44l.94 2.06.94-2.06 2.06-.94-2.06-.94-.94-2.06-.94 2.06-2.06.94zm-11 1L8.5 8.5l.94-2.06 2.06-.94-2.06-.94L8.5 2.5l-.94 2.06-2.06.94zm10 10l.94 2.06.94-2.06 2.06-.94-2.06-.94-.94-2.06-.94 2.06-2.06.94z\"/><path d=\"M17.41 7.96l-1.37-1.37c-.4-.4-.92-.59-1.43-.59-.52 0-1.04.2-1.43.59L10.3 9.45l-7.72 7.72c-.78.78-.78 2.05 0 2.83L4 21.41c.39.39.9.59 1.41.59.51 0 1.02-.2 1.41-.59l7.78-7.78 2.81-2.81c.8-.78.8-2.07 0-2.86zM5.41 20L4 18.59l7.72-7.72 1.47 1.35L5.41 20z\"/>\n",
              "  </svg>\n",
              "      </button>\n",
              "\n",
              "\n",
              "\n",
              "    <div id=\"df-c534002f-e292-4162-96ad-04a3c37511ca\">\n",
              "      <button class=\"colab-df-quickchart\" onclick=\"quickchart('df-c534002f-e292-4162-96ad-04a3c37511ca')\"\n",
              "              title=\"Suggest charts.\"\n",
              "              style=\"display:none;\">\n",
              "\n",
              "<svg xmlns=\"http://www.w3.org/2000/svg\" height=\"24px\"viewBox=\"0 0 24 24\"\n",
              "     width=\"24px\">\n",
              "    <g>\n",
              "        <path d=\"M19 3H5c-1.1 0-2 .9-2 2v14c0 1.1.9 2 2 2h14c1.1 0 2-.9 2-2V5c0-1.1-.9-2-2-2zM9 17H7v-7h2v7zm4 0h-2V7h2v10zm4 0h-2v-4h2v4z\"/>\n",
              "    </g>\n",
              "</svg>\n",
              "      </button>\n",
              "    </div>\n",
              "\n",
              "<style>\n",
              "  .colab-df-quickchart {\n",
              "    background-color: #E8F0FE;\n",
              "    border: none;\n",
              "    border-radius: 50%;\n",
              "    cursor: pointer;\n",
              "    display: none;\n",
              "    fill: #1967D2;\n",
              "    height: 32px;\n",
              "    padding: 0 0 0 0;\n",
              "    width: 32px;\n",
              "  }\n",
              "\n",
              "  .colab-df-quickchart:hover {\n",
              "    background-color: #E2EBFA;\n",
              "    box-shadow: 0px 1px 2px rgba(60, 64, 67, 0.3), 0px 1px 3px 1px rgba(60, 64, 67, 0.15);\n",
              "    fill: #174EA6;\n",
              "  }\n",
              "\n",
              "  [theme=dark] .colab-df-quickchart {\n",
              "    background-color: #3B4455;\n",
              "    fill: #D2E3FC;\n",
              "  }\n",
              "\n",
              "  [theme=dark] .colab-df-quickchart:hover {\n",
              "    background-color: #434B5C;\n",
              "    box-shadow: 0px 1px 3px 1px rgba(0, 0, 0, 0.15);\n",
              "    filter: drop-shadow(0px 1px 2px rgba(0, 0, 0, 0.3));\n",
              "    fill: #FFFFFF;\n",
              "  }\n",
              "</style>\n",
              "\n",
              "    <script>\n",
              "      async function quickchart(key) {\n",
              "        const containerElement = document.querySelector('#' + key);\n",
              "        const charts = await google.colab.kernel.invokeFunction(\n",
              "            'suggestCharts', [key], {});\n",
              "      }\n",
              "    </script>\n",
              "\n",
              "      <script>\n",
              "\n",
              "function displayQuickchartButton(domScope) {\n",
              "  let quickchartButtonEl =\n",
              "    domScope.querySelector('#df-c534002f-e292-4162-96ad-04a3c37511ca button.colab-df-quickchart');\n",
              "  quickchartButtonEl.style.display =\n",
              "    google.colab.kernel.accessAllowed ? 'block' : 'none';\n",
              "}\n",
              "\n",
              "        displayQuickchartButton(document);\n",
              "      </script>\n",
              "      <style>\n",
              "    .colab-df-container {\n",
              "      display:flex;\n",
              "      flex-wrap:wrap;\n",
              "      gap: 12px;\n",
              "    }\n",
              "\n",
              "    .colab-df-convert {\n",
              "      background-color: #E8F0FE;\n",
              "      border: none;\n",
              "      border-radius: 50%;\n",
              "      cursor: pointer;\n",
              "      display: none;\n",
              "      fill: #1967D2;\n",
              "      height: 32px;\n",
              "      padding: 0 0 0 0;\n",
              "      width: 32px;\n",
              "    }\n",
              "\n",
              "    .colab-df-convert:hover {\n",
              "      background-color: #E2EBFA;\n",
              "      box-shadow: 0px 1px 2px rgba(60, 64, 67, 0.3), 0px 1px 3px 1px rgba(60, 64, 67, 0.15);\n",
              "      fill: #174EA6;\n",
              "    }\n",
              "\n",
              "    [theme=dark] .colab-df-convert {\n",
              "      background-color: #3B4455;\n",
              "      fill: #D2E3FC;\n",
              "    }\n",
              "\n",
              "    [theme=dark] .colab-df-convert:hover {\n",
              "      background-color: #434B5C;\n",
              "      box-shadow: 0px 1px 3px 1px rgba(0, 0, 0, 0.15);\n",
              "      filter: drop-shadow(0px 1px 2px rgba(0, 0, 0, 0.3));\n",
              "      fill: #FFFFFF;\n",
              "    }\n",
              "  </style>\n",
              "\n",
              "      <script>\n",
              "        const buttonEl =\n",
              "          document.querySelector('#df-5b67b500-2ccd-430c-a875-1ed0b33183be button.colab-df-convert');\n",
              "        buttonEl.style.display =\n",
              "          google.colab.kernel.accessAllowed ? 'block' : 'none';\n",
              "\n",
              "        async function convertToInteractive(key) {\n",
              "          const element = document.querySelector('#df-5b67b500-2ccd-430c-a875-1ed0b33183be');\n",
              "          const dataTable =\n",
              "            await google.colab.kernel.invokeFunction('convertToInteractive',\n",
              "                                                     [key], {});\n",
              "          if (!dataTable) return;\n",
              "\n",
              "          const docLinkHtml = 'Like what you see? Visit the ' +\n",
              "            '<a target=\"_blank\" href=https://colab.research.google.com/notebooks/data_table.ipynb>data table notebook</a>'\n",
              "            + ' to learn more about interactive tables.';\n",
              "          element.innerHTML = '';\n",
              "          dataTable['output_type'] = 'display_data';\n",
              "          await google.colab.output.renderOutput(dataTable, element);\n",
              "          const docLink = document.createElement('div');\n",
              "          docLink.innerHTML = docLinkHtml;\n",
              "          element.appendChild(docLink);\n",
              "        }\n",
              "      </script>\n",
              "    </div>\n",
              "  </div>\n"
            ]
          },
          "metadata": {},
          "execution_count": 17
        }
      ]
    },
    {
      "cell_type": "code",
      "source": [
        "print(pca5.explained_variance_ratio_)"
      ],
      "metadata": {
        "colab": {
          "base_uri": "https://localhost:8080/"
        },
        "id": "5iGKVKT2GgD_",
        "outputId": "5156ef8d-4fe9-4fe0-b092-c1e9825b1b17"
      },
      "execution_count": null,
      "outputs": [
        {
          "output_type": "stream",
          "name": "stdout",
          "text": [
            "[0.09822615 0.09477665 0.05843584 0.05517551 0.05441286]\n"
          ]
        }
      ]
    },
    {
      "cell_type": "code",
      "source": [
        "print(pca5.singular_values_)"
      ],
      "metadata": {
        "colab": {
          "base_uri": "https://localhost:8080/"
        },
        "id": "Lah3xYrAGh9P",
        "outputId": "227b925a-64d5-4690-fb33-80da09ce8b0b"
      },
      "execution_count": null,
      "outputs": [
        {
          "output_type": "stream",
          "name": "stdout",
          "text": [
            "[39.09068117 38.39815414 30.15083187 29.29765431 29.09446993]\n"
          ]
        }
      ]
    },
    {
      "cell_type": "markdown",
      "source": [
        "## Treinando os modelos com todas as features, com 10 e 5 do PCA"
      ],
      "metadata": {
        "id": "gmdx33tjRz8O"
      }
    },
    {
      "cell_type": "code",
      "source": [
        "from sklearn.preprocessing import StandardScaler\n",
        "from sklearn.neighbors import KNeighborsClassifier"
      ],
      "metadata": {
        "id": "7jDYbiW0Aifl"
      },
      "execution_count": null,
      "outputs": []
    },
    {
      "cell_type": "markdown",
      "source": [
        "### Todas as features"
      ],
      "metadata": {
        "id": "gneq-k2DR8pr"
      }
    },
    {
      "cell_type": "markdown",
      "source": [
        "Padronização dos dados projetados"
      ],
      "metadata": {
        "id": "zovSH90UJf_g"
      }
    },
    {
      "cell_type": "code",
      "source": [
        "# Normalizar todas as features como primeira abordagem\n",
        "scaler = StandardScaler().fit(X_train)"
      ],
      "metadata": {
        "id": "C_6-IJtnDr_l"
      },
      "execution_count": null,
      "outputs": []
    },
    {
      "cell_type": "code",
      "source": [
        "X_train_scaled = scaler.transform(X_train)\n",
        "X_test_scaled = scaler.transform(X_test)"
      ],
      "metadata": {
        "id": "ZIHrMkxuJhC4"
      },
      "execution_count": null,
      "outputs": []
    },
    {
      "cell_type": "markdown",
      "source": [
        "Treinamento"
      ],
      "metadata": {
        "id": "cjFp_YtvKIsH"
      }
    },
    {
      "cell_type": "code",
      "source": [
        "# Treina e avalia o modelo KNN nos dados padronizados\n",
        "neigh_k1 = KNeighborsClassifier(n_neighbors=1)\n",
        "neigh_k1.fit(X_train_scaled, y_train)"
      ],
      "metadata": {
        "colab": {
          "base_uri": "https://localhost:8080/",
          "height": 74
        },
        "id": "vWnAAGomJhQT",
        "outputId": "d8f0275f-0ee5-493d-8d75-be2fa1c57d9f"
      },
      "execution_count": null,
      "outputs": [
        {
          "output_type": "execute_result",
          "data": {
            "text/plain": [
              "KNeighborsClassifier(n_neighbors=1)"
            ],
            "text/html": [
              "<style>#sk-container-id-1 {color: black;background-color: white;}#sk-container-id-1 pre{padding: 0;}#sk-container-id-1 div.sk-toggleable {background-color: white;}#sk-container-id-1 label.sk-toggleable__label {cursor: pointer;display: block;width: 100%;margin-bottom: 0;padding: 0.3em;box-sizing: border-box;text-align: center;}#sk-container-id-1 label.sk-toggleable__label-arrow:before {content: \"▸\";float: left;margin-right: 0.25em;color: #696969;}#sk-container-id-1 label.sk-toggleable__label-arrow:hover:before {color: black;}#sk-container-id-1 div.sk-estimator:hover label.sk-toggleable__label-arrow:before {color: black;}#sk-container-id-1 div.sk-toggleable__content {max-height: 0;max-width: 0;overflow: hidden;text-align: left;background-color: #f0f8ff;}#sk-container-id-1 div.sk-toggleable__content pre {margin: 0.2em;color: black;border-radius: 0.25em;background-color: #f0f8ff;}#sk-container-id-1 input.sk-toggleable__control:checked~div.sk-toggleable__content {max-height: 200px;max-width: 100%;overflow: auto;}#sk-container-id-1 input.sk-toggleable__control:checked~label.sk-toggleable__label-arrow:before {content: \"▾\";}#sk-container-id-1 div.sk-estimator input.sk-toggleable__control:checked~label.sk-toggleable__label {background-color: #d4ebff;}#sk-container-id-1 div.sk-label input.sk-toggleable__control:checked~label.sk-toggleable__label {background-color: #d4ebff;}#sk-container-id-1 input.sk-hidden--visually {border: 0;clip: rect(1px 1px 1px 1px);clip: rect(1px, 1px, 1px, 1px);height: 1px;margin: -1px;overflow: hidden;padding: 0;position: absolute;width: 1px;}#sk-container-id-1 div.sk-estimator {font-family: monospace;background-color: #f0f8ff;border: 1px dotted black;border-radius: 0.25em;box-sizing: border-box;margin-bottom: 0.5em;}#sk-container-id-1 div.sk-estimator:hover {background-color: #d4ebff;}#sk-container-id-1 div.sk-parallel-item::after {content: \"\";width: 100%;border-bottom: 1px solid gray;flex-grow: 1;}#sk-container-id-1 div.sk-label:hover label.sk-toggleable__label {background-color: #d4ebff;}#sk-container-id-1 div.sk-serial::before {content: \"\";position: absolute;border-left: 1px solid gray;box-sizing: border-box;top: 0;bottom: 0;left: 50%;z-index: 0;}#sk-container-id-1 div.sk-serial {display: flex;flex-direction: column;align-items: center;background-color: white;padding-right: 0.2em;padding-left: 0.2em;position: relative;}#sk-container-id-1 div.sk-item {position: relative;z-index: 1;}#sk-container-id-1 div.sk-parallel {display: flex;align-items: stretch;justify-content: center;background-color: white;position: relative;}#sk-container-id-1 div.sk-item::before, #sk-container-id-1 div.sk-parallel-item::before {content: \"\";position: absolute;border-left: 1px solid gray;box-sizing: border-box;top: 0;bottom: 0;left: 50%;z-index: -1;}#sk-container-id-1 div.sk-parallel-item {display: flex;flex-direction: column;z-index: 1;position: relative;background-color: white;}#sk-container-id-1 div.sk-parallel-item:first-child::after {align-self: flex-end;width: 50%;}#sk-container-id-1 div.sk-parallel-item:last-child::after {align-self: flex-start;width: 50%;}#sk-container-id-1 div.sk-parallel-item:only-child::after {width: 0;}#sk-container-id-1 div.sk-dashed-wrapped {border: 1px dashed gray;margin: 0 0.4em 0.5em 0.4em;box-sizing: border-box;padding-bottom: 0.4em;background-color: white;}#sk-container-id-1 div.sk-label label {font-family: monospace;font-weight: bold;display: inline-block;line-height: 1.2em;}#sk-container-id-1 div.sk-label-container {text-align: center;}#sk-container-id-1 div.sk-container {/* jupyter's `normalize.less` sets `[hidden] { display: none; }` but bootstrap.min.css set `[hidden] { display: none !important; }` so we also need the `!important` here to be able to override the default hidden behavior on the sphinx rendered scikit-learn.org. See: https://github.com/scikit-learn/scikit-learn/issues/21755 */display: inline-block !important;position: relative;}#sk-container-id-1 div.sk-text-repr-fallback {display: none;}</style><div id=\"sk-container-id-1\" class=\"sk-top-container\"><div class=\"sk-text-repr-fallback\"><pre>KNeighborsClassifier(n_neighbors=1)</pre><b>In a Jupyter environment, please rerun this cell to show the HTML representation or trust the notebook. <br />On GitHub, the HTML representation is unable to render, please try loading this page with nbviewer.org.</b></div><div class=\"sk-container\" hidden><div class=\"sk-item\"><div class=\"sk-estimator sk-toggleable\"><input class=\"sk-toggleable__control sk-hidden--visually\" id=\"sk-estimator-id-1\" type=\"checkbox\" checked><label for=\"sk-estimator-id-1\" class=\"sk-toggleable__label sk-toggleable__label-arrow\">KNeighborsClassifier</label><div class=\"sk-toggleable__content\"><pre>KNeighborsClassifier(n_neighbors=1)</pre></div></div></div></div></div>"
            ]
          },
          "metadata": {},
          "execution_count": 23
        }
      ]
    },
    {
      "cell_type": "markdown",
      "source": [
        "### Todas 10 features"
      ],
      "metadata": {
        "id": "eT5GOne5U4Q_"
      }
    },
    {
      "cell_type": "markdown",
      "source": [
        "1. projetar apenas os dados originais de treinamento de entrada X_train e X_test em um espaço de dimensão reduzida\n",
        "2. avaliar se estes novos dados projetdos precisam ser normalizados\n",
        "3. treinar o modelo pelo knn\n",
        "\n",
        "O \"treinamento\" envolve apenas o ajuste do PCA aos seus dados, e o uso dos componentes principais resultantes para reduzir a dimensionalidade dos seus dados."
      ],
      "metadata": {
        "id": "BDTvvRF4sOiU"
      }
    },
    {
      "cell_type": "markdown",
      "source": [
        "Padronização dos dados projetados"
      ],
      "metadata": {
        "id": "FWzp0JZH36JK"
      }
    },
    {
      "cell_type": "code",
      "source": [
        "# Padronizar os dados projetados antes de aplicar o KNN\n",
        "scaler_pca10 = StandardScaler()\n",
        "\n",
        "X_train_pca10_scaled = scaler_pca10.fit_transform(X_train_pca10)\n",
        "X_test_pca10_scaled = scaler_pca10.transform(X_test_pca10)"
      ],
      "metadata": {
        "id": "kAahPuli4Ilr"
      },
      "execution_count": null,
      "outputs": []
    },
    {
      "cell_type": "markdown",
      "source": [
        "Treinamento"
      ],
      "metadata": {
        "id": "jAXZsLMXHuRZ"
      }
    },
    {
      "cell_type": "code",
      "source": [
        "# Treina e avalia o modelo KNN nos dados padronizados\n",
        "neigh_k1_pca10 = KNeighborsClassifier(n_neighbors=1)\n",
        "neigh_k1_pca10.fit(X_train_pca10_scaled, y_train)"
      ],
      "metadata": {
        "colab": {
          "base_uri": "https://localhost:8080/",
          "height": 74
        },
        "id": "mWJ3g1484p3W",
        "outputId": "efd1e5b1-81e9-4c4e-a4ed-c8069ee0f56a"
      },
      "execution_count": null,
      "outputs": [
        {
          "output_type": "execute_result",
          "data": {
            "text/plain": [
              "KNeighborsClassifier(n_neighbors=1)"
            ],
            "text/html": [
              "<style>#sk-container-id-2 {color: black;background-color: white;}#sk-container-id-2 pre{padding: 0;}#sk-container-id-2 div.sk-toggleable {background-color: white;}#sk-container-id-2 label.sk-toggleable__label {cursor: pointer;display: block;width: 100%;margin-bottom: 0;padding: 0.3em;box-sizing: border-box;text-align: center;}#sk-container-id-2 label.sk-toggleable__label-arrow:before {content: \"▸\";float: left;margin-right: 0.25em;color: #696969;}#sk-container-id-2 label.sk-toggleable__label-arrow:hover:before {color: black;}#sk-container-id-2 div.sk-estimator:hover label.sk-toggleable__label-arrow:before {color: black;}#sk-container-id-2 div.sk-toggleable__content {max-height: 0;max-width: 0;overflow: hidden;text-align: left;background-color: #f0f8ff;}#sk-container-id-2 div.sk-toggleable__content pre {margin: 0.2em;color: black;border-radius: 0.25em;background-color: #f0f8ff;}#sk-container-id-2 input.sk-toggleable__control:checked~div.sk-toggleable__content {max-height: 200px;max-width: 100%;overflow: auto;}#sk-container-id-2 input.sk-toggleable__control:checked~label.sk-toggleable__label-arrow:before {content: \"▾\";}#sk-container-id-2 div.sk-estimator input.sk-toggleable__control:checked~label.sk-toggleable__label {background-color: #d4ebff;}#sk-container-id-2 div.sk-label input.sk-toggleable__control:checked~label.sk-toggleable__label {background-color: #d4ebff;}#sk-container-id-2 input.sk-hidden--visually {border: 0;clip: rect(1px 1px 1px 1px);clip: rect(1px, 1px, 1px, 1px);height: 1px;margin: -1px;overflow: hidden;padding: 0;position: absolute;width: 1px;}#sk-container-id-2 div.sk-estimator {font-family: monospace;background-color: #f0f8ff;border: 1px dotted black;border-radius: 0.25em;box-sizing: border-box;margin-bottom: 0.5em;}#sk-container-id-2 div.sk-estimator:hover {background-color: #d4ebff;}#sk-container-id-2 div.sk-parallel-item::after {content: \"\";width: 100%;border-bottom: 1px solid gray;flex-grow: 1;}#sk-container-id-2 div.sk-label:hover label.sk-toggleable__label {background-color: #d4ebff;}#sk-container-id-2 div.sk-serial::before {content: \"\";position: absolute;border-left: 1px solid gray;box-sizing: border-box;top: 0;bottom: 0;left: 50%;z-index: 0;}#sk-container-id-2 div.sk-serial {display: flex;flex-direction: column;align-items: center;background-color: white;padding-right: 0.2em;padding-left: 0.2em;position: relative;}#sk-container-id-2 div.sk-item {position: relative;z-index: 1;}#sk-container-id-2 div.sk-parallel {display: flex;align-items: stretch;justify-content: center;background-color: white;position: relative;}#sk-container-id-2 div.sk-item::before, #sk-container-id-2 div.sk-parallel-item::before {content: \"\";position: absolute;border-left: 1px solid gray;box-sizing: border-box;top: 0;bottom: 0;left: 50%;z-index: -1;}#sk-container-id-2 div.sk-parallel-item {display: flex;flex-direction: column;z-index: 1;position: relative;background-color: white;}#sk-container-id-2 div.sk-parallel-item:first-child::after {align-self: flex-end;width: 50%;}#sk-container-id-2 div.sk-parallel-item:last-child::after {align-self: flex-start;width: 50%;}#sk-container-id-2 div.sk-parallel-item:only-child::after {width: 0;}#sk-container-id-2 div.sk-dashed-wrapped {border: 1px dashed gray;margin: 0 0.4em 0.5em 0.4em;box-sizing: border-box;padding-bottom: 0.4em;background-color: white;}#sk-container-id-2 div.sk-label label {font-family: monospace;font-weight: bold;display: inline-block;line-height: 1.2em;}#sk-container-id-2 div.sk-label-container {text-align: center;}#sk-container-id-2 div.sk-container {/* jupyter's `normalize.less` sets `[hidden] { display: none; }` but bootstrap.min.css set `[hidden] { display: none !important; }` so we also need the `!important` here to be able to override the default hidden behavior on the sphinx rendered scikit-learn.org. See: https://github.com/scikit-learn/scikit-learn/issues/21755 */display: inline-block !important;position: relative;}#sk-container-id-2 div.sk-text-repr-fallback {display: none;}</style><div id=\"sk-container-id-2\" class=\"sk-top-container\"><div class=\"sk-text-repr-fallback\"><pre>KNeighborsClassifier(n_neighbors=1)</pre><b>In a Jupyter environment, please rerun this cell to show the HTML representation or trust the notebook. <br />On GitHub, the HTML representation is unable to render, please try loading this page with nbviewer.org.</b></div><div class=\"sk-container\" hidden><div class=\"sk-item\"><div class=\"sk-estimator sk-toggleable\"><input class=\"sk-toggleable__control sk-hidden--visually\" id=\"sk-estimator-id-2\" type=\"checkbox\" checked><label for=\"sk-estimator-id-2\" class=\"sk-toggleable__label sk-toggleable__label-arrow\">KNeighborsClassifier</label><div class=\"sk-toggleable__content\"><pre>KNeighborsClassifier(n_neighbors=1)</pre></div></div></div></div></div>"
            ]
          },
          "metadata": {},
          "execution_count": 25
        }
      ]
    },
    {
      "cell_type": "markdown",
      "source": [
        "### Todas 5 features"
      ],
      "metadata": {
        "id": "dCxflUwXU4qQ"
      }
    },
    {
      "cell_type": "markdown",
      "source": [
        "Padronização dos dados projetados"
      ],
      "metadata": {
        "id": "IAY8lRe6HFba"
      }
    },
    {
      "cell_type": "code",
      "source": [
        "# Padronizar os dados projetados antes de aplicar o KNN\n",
        "scaler_pca5 = StandardScaler()\n",
        "\n",
        "X_train_pca5_scaled = scaler_pca5.fit_transform(X_train_pca5)\n",
        "X_test_pca5_scaled = scaler_pca5.transform(X_test_pca5)"
      ],
      "metadata": {
        "id": "uicxUJTYU4qS"
      },
      "execution_count": null,
      "outputs": []
    },
    {
      "cell_type": "markdown",
      "source": [
        "Treinamento"
      ],
      "metadata": {
        "id": "b5CcEMldHxFW"
      }
    },
    {
      "cell_type": "code",
      "source": [
        "# Treina e avalia o modelo KNN nos dados padronizados\n",
        "neigh_k1_pca5 = KNeighborsClassifier(n_neighbors=1)\n",
        "neigh_k1_pca5.fit(X_train_pca5_scaled, y_train)"
      ],
      "metadata": {
        "colab": {
          "base_uri": "https://localhost:8080/",
          "height": 74
        },
        "outputId": "acc51bb4-66e4-45c2-dd11-03bf760bbe06",
        "id": "O9efbe37U4qT"
      },
      "execution_count": null,
      "outputs": [
        {
          "output_type": "execute_result",
          "data": {
            "text/plain": [
              "KNeighborsClassifier(n_neighbors=1)"
            ],
            "text/html": [
              "<style>#sk-container-id-3 {color: black;background-color: white;}#sk-container-id-3 pre{padding: 0;}#sk-container-id-3 div.sk-toggleable {background-color: white;}#sk-container-id-3 label.sk-toggleable__label {cursor: pointer;display: block;width: 100%;margin-bottom: 0;padding: 0.3em;box-sizing: border-box;text-align: center;}#sk-container-id-3 label.sk-toggleable__label-arrow:before {content: \"▸\";float: left;margin-right: 0.25em;color: #696969;}#sk-container-id-3 label.sk-toggleable__label-arrow:hover:before {color: black;}#sk-container-id-3 div.sk-estimator:hover label.sk-toggleable__label-arrow:before {color: black;}#sk-container-id-3 div.sk-toggleable__content {max-height: 0;max-width: 0;overflow: hidden;text-align: left;background-color: #f0f8ff;}#sk-container-id-3 div.sk-toggleable__content pre {margin: 0.2em;color: black;border-radius: 0.25em;background-color: #f0f8ff;}#sk-container-id-3 input.sk-toggleable__control:checked~div.sk-toggleable__content {max-height: 200px;max-width: 100%;overflow: auto;}#sk-container-id-3 input.sk-toggleable__control:checked~label.sk-toggleable__label-arrow:before {content: \"▾\";}#sk-container-id-3 div.sk-estimator input.sk-toggleable__control:checked~label.sk-toggleable__label {background-color: #d4ebff;}#sk-container-id-3 div.sk-label input.sk-toggleable__control:checked~label.sk-toggleable__label {background-color: #d4ebff;}#sk-container-id-3 input.sk-hidden--visually {border: 0;clip: rect(1px 1px 1px 1px);clip: rect(1px, 1px, 1px, 1px);height: 1px;margin: -1px;overflow: hidden;padding: 0;position: absolute;width: 1px;}#sk-container-id-3 div.sk-estimator {font-family: monospace;background-color: #f0f8ff;border: 1px dotted black;border-radius: 0.25em;box-sizing: border-box;margin-bottom: 0.5em;}#sk-container-id-3 div.sk-estimator:hover {background-color: #d4ebff;}#sk-container-id-3 div.sk-parallel-item::after {content: \"\";width: 100%;border-bottom: 1px solid gray;flex-grow: 1;}#sk-container-id-3 div.sk-label:hover label.sk-toggleable__label {background-color: #d4ebff;}#sk-container-id-3 div.sk-serial::before {content: \"\";position: absolute;border-left: 1px solid gray;box-sizing: border-box;top: 0;bottom: 0;left: 50%;z-index: 0;}#sk-container-id-3 div.sk-serial {display: flex;flex-direction: column;align-items: center;background-color: white;padding-right: 0.2em;padding-left: 0.2em;position: relative;}#sk-container-id-3 div.sk-item {position: relative;z-index: 1;}#sk-container-id-3 div.sk-parallel {display: flex;align-items: stretch;justify-content: center;background-color: white;position: relative;}#sk-container-id-3 div.sk-item::before, #sk-container-id-3 div.sk-parallel-item::before {content: \"\";position: absolute;border-left: 1px solid gray;box-sizing: border-box;top: 0;bottom: 0;left: 50%;z-index: -1;}#sk-container-id-3 div.sk-parallel-item {display: flex;flex-direction: column;z-index: 1;position: relative;background-color: white;}#sk-container-id-3 div.sk-parallel-item:first-child::after {align-self: flex-end;width: 50%;}#sk-container-id-3 div.sk-parallel-item:last-child::after {align-self: flex-start;width: 50%;}#sk-container-id-3 div.sk-parallel-item:only-child::after {width: 0;}#sk-container-id-3 div.sk-dashed-wrapped {border: 1px dashed gray;margin: 0 0.4em 0.5em 0.4em;box-sizing: border-box;padding-bottom: 0.4em;background-color: white;}#sk-container-id-3 div.sk-label label {font-family: monospace;font-weight: bold;display: inline-block;line-height: 1.2em;}#sk-container-id-3 div.sk-label-container {text-align: center;}#sk-container-id-3 div.sk-container {/* jupyter's `normalize.less` sets `[hidden] { display: none; }` but bootstrap.min.css set `[hidden] { display: none !important; }` so we also need the `!important` here to be able to override the default hidden behavior on the sphinx rendered scikit-learn.org. See: https://github.com/scikit-learn/scikit-learn/issues/21755 */display: inline-block !important;position: relative;}#sk-container-id-3 div.sk-text-repr-fallback {display: none;}</style><div id=\"sk-container-id-3\" class=\"sk-top-container\"><div class=\"sk-text-repr-fallback\"><pre>KNeighborsClassifier(n_neighbors=1)</pre><b>In a Jupyter environment, please rerun this cell to show the HTML representation or trust the notebook. <br />On GitHub, the HTML representation is unable to render, please try loading this page with nbviewer.org.</b></div><div class=\"sk-container\" hidden><div class=\"sk-item\"><div class=\"sk-estimator sk-toggleable\"><input class=\"sk-toggleable__control sk-hidden--visually\" id=\"sk-estimator-id-3\" type=\"checkbox\" checked><label for=\"sk-estimator-id-3\" class=\"sk-toggleable__label sk-toggleable__label-arrow\">KNeighborsClassifier</label><div class=\"sk-toggleable__content\"><pre>KNeighborsClassifier(n_neighbors=1)</pre></div></div></div></div></div>"
            ]
          },
          "metadata": {},
          "execution_count": 27
        }
      ]
    },
    {
      "cell_type": "markdown",
      "source": [
        "## Analisando os resultados dos experimentos"
      ],
      "metadata": {
        "id": "DLFUfzWdUcry"
      }
    },
    {
      "cell_type": "code",
      "source": [
        "from sklearn.metrics import classification_report,confusion_matrix, ConfusionMatrixDisplay, accuracy_score\n",
        "from sklearn.metrics import classification_report"
      ],
      "metadata": {
        "id": "qE8VLDm-UXv4"
      },
      "execution_count": null,
      "outputs": []
    },
    {
      "cell_type": "markdown",
      "source": [
        "### Com todas as features"
      ],
      "metadata": {
        "id": "dtWt3qqKUloJ"
      }
    },
    {
      "cell_type": "code",
      "source": [
        "# Usa o método predict para fazer previsões (y) a partir dos dados de teste (X_test_scaled)\n",
        "y_pred_k1 = neigh_k1.predict(X_test_scaled)\n",
        "print(y_pred_k1)"
      ],
      "metadata": {
        "colab": {
          "base_uri": "https://localhost:8080/"
        },
        "id": "sFt7fUq3JPQT",
        "outputId": "4512581e-b0f1-44f6-e8e3-ac7572c11d87"
      },
      "execution_count": null,
      "outputs": [
        {
          "output_type": "stream",
          "name": "stdout",
          "text": [
            "[1 1 0 0 0 0 0 1 1 0 1 1 1 1 1 0 1 1 0 1 1 0 0 0 0 0 1 1 0 1 0 1 1 1 1 0 1\n",
            " 1 0 1 0 0 1 0 1 0 0 1 0 0 0 0 0 0 0 0 1 1 1 0 0 1 1 1 0 0 1 0 0 0 0 1 1 1\n",
            " 1 0 1 1 1 1 1 1 1 0 0 1 1 1 1 1 0 1 0 0 0 1 0 0 1 0 1 1 0 0 1 0 1 0 0 1 0\n",
            " 1 0 0 1 0 0 0 0 1 1 1 1 1 0 1 0 1 1 1 0 0 1 1 0 1 1 0 0 1 1 1 1 0 0 1 0 0\n",
            " 0 0 0 0 0 0 1 1 0 0 1 0 1 0 0 1 0 0 1 0 0 1 0 0 1 1 1 0 1 0 1 1 0 1 0 0 1\n",
            " 0 1 0 0 1 0 1 0 1 1 1 1 1 1 0 0 0 1 1 0 0 0 1 1 0 1 0 0 1 1 0 0 0 0 0 0 0\n",
            " 0 0 0 0 0 0 1 1 1 0 1 1 1 0 1 0 0 0 1 1 0 0 0 1 1 1 1 0 1 0 0 1 1 1 0 0 1\n",
            " 0 1 0 0 0 0 0 0 1 1 1 0 0 0 0 0 1 1 1 0 1 1 1 1 1 1 1 0 0 0 1 0 1 1 1 0 1\n",
            " 0 0 0 1]\n"
          ]
        }
      ]
    },
    {
      "cell_type": "code",
      "source": [
        "plt.figure(figsize = (16,12))\n",
        "cm = confusion_matrix(y_test, y_pred_k1) # matriz de confusão para comparar os valores preditos com os valores reais\n",
        "cmd = ConfusionMatrixDisplay(cm, display_labels=np.unique(y_test))\n",
        "cmd.plot()\n",
        "plt.title(\"Matriz de confusão dos dados de teste vs inferência do modelo (K=1)\")\n",
        "plt.show()"
      ],
      "metadata": {
        "id": "oEpPn-dDJPJO",
        "colab": {
          "base_uri": "https://localhost:8080/",
          "height": 490
        },
        "outputId": "04389c21-dd1d-432c-a6ce-255692d6ef11"
      },
      "execution_count": null,
      "outputs": [
        {
          "output_type": "display_data",
          "data": {
            "text/plain": [
              "<Figure size 1600x1200 with 0 Axes>"
            ]
          },
          "metadata": {}
        },
        {
          "output_type": "display_data",
          "data": {
            "text/plain": [
              "<Figure size 640x480 with 2 Axes>"
            ],
            "image/png": "[encoded data removed]"
          },
          "metadata": {}
        }
      ]
    },
    {
      "cell_type": "markdown",
      "source": [
        "Calculando as probabilidades para o modelo"
      ],
      "metadata": {
        "id": "WQzec9FNLDIw"
      }
    },
    {
      "cell_type": "code",
      "source": [
        "print(classification_report(y_test, y_pred_k1))"
      ],
      "metadata": {
        "colab": {
          "base_uri": "https://localhost:8080/"
        },
        "id": "wiLq6ZddJO_G",
        "outputId": "a704ecbe-b42e-4e14-b891-c883c7981732"
      },
      "execution_count": null,
      "outputs": [
        {
          "output_type": "stream",
          "name": "stdout",
          "text": [
            "              precision    recall  f1-score   support\n",
            "\n",
            "           0       0.69      0.69      0.69       154\n",
            "           1       0.68      0.68      0.68       146\n",
            "\n",
            "    accuracy                           0.69       300\n",
            "   macro avg       0.69      0.69      0.69       300\n",
            "weighted avg       0.69      0.69      0.69       300\n",
            "\n"
          ]
        }
      ]
    },
    {
      "cell_type": "markdown",
      "source": [
        "### Com 10 features"
      ],
      "metadata": {
        "id": "HstyuELeUxBd"
      }
    },
    {
      "cell_type": "code",
      "source": [
        "# Usa o método predict para fazer previsões (y) a partir dos dados de teste (X_test_pca10_scaled)\n",
        "y_pred_k1_pca10 = neigh_k1_pca10.predict(X_test_pca10_scaled)\n",
        "print(y_pred_k1_pca10)"
      ],
      "metadata": {
        "colab": {
          "base_uri": "https://localhost:8080/"
        },
        "id": "KV3gltTQ7h0h",
        "outputId": "fd20cc4d-e81c-4ce4-b713-8cb0d73826d9"
      },
      "execution_count": null,
      "outputs": [
        {
          "output_type": "stream",
          "name": "stdout",
          "text": [
            "[1 0 1 1 0 0 0 1 1 0 1 0 0 1 1 0 0 1 0 1 1 0 1 1 1 0 1 1 0 0 1 0 0 1 1 1 1\n",
            " 1 0 0 1 0 1 1 0 1 1 1 1 1 0 1 0 0 1 1 1 1 0 0 0 1 0 1 1 0 0 0 0 0 1 0 1 1\n",
            " 1 1 0 1 1 1 0 0 1 1 0 1 1 1 0 1 0 0 1 1 0 1 1 0 1 1 1 1 0 1 0 0 0 0 0 1 1\n",
            " 0 0 1 1 0 1 1 1 0 1 1 0 1 0 1 0 1 0 1 1 0 1 0 1 1 0 1 1 1 1 0 0 1 0 1 0 1\n",
            " 0 1 0 0 1 0 1 1 0 0 1 0 1 0 1 0 1 1 0 1 0 0 1 0 1 1 1 1 0 0 0 1 1 0 0 1 1\n",
            " 1 1 1 1 1 0 0 0 1 1 1 1 1 0 0 0 0 1 1 1 0 0 1 1 0 1 1 1 1 1 0 0 1 0 0 1 1\n",
            " 0 0 0 1 0 1 1 1 1 1 0 0 0 0 1 1 0 1 1 0 1 0 0 0 1 1 1 0 0 1 1 1 1 1 1 0 1\n",
            " 1 1 0 0 0 0 1 0 1 1 1 0 0 1 1 0 0 1 1 1 0 0 0 0 1 1 1 0 1 0 1 0 0 0 0 0 1\n",
            " 1 0 0 1]\n"
          ]
        }
      ]
    },
    {
      "cell_type": "code",
      "source": [
        "plt.figure(figsize = (16,12))\n",
        "cm = confusion_matrix(y_test, y_pred_k1_pca10) # matriz de confusão para comparar os valores preditos com os valores reais\n",
        "cmd = ConfusionMatrixDisplay(cm, display_labels=np.unique(y_test))\n",
        "cmd.plot()\n",
        "plt.title(\"Matriz de confusão dos dados de teste (pca10) vs inferência do modelo (K=1)\")\n",
        "plt.show()"
      ],
      "metadata": {
        "id": "pBP3_2Yt7hNJ",
        "colab": {
          "base_uri": "https://localhost:8080/",
          "height": 490
        },
        "outputId": "22b44181-0be9-4f5a-b6cd-847c666a4f06"
      },
      "execution_count": null,
      "outputs": [
        {
          "output_type": "display_data",
          "data": {
            "text/plain": [
              "<Figure size 1600x1200 with 0 Axes>"
            ]
          },
          "metadata": {}
        },
        {
          "output_type": "display_data",
          "data": {
            "text/plain": [
              "<Figure size 640x480 with 2 Axes>"
            ],
            "image/png": "[encoded data removed]"
          },
          "metadata": {}
        }
      ]
    },
    {
      "cell_type": "markdown",
      "source": [
        "Calculando as probabilidades para o modelo"
      ],
      "metadata": {
        "id": "gdW3Cc6-A4u7"
      }
    },
    {
      "cell_type": "code",
      "source": [
        "print(classification_report(y_test, y_pred_k1_pca10))"
      ],
      "metadata": {
        "colab": {
          "base_uri": "https://localhost:8080/"
        },
        "id": "nEOuxUN68xED",
        "outputId": "6fc3e784-dc50-48f7-9c4b-3d138a476a5e"
      },
      "execution_count": null,
      "outputs": [
        {
          "output_type": "stream",
          "name": "stdout",
          "text": [
            "              precision    recall  f1-score   support\n",
            "\n",
            "           0       0.74      0.64      0.69       154\n",
            "           1       0.67      0.77      0.72       146\n",
            "\n",
            "    accuracy                           0.70       300\n",
            "   macro avg       0.71      0.70      0.70       300\n",
            "weighted avg       0.71      0.70      0.70       300\n",
            "\n"
          ]
        }
      ]
    },
    {
      "cell_type": "markdown",
      "source": [
        "### Com 5 features"
      ],
      "metadata": {
        "id": "IB7vXNcaUxhS"
      }
    },
    {
      "cell_type": "code",
      "source": [
        "# Usa o método predict para fazer previsões (y) a partir dos dados de teste (X_test_pca10_scaled)\n",
        "y_pred_k1_pca5 = neigh_k1_pca5.predict(X_test_pca5_scaled)\n",
        "print(y_pred_k1_pca5)"
      ],
      "metadata": {
        "colab": {
          "base_uri": "https://localhost:8080/"
        },
        "id": "J527gllVIGro",
        "outputId": "3b2d4098-43ce-4a3a-8209-c196948e49fd"
      },
      "execution_count": null,
      "outputs": [
        {
          "output_type": "stream",
          "name": "stdout",
          "text": [
            "[0 0 1 1 1 0 0 0 1 1 1 0 0 1 1 0 1 1 0 1 1 0 1 1 1 0 1 1 0 1 0 1 1 1 0 0 1\n",
            " 1 0 1 0 0 1 0 0 0 0 1 1 1 0 1 1 0 1 1 1 1 0 0 0 1 0 1 0 0 1 0 0 0 0 0 1 0\n",
            " 1 0 0 1 1 1 1 0 1 0 0 0 1 1 1 1 0 1 0 1 0 0 1 1 0 0 1 1 0 1 1 0 1 0 1 1 0\n",
            " 1 0 1 1 0 1 1 1 0 1 1 0 0 0 1 0 1 0 1 1 1 0 0 0 0 1 1 0 1 1 1 0 1 1 1 0 0\n",
            " 0 1 0 0 0 0 0 0 0 0 1 0 0 1 1 0 1 0 0 0 0 0 1 0 1 0 1 0 0 0 0 1 1 0 0 1 1\n",
            " 0 1 1 1 0 0 0 1 1 1 0 1 0 1 0 0 0 0 1 1 0 0 1 0 0 0 1 1 1 1 0 1 0 0 0 0 1\n",
            " 0 0 1 0 1 1 1 1 0 1 1 0 1 0 1 1 0 1 1 0 1 0 1 0 1 1 1 0 0 0 1 1 1 1 1 1 1\n",
            " 1 1 0 0 0 0 1 0 1 1 1 0 0 1 0 0 1 0 1 1 0 1 0 0 1 0 1 1 1 0 1 1 0 0 1 0 1\n",
            " 0 0 0 1]\n"
          ]
        }
      ]
    },
    {
      "cell_type": "code",
      "source": [
        "plt.figure(figsize = (16,12))\n",
        "cm = confusion_matrix(y_test, y_pred_k1_pca5) # matriz de confusão para comparar os valores preditos com os valores reais\n",
        "cmd = ConfusionMatrixDisplay(cm, display_labels=np.unique(y_test))\n",
        "cmd.plot()\n",
        "plt.title(\"Matriz de confusão dos dados de teste (pca5) vs inferência do modelo (K=1)\")\n",
        "plt.show()"
      ],
      "metadata": {
        "id": "VpCRf2TeIGfB",
        "colab": {
          "base_uri": "https://localhost:8080/",
          "height": 490
        },
        "outputId": "94383f06-df0a-4107-c22a-520abe958ac9"
      },
      "execution_count": null,
      "outputs": [
        {
          "output_type": "display_data",
          "data": {
            "text/plain": [
              "<Figure size 1600x1200 with 0 Axes>"
            ]
          },
          "metadata": {}
        },
        {
          "output_type": "display_data",
          "data": {
            "text/plain": [
              "<Figure size 640x480 with 2 Axes>"
            ],
            "image/png": "[encoded data removed]"
          },
          "metadata": {}
        }
      ]
    },
    {
      "cell_type": "markdown",
      "source": [
        "Calculando as probabilidades para o modelo"
      ],
      "metadata": {
        "id": "B05gJPb5IUJ7"
      }
    },
    {
      "cell_type": "code",
      "source": [
        "print(classification_report(y_test, y_pred_k1_pca5))"
      ],
      "metadata": {
        "colab": {
          "base_uri": "https://localhost:8080/"
        },
        "id": "ByjNh6JaIXtA",
        "outputId": "0672ac93-df9c-4cfc-b046-b66ef9adf8cd"
      },
      "execution_count": null,
      "outputs": [
        {
          "output_type": "stream",
          "name": "stdout",
          "text": [
            "              precision    recall  f1-score   support\n",
            "\n",
            "           0       0.78      0.74      0.76       154\n",
            "           1       0.74      0.77      0.76       146\n",
            "\n",
            "    accuracy                           0.76       300\n",
            "   macro avg       0.76      0.76      0.76       300\n",
            "weighted avg       0.76      0.76      0.76       300\n",
            "\n"
          ]
        }
      ]
    },
    {
      "cell_type": "markdown",
      "metadata": {
        "id": "ogttuG6mNNmZ"
      },
      "source": [
        "## Obtenha os dados\n",
        "** Leia o arquivo csv 'Arvore_Decisao_Iris_Data.csv' em um DataFrame **"
      ]
    },
    {
      "cell_type": "code",
      "source": [
        "drive.mount('/content/gdrive')"
      ],
      "metadata": {
        "colab": {
          "base_uri": "https://localhost:8080/"
        },
        "id": "JooHwkk2jBtm",
        "outputId": "bbccd198-64cb-4f23-9dca-acc0ecfb4c9c"
      },
      "execution_count": null,
      "outputs": [
        {
          "output_type": "stream",
          "name": "stdout",
          "text": [
            "Mounted at /content/gdrive\n"
          ]
        }
      ]
    },
    {
      "cell_type": "code",
      "source": [
        "df = pd.read_csv('/content/gdrive/MyDrive/Colab Notebooks/datasets/Arvore_Decisao_Iris_Data.csv')"
      ],
      "metadata": {
        "id": "WHLYiPjxjIui"
      },
      "execution_count": null,
      "outputs": []
    },
    {
      "cell_type": "code",
      "source": [
        "columns = ['sepal_length', 'sepal_width', 'petal_length', 'petal_width', 'class']"
      ],
      "metadata": {
        "id": "in0-LdWmgkLQ"
      },
      "execution_count": null,
      "outputs": []
    },
    {
      "cell_type": "code",
      "source": [
        "df.columns = columns"
      ],
      "metadata": {
        "id": "4Mj18iJog7PX"
      },
      "execution_count": null,
      "outputs": []
    },
    {
      "cell_type": "code",
      "source": [
        "df['class'].unique()"
      ],
      "metadata": {
        "colab": {
          "base_uri": "https://localhost:8080/"
        },
        "id": "DvNMqLyNlOry",
        "outputId": "660c6fed-57e2-4275-d3a1-e967931cb879"
      },
      "execution_count": null,
      "outputs": [
        {
          "output_type": "execute_result",
          "data": {
            "text/plain": [
              "array(['Iris-setosa', 'Iris-versicolor', 'Iris-virginica'], dtype=object)"
            ]
          },
          "metadata": {},
          "execution_count": 42
        }
      ]
    },
    {
      "cell_type": "code",
      "source": [
        "df.head()"
      ],
      "metadata": {
        "colab": {
          "base_uri": "https://localhost:8080/",
          "height": 206
        },
        "id": "3hQdAEVpnZgT",
        "outputId": "4d6f6efa-ae38-45e7-df45-b8a7a64c2bb2"
      },
      "execution_count": null,
      "outputs": [
        {
          "output_type": "execute_result",
          "data": {
            "text/plain": [
              "   sepal_length  sepal_width  petal_length  petal_width        class\n",
              "0           4.9          3.0           1.4          0.2  Iris-setosa\n",
              "1           4.7          3.2           1.3          0.2  Iris-setosa\n",
              "2           4.6          3.1           1.5          0.2  Iris-setosa\n",
              "3           5.0          3.6           1.4          0.2  Iris-setosa\n",
              "4           5.4          3.9           1.7          0.4  Iris-setosa"
            ],
            "text/html": [
              "\n",
              "\n",
              "  <div id=\"df-4ccacca4-a2f9-4885-b966-73f6f67dc469\">\n",
              "    <div class=\"colab-df-container\">\n",
              "      <div>\n",
              "<style scoped>\n",
              "    .dataframe tbody tr th:only-of-type {\n",
              "        vertical-align: middle;\n",
              "    }\n",
              "\n",
              "    .dataframe tbody tr th {\n",
              "        vertical-align: top;\n",
              "    }\n",
              "\n",
              "    .dataframe thead th {\n",
              "        text-align: right;\n",
              "    }\n",
              "</style>\n",
              "<table border=\"1\" class=\"dataframe\">\n",
              "  <thead>\n",
              "    <tr style=\"text-align: right;\">\n",
              "      <th></th>\n",
              "      <th>sepal_length</th>\n",
              "      <th>sepal_width</th>\n",
              "      <th>petal_length</th>\n",
              "      <th>petal_width</th>\n",
              "      <th>class</th>\n",
              "    </tr>\n",
              "  </thead>\n",
              "  <tbody>\n",
              "    <tr>\n",
              "      <th>0</th>\n",
              "      <td>4.9</td>\n",
              "      <td>3.0</td>\n",
              "      <td>1.4</td>\n",
              "      <td>0.2</td>\n",
              "      <td>Iris-setosa</td>\n",
              "    </tr>\n",
              "    <tr>\n",
              "      <th>1</th>\n",
              "      <td>4.7</td>\n",
              "      <td>3.2</td>\n",
              "      <td>1.3</td>\n",
              "      <td>0.2</td>\n",
              "      <td>Iris-setosa</td>\n",
              "    </tr>\n",
              "    <tr>\n",
              "      <th>2</th>\n",
              "      <td>4.6</td>\n",
              "      <td>3.1</td>\n",
              "      <td>1.5</td>\n",
              "      <td>0.2</td>\n",
              "      <td>Iris-setosa</td>\n",
              "    </tr>\n",
              "    <tr>\n",
              "      <th>3</th>\n",
              "      <td>5.0</td>\n",
              "      <td>3.6</td>\n",
              "      <td>1.4</td>\n",
              "      <td>0.2</td>\n",
              "      <td>Iris-setosa</td>\n",
              "    </tr>\n",
              "    <tr>\n",
              "      <th>4</th>\n",
              "      <td>5.4</td>\n",
              "      <td>3.9</td>\n",
              "      <td>1.7</td>\n",
              "      <td>0.4</td>\n",
              "      <td>Iris-setosa</td>\n",
              "    </tr>\n",
              "  </tbody>\n",
              "</table>\n",
              "</div>\n",
              "      <button class=\"colab-df-convert\" onclick=\"convertToInteractive('df-4ccacca4-a2f9-4885-b966-73f6f67dc469')\"\n",
              "              title=\"Convert this dataframe to an interactive table.\"\n",
              "              style=\"display:none;\">\n",
              "\n",
              "  <svg xmlns=\"http://www.w3.org/2000/svg\" height=\"24px\"viewBox=\"0 0 24 24\"\n",
              "       width=\"24px\">\n",
              "    <path d=\"M0 0h24v24H0V0z\" fill=\"none\"/>\n",
              "    <path d=\"M18.56 5.44l.94 2.06.94-2.06 2.06-.94-2.06-.94-.94-2.06-.94 2.06-2.06.94zm-11 1L8.5 8.5l.94-2.06 2.06-.94-2.06-.94L8.5 2.5l-.94 2.06-2.06.94zm10 10l.94 2.06.94-2.06 2.06-.94-2.06-.94-.94-2.06-.94 2.06-2.06.94z\"/><path d=\"M17.41 7.96l-1.37-1.37c-.4-.4-.92-.59-1.43-.59-.52 0-1.04.2-1.43.59L10.3 9.45l-7.72 7.72c-.78.78-.78 2.05 0 2.83L4 21.41c.39.39.9.59 1.41.59.51 0 1.02-.2 1.41-.59l7.78-7.78 2.81-2.81c.8-.78.8-2.07 0-2.86zM5.41 20L4 18.59l7.72-7.72 1.47 1.35L5.41 20z\"/>\n",
              "  </svg>\n",
              "      </button>\n",
              "\n",
              "\n",
              "\n",
              "    <div id=\"df-0d89c684-2c98-40d7-9b1a-2b5ed677c2bc\">\n",
              "      <button class=\"colab-df-quickchart\" onclick=\"quickchart('df-0d89c684-2c98-40d7-9b1a-2b5ed677c2bc')\"\n",
              "              title=\"Suggest charts.\"\n",
              "              style=\"display:none;\">\n",
              "\n",
              "<svg xmlns=\"http://www.w3.org/2000/svg\" height=\"24px\"viewBox=\"0 0 24 24\"\n",
              "     width=\"24px\">\n",
              "    <g>\n",
              "        <path d=\"M19 3H5c-1.1 0-2 .9-2 2v14c0 1.1.9 2 2 2h14c1.1 0 2-.9 2-2V5c0-1.1-.9-2-2-2zM9 17H7v-7h2v7zm4 0h-2V7h2v10zm4 0h-2v-4h2v4z\"/>\n",
              "    </g>\n",
              "</svg>\n",
              "      </button>\n",
              "    </div>\n",
              "\n",
              "<style>\n",
              "  .colab-df-quickchart {\n",
              "    background-color: #E8F0FE;\n",
              "    border: none;\n",
              "    border-radius: 50%;\n",
              "    cursor: pointer;\n",
              "    display: none;\n",
              "    fill: #1967D2;\n",
              "    height: 32px;\n",
              "    padding: 0 0 0 0;\n",
              "    width: 32px;\n",
              "  }\n",
              "\n",
              "  .colab-df-quickchart:hover {\n",
              "    background-color: #E2EBFA;\n",
              "    box-shadow: 0px 1px 2px rgba(60, 64, 67, 0.3), 0px 1px 3px 1px rgba(60, 64, 67, 0.15);\n",
              "    fill: #174EA6;\n",
              "  }\n",
              "\n",
              "  [theme=dark] .colab-df-quickchart {\n",
              "    background-color: #3B4455;\n",
              "    fill: #D2E3FC;\n",
              "  }\n",
              "\n",
              "  [theme=dark] .colab-df-quickchart:hover {\n",
              "    background-color: #434B5C;\n",
              "    box-shadow: 0px 1px 3px 1px rgba(0, 0, 0, 0.15);\n",
              "    filter: drop-shadow(0px 1px 2px rgba(0, 0, 0, 0.3));\n",
              "    fill: #FFFFFF;\n",
              "  }\n",
              "</style>\n",
              "\n",
              "    <script>\n",
              "      async function quickchart(key) {\n",
              "        const containerElement = document.querySelector('#' + key);\n",
              "        const charts = await google.colab.kernel.invokeFunction(\n",
              "            'suggestCharts', [key], {});\n",
              "      }\n",
              "    </script>\n",
              "\n",
              "      <script>\n",
              "\n",
              "function displayQuickchartButton(domScope) {\n",
              "  let quickchartButtonEl =\n",
              "    domScope.querySelector('#df-0d89c684-2c98-40d7-9b1a-2b5ed677c2bc button.colab-df-quickchart');\n",
              "  quickchartButtonEl.style.display =\n",
              "    google.colab.kernel.accessAllowed ? 'block' : 'none';\n",
              "}\n",
              "\n",
              "        displayQuickchartButton(document);\n",
              "      </script>\n",
              "      <style>\n",
              "    .colab-df-container {\n",
              "      display:flex;\n",
              "      flex-wrap:wrap;\n",
              "      gap: 12px;\n",
              "    }\n",
              "\n",
              "    .colab-df-convert {\n",
              "      background-color: #E8F0FE;\n",
              "      border: none;\n",
              "      border-radius: 50%;\n",
              "      cursor: pointer;\n",
              "      display: none;\n",
              "      fill: #1967D2;\n",
              "      height: 32px;\n",
              "      padding: 0 0 0 0;\n",
              "      width: 32px;\n",
              "    }\n",
              "\n",
              "    .colab-df-convert:hover {\n",
              "      background-color: #E2EBFA;\n",
              "      box-shadow: 0px 1px 2px rgba(60, 64, 67, 0.3), 0px 1px 3px 1px rgba(60, 64, 67, 0.15);\n",
              "      fill: #174EA6;\n",
              "    }\n",
              "\n",
              "    [theme=dark] .colab-df-convert {\n",
              "      background-color: #3B4455;\n",
              "      fill: #D2E3FC;\n",
              "    }\n",
              "\n",
              "    [theme=dark] .colab-df-convert:hover {\n",
              "      background-color: #434B5C;\n",
              "      box-shadow: 0px 1px 3px 1px rgba(0, 0, 0, 0.15);\n",
              "      filter: drop-shadow(0px 1px 2px rgba(0, 0, 0, 0.3));\n",
              "      fill: #FFFFFF;\n",
              "    }\n",
              "  </style>\n",
              "\n",
              "      <script>\n",
              "        const buttonEl =\n",
              "          document.querySelector('#df-4ccacca4-a2f9-4885-b966-73f6f67dc469 button.colab-df-convert');\n",
              "        buttonEl.style.display =\n",
              "          google.colab.kernel.accessAllowed ? 'block' : 'none';\n",
              "\n",
              "        async function convertToInteractive(key) {\n",
              "          const element = document.querySelector('#df-4ccacca4-a2f9-4885-b966-73f6f67dc469');\n",
              "          const dataTable =\n",
              "            await google.colab.kernel.invokeFunction('convertToInteractive',\n",
              "                                                     [key], {});\n",
              "          if (!dataTable) return;\n",
              "\n",
              "          const docLinkHtml = 'Like what you see? Visit the ' +\n",
              "            '<a target=\"_blank\" href=https://colab.research.google.com/notebooks/data_table.ipynb>data table notebook</a>'\n",
              "            + ' to learn more about interactive tables.';\n",
              "          element.innerHTML = '';\n",
              "          dataTable['output_type'] = 'display_data';\n",
              "          await google.colab.output.renderOutput(dataTable, element);\n",
              "          const docLink = document.createElement('div');\n",
              "          docLink.innerHTML = docLinkHtml;\n",
              "          element.appendChild(docLink);\n",
              "        }\n",
              "      </script>\n",
              "    </div>\n",
              "  </div>\n"
            ]
          },
          "metadata": {},
          "execution_count": 43
        }
      ]
    },
    {
      "cell_type": "markdown",
      "source": [
        "Convertendo o target em labels numérica"
      ],
      "metadata": {
        "id": "AFSSzfR0fkDJ"
      }
    },
    {
      "cell_type": "code",
      "source": [
        "# Criando uma instância do LabelEncoder, que é uma classe que nos ajuda a codificar rótulos categóricos em valores numéricos\n",
        "le = preprocessing.LabelEncoder()"
      ],
      "metadata": {
        "id": "AFG6wRqEqH-T"
      },
      "execution_count": null,
      "outputs": []
    },
    {
      "cell_type": "code",
      "source": [
        "# Ajusta o codificador aos valores da coluna 'class'. Isso permite que o codificador saiba quais rótulos estão presentes nos dados e os associe a valores numéricos específicos\n",
        "le.fit(df['class'])"
      ],
      "metadata": {
        "colab": {
          "base_uri": "https://localhost:8080/",
          "height": 74
        },
        "id": "rMc3E4_AqH08",
        "outputId": "cd2f2b55-2497-484a-f03e-2b7c55624a0a"
      },
      "execution_count": null,
      "outputs": [
        {
          "output_type": "execute_result",
          "data": {
            "text/plain": [
              "LabelEncoder()"
            ],
            "text/html": [
              "<style>#sk-container-id-4 {color: black;background-color: white;}#sk-container-id-4 pre{padding: 0;}#sk-container-id-4 div.sk-toggleable {background-color: white;}#sk-container-id-4 label.sk-toggleable__label {cursor: pointer;display: block;width: 100%;margin-bottom: 0;padding: 0.3em;box-sizing: border-box;text-align: center;}#sk-container-id-4 label.sk-toggleable__label-arrow:before {content: \"▸\";float: left;margin-right: 0.25em;color: #696969;}#sk-container-id-4 label.sk-toggleable__label-arrow:hover:before {color: black;}#sk-container-id-4 div.sk-estimator:hover label.sk-toggleable__label-arrow:before {color: black;}#sk-container-id-4 div.sk-toggleable__content {max-height: 0;max-width: 0;overflow: hidden;text-align: left;background-color: #f0f8ff;}#sk-container-id-4 div.sk-toggleable__content pre {margin: 0.2em;color: black;border-radius: 0.25em;background-color: #f0f8ff;}#sk-container-id-4 input.sk-toggleable__control:checked~div.sk-toggleable__content {max-height: 200px;max-width: 100%;overflow: auto;}#sk-container-id-4 input.sk-toggleable__control:checked~label.sk-toggleable__label-arrow:before {content: \"▾\";}#sk-container-id-4 div.sk-estimator input.sk-toggleable__control:checked~label.sk-toggleable__label {background-color: #d4ebff;}#sk-container-id-4 div.sk-label input.sk-toggleable__control:checked~label.sk-toggleable__label {background-color: #d4ebff;}#sk-container-id-4 input.sk-hidden--visually {border: 0;clip: rect(1px 1px 1px 1px);clip: rect(1px, 1px, 1px, 1px);height: 1px;margin: -1px;overflow: hidden;padding: 0;position: absolute;width: 1px;}#sk-container-id-4 div.sk-estimator {font-family: monospace;background-color: #f0f8ff;border: 1px dotted black;border-radius: 0.25em;box-sizing: border-box;margin-bottom: 0.5em;}#sk-container-id-4 div.sk-estimator:hover {background-color: #d4ebff;}#sk-container-id-4 div.sk-parallel-item::after {content: \"\";width: 100%;border-bottom: 1px solid gray;flex-grow: 1;}#sk-container-id-4 div.sk-label:hover label.sk-toggleable__label {background-color: #d4ebff;}#sk-container-id-4 div.sk-serial::before {content: \"\";position: absolute;border-left: 1px solid gray;box-sizing: border-box;top: 0;bottom: 0;left: 50%;z-index: 0;}#sk-container-id-4 div.sk-serial {display: flex;flex-direction: column;align-items: center;background-color: white;padding-right: 0.2em;padding-left: 0.2em;position: relative;}#sk-container-id-4 div.sk-item {position: relative;z-index: 1;}#sk-container-id-4 div.sk-parallel {display: flex;align-items: stretch;justify-content: center;background-color: white;position: relative;}#sk-container-id-4 div.sk-item::before, #sk-container-id-4 div.sk-parallel-item::before {content: \"\";position: absolute;border-left: 1px solid gray;box-sizing: border-box;top: 0;bottom: 0;left: 50%;z-index: -1;}#sk-container-id-4 div.sk-parallel-item {display: flex;flex-direction: column;z-index: 1;position: relative;background-color: white;}#sk-container-id-4 div.sk-parallel-item:first-child::after {align-self: flex-end;width: 50%;}#sk-container-id-4 div.sk-parallel-item:last-child::after {align-self: flex-start;width: 50%;}#sk-container-id-4 div.sk-parallel-item:only-child::after {width: 0;}#sk-container-id-4 div.sk-dashed-wrapped {border: 1px dashed gray;margin: 0 0.4em 0.5em 0.4em;box-sizing: border-box;padding-bottom: 0.4em;background-color: white;}#sk-container-id-4 div.sk-label label {font-family: monospace;font-weight: bold;display: inline-block;line-height: 1.2em;}#sk-container-id-4 div.sk-label-container {text-align: center;}#sk-container-id-4 div.sk-container {/* jupyter's `normalize.less` sets `[hidden] { display: none; }` but bootstrap.min.css set `[hidden] { display: none !important; }` so we also need the `!important` here to be able to override the default hidden behavior on the sphinx rendered scikit-learn.org. See: https://github.com/scikit-learn/scikit-learn/issues/21755 */display: inline-block !important;position: relative;}#sk-container-id-4 div.sk-text-repr-fallback {display: none;}</style><div id=\"sk-container-id-4\" class=\"sk-top-container\"><div class=\"sk-text-repr-fallback\"><pre>LabelEncoder()</pre><b>In a Jupyter environment, please rerun this cell to show the HTML representation or trust the notebook. <br />On GitHub, the HTML representation is unable to render, please try loading this page with nbviewer.org.</b></div><div class=\"sk-container\" hidden><div class=\"sk-item\"><div class=\"sk-estimator sk-toggleable\"><input class=\"sk-toggleable__control sk-hidden--visually\" id=\"sk-estimator-id-4\" type=\"checkbox\" checked><label for=\"sk-estimator-id-4\" class=\"sk-toggleable__label sk-toggleable__label-arrow\">LabelEncoder</label><div class=\"sk-toggleable__content\"><pre>LabelEncoder()</pre></div></div></div></div></div>"
            ]
          },
          "metadata": {},
          "execution_count": 45
        }
      ]
    },
    {
      "cell_type": "code",
      "source": [
        "# Transformando os rótulos da cluna 'class' em valores numéricos usando o codificador e atribuindo a uma nova coluna 'le_class'\n",
        "df['class_le'] = le.transform(df['class'])"
      ],
      "metadata": {
        "id": "6QeSxcm3qHom"
      },
      "execution_count": null,
      "outputs": []
    },
    {
      "cell_type": "code",
      "source": [
        "df"
      ],
      "metadata": {
        "colab": {
          "base_uri": "https://localhost:8080/",
          "height": 423
        },
        "id": "nxklyjqcqqNC",
        "outputId": "c0386f6f-132c-4461-8633-9547e7732373"
      },
      "execution_count": null,
      "outputs": [
        {
          "output_type": "execute_result",
          "data": {
            "text/plain": [
              "     sepal_length  sepal_width  petal_length  petal_width           class  \\\n",
              "0             4.9          3.0           1.4          0.2     Iris-setosa   \n",
              "1             4.7          3.2           1.3          0.2     Iris-setosa   \n",
              "2             4.6          3.1           1.5          0.2     Iris-setosa   \n",
              "3             5.0          3.6           1.4          0.2     Iris-setosa   \n",
              "4             5.4          3.9           1.7          0.4     Iris-setosa   \n",
              "..            ...          ...           ...          ...             ...   \n",
              "144           6.7          3.0           5.2          2.3  Iris-virginica   \n",
              "145           6.3          2.5           5.0          1.9  Iris-virginica   \n",
              "146           6.5          3.0           5.2          2.0  Iris-virginica   \n",
              "147           6.2          3.4           5.4          2.3  Iris-virginica   \n",
              "148           5.9          3.0           5.1          1.8  Iris-virginica   \n",
              "\n",
              "     class_le  \n",
              "0           0  \n",
              "1           0  \n",
              "2           0  \n",
              "3           0  \n",
              "4           0  \n",
              "..        ...  \n",
              "144         2  \n",
              "145         2  \n",
              "146         2  \n",
              "147         2  \n",
              "148         2  \n",
              "\n",
              "[149 rows x 6 columns]"
            ],
            "text/html": [
              "\n",
              "\n",
              "  <div id=\"df-06778980-d325-42fe-b508-c143c6729123\">\n",
              "    <div class=\"colab-df-container\">\n",
              "      <div>\n",
              "<style scoped>\n",
              "    .dataframe tbody tr th:only-of-type {\n",
              "        vertical-align: middle;\n",
              "    }\n",
              "\n",
              "    .dataframe tbody tr th {\n",
              "        vertical-align: top;\n",
              "    }\n",
              "\n",
              "    .dataframe thead th {\n",
              "        text-align: right;\n",
              "    }\n",
              "</style>\n",
              "<table border=\"1\" class=\"dataframe\">\n",
              "  <thead>\n",
              "    <tr style=\"text-align: right;\">\n",
              "      <th></th>\n",
              "      <th>sepal_length</th>\n",
              "      <th>sepal_width</th>\n",
              "      <th>petal_length</th>\n",
              "      <th>petal_width</th>\n",
              "      <th>class</th>\n",
              "      <th>class_le</th>\n",
              "    </tr>\n",
              "  </thead>\n",
              "  <tbody>\n",
              "    <tr>\n",
              "      <th>0</th>\n",
              "      <td>4.9</td>\n",
              "      <td>3.0</td>\n",
              "      <td>1.4</td>\n",
              "      <td>0.2</td>\n",
              "      <td>Iris-setosa</td>\n",
              "      <td>0</td>\n",
              "    </tr>\n",
              "    <tr>\n",
              "      <th>1</th>\n",
              "      <td>4.7</td>\n",
              "      <td>3.2</td>\n",
              "      <td>1.3</td>\n",
              "      <td>0.2</td>\n",
              "      <td>Iris-setosa</td>\n",
              "      <td>0</td>\n",
              "    </tr>\n",
              "    <tr>\n",
              "      <th>2</th>\n",
              "      <td>4.6</td>\n",
              "      <td>3.1</td>\n",
              "      <td>1.5</td>\n",
              "      <td>0.2</td>\n",
              "      <td>Iris-setosa</td>\n",
              "      <td>0</td>\n",
              "    </tr>\n",
              "    <tr>\n",
              "      <th>3</th>\n",
              "      <td>5.0</td>\n",
              "      <td>3.6</td>\n",
              "      <td>1.4</td>\n",
              "      <td>0.2</td>\n",
              "      <td>Iris-setosa</td>\n",
              "      <td>0</td>\n",
              "    </tr>\n",
              "    <tr>\n",
              "      <th>4</th>\n",
              "      <td>5.4</td>\n",
              "      <td>3.9</td>\n",
              "      <td>1.7</td>\n",
              "      <td>0.4</td>\n",
              "      <td>Iris-setosa</td>\n",
              "      <td>0</td>\n",
              "    </tr>\n",
              "    <tr>\n",
              "      <th>...</th>\n",
              "      <td>...</td>\n",
              "      <td>...</td>\n",
              "      <td>...</td>\n",
              "      <td>...</td>\n",
              "      <td>...</td>\n",
              "      <td>...</td>\n",
              "    </tr>\n",
              "    <tr>\n",
              "      <th>144</th>\n",
              "      <td>6.7</td>\n",
              "      <td>3.0</td>\n",
              "      <td>5.2</td>\n",
              "      <td>2.3</td>\n",
              "      <td>Iris-virginica</td>\n",
              "      <td>2</td>\n",
              "    </tr>\n",
              "    <tr>\n",
              "      <th>145</th>\n",
              "      <td>6.3</td>\n",
              "      <td>2.5</td>\n",
              "      <td>5.0</td>\n",
              "      <td>1.9</td>\n",
              "      <td>Iris-virginica</td>\n",
              "      <td>2</td>\n",
              "    </tr>\n",
              "    <tr>\n",
              "      <th>146</th>\n",
              "      <td>6.5</td>\n",
              "      <td>3.0</td>\n",
              "      <td>5.2</td>\n",
              "      <td>2.0</td>\n",
              "      <td>Iris-virginica</td>\n",
              "      <td>2</td>\n",
              "    </tr>\n",
              "    <tr>\n",
              "      <th>147</th>\n",
              "      <td>6.2</td>\n",
              "      <td>3.4</td>\n",
              "      <td>5.4</td>\n",
              "      <td>2.3</td>\n",
              "      <td>Iris-virginica</td>\n",
              "      <td>2</td>\n",
              "    </tr>\n",
              "    <tr>\n",
              "      <th>148</th>\n",
              "      <td>5.9</td>\n",
              "      <td>3.0</td>\n",
              "      <td>5.1</td>\n",
              "      <td>1.8</td>\n",
              "      <td>Iris-virginica</td>\n",
              "      <td>2</td>\n",
              "    </tr>\n",
              "  </tbody>\n",
              "</table>\n",
              "<p>149 rows × 6 columns</p>\n",
              "</div>\n",
              "      <button class=\"colab-df-convert\" onclick=\"convertToInteractive('df-06778980-d325-42fe-b508-c143c6729123')\"\n",
              "              title=\"Convert this dataframe to an interactive table.\"\n",
              "              style=\"display:none;\">\n",
              "\n",
              "  <svg xmlns=\"http://www.w3.org/2000/svg\" height=\"24px\"viewBox=\"0 0 24 24\"\n",
              "       width=\"24px\">\n",
              "    <path d=\"M0 0h24v24H0V0z\" fill=\"none\"/>\n",
              "    <path d=\"M18.56 5.44l.94 2.06.94-2.06 2.06-.94-2.06-.94-.94-2.06-.94 2.06-2.06.94zm-11 1L8.5 8.5l.94-2.06 2.06-.94-2.06-.94L8.5 2.5l-.94 2.06-2.06.94zm10 10l.94 2.06.94-2.06 2.06-.94-2.06-.94-.94-2.06-.94 2.06-2.06.94z\"/><path d=\"M17.41 7.96l-1.37-1.37c-.4-.4-.92-.59-1.43-.59-.52 0-1.04.2-1.43.59L10.3 9.45l-7.72 7.72c-.78.78-.78 2.05 0 2.83L4 21.41c.39.39.9.59 1.41.59.51 0 1.02-.2 1.41-.59l7.78-7.78 2.81-2.81c.8-.78.8-2.07 0-2.86zM5.41 20L4 18.59l7.72-7.72 1.47 1.35L5.41 20z\"/>\n",
              "  </svg>\n",
              "      </button>\n",
              "\n",
              "\n",
              "\n",
              "    <div id=\"df-8567f93c-6375-4d14-ab7d-627852a65619\">\n",
              "      <button class=\"colab-df-quickchart\" onclick=\"quickchart('df-8567f93c-6375-4d14-ab7d-627852a65619')\"\n",
              "              title=\"Suggest charts.\"\n",
              "              style=\"display:none;\">\n",
              "\n",
              "<svg xmlns=\"http://www.w3.org/2000/svg\" height=\"24px\"viewBox=\"0 0 24 24\"\n",
              "     width=\"24px\">\n",
              "    <g>\n",
              "        <path d=\"M19 3H5c-1.1 0-2 .9-2 2v14c0 1.1.9 2 2 2h14c1.1 0 2-.9 2-2V5c0-1.1-.9-2-2-2zM9 17H7v-7h2v7zm4 0h-2V7h2v10zm4 0h-2v-4h2v4z\"/>\n",
              "    </g>\n",
              "</svg>\n",
              "      </button>\n",
              "    </div>\n",
              "\n",
              "<style>\n",
              "  .colab-df-quickchart {\n",
              "    background-color: #E8F0FE;\n",
              "    border: none;\n",
              "    border-radius: 50%;\n",
              "    cursor: pointer;\n",
              "    display: none;\n",
              "    fill: #1967D2;\n",
              "    height: 32px;\n",
              "    padding: 0 0 0 0;\n",
              "    width: 32px;\n",
              "  }\n",
              "\n",
              "  .colab-df-quickchart:hover {\n",
              "    background-color: #E2EBFA;\n",
              "    box-shadow: 0px 1px 2px rgba(60, 64, 67, 0.3), 0px 1px 3px 1px rgba(60, 64, 67, 0.15);\n",
              "    fill: #174EA6;\n",
              "  }\n",
              "\n",
              "  [theme=dark] .colab-df-quickchart {\n",
              "    background-color: #3B4455;\n",
              "    fill: #D2E3FC;\n",
              "  }\n",
              "\n",
              "  [theme=dark] .colab-df-quickchart:hover {\n",
              "    background-color: #434B5C;\n",
              "    box-shadow: 0px 1px 3px 1px rgba(0, 0, 0, 0.15);\n",
              "    filter: drop-shadow(0px 1px 2px rgba(0, 0, 0, 0.3));\n",
              "    fill: #FFFFFF;\n",
              "  }\n",
              "</style>\n",
              "\n",
              "    <script>\n",
              "      async function quickchart(key) {\n",
              "        const containerElement = document.querySelector('#' + key);\n",
              "        const charts = await google.colab.kernel.invokeFunction(\n",
              "            'suggestCharts', [key], {});\n",
              "      }\n",
              "    </script>\n",
              "\n",
              "      <script>\n",
              "\n",
              "function displayQuickchartButton(domScope) {\n",
              "  let quickchartButtonEl =\n",
              "    domScope.querySelector('#df-8567f93c-6375-4d14-ab7d-627852a65619 button.colab-df-quickchart');\n",
              "  quickchartButtonEl.style.display =\n",
              "    google.colab.kernel.accessAllowed ? 'block' : 'none';\n",
              "}\n",
              "\n",
              "        displayQuickchartButton(document);\n",
              "      </script>\n",
              "      <style>\n",
              "    .colab-df-container {\n",
              "      display:flex;\n",
              "      flex-wrap:wrap;\n",
              "      gap: 12px;\n",
              "    }\n",
              "\n",
              "    .colab-df-convert {\n",
              "      background-color: #E8F0FE;\n",
              "      border: none;\n",
              "      border-radius: 50%;\n",
              "      cursor: pointer;\n",
              "      display: none;\n",
              "      fill: #1967D2;\n",
              "      height: 32px;\n",
              "      padding: 0 0 0 0;\n",
              "      width: 32px;\n",
              "    }\n",
              "\n",
              "    .colab-df-convert:hover {\n",
              "      background-color: #E2EBFA;\n",
              "      box-shadow: 0px 1px 2px rgba(60, 64, 67, 0.3), 0px 1px 3px 1px rgba(60, 64, 67, 0.15);\n",
              "      fill: #174EA6;\n",
              "    }\n",
              "\n",
              "    [theme=dark] .colab-df-convert {\n",
              "      background-color: #3B4455;\n",
              "      fill: #D2E3FC;\n",
              "    }\n",
              "\n",
              "    [theme=dark] .colab-df-convert:hover {\n",
              "      background-color: #434B5C;\n",
              "      box-shadow: 0px 1px 3px 1px rgba(0, 0, 0, 0.15);\n",
              "      filter: drop-shadow(0px 1px 2px rgba(0, 0, 0, 0.3));\n",
              "      fill: #FFFFFF;\n",
              "    }\n",
              "  </style>\n",
              "\n",
              "      <script>\n",
              "        const buttonEl =\n",
              "          document.querySelector('#df-06778980-d325-42fe-b508-c143c6729123 button.colab-df-convert');\n",
              "        buttonEl.style.display =\n",
              "          google.colab.kernel.accessAllowed ? 'block' : 'none';\n",
              "\n",
              "        async function convertToInteractive(key) {\n",
              "          const element = document.querySelector('#df-06778980-d325-42fe-b508-c143c6729123');\n",
              "          const dataTable =\n",
              "            await google.colab.kernel.invokeFunction('convertToInteractive',\n",
              "                                                     [key], {});\n",
              "          if (!dataTable) return;\n",
              "\n",
              "          const docLinkHtml = 'Like what you see? Visit the ' +\n",
              "            '<a target=\"_blank\" href=https://colab.research.google.com/notebooks/data_table.ipynb>data table notebook</a>'\n",
              "            + ' to learn more about interactive tables.';\n",
              "          element.innerHTML = '';\n",
              "          dataTable['output_type'] = 'display_data';\n",
              "          await google.colab.output.renderOutput(dataTable, element);\n",
              "          const docLink = document.createElement('div');\n",
              "          docLink.innerHTML = docLinkHtml;\n",
              "          element.appendChild(docLink);\n",
              "        }\n",
              "      </script>\n",
              "    </div>\n",
              "  </div>\n"
            ]
          },
          "metadata": {},
          "execution_count": 47
        }
      ]
    },
    {
      "cell_type": "markdown",
      "source": [
        "* class_le = 0 (Iris-setosa)\n",
        "* class_le = 1 (Iris-versicolor)\n",
        "* class_le = 2 (Iris-virginica)"
      ],
      "metadata": {
        "id": "exhgwGAOoZ7B"
      }
    },
    {
      "cell_type": "code",
      "source": [
        "df.drop(columns=['class'], inplace=True)"
      ],
      "metadata": {
        "id": "HC7C3uuXrQ56"
      },
      "execution_count": null,
      "outputs": []
    },
    {
      "cell_type": "code",
      "source": [
        "df.info()"
      ],
      "metadata": {
        "colab": {
          "base_uri": "https://localhost:8080/"
        },
        "id": "lLB6o9fqBPYK",
        "outputId": "9e68ce97-449f-4795-aea8-057097a1c08b"
      },
      "execution_count": null,
      "outputs": [
        {
          "output_type": "stream",
          "name": "stdout",
          "text": [
            "<class 'pandas.core.frame.DataFrame'>\n",
            "RangeIndex: 149 entries, 0 to 148\n",
            "Data columns (total 5 columns):\n",
            " #   Column        Non-Null Count  Dtype  \n",
            "---  ------        --------------  -----  \n",
            " 0   sepal_length  149 non-null    float64\n",
            " 1   sepal_width   149 non-null    float64\n",
            " 2   petal_length  149 non-null    float64\n",
            " 3   petal_width   149 non-null    float64\n",
            " 4   class_le      149 non-null    int64  \n",
            "dtypes: float64(4), int64(1)\n",
            "memory usage: 5.9 KB\n"
          ]
        }
      ]
    },
    {
      "cell_type": "code",
      "source": [
        "df.describe()"
      ],
      "metadata": {
        "id": "aYfX07XKiyGm",
        "colab": {
          "base_uri": "https://localhost:8080/",
          "height": 300
        },
        "outputId": "a3413de6-21ed-4419-f572-399cca66e6d6"
      },
      "execution_count": null,
      "outputs": [
        {
          "output_type": "execute_result",
          "data": {
            "text/plain": [
              "       sepal_length  sepal_width  petal_length  petal_width    class_le\n",
              "count    149.000000   149.000000    149.000000   149.000000  149.000000\n",
              "mean       5.848322     3.051007      3.774497     1.205369    1.006711\n",
              "std        0.828594     0.433499      1.759651     0.761292    0.817847\n",
              "min        4.300000     2.000000      1.000000     0.100000    0.000000\n",
              "25%        5.100000     2.800000      1.600000     0.300000    0.000000\n",
              "50%        5.800000     3.000000      4.400000     1.300000    1.000000\n",
              "75%        6.400000     3.300000      5.100000     1.800000    2.000000\n",
              "max        7.900000     4.400000      6.900000     2.500000    2.000000"
            ],
            "text/html": [
              "\n",
              "\n",
              "  <div id=\"df-8b48f718-00a3-4c36-ac78-02fef7b28faa\">\n",
              "    <div class=\"colab-df-container\">\n",
              "      <div>\n",
              "<style scoped>\n",
              "    .dataframe tbody tr th:only-of-type {\n",
              "        vertical-align: middle;\n",
              "    }\n",
              "\n",
              "    .dataframe tbody tr th {\n",
              "        vertical-align: top;\n",
              "    }\n",
              "\n",
              "    .dataframe thead th {\n",
              "        text-align: right;\n",
              "    }\n",
              "</style>\n",
              "<table border=\"1\" class=\"dataframe\">\n",
              "  <thead>\n",
              "    <tr style=\"text-align: right;\">\n",
              "      <th></th>\n",
              "      <th>sepal_length</th>\n",
              "      <th>sepal_width</th>\n",
              "      <th>petal_length</th>\n",
              "      <th>petal_width</th>\n",
              "      <th>class_le</th>\n",
              "    </tr>\n",
              "  </thead>\n",
              "  <tbody>\n",
              "    <tr>\n",
              "      <th>count</th>\n",
              "      <td>149.000000</td>\n",
              "      <td>149.000000</td>\n",
              "      <td>149.000000</td>\n",
              "      <td>149.000000</td>\n",
              "      <td>149.000000</td>\n",
              "    </tr>\n",
              "    <tr>\n",
              "      <th>mean</th>\n",
              "      <td>5.848322</td>\n",
              "      <td>3.051007</td>\n",
              "      <td>3.774497</td>\n",
              "      <td>1.205369</td>\n",
              "      <td>1.006711</td>\n",
              "    </tr>\n",
              "    <tr>\n",
              "      <th>std</th>\n",
              "      <td>0.828594</td>\n",
              "      <td>0.433499</td>\n",
              "      <td>1.759651</td>\n",
              "      <td>0.761292</td>\n",
              "      <td>0.817847</td>\n",
              "    </tr>\n",
              "    <tr>\n",
              "      <th>min</th>\n",
              "      <td>4.300000</td>\n",
              "      <td>2.000000</td>\n",
              "      <td>1.000000</td>\n",
              "      <td>0.100000</td>\n",
              "      <td>0.000000</td>\n",
              "    </tr>\n",
              "    <tr>\n",
              "      <th>25%</th>\n",
              "      <td>5.100000</td>\n",
              "      <td>2.800000</td>\n",
              "      <td>1.600000</td>\n",
              "      <td>0.300000</td>\n",
              "      <td>0.000000</td>\n",
              "    </tr>\n",
              "    <tr>\n",
              "      <th>50%</th>\n",
              "      <td>5.800000</td>\n",
              "      <td>3.000000</td>\n",
              "      <td>4.400000</td>\n",
              "      <td>1.300000</td>\n",
              "      <td>1.000000</td>\n",
              "    </tr>\n",
              "    <tr>\n",
              "      <th>75%</th>\n",
              "      <td>6.400000</td>\n",
              "      <td>3.300000</td>\n",
              "      <td>5.100000</td>\n",
              "      <td>1.800000</td>\n",
              "      <td>2.000000</td>\n",
              "    </tr>\n",
              "    <tr>\n",
              "      <th>max</th>\n",
              "      <td>7.900000</td>\n",
              "      <td>4.400000</td>\n",
              "      <td>6.900000</td>\n",
              "      <td>2.500000</td>\n",
              "      <td>2.000000</td>\n",
              "    </tr>\n",
              "  </tbody>\n",
              "</table>\n",
              "</div>\n",
              "      <button class=\"colab-df-convert\" onclick=\"convertToInteractive('df-8b48f718-00a3-4c36-ac78-02fef7b28faa')\"\n",
              "              title=\"Convert this dataframe to an interactive table.\"\n",
              "              style=\"display:none;\">\n",
              "\n",
              "  <svg xmlns=\"http://www.w3.org/2000/svg\" height=\"24px\"viewBox=\"0 0 24 24\"\n",
              "       width=\"24px\">\n",
              "    <path d=\"M0 0h24v24H0V0z\" fill=\"none\"/>\n",
              "    <path d=\"M18.56 5.44l.94 2.06.94-2.06 2.06-.94-2.06-.94-.94-2.06-.94 2.06-2.06.94zm-11 1L8.5 8.5l.94-2.06 2.06-.94-2.06-.94L8.5 2.5l-.94 2.06-2.06.94zm10 10l.94 2.06.94-2.06 2.06-.94-2.06-.94-.94-2.06-.94 2.06-2.06.94z\"/><path d=\"M17.41 7.96l-1.37-1.37c-.4-.4-.92-.59-1.43-.59-.52 0-1.04.2-1.43.59L10.3 9.45l-7.72 7.72c-.78.78-.78 2.05 0 2.83L4 21.41c.39.39.9.59 1.41.59.51 0 1.02-.2 1.41-.59l7.78-7.78 2.81-2.81c.8-.78.8-2.07 0-2.86zM5.41 20L4 18.59l7.72-7.72 1.47 1.35L5.41 20z\"/>\n",
              "  </svg>\n",
              "      </button>\n",
              "\n",
              "\n",
              "\n",
              "    <div id=\"df-ef58c5fd-88e9-4463-af0f-418240ead3f9\">\n",
              "      <button class=\"colab-df-quickchart\" onclick=\"quickchart('df-ef58c5fd-88e9-4463-af0f-418240ead3f9')\"\n",
              "              title=\"Suggest charts.\"\n",
              "              style=\"display:none;\">\n",
              "\n",
              "<svg xmlns=\"http://www.w3.org/2000/svg\" height=\"24px\"viewBox=\"0 0 24 24\"\n",
              "     width=\"24px\">\n",
              "    <g>\n",
              "        <path d=\"M19 3H5c-1.1 0-2 .9-2 2v14c0 1.1.9 2 2 2h14c1.1 0 2-.9 2-2V5c0-1.1-.9-2-2-2zM9 17H7v-7h2v7zm4 0h-2V7h2v10zm4 0h-2v-4h2v4z\"/>\n",
              "    </g>\n",
              "</svg>\n",
              "      </button>\n",
              "    </div>\n",
              "\n",
              "<style>\n",
              "  .colab-df-quickchart {\n",
              "    background-color: #E8F0FE;\n",
              "    border: none;\n",
              "    border-radius: 50%;\n",
              "    cursor: pointer;\n",
              "    display: none;\n",
              "    fill: #1967D2;\n",
              "    height: 32px;\n",
              "    padding: 0 0 0 0;\n",
              "    width: 32px;\n",
              "  }\n",
              "\n",
              "  .colab-df-quickchart:hover {\n",
              "    background-color: #E2EBFA;\n",
              "    box-shadow: 0px 1px 2px rgba(60, 64, 67, 0.3), 0px 1px 3px 1px rgba(60, 64, 67, 0.15);\n",
              "    fill: #174EA6;\n",
              "  }\n",
              "\n",
              "  [theme=dark] .colab-df-quickchart {\n",
              "    background-color: #3B4455;\n",
              "    fill: #D2E3FC;\n",
              "  }\n",
              "\n",
              "  [theme=dark] .colab-df-quickchart:hover {\n",
              "    background-color: #434B5C;\n",
              "    box-shadow: 0px 1px 3px 1px rgba(0, 0, 0, 0.15);\n",
              "    filter: drop-shadow(0px 1px 2px rgba(0, 0, 0, 0.3));\n",
              "    fill: #FFFFFF;\n",
              "  }\n",
              "</style>\n",
              "\n",
              "    <script>\n",
              "      async function quickchart(key) {\n",
              "        const containerElement = document.querySelector('#' + key);\n",
              "        const charts = await google.colab.kernel.invokeFunction(\n",
              "            'suggestCharts', [key], {});\n",
              "      }\n",
              "    </script>\n",
              "\n",
              "      <script>\n",
              "\n",
              "function displayQuickchartButton(domScope) {\n",
              "  let quickchartButtonEl =\n",
              "    domScope.querySelector('#df-ef58c5fd-88e9-4463-af0f-418240ead3f9 button.colab-df-quickchart');\n",
              "  quickchartButtonEl.style.display =\n",
              "    google.colab.kernel.accessAllowed ? 'block' : 'none';\n",
              "}\n",
              "\n",
              "        displayQuickchartButton(document);\n",
              "      </script>\n",
              "      <style>\n",
              "    .colab-df-container {\n",
              "      display:flex;\n",
              "      flex-wrap:wrap;\n",
              "      gap: 12px;\n",
              "    }\n",
              "\n",
              "    .colab-df-convert {\n",
              "      background-color: #E8F0FE;\n",
              "      border: none;\n",
              "      border-radius: 50%;\n",
              "      cursor: pointer;\n",
              "      display: none;\n",
              "      fill: #1967D2;\n",
              "      height: 32px;\n",
              "      padding: 0 0 0 0;\n",
              "      width: 32px;\n",
              "    }\n",
              "\n",
              "    .colab-df-convert:hover {\n",
              "      background-color: #E2EBFA;\n",
              "      box-shadow: 0px 1px 2px rgba(60, 64, 67, 0.3), 0px 1px 3px 1px rgba(60, 64, 67, 0.15);\n",
              "      fill: #174EA6;\n",
              "    }\n",
              "\n",
              "    [theme=dark] .colab-df-convert {\n",
              "      background-color: #3B4455;\n",
              "      fill: #D2E3FC;\n",
              "    }\n",
              "\n",
              "    [theme=dark] .colab-df-convert:hover {\n",
              "      background-color: #434B5C;\n",
              "      box-shadow: 0px 1px 3px 1px rgba(0, 0, 0, 0.15);\n",
              "      filter: drop-shadow(0px 1px 2px rgba(0, 0, 0, 0.3));\n",
              "      fill: #FFFFFF;\n",
              "    }\n",
              "  </style>\n",
              "\n",
              "      <script>\n",
              "        const buttonEl =\n",
              "          document.querySelector('#df-8b48f718-00a3-4c36-ac78-02fef7b28faa button.colab-df-convert');\n",
              "        buttonEl.style.display =\n",
              "          google.colab.kernel.accessAllowed ? 'block' : 'none';\n",
              "\n",
              "        async function convertToInteractive(key) {\n",
              "          const element = document.querySelector('#df-8b48f718-00a3-4c36-ac78-02fef7b28faa');\n",
              "          const dataTable =\n",
              "            await google.colab.kernel.invokeFunction('convertToInteractive',\n",
              "                                                     [key], {});\n",
              "          if (!dataTable) return;\n",
              "\n",
              "          const docLinkHtml = 'Like what you see? Visit the ' +\n",
              "            '<a target=\"_blank\" href=https://colab.research.google.com/notebooks/data_table.ipynb>data table notebook</a>'\n",
              "            + ' to learn more about interactive tables.';\n",
              "          element.innerHTML = '';\n",
              "          dataTable['output_type'] = 'display_data';\n",
              "          await google.colab.output.renderOutput(dataTable, element);\n",
              "          const docLink = document.createElement('div');\n",
              "          docLink.innerHTML = docLinkHtml;\n",
              "          element.appendChild(docLink);\n",
              "        }\n",
              "      </script>\n",
              "    </div>\n",
              "  </div>\n"
            ]
          },
          "metadata": {},
          "execution_count": 50
        }
      ]
    },
    {
      "cell_type": "markdown",
      "metadata": {
        "id": "on89i9mcNNmq"
      },
      "source": [
        "# Divisão treino-teste\n",
        "\n",
        "Use o método train_test_split para dividir seus dados em um conjunto treino e teste."
      ]
    },
    {
      "cell_type": "code",
      "metadata": {
        "collapsed": true,
        "id": "TZ9KcjdlNNmr"
      },
      "source": [
        "X_train1, X_test1, y_train1, y_test1 = train_test_split(df.drop(columns=['class_le']),\n",
        "                                                        df['class_le'],\n",
        "                                                        test_size=0.3,\n",
        "                                                        random_state=111)"
      ],
      "execution_count": null,
      "outputs": []
    },
    {
      "cell_type": "markdown",
      "metadata": {
        "id": "7DeROxA_NNmg"
      },
      "source": [
        "# Padronize as variáveis\n"
      ]
    },
    {
      "cell_type": "markdown",
      "metadata": {
        "id": "Zo0B7ONVNNmm"
      },
      "source": [
        "Converta as variáveis independentes com o StandardScaler"
      ]
    },
    {
      "cell_type": "code",
      "metadata": {
        "collapsed": true,
        "id": "XFWMZfjVNNml"
      },
      "source": [
        "# Padronizar os dados projetados antes de aplicar o KNN\n",
        "scaler1 = StandardScaler()\n",
        "\n",
        "X_train1_scaled = scaler1.fit_transform(X_train1)\n",
        "X_test1_scaled = scaler1.transform(X_test1)"
      ],
      "execution_count": null,
      "outputs": []
    },
    {
      "cell_type": "markdown",
      "metadata": {
        "id": "_abK4nAkNNms"
      },
      "source": [
        "# Usando o algoritmo Random Forest como Feature Selection\n",
        "\n",
        "Importe o RandomForestClassfier e SelectFromModel do scikit learn."
      ]
    },
    {
      "cell_type": "code",
      "metadata": {
        "collapsed": true,
        "id": "npghbeYJNNms"
      },
      "source": [
        "from sklearn.ensemble import RandomForestClassifier\n",
        "from sklearn.feature_selection import SelectFromModel\n",
        "\n",
        "from sklearn.metrics import accuracy_score"
      ],
      "execution_count": null,
      "outputs": []
    },
    {
      "cell_type": "code",
      "source": [
        "# Cria uma instância do RandomForestClassifier\n",
        "clf = RandomForestClassifier()"
      ],
      "metadata": {
        "id": "Jv86blY987j0"
      },
      "execution_count": null,
      "outputs": []
    },
    {
      "cell_type": "markdown",
      "source": [
        "O valor padrão do parâmetro **random_state** no RandomForestClassifier() do scikit-learn é None. Isso significa que, por padrão, o algoritmo não usará uma semente aleatória fixa e a geração de números aleatórios será diferente a cada vez que o modelo for treinado. Isso pode levar a resultados ligeiramente diferentes a cada execução.\n",
        "\n",
        "Para obter resultados consistentes e reprodutíveis, é uma boa prática definir explicitamente um valor para o **random_state**. Isso garantirá que o treinamento do modelo seja feito com a mesma semente aleatória em diferentes execuções."
      ],
      "metadata": {
        "id": "BA3r20F96f7o"
      }
    },
    {
      "cell_type": "code",
      "source": [
        "# Treina o modelo nos dados de treinamento padronizados\n",
        "clf.fit(X_train1_scaled, y_train1)"
      ],
      "metadata": {
        "colab": {
          "base_uri": "https://localhost:8080/",
          "height": 74
        },
        "id": "wNKbrpMt9srQ",
        "outputId": "91f07ed5-fcc5-4b18-ac27-bf323a2045c6"
      },
      "execution_count": null,
      "outputs": [
        {
          "output_type": "execute_result",
          "data": {
            "text/plain": [
              "RandomForestClassifier()"
            ],
            "text/html": [
              "<style>#sk-container-id-5 {color: black;background-color: white;}#sk-container-id-5 pre{padding: 0;}#sk-container-id-5 div.sk-toggleable {background-color: white;}#sk-container-id-5 label.sk-toggleable__label {cursor: pointer;display: block;width: 100%;margin-bottom: 0;padding: 0.3em;box-sizing: border-box;text-align: center;}#sk-container-id-5 label.sk-toggleable__label-arrow:before {content: \"▸\";float: left;margin-right: 0.25em;color: #696969;}#sk-container-id-5 label.sk-toggleable__label-arrow:hover:before {color: black;}#sk-container-id-5 div.sk-estimator:hover label.sk-toggleable__label-arrow:before {color: black;}#sk-container-id-5 div.sk-toggleable__content {max-height: 0;max-width: 0;overflow: hidden;text-align: left;background-color: #f0f8ff;}#sk-container-id-5 div.sk-toggleable__content pre {margin: 0.2em;color: black;border-radius: 0.25em;background-color: #f0f8ff;}#sk-container-id-5 input.sk-toggleable__control:checked~div.sk-toggleable__content {max-height: 200px;max-width: 100%;overflow: auto;}#sk-container-id-5 input.sk-toggleable__control:checked~label.sk-toggleable__label-arrow:before {content: \"▾\";}#sk-container-id-5 div.sk-estimator input.sk-toggleable__control:checked~label.sk-toggleable__label {background-color: #d4ebff;}#sk-container-id-5 div.sk-label input.sk-toggleable__control:checked~label.sk-toggleable__label {background-color: #d4ebff;}#sk-container-id-5 input.sk-hidden--visually {border: 0;clip: rect(1px 1px 1px 1px);clip: rect(1px, 1px, 1px, 1px);height: 1px;margin: -1px;overflow: hidden;padding: 0;position: absolute;width: 1px;}#sk-container-id-5 div.sk-estimator {font-family: monospace;background-color: #f0f8ff;border: 1px dotted black;border-radius: 0.25em;box-sizing: border-box;margin-bottom: 0.5em;}#sk-container-id-5 div.sk-estimator:hover {background-color: #d4ebff;}#sk-container-id-5 div.sk-parallel-item::after {content: \"\";width: 100%;border-bottom: 1px solid gray;flex-grow: 1;}#sk-container-id-5 div.sk-label:hover label.sk-toggleable__label {background-color: #d4ebff;}#sk-container-id-5 div.sk-serial::before {content: \"\";position: absolute;border-left: 1px solid gray;box-sizing: border-box;top: 0;bottom: 0;left: 50%;z-index: 0;}#sk-container-id-5 div.sk-serial {display: flex;flex-direction: column;align-items: center;background-color: white;padding-right: 0.2em;padding-left: 0.2em;position: relative;}#sk-container-id-5 div.sk-item {position: relative;z-index: 1;}#sk-container-id-5 div.sk-parallel {display: flex;align-items: stretch;justify-content: center;background-color: white;position: relative;}#sk-container-id-5 div.sk-item::before, #sk-container-id-5 div.sk-parallel-item::before {content: \"\";position: absolute;border-left: 1px solid gray;box-sizing: border-box;top: 0;bottom: 0;left: 50%;z-index: -1;}#sk-container-id-5 div.sk-parallel-item {display: flex;flex-direction: column;z-index: 1;position: relative;background-color: white;}#sk-container-id-5 div.sk-parallel-item:first-child::after {align-self: flex-end;width: 50%;}#sk-container-id-5 div.sk-parallel-item:last-child::after {align-self: flex-start;width: 50%;}#sk-container-id-5 div.sk-parallel-item:only-child::after {width: 0;}#sk-container-id-5 div.sk-dashed-wrapped {border: 1px dashed gray;margin: 0 0.4em 0.5em 0.4em;box-sizing: border-box;padding-bottom: 0.4em;background-color: white;}#sk-container-id-5 div.sk-label label {font-family: monospace;font-weight: bold;display: inline-block;line-height: 1.2em;}#sk-container-id-5 div.sk-label-container {text-align: center;}#sk-container-id-5 div.sk-container {/* jupyter's `normalize.less` sets `[hidden] { display: none; }` but bootstrap.min.css set `[hidden] { display: none !important; }` so we also need the `!important` here to be able to override the default hidden behavior on the sphinx rendered scikit-learn.org. See: https://github.com/scikit-learn/scikit-learn/issues/21755 */display: inline-block !important;position: relative;}#sk-container-id-5 div.sk-text-repr-fallback {display: none;}</style><div id=\"sk-container-id-5\" class=\"sk-top-container\"><div class=\"sk-text-repr-fallback\"><pre>RandomForestClassifier()</pre><b>In a Jupyter environment, please rerun this cell to show the HTML representation or trust the notebook. <br />On GitHub, the HTML representation is unable to render, please try loading this page with nbviewer.org.</b></div><div class=\"sk-container\" hidden><div class=\"sk-item\"><div class=\"sk-estimator sk-toggleable\"><input class=\"sk-toggleable__control sk-hidden--visually\" id=\"sk-estimator-id-5\" type=\"checkbox\" checked><label for=\"sk-estimator-id-5\" class=\"sk-toggleable__label sk-toggleable__label-arrow\">RandomForestClassifier</label><div class=\"sk-toggleable__content\"><pre>RandomForestClassifier()</pre></div></div></div></div></div>"
            ]
          },
          "metadata": {},
          "execution_count": 55
        }
      ]
    },
    {
      "cell_type": "code",
      "source": [
        "# Faz previsões nos dados de teste padronizados\n",
        "y_pred1 = clf.predict(X_test1_scaled)"
      ],
      "metadata": {
        "id": "DVtkIk5T9we1"
      },
      "execution_count": null,
      "outputs": []
    },
    {
      "cell_type": "markdown",
      "source": [
        "Analisando a accuracy:"
      ],
      "metadata": {
        "id": "e78RU-WW9-OR"
      }
    },
    {
      "cell_type": "code",
      "source": [
        "accuracy = accuracy_score(y_test1, y_pred1)\n",
        "print(accuracy)"
      ],
      "metadata": {
        "colab": {
          "base_uri": "https://localhost:8080/"
        },
        "id": "v8Ve9O2V90U3",
        "outputId": "17e088d1-fb61-4d56-cb18-48a2eddb406b"
      },
      "execution_count": null,
      "outputs": [
        {
          "output_type": "stream",
          "name": "stdout",
          "text": [
            "1.0\n"
          ]
        }
      ]
    },
    {
      "cell_type": "markdown",
      "source": [
        "Analisando as características importantes (feature importances) do *dataset*"
      ],
      "metadata": {
        "id": "oXD0qr6l73Qm"
      }
    },
    {
      "cell_type": "code",
      "source": [
        "clf.feature_importances_"
      ],
      "metadata": {
        "colab": {
          "base_uri": "https://localhost:8080/"
        },
        "id": "xIzn6e8G8vSY",
        "outputId": "e80f6c09-f9ee-42b2-e084-9bf5f931d502"
      },
      "execution_count": null,
      "outputs": [
        {
          "output_type": "execute_result",
          "data": {
            "text/plain": [
              "array([0.12728425, 0.02829072, 0.42109458, 0.42333044])"
            ]
          },
          "metadata": {},
          "execution_count": 89
        }
      ]
    },
    {
      "cell_type": "code",
      "source": [
        "# Importâncias das características do classificador treinado\n",
        "feature_importances = clf.feature_importances_\n",
        "\n",
        "# Labels das características\n",
        "feature_names = X_train1.columns\n",
        "\n",
        "plt.figure(figsize=(6, 3))\n",
        "plt.barh(range(len(feature_importances)), feature_importances*100, tick_label=feature_names)\n",
        "plt.xticks(rotation=90)\n",
        "plt.xlabel('Importância (%)')\n",
        "plt.ylabel('Características')\n",
        "plt.title('Importância das Características')\n",
        "plt.show()"
      ],
      "metadata": {
        "colab": {
          "base_uri": "https://localhost:8080/",
          "height": 338
        },
        "id": "PrNPaiaY8akT",
        "outputId": "b68b338c-b265-48b5-aa9a-4438013574a0"
      },
      "execution_count": null,
      "outputs": [
        {
          "output_type": "display_data",
          "data": {
            "text/plain": [
              "<Figure size 600x300 with 1 Axes>"
            ],
            "image/png": "[encoded data removed]"
          },
          "metadata": {}
        }
      ]
    },
    {
      "cell_type": "markdown",
      "source": [
        "Referência: https://scikit-learn.org/stable/auto_examples/ensemble/plot_forest_importances.html"
      ],
      "metadata": {
        "id": "N2enbnmH_I_U"
      }
    },
    {
      "cell_type": "markdown",
      "metadata": {
        "id": "hhrIdwANNNmw"
      },
      "source": [
        "## Utilizando e analisando feature selection do modelo Random Forest via SelectFromModel"
      ]
    },
    {
      "cell_type": "markdown",
      "source": [
        "O método **SelectFromModel** é uma maneira útil de realizar seleção de características com base nas importâncias calculadas pelo modelo.\n",
        "\n",
        "pode usá-lo para selecionar automaticamente as características mais importantes do seu 'RandomForestClassifier' definido anteriormente."
      ],
      "metadata": {
        "id": "N0Tohbta_yQY"
      }
    },
    {
      "cell_type": "code",
      "source": [
        "# Criar o objeto SelectFromModel\n",
        "sfm = SelectFromModel(clf)  # Defina o limiar de importância (threshold) aqui"
      ],
      "metadata": {
        "id": "u3dgH7HKzQMp"
      },
      "execution_count": null,
      "outputs": []
    },
    {
      "cell_type": "code",
      "source": [
        "# Ajusta o objeto SelectFromModel aos dados de treinamento\n",
        "sfm.fit(X_train1_scaled, y_train1)"
      ],
      "metadata": {
        "colab": {
          "base_uri": "https://localhost:8080/",
          "height": 117
        },
        "id": "pea9BwQTzGZG",
        "outputId": "737ec552-dc25-4b63-ffa2-94f942eafc52"
      },
      "execution_count": null,
      "outputs": [
        {
          "output_type": "execute_result",
          "data": {
            "text/plain": [
              "SelectFromModel(estimator=RandomForestClassifier())"
            ],
            "text/html": [
              "<style>#sk-container-id-6 {color: black;background-color: white;}#sk-container-id-6 pre{padding: 0;}#sk-container-id-6 div.sk-toggleable {background-color: white;}#sk-container-id-6 label.sk-toggleable__label {cursor: pointer;display: block;width: 100%;margin-bottom: 0;padding: 0.3em;box-sizing: border-box;text-align: center;}#sk-container-id-6 label.sk-toggleable__label-arrow:before {content: \"▸\";float: left;margin-right: 0.25em;color: #696969;}#sk-container-id-6 label.sk-toggleable__label-arrow:hover:before {color: black;}#sk-container-id-6 div.sk-estimator:hover label.sk-toggleable__label-arrow:before {color: black;}#sk-container-id-6 div.sk-toggleable__content {max-height: 0;max-width: 0;overflow: hidden;text-align: left;background-color: #f0f8ff;}#sk-container-id-6 div.sk-toggleable__content pre {margin: 0.2em;color: black;border-radius: 0.25em;background-color: #f0f8ff;}#sk-container-id-6 input.sk-toggleable__control:checked~div.sk-toggleable__content {max-height: 200px;max-width: 100%;overflow: auto;}#sk-container-id-6 input.sk-toggleable__control:checked~label.sk-toggleable__label-arrow:before {content: \"▾\";}#sk-container-id-6 div.sk-estimator input.sk-toggleable__control:checked~label.sk-toggleable__label {background-color: #d4ebff;}#sk-container-id-6 div.sk-label input.sk-toggleable__control:checked~label.sk-toggleable__label {background-color: #d4ebff;}#sk-container-id-6 input.sk-hidden--visually {border: 0;clip: rect(1px 1px 1px 1px);clip: rect(1px, 1px, 1px, 1px);height: 1px;margin: -1px;overflow: hidden;padding: 0;position: absolute;width: 1px;}#sk-container-id-6 div.sk-estimator {font-family: monospace;background-color: #f0f8ff;border: 1px dotted black;border-radius: 0.25em;box-sizing: border-box;margin-bottom: 0.5em;}#sk-container-id-6 div.sk-estimator:hover {background-color: #d4ebff;}#sk-container-id-6 div.sk-parallel-item::after {content: \"\";width: 100%;border-bottom: 1px solid gray;flex-grow: 1;}#sk-container-id-6 div.sk-label:hover label.sk-toggleable__label {background-color: #d4ebff;}#sk-container-id-6 div.sk-serial::before {content: \"\";position: absolute;border-left: 1px solid gray;box-sizing: border-box;top: 0;bottom: 0;left: 50%;z-index: 0;}#sk-container-id-6 div.sk-serial {display: flex;flex-direction: column;align-items: center;background-color: white;padding-right: 0.2em;padding-left: 0.2em;position: relative;}#sk-container-id-6 div.sk-item {position: relative;z-index: 1;}#sk-container-id-6 div.sk-parallel {display: flex;align-items: stretch;justify-content: center;background-color: white;position: relative;}#sk-container-id-6 div.sk-item::before, #sk-container-id-6 div.sk-parallel-item::before {content: \"\";position: absolute;border-left: 1px solid gray;box-sizing: border-box;top: 0;bottom: 0;left: 50%;z-index: -1;}#sk-container-id-6 div.sk-parallel-item {display: flex;flex-direction: column;z-index: 1;position: relative;background-color: white;}#sk-container-id-6 div.sk-parallel-item:first-child::after {align-self: flex-end;width: 50%;}#sk-container-id-6 div.sk-parallel-item:last-child::after {align-self: flex-start;width: 50%;}#sk-container-id-6 div.sk-parallel-item:only-child::after {width: 0;}#sk-container-id-6 div.sk-dashed-wrapped {border: 1px dashed gray;margin: 0 0.4em 0.5em 0.4em;box-sizing: border-box;padding-bottom: 0.4em;background-color: white;}#sk-container-id-6 div.sk-label label {font-family: monospace;font-weight: bold;display: inline-block;line-height: 1.2em;}#sk-container-id-6 div.sk-label-container {text-align: center;}#sk-container-id-6 div.sk-container {/* jupyter's `normalize.less` sets `[hidden] { display: none; }` but bootstrap.min.css set `[hidden] { display: none !important; }` so we also need the `!important` here to be able to override the default hidden behavior on the sphinx rendered scikit-learn.org. See: https://github.com/scikit-learn/scikit-learn/issues/21755 */display: inline-block !important;position: relative;}#sk-container-id-6 div.sk-text-repr-fallback {display: none;}</style><div id=\"sk-container-id-6\" class=\"sk-top-container\"><div class=\"sk-text-repr-fallback\"><pre>SelectFromModel(estimator=RandomForestClassifier())</pre><b>In a Jupyter environment, please rerun this cell to show the HTML representation or trust the notebook. <br />On GitHub, the HTML representation is unable to render, please try loading this page with nbviewer.org.</b></div><div class=\"sk-container\" hidden><div class=\"sk-item sk-dashed-wrapped\"><div class=\"sk-label-container\"><div class=\"sk-label sk-toggleable\"><input class=\"sk-toggleable__control sk-hidden--visually\" id=\"sk-estimator-id-6\" type=\"checkbox\" ><label for=\"sk-estimator-id-6\" class=\"sk-toggleable__label sk-toggleable__label-arrow\">SelectFromModel</label><div class=\"sk-toggleable__content\"><pre>SelectFromModel(estimator=RandomForestClassifier())</pre></div></div></div><div class=\"sk-parallel\"><div class=\"sk-parallel-item\"><div class=\"sk-item\"><div class=\"sk-label-container\"><div class=\"sk-label sk-toggleable\"><input class=\"sk-toggleable__control sk-hidden--visually\" id=\"sk-estimator-id-7\" type=\"checkbox\" ><label for=\"sk-estimator-id-7\" class=\"sk-toggleable__label sk-toggleable__label-arrow\">estimator: RandomForestClassifier</label><div class=\"sk-toggleable__content\"><pre>RandomForestClassifier()</pre></div></div></div><div class=\"sk-serial\"><div class=\"sk-item\"><div class=\"sk-estimator sk-toggleable\"><input class=\"sk-toggleable__control sk-hidden--visually\" id=\"sk-estimator-id-8\" type=\"checkbox\" ><label for=\"sk-estimator-id-8\" class=\"sk-toggleable__label sk-toggleable__label-arrow\">RandomForestClassifier</label><div class=\"sk-toggleable__content\"><pre>RandomForestClassifier()</pre></div></div></div></div></div></div></div></div></div></div>"
            ]
          },
          "metadata": {},
          "execution_count": 61
        }
      ]
    },
    {
      "cell_type": "code",
      "source": [
        "# Pega apenas as características mais importantes selecionadas\n",
        "sfm.get_support()"
      ],
      "metadata": {
        "colab": {
          "base_uri": "https://localhost:8080/"
        },
        "id": "i2cBL97z0Xju",
        "outputId": "3ae9514c-6d93-435f-b2ad-b145c0982cb6"
      },
      "execution_count": null,
      "outputs": [
        {
          "output_type": "execute_result",
          "data": {
            "text/plain": [
              "array([False, False,  True,  True])"
            ]
          },
          "metadata": {},
          "execution_count": 62
        }
      ]
    },
    {
      "cell_type": "code",
      "source": [
        "X_train1.columns[sfm.get_support()]"
      ],
      "metadata": {
        "colab": {
          "base_uri": "https://localhost:8080/"
        },
        "id": "PC0YgUCl0-4L",
        "outputId": "fc7a7f2d-a4d0-4a40-85e5-fabe6c3afa16"
      },
      "execution_count": null,
      "outputs": [
        {
          "output_type": "execute_result",
          "data": {
            "text/plain": [
              "Index(['petal_length', 'petal_width'], dtype='object')"
            ]
          },
          "metadata": {},
          "execution_count": 63
        }
      ]
    },
    {
      "cell_type": "code",
      "source": [
        "len(X_train1.columns[sfm.get_support()])"
      ],
      "metadata": {
        "colab": {
          "base_uri": "https://localhost:8080/"
        },
        "id": "SJxbdLcM1gpH",
        "outputId": "53e58e53-c419-4039-d679-ab077417c9d0"
      },
      "execution_count": null,
      "outputs": [
        {
          "output_type": "execute_result",
          "data": {
            "text/plain": [
              "2"
            ]
          },
          "metadata": {},
          "execution_count": 64
        }
      ]
    },
    {
      "cell_type": "markdown",
      "metadata": {
        "id": "fJcqMiHnvRLR"
      },
      "source": [
        "## Validação Cruzada com k-NN\n",
        "\n",
        "A validação cruzada (*cross validation*) é uma técnica usada para avaliar o desempenho do modelo de forma mais robusta, evitando possíveis viéses que podem ocorrer ao dividir os dados em conjuntos de treinamento e teste apenas uma vez."
      ]
    },
    {
      "cell_type": "markdown",
      "source": [
        "### Aplique a validação cruzada para as bases de dados utilizadas neste exercício\n",
        "\n",
        "Utilize o conjunto de dados gerados a partir do sklearn. Primeira parte dos exercícios - PCA."
      ],
      "metadata": {
        "id": "ifhr90j1LWDr"
      }
    },
    {
      "cell_type": "code",
      "source": [
        "from sklearn.model_selection import cross_val_score\n",
        "from sklearn.metrics import ConfusionMatrixDisplay"
      ],
      "metadata": {
        "id": "SD0mXDuyJWVN"
      },
      "execution_count": null,
      "outputs": []
    },
    {
      "cell_type": "markdown",
      "source": [
        "#### Dados gerados com a função do sklearn"
      ],
      "metadata": {
        "id": "f4CaIy4KL0_M"
      }
    },
    {
      "cell_type": "code",
      "metadata": {
        "id": "FDBfRpYkL0_O"
      },
      "source": [
        "# Criar um modelo knn novo\n",
        "neigh_cross_mc = KNeighborsClassifier(n_neighbors=1)\n",
        "\n",
        "# Aplica a validação cruzada com 8 folds (dobras)\n",
        "scores_mc = cross_val_score(neigh_cross_mc, X_train_scaled, y_train, cv=8) # 'cv': número de folds"
      ],
      "execution_count": null,
      "outputs": []
    },
    {
      "cell_type": "markdown",
      "source": [
        "'*cross_val_score()*' retorna apenas uma matriz de pontuações de validação cruzada para uma métrica específica (por exemplo, precisão, R², etc.). É uma maneira rápida e conveniente de obter uma visão geral do desempenho do modelo em diferentes folds.\n",
        "\n",
        "Por padrão, o método '*cross_val_score()*' do divide os dados de treinamento em 5 *folds* durante o processo de validação. Quanto mais *folds* você usar, mais preciso será o cálculo das métricas de avaliação, pois cada *fold* representa uma estimativa diferente do desempenho do modelo. No entanto, usar muitos folds também pode aumentar a variabilidade das estimativas, o que pode tornar mais difícil tirar conclusões sólidas."
      ],
      "metadata": {
        "id": "IJ5PFDJHz5Gk"
      }
    },
    {
      "cell_type": "code",
      "metadata": {
        "colab": {
          "base_uri": "https://localhost:8080/"
        },
        "outputId": "678f7fd6-3280-4f11-b386-200366437b62",
        "id": "11I7wxvPL0_Q"
      },
      "source": [
        "scores_mc"
      ],
      "execution_count": null,
      "outputs": [
        {
          "output_type": "execute_result",
          "data": {
            "text/plain": [
              "array([0.70454545, 0.78409091, 0.60227273, 0.69318182, 0.57471264,\n",
              "       0.64367816, 0.73563218, 0.65517241])"
            ]
          },
          "metadata": {},
          "execution_count": 152
        }
      ]
    },
    {
      "cell_type": "code",
      "source": [
        "print(\"Accuracy: %0.2f (+/- %0.2f)\" % (scores_mc.mean(), scores_mc.std() * 2))"
      ],
      "metadata": {
        "colab": {
          "base_uri": "https://localhost:8080/"
        },
        "id": "cfkvQSJLFESd",
        "outputId": "4b607b1a-6d5a-4ac0-a85e-f671f9f265b4"
      },
      "execution_count": null,
      "outputs": [
        {
          "output_type": "stream",
          "name": "stdout",
          "text": [
            "Accuracy: 0.67 (+/- 0.13)\n"
          ]
        }
      ]
    },
    {
      "cell_type": "code",
      "metadata": {
        "colab": {
          "base_uri": "https://localhost:8080/",
          "height": 564
        },
        "outputId": "ab615b20-907d-451c-df70-d4bcec839723",
        "id": "JsAimTHzL0_R"
      },
      "source": [
        "from sklearn.model_selection import cross_val_score\n",
        "\n",
        "# Armazenar os scores dos modelos\n",
        "score = []\n",
        "\n",
        "for i in range(1,30):\n",
        "  neigh_cross = KNeighborsClassifier(n_neighbors=i)\n",
        "\n",
        "  scores = cross_val_score(neigh_cross, X_train_scaled, y_train, cv=8)\n",
        "\n",
        "  score.append(round((scores.mean()*100), 2)) # armazena as médias dos 8 'splits' de cada modelo\n",
        "\n",
        "plt.figure(figsize=(10,6))\n",
        "plt.plot(range(1,30), score, color='grey', linestyle='dashed', marker='o',\n",
        "           markerfacecolor = 'green', markersize=7)\n",
        "plt.title('Score Rate vs K Value')\n",
        "plt.xlabel('K')\n",
        "plt.ylabel('Score Rate')\n",
        "\n",
        "# Adicionar os valores do eixo x acima de cada marcador\n",
        "for i, scr in enumerate(score):\n",
        "    plt.text(i+0.6, scr+0.001, str(i+1), ha='center', va='bottom', fontsize=8)\n",
        "\n",
        "plt.show()"
      ],
      "execution_count": null,
      "outputs": [
        {
          "output_type": "display_data",
          "data": {
            "text/plain": [
              "<Figure size 1000x600 with 1 Axes>"
            ],
            "image/png": "[encoded data removed]"
          },
          "metadata": {}
        }
      ]
    },
    {
      "cell_type": "markdown",
      "source": [
        "De acordo com o gráfico acima, o melhor *score* foi obtido para *k=18*"
      ],
      "metadata": {
        "id": "Wmnq0trXJDkE"
      }
    },
    {
      "cell_type": "code",
      "source": [
        "neigh_k18 = KNeighborsClassifier(n_neighbors=18)\n",
        "neigh_k18.fit(X_train_scaled, y_train)\n",
        "y_pred_k18 = neigh_k18.predict(X_test_scaled)"
      ],
      "metadata": {
        "id": "6UhKFIhx9JPE"
      },
      "execution_count": null,
      "outputs": []
    },
    {
      "cell_type": "code",
      "source": [
        "print(classification_report(y_test, y_pred_k18))"
      ],
      "metadata": {
        "colab": {
          "base_uri": "https://localhost:8080/"
        },
        "id": "ZG7dPYph8ZAw",
        "outputId": "8e2340cc-f698-474c-bb7d-e358fc2e1ecc"
      },
      "execution_count": null,
      "outputs": [
        {
          "output_type": "stream",
          "name": "stdout",
          "text": [
            "              precision    recall  f1-score   support\n",
            "\n",
            "           0       0.83      0.71      0.76       154\n",
            "           1       0.73      0.84      0.78       146\n",
            "\n",
            "    accuracy                           0.77       300\n",
            "   macro avg       0.78      0.78      0.77       300\n",
            "weighted avg       0.78      0.77      0.77       300\n",
            "\n"
          ]
        }
      ]
    },
    {
      "cell_type": "code",
      "source": [
        "plt.figure(figsize = (16,12))\n",
        "cm = confusion_matrix(y_test, y_pred_k18) # matriz de confusão para comparar os valores preditos com os valores reais\n",
        "cmd = ConfusionMatrixDisplay(cm, display_labels=np.unique(y_test))\n",
        "cmd.plot()\n",
        "plt.show()"
      ],
      "metadata": {
        "colab": {
          "base_uri": "https://localhost:8080/",
          "height": 467
        },
        "id": "tqI_aa5h6-XU",
        "outputId": "9a7d32b0-bd49-42c3-bbbb-232903755eca"
      },
      "execution_count": null,
      "outputs": [
        {
          "output_type": "display_data",
          "data": {
            "text/plain": [
              "<Figure size 1600x1200 with 0 Axes>"
            ]
          },
          "metadata": {}
        },
        {
          "output_type": "display_data",
          "data": {
            "text/plain": [
              "<Figure size 640x480 with 2 Axes>"
            ],
            "image/png": "[encoded data removed]"
          },
          "metadata": {}
        }
      ]
    },
    {
      "cell_type": "markdown",
      "source": [
        "#### Dados Iris\n",
        "\n",
        "Ponto extra"
      ],
      "metadata": {
        "id": "y65j38ZTLgor"
      }
    },
    {
      "cell_type": "code",
      "source": [
        "neigh_cross_iris = KNeighborsClassifier(n_neighbors=1)\n",
        "\n",
        "# Aplica a validação cruzada com 8 folds (dobras)\n",
        "scores_iris = cross_val_score(neigh_cross_iris, X_train1_scaled, y_train1, cv=8) # 'cv': número de folds"
      ],
      "metadata": {
        "id": "rgzw0tOfNRIM"
      },
      "execution_count": null,
      "outputs": []
    },
    {
      "cell_type": "code",
      "source": [
        "scores_iris"
      ],
      "metadata": {
        "colab": {
          "base_uri": "https://localhost:8080/"
        },
        "id": "fFg7p2L7NREM",
        "outputId": "c34bb7ba-9f3b-499b-bc17-d8cbbe0b8491"
      },
      "execution_count": null,
      "outputs": [
        {
          "output_type": "execute_result",
          "data": {
            "text/plain": [
              "array([0.84615385, 0.92307692, 1.        , 0.69230769, 1.        ,\n",
              "       1.        , 1.        , 0.92307692])"
            ]
          },
          "metadata": {},
          "execution_count": 155
        }
      ]
    },
    {
      "cell_type": "code",
      "source": [
        "print(\"Accuracy: %0.2f (+/- %0.2f)\" % (scores_iris.mean(), scores_iris.std() * 2))"
      ],
      "metadata": {
        "colab": {
          "base_uri": "https://localhost:8080/"
        },
        "id": "tkE9mJP9NQz_",
        "outputId": "9c572f79-c36d-498d-ff43-5de4d01efb6d"
      },
      "execution_count": null,
      "outputs": [
        {
          "output_type": "stream",
          "name": "stdout",
          "text": [
            "Accuracy: 0.92 (+/- 0.20)\n"
          ]
        }
      ]
    },
    {
      "cell_type": "code",
      "metadata": {
        "id": "komCbIaNJAuH",
        "colab": {
          "base_uri": "https://localhost:8080/",
          "height": 564
        },
        "outputId": "2d138933-b20e-489c-d9e7-68af7dce8d86"
      },
      "source": [
        "from sklearn.model_selection import cross_val_score\n",
        "\n",
        "score = []\n",
        "\n",
        "for i in range(1,30):\n",
        "  neigh_cross = KNeighborsClassifier(n_neighbors=i)\n",
        "\n",
        "  scores = cross_val_score(neigh_cross, X_train1_scaled, y_train1, cv=8)\n",
        "\n",
        "  score.append(round((scores.mean()*100), 2)) # armazena as médias dos 8 'splits' de cada modelo\n",
        "\n",
        "plt.figure(figsize=(10,6))\n",
        "plt.plot(range(1,30), score, color='grey', linestyle='dashed', marker='o',\n",
        "           markerfacecolor = 'green', markersize=7)\n",
        "plt.title('Score Rate vs K Value')\n",
        "plt.xlabel('K')\n",
        "plt.ylabel('Score Rate')\n",
        "\n",
        "# Adicionar os valores do eixo x acima de cada marcador\n",
        "for i, scr in enumerate(score):\n",
        "    plt.text(i+0.6, scr+0.001, str(i+1), ha='center', va='bottom', fontsize=8)\n",
        "\n",
        "plt.show()"
      ],
      "execution_count": null,
      "outputs": [
        {
          "output_type": "display_data",
          "data": {
            "text/plain": [
              "<Figure size 1000x600 with 1 Axes>"
            ],
            "image/png": "[encoded data removed]"
          },
          "metadata": {}
        }
      ]
    },
    {
      "cell_type": "markdown",
      "source": [
        "De acordo com o gráfico acima, o melhor *score* foi obtido para *k=9*"
      ],
      "metadata": {
        "id": "iKanrqzAMRyk"
      }
    },
    {
      "cell_type": "code",
      "source": [
        "neigh_k9 = KNeighborsClassifier(n_neighbors=9)\n",
        "neigh_k9.fit(X_train1_scaled, y_train1)\n",
        "y_pred_k9 = neigh_k9.predict(X_test1_scaled)"
      ],
      "metadata": {
        "id": "RU3wbrrYMRCN"
      },
      "execution_count": null,
      "outputs": []
    },
    {
      "cell_type": "code",
      "source": [
        "print(classification_report(y_test1, y_pred_k9))"
      ],
      "metadata": {
        "colab": {
          "base_uri": "https://localhost:8080/"
        },
        "id": "q7Fb8hAJAhOc",
        "outputId": "131e2df5-c6d2-4902-990c-80e63cf53abd"
      },
      "execution_count": null,
      "outputs": [
        {
          "output_type": "stream",
          "name": "stdout",
          "text": [
            "              precision    recall  f1-score   support\n",
            "\n",
            "           0       1.00      1.00      1.00        14\n",
            "           1       1.00      1.00      1.00        16\n",
            "           2       1.00      1.00      1.00        15\n",
            "\n",
            "    accuracy                           1.00        45\n",
            "   macro avg       1.00      1.00      1.00        45\n",
            "weighted avg       1.00      1.00      1.00        45\n",
            "\n"
          ]
        }
      ]
    },
    {
      "cell_type": "code",
      "source": [
        "plt.figure(figsize = (16,12))\n",
        "cm = confusion_matrix(y_test1, y_pred_k9) # matriz de confusão para comparar os valores preditos com os valores reais\n",
        "cmd = ConfusionMatrixDisplay(cm, display_labels=np.unique(y_test1))\n",
        "cmd.plot()\n",
        "plt.show()"
      ],
      "metadata": {
        "colab": {
          "base_uri": "https://localhost:8080/",
          "height": 473
        },
        "id": "yu5kmvdDAovz",
        "outputId": "9771e975-b73d-417b-dbf5-058853a41384"
      },
      "execution_count": null,
      "outputs": [
        {
          "output_type": "display_data",
          "data": {
            "text/plain": [
              "<Figure size 1600x1200 with 0 Axes>"
            ]
          },
          "metadata": {}
        },
        {
          "output_type": "display_data",
          "data": {
            "text/plain": [
              "<Figure size 640x480 with 2 Axes>"
            ],
            "image/png": "[encoded data removed]"
          },
          "metadata": {}
        }
      ]
    },
    {
      "cell_type": "markdown",
      "source": [
        "## Conclusão"
      ],
      "metadata": {
        "id": "T4NrlDvI7mWi"
      }
    },
    {
      "cell_type": "markdown",
      "source": [
        "Os resultados revelam que, ao empregar todos os atributos sem qualquer redução de dimensionalidade, a acurácia atingiu 69%. No entanto, ao reduzir as dimensões para 10 atributos, a acurácia aumentou para 70%. Ao reduzir ainda mais para 5 atributos, a acurácia alcançou 76%. Esses resultados demonstram uma clara tendência de melhoria na acurácia à medida que a dimensionalidade dos dados foi reduzida.\n",
        "\n",
        "Ao aplicar o *Random Forest* ao dataset *Iris Data*, alcancou-se uma acurácia de 100%. Isso indica que o modelo foi capaz de fazer previsões corretas para todas as instâncias presentes no dataset.\n",
        "\n",
        "Ao utilizar o método *SelectFromModel* no conjunto de dados *Iris Data*, foram escolhidas duas características como as mais relevantes: Comprimento da Pétala (*Petal Length*) e Largura da Pétala (*Petal Width*). Isso sugere que, de acordo com a análise do *Random Forest*, essas duas características são as mais informativas e contribuem significativamente para a capacidade de discriminação e classificação das classes presentes no conjunto de dados *Iris*.\n",
        "\n",
        "No processo de validação cruzada (*Cross-Validation*) aplicado aos dados gerados pelo método *Make Classification* empregando o algoritmo *K-Nearest Neighbors (KNN)*, foi notado um desempenho mais elevado com uma acurácia de 77% quando o valor do hiperparâmetro *K* foi definido como 18. Isso indica que a escolha desse valor específico para o número de vizinhos mais próximos resultou em um melhor ajuste do modelo aos dados e, consequentemente, em um aumento na precisão das previsões.\n",
        "\n",
        "Ao aplicar a técnica de validação cruzada ao conjunto *Iris Data* e empregando novamente o algoritmo *K-Nearest Neighbors (KNN)* , notou-se uma surpreendente acurácia de 100% para *k*=9. Isso sugere que o modelo *KNN* com o hiperparâmetro igual a 9 foi capaz de realizar classificações perfeitas em todas as instâncias do conjunto de dados *Iris*, o que indica um excelente ajuste e desempenho na tarefa de classificação."
      ],
      "metadata": {
        "id": "DuYXoMGmBOZK"
      }
    }
  ]
}