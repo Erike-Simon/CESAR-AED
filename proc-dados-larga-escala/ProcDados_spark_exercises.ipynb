{
  "cells": [
    {
      "cell_type": "markdown",
      "metadata": {
        "id": "view-in-github",
        "colab_type": "text"
      },
      "source": [
        "<a href=\"https://colab.research.google.com/github/Erike-Simon/CESAR-AED/blob/main/ProcDados_spark_exercises.ipynb\" target=\"_parent\"><img src=\"https://colab.research.google.com/assets/colab-badge.svg\" alt=\"Open In Colab\"/></a>"
      ]
    },
    {
      "cell_type": "code",
      "source": [
        "from google.colab import drive\n",
        "drive.mount('/content/drive')"
      ],
      "metadata": {
        "colab": {
          "base_uri": "https://localhost:8080/"
        },
        "id": "vetvTykRxA26",
        "outputId": "9b18da46-613d-4e11-b2a0-78829145ed41"
      },
      "execution_count": null,
      "outputs": [
        {
          "output_type": "stream",
          "name": "stdout",
          "text": [
            "Mounted at /content/drive\n"
          ]
        }
      ]
    },
    {
      "cell_type": "code",
      "source": [
        "!pip install --upgrade pyspark"
      ],
      "metadata": {
        "id": "XLp8tbmk0AxH",
        "colab": {
          "base_uri": "https://localhost:8080/"
        },
        "outputId": "4ed791d8-7474-46bc-a504-fbddcb4b64f8"
      },
      "execution_count": null,
      "outputs": [
        {
          "output_type": "stream",
          "name": "stdout",
          "text": [
            "Collecting pyspark\n",
            "  Downloading pyspark-3.5.0.tar.gz (316.9 MB)\n",
            "\u001b[2K     \u001b[90m━━━━━━━━━━━━━━━━━━━━━━━━━━━━━━━━━━━━━━━━\u001b[0m \u001b[32m316.9/316.9 MB\u001b[0m \u001b[31m2.5 MB/s\u001b[0m eta \u001b[36m0:00:00\u001b[0m\n",
            "\u001b[?25h  Preparing metadata (setup.py) ... \u001b[?25l\u001b[?25hdone\n",
            "Requirement already satisfied: py4j==0.10.9.7 in /usr/local/lib/python3.10/dist-packages (from pyspark) (0.10.9.7)\n",
            "Building wheels for collected packages: pyspark\n",
            "  Building wheel for pyspark (setup.py) ... \u001b[?25l\u001b[?25hdone\n",
            "  Created wheel for pyspark: filename=pyspark-3.5.0-py2.py3-none-any.whl size=317425345 sha256=b737a85eaefce80a6609db826a94f3250398ceab51f904dd598a6af943e208c0\n",
            "  Stored in directory: /root/.cache/pip/wheels/41/4e/10/c2cf2467f71c678cfc8a6b9ac9241e5e44a01940da8fbb17fc\n",
            "Successfully built pyspark\n",
            "Installing collected packages: pyspark\n",
            "Successfully installed pyspark-3.5.0\n"
          ]
        }
      ]
    },
    {
      "cell_type": "markdown",
      "metadata": {
        "id": "V7dSsTFnuDeF"
      },
      "source": [
        "## Dados\n",
        "\n",
        "**Descrição das colunas:**  \n",
        "timestamp,user_id,action,adId,campaignId\n",
        "\n",
        "**Amostra:**  \n",
        "2016-09-21 22:11:00,7c74953c-66cc-48bd-9d02-a02bf039cf3f,click,adId_09,campaignId_01  \n",
        "2016-06-25 18:29:00,676a083e-2f8e-4ff2-9ec2-270f7f9d6033,view,adId_09,campaignId_02  \n",
        "2016-02-14 19:03:00,77158997-0dfa-48b7-9149-973dc151ef8d,click,adId_02,campaignId_02  \n",
        "2016-03-26 06:27:00,78aa2467-b502-413b-94e9-04ec8210bd13,click,adId_07,campaignId_03\n",
        "\n",
        "**Path:**  \n",
        "data/ad_action.csv\n",
        "\n",
        "## Atividade 1\n",
        "\n",
        "Qual é o anúncio mais popular, ou seja, com mais eventos independente do action?\n",
        "\n",
        "**Resposta:**  \n",
        "adId_06\n",
        "\n",
        "## Atividade 2\n",
        "\n",
        "Quantos clicks gerou a campanha mais popular?\n",
        "\n",
        "**Resposta:**  \n",
        "63983 clicks\n",
        "\n",
        "## Atividade 3\n",
        "\n",
        "Algum usuário só visualizou? Quantas actions foram enviadas por usuário que só visualizou?\n",
        "\n",
        "**Resposta:**  \n",
        "Sim, o usuário d99871cb-98b7-4ac5-97a5-b9a26c0f897b enviou apenas 1 action\n",
        "\n",
        "## Atividade 4\n",
        "\n",
        "Dos 10411 usuários, quantos usuários clicam mais que visualizam?\n",
        "\n",
        "**Resposta:**  \n",
        "10078\n",
        "\n",
        "## Atividade 5\n",
        "\n",
        "Calcule a quantidade de clicks por dia da semana e apresente o resultado em ordem decrescente de quantidade de clicks.\n",
        "\n",
        "PS: Nesse exemplo, 0 é segunda-feira e 6 é domingo. Você pode usar outro padrão, contanto que os dias da semana estejam correspondentes a resposta abaixo\n",
        "\n",
        "**Resposta**  \n",
        "27918, 4  \n",
        "25424, 5  \n",
        "25028, 0  \n",
        "25027, 3  \n",
        "25020, 6  \n",
        "24973, 1  \n",
        "24915, 2\n",
        "\n",
        "## Atividade 6\n",
        "\n",
        "Algum anúncio teve um crescimento de clicks ao longo das 3 campanhas?\n",
        "\n",
        "**Resposta:**  \n",
        "Sim, o anúncio adId_07"
      ]
    },
    {
      "cell_type": "code",
      "execution_count": null,
      "metadata": {
        "id": "cjX8Q22VuDeH"
      },
      "outputs": [],
      "source": [
        "# IMPORTS, CRIAÇÃO DO CLUSTER E CARREGAMENTO DOS DADOS AQUI\n",
        "import numpy as np\n",
        "import os\n",
        "import pandas as pd\n",
        "import pyspark.sql.functions as F\n",
        "\n",
        "from pyspark.sql import SparkSession\n",
        "\n",
        "os.environ['PYSPARK_SUBMIT_ARGS'] = '\\\n",
        "    --driver-memory 4G \\\n",
        "    --executor-memory 4G \\\n",
        "    pyspark-shell'"
      ]
    },
    {
      "cell_type": "code",
      "source": [
        "# Criando um cluster local com 1 executor e a quantidade de threads igual a quantidade de cores de CPU disponíveis\n",
        "\n",
        "spark = SparkSession.builder\\\n",
        "    .master(\"local[*]\")\\\n",
        "    .getOrCreate()\n",
        "spark"
      ],
      "metadata": {
        "colab": {
          "base_uri": "https://localhost:8080/",
          "height": 219
        },
        "id": "JHz7h2WrIBxA",
        "outputId": "1ec6d9ed-b58f-42f9-d8e8-1763b861e7ee"
      },
      "execution_count": null,
      "outputs": [
        {
          "output_type": "execute_result",
          "data": {
            "text/plain": [
              "<pyspark.sql.session.SparkSession at 0x7b3c89589f30>"
            ],
            "text/html": [
              "\n",
              "            <div>\n",
              "                <p><b>SparkSession - in-memory</b></p>\n",
              "                \n",
              "        <div>\n",
              "            <p><b>SparkContext</b></p>\n",
              "\n",
              "            <p><a href=\"http://3cda889b68fa:4040\">Spark UI</a></p>\n",
              "\n",
              "            <dl>\n",
              "              <dt>Version</dt>\n",
              "                <dd><code>v3.5.0</code></dd>\n",
              "              <dt>Master</dt>\n",
              "                <dd><code>local[*]</code></dd>\n",
              "              <dt>AppName</dt>\n",
              "                <dd><code>pyspark-shell</code></dd>\n",
              "            </dl>\n",
              "        </div>\n",
              "        \n",
              "            </div>\n",
              "        "
            ]
          },
          "metadata": {},
          "execution_count": 2
        }
      ]
    },
    {
      "cell_type": "code",
      "source": [
        "# Comando para desativar os recursos do spark\n",
        "# spark.stop()"
      ],
      "metadata": {
        "id": "CRYSz3yeIE1J"
      },
      "execution_count": null,
      "outputs": []
    },
    {
      "cell_type": "code",
      "source": [
        "AD_ACTION_CSV_PATH = 'drive/MyDrive/data/ad_action.csv'"
      ],
      "metadata": {
        "id": "nXXEWeKHIHFT"
      },
      "execution_count": null,
      "outputs": []
    },
    {
      "cell_type": "code",
      "source": [
        "df = spark.read.csv(AD_ACTION_CSV_PATH, header=False, inferSchema=True)\\\n",
        "    .toDF('timestamp', 'user_id', 'action', 'adId', 'campaignId')\n",
        "df.show(3)"
      ],
      "metadata": {
        "colab": {
          "base_uri": "https://localhost:8080/"
        },
        "id": "QVcl17XBIIV6",
        "outputId": "967d5364-57db-4f59-fbdb-8dfebe9b43c8"
      },
      "execution_count": null,
      "outputs": [
        {
          "output_type": "stream",
          "name": "stdout",
          "text": [
            "+-------------------+--------------------+------+-------+-------------+\n",
            "|          timestamp|             user_id|action|   adId|   campaignId|\n",
            "+-------------------+--------------------+------+-------+-------------+\n",
            "|2016-09-21 22:11:00|7c74953c-66cc-48b...| click|adId_09|campaignId_01|\n",
            "|2016-06-25 18:29:00|676a083e-2f8e-4ff...|  view|adId_09|campaignId_02|\n",
            "|2016-02-14 19:03:00|77158997-0dfa-48b...| click|adId_02|campaignId_02|\n",
            "+-------------------+--------------------+------+-------+-------------+\n",
            "only showing top 3 rows\n",
            "\n"
          ]
        }
      ]
    },
    {
      "cell_type": "code",
      "source": [
        "df.printSchema()"
      ],
      "metadata": {
        "colab": {
          "base_uri": "https://localhost:8080/"
        },
        "id": "LjbH-ZFZIJdb",
        "outputId": "41c38f62-e1cb-4a92-9b83-341b9331d3f4"
      },
      "execution_count": null,
      "outputs": [
        {
          "output_type": "stream",
          "name": "stdout",
          "text": [
            "root\n",
            " |-- timestamp: timestamp (nullable = true)\n",
            " |-- user_id: string (nullable = true)\n",
            " |-- action: string (nullable = true)\n",
            " |-- adId: string (nullable = true)\n",
            " |-- campaignId: string (nullable = true)\n",
            "\n"
          ]
        }
      ]
    },
    {
      "cell_type": "markdown",
      "metadata": {
        "id": "kfUxrE0auDeH"
      },
      "source": [
        "## Resposta Atividade 1\n",
        "\n",
        "Qual é o anúncio mais popular, ou seja, com mais eventos independente do action?\n",
        "\n",
        "**Resposta:**  \n",
        "adId_06"
      ]
    },
    {
      "cell_type": "code",
      "execution_count": null,
      "metadata": {
        "id": "cXtedRNyuDeI"
      },
      "outputs": [],
      "source": [
        "# ESCREVA SEU CÓDIGO AQUI"
      ]
    },
    {
      "cell_type": "code",
      "source": [
        "df.groupby('adId')\\\n",
        "    .count()\\\n",
        "    .orderBy(F.desc('count'))\\\n",
        "    .take(1)[0]['adId']"
      ],
      "metadata": {
        "colab": {
          "base_uri": "https://localhost:8080/",
          "height": 36
        },
        "id": "foAMIPI9IRtv",
        "outputId": "04c25310-a965-485d-9132-93b37a2510dc"
      },
      "execution_count": null,
      "outputs": [
        {
          "output_type": "execute_result",
          "data": {
            "text/plain": [
              "'adId_06'"
            ],
            "application/vnd.google.colaboratory.intrinsic+json": {
              "type": "string"
            }
          },
          "metadata": {},
          "execution_count": 8
        }
      ]
    },
    {
      "cell_type": "markdown",
      "metadata": {
        "id": "wapmJpTuuDeI"
      },
      "source": [
        "## Resposta Atividade 2\n",
        "\n",
        "Quantos clicks gerou a campanha mais popular?\n",
        "\n",
        "**Resposta:**  \n",
        "63983 clicks"
      ]
    },
    {
      "cell_type": "code",
      "execution_count": null,
      "metadata": {
        "id": "KKCTEri2uDeI"
      },
      "outputs": [],
      "source": [
        "# ESCREVA SEU CÓDIGO AQUI"
      ]
    },
    {
      "cell_type": "code",
      "source": [
        "most_popular_campaign = df.groupBy('campaignId')\\\n",
        "    .count()\\\n",
        "    .orderBy(F.desc('count'))\\\n",
        "    .take(1)[0]['campaignId']\n",
        "\n",
        "df.where((F.col('campaignId') == most_popular_campaign) & (F.col('action') == \"click\"))\\\n",
        "    .count()"
      ],
      "metadata": {
        "colab": {
          "base_uri": "https://localhost:8080/"
        },
        "id": "WJZ6RZIeIVIo",
        "outputId": "7eb43a9c-4fa7-4bf3-c04b-043a23ae7c99"
      },
      "execution_count": null,
      "outputs": [
        {
          "output_type": "execute_result",
          "data": {
            "text/plain": [
              "63983"
            ]
          },
          "metadata": {},
          "execution_count": 10
        }
      ]
    },
    {
      "cell_type": "markdown",
      "metadata": {
        "id": "74O4xqHQuDeI"
      },
      "source": [
        "## Resposta Atividade 3\n",
        "\n",
        "Algum usuário só visualizou? Quantas actions foram enviadas por usuário que só visualizou?\n",
        "\n",
        "**Resposta:**  \n",
        "Sim, o usuário d99871cb-98b7-4ac5-97a5-b9a26c0f897b enviou apenas 1 action"
      ]
    },
    {
      "cell_type": "code",
      "execution_count": null,
      "metadata": {
        "id": "NdvtaWN4uDeI"
      },
      "outputs": [],
      "source": [
        "# ESCREVA SEU CÓDIGO AQUI"
      ]
    },
    {
      "cell_type": "code",
      "source": [
        "df.show(3)"
      ],
      "metadata": {
        "colab": {
          "base_uri": "https://localhost:8080/"
        },
        "id": "DMkxIRViIa_5",
        "outputId": "e1909360-8382-44ed-e5b1-dfa3aa5606c8"
      },
      "execution_count": null,
      "outputs": [
        {
          "output_type": "stream",
          "name": "stdout",
          "text": [
            "+-------------------+--------------------+------+-------+-------------+\n",
            "|          timestamp|             user_id|action|   adId|   campaignId|\n",
            "+-------------------+--------------------+------+-------+-------------+\n",
            "|2016-09-21 22:11:00|7c74953c-66cc-48b...| click|adId_09|campaignId_01|\n",
            "|2016-06-25 18:29:00|676a083e-2f8e-4ff...|  view|adId_09|campaignId_02|\n",
            "|2016-02-14 19:03:00|77158997-0dfa-48b...| click|adId_02|campaignId_02|\n",
            "+-------------------+--------------------+------+-------+-------------+\n",
            "only showing top 3 rows\n",
            "\n"
          ]
        }
      ]
    },
    {
      "cell_type": "code",
      "source": [
        "df.groupBy('user_id', 'action')\\\n",
        "    .count()\\\n",
        "    .groupBy('user_id')\\\n",
        "    .pivot('action')\\\n",
        "    .sum('count')\\\n",
        "    .where(F.col('click').isNull())\\\n",
        "    .toPandas()"
      ],
      "metadata": {
        "colab": {
          "base_uri": "https://localhost:8080/",
          "height": 81
        },
        "id": "EHfLOiDLIfUt",
        "outputId": "7023ac15-92ce-433e-c77b-a455eb1b4264"
      },
      "execution_count": null,
      "outputs": [
        {
          "output_type": "execute_result",
          "data": {
            "text/plain": [
              "                                user_id  click  view\n",
              "0  d99871cb-98b7-4ac5-97a5-b9a26c0f897b    NaN     1"
            ],
            "text/html": [
              "\n",
              "  <div id=\"df-6e267903-6630-4aa8-8897-696662a29329\" class=\"colab-df-container\">\n",
              "    <div>\n",
              "<style scoped>\n",
              "    .dataframe tbody tr th:only-of-type {\n",
              "        vertical-align: middle;\n",
              "    }\n",
              "\n",
              "    .dataframe tbody tr th {\n",
              "        vertical-align: top;\n",
              "    }\n",
              "\n",
              "    .dataframe thead th {\n",
              "        text-align: right;\n",
              "    }\n",
              "</style>\n",
              "<table border=\"1\" class=\"dataframe\">\n",
              "  <thead>\n",
              "    <tr style=\"text-align: right;\">\n",
              "      <th></th>\n",
              "      <th>user_id</th>\n",
              "      <th>click</th>\n",
              "      <th>view</th>\n",
              "    </tr>\n",
              "  </thead>\n",
              "  <tbody>\n",
              "    <tr>\n",
              "      <th>0</th>\n",
              "      <td>d99871cb-98b7-4ac5-97a5-b9a26c0f897b</td>\n",
              "      <td>NaN</td>\n",
              "      <td>1</td>\n",
              "    </tr>\n",
              "  </tbody>\n",
              "</table>\n",
              "</div>\n",
              "    <div class=\"colab-df-buttons\">\n",
              "\n",
              "  <div class=\"colab-df-container\">\n",
              "    <button class=\"colab-df-convert\" onclick=\"convertToInteractive('df-6e267903-6630-4aa8-8897-696662a29329')\"\n",
              "            title=\"Convert this dataframe to an interactive table.\"\n",
              "            style=\"display:none;\">\n",
              "\n",
              "  <svg xmlns=\"http://www.w3.org/2000/svg\" height=\"24px\" viewBox=\"0 -960 960 960\">\n",
              "    <path d=\"M120-120v-720h720v720H120Zm60-500h600v-160H180v160Zm220 220h160v-160H400v160Zm0 220h160v-160H400v160ZM180-400h160v-160H180v160Zm440 0h160v-160H620v160ZM180-180h160v-160H180v160Zm440 0h160v-160H620v160Z\"/>\n",
              "  </svg>\n",
              "    </button>\n",
              "\n",
              "  <style>\n",
              "    .colab-df-container {\n",
              "      display:flex;\n",
              "      gap: 12px;\n",
              "    }\n",
              "\n",
              "    .colab-df-convert {\n",
              "      background-color: #E8F0FE;\n",
              "      border: none;\n",
              "      border-radius: 50%;\n",
              "      cursor: pointer;\n",
              "      display: none;\n",
              "      fill: #1967D2;\n",
              "      height: 32px;\n",
              "      padding: 0 0 0 0;\n",
              "      width: 32px;\n",
              "    }\n",
              "\n",
              "    .colab-df-convert:hover {\n",
              "      background-color: #E2EBFA;\n",
              "      box-shadow: 0px 1px 2px rgba(60, 64, 67, 0.3), 0px 1px 3px 1px rgba(60, 64, 67, 0.15);\n",
              "      fill: #174EA6;\n",
              "    }\n",
              "\n",
              "    .colab-df-buttons div {\n",
              "      margin-bottom: 4px;\n",
              "    }\n",
              "\n",
              "    [theme=dark] .colab-df-convert {\n",
              "      background-color: #3B4455;\n",
              "      fill: #D2E3FC;\n",
              "    }\n",
              "\n",
              "    [theme=dark] .colab-df-convert:hover {\n",
              "      background-color: #434B5C;\n",
              "      box-shadow: 0px 1px 3px 1px rgba(0, 0, 0, 0.15);\n",
              "      filter: drop-shadow(0px 1px 2px rgba(0, 0, 0, 0.3));\n",
              "      fill: #FFFFFF;\n",
              "    }\n",
              "  </style>\n",
              "\n",
              "    <script>\n",
              "      const buttonEl =\n",
              "        document.querySelector('#df-6e267903-6630-4aa8-8897-696662a29329 button.colab-df-convert');\n",
              "      buttonEl.style.display =\n",
              "        google.colab.kernel.accessAllowed ? 'block' : 'none';\n",
              "\n",
              "      async function convertToInteractive(key) {\n",
              "        const element = document.querySelector('#df-6e267903-6630-4aa8-8897-696662a29329');\n",
              "        const dataTable =\n",
              "          await google.colab.kernel.invokeFunction('convertToInteractive',\n",
              "                                                    [key], {});\n",
              "        if (!dataTable) return;\n",
              "\n",
              "        const docLinkHtml = 'Like what you see? Visit the ' +\n",
              "          '<a target=\"_blank\" href=https://colab.research.google.com/notebooks/data_table.ipynb>data table notebook</a>'\n",
              "          + ' to learn more about interactive tables.';\n",
              "        element.innerHTML = '';\n",
              "        dataTable['output_type'] = 'display_data';\n",
              "        await google.colab.output.renderOutput(dataTable, element);\n",
              "        const docLink = document.createElement('div');\n",
              "        docLink.innerHTML = docLinkHtml;\n",
              "        element.appendChild(docLink);\n",
              "      }\n",
              "    </script>\n",
              "  </div>\n",
              "\n",
              "    </div>\n",
              "  </div>\n"
            ]
          },
          "metadata": {},
          "execution_count": 13
        }
      ]
    },
    {
      "cell_type": "markdown",
      "metadata": {
        "id": "yJD87tAAuDeI"
      },
      "source": [
        "## Resposta Atividade 4\n",
        "\n",
        "Dos 10411 usuários, quantos usuários clicam mais que visualizam?\n",
        "\n",
        "**Resposta:**  \n",
        "10078"
      ]
    },
    {
      "cell_type": "code",
      "execution_count": null,
      "metadata": {
        "id": "ttBooRmcuDeJ"
      },
      "outputs": [],
      "source": [
        "# ESCREVA SEU CÓDIGO AQUI"
      ]
    },
    {
      "cell_type": "code",
      "source": [
        "df.show(3)"
      ],
      "metadata": {
        "colab": {
          "base_uri": "https://localhost:8080/"
        },
        "id": "0PKMQHv_IuD2",
        "outputId": "5a04d151-ba0e-4592-a497-b2eb1faaff16"
      },
      "execution_count": null,
      "outputs": [
        {
          "output_type": "stream",
          "name": "stdout",
          "text": [
            "+-------------------+--------------------+------+-------+-------------+\n",
            "|          timestamp|             user_id|action|   adId|   campaignId|\n",
            "+-------------------+--------------------+------+-------+-------------+\n",
            "|2016-09-21 22:11:00|7c74953c-66cc-48b...| click|adId_09|campaignId_01|\n",
            "|2016-06-25 18:29:00|676a083e-2f8e-4ff...|  view|adId_09|campaignId_02|\n",
            "|2016-02-14 19:03:00|77158997-0dfa-48b...| click|adId_02|campaignId_02|\n",
            "+-------------------+--------------------+------+-------+-------------+\n",
            "only showing top 3 rows\n",
            "\n"
          ]
        }
      ]
    },
    {
      "cell_type": "code",
      "source": [
        "df.groupBy('user_id', 'action')\\\n",
        "    .count()\\\n",
        "    .groupBy('user_id')\\\n",
        "    .pivot('action')\\\n",
        "    .sum('count')\\\n",
        "    .na.fill(0)\\\n",
        "    .where(F.col('click') > F.col('view'))\\\n",
        "    .count()"
      ],
      "metadata": {
        "colab": {
          "base_uri": "https://localhost:8080/"
        },
        "id": "sjXkmUeCIuhY",
        "outputId": "a4616bb0-c4c2-4520-ee06-c4852f676943"
      },
      "execution_count": null,
      "outputs": [
        {
          "output_type": "execute_result",
          "data": {
            "text/plain": [
              "10078"
            ]
          },
          "metadata": {},
          "execution_count": 16
        }
      ]
    },
    {
      "cell_type": "markdown",
      "metadata": {
        "id": "3_cBekUauDeJ"
      },
      "source": [
        "## Resposta Atividade 5\n",
        "\n",
        "Calcule a quantidade de clicks por dia da semana e apresente o resultado em ordem decrescente de quantidade de clicks.\n",
        "\n",
        "PS: Nesse exemplo, 0 é segunda-feira e 6 é domingo. Você pode usar outro padrão, contanto que os dias da semana estejam correspondentes a resposta abaixo\n",
        "\n",
        "**Resposta**  \n",
        "27918, 4  \n",
        "25424, 5  \n",
        "25028, 0  \n",
        "25027, 3  \n",
        "25020, 6  \n",
        "24973, 1  \n",
        "24915, 2"
      ]
    },
    {
      "cell_type": "code",
      "execution_count": null,
      "metadata": {
        "id": "RiVeRog7uDeJ"
      },
      "outputs": [],
      "source": [
        "# ESCREVA SEU CÓDIGO AQUI"
      ]
    },
    {
      "cell_type": "code",
      "source": [
        "df.show(3)"
      ],
      "metadata": {
        "colab": {
          "base_uri": "https://localhost:8080/"
        },
        "id": "cW7em5eYI0-I",
        "outputId": "e23f3d6f-515c-483d-870f-ba4585e9c056"
      },
      "execution_count": null,
      "outputs": [
        {
          "output_type": "stream",
          "name": "stdout",
          "text": [
            "+-------------------+--------------------+------+-------+-------------+\n",
            "|          timestamp|             user_id|action|   adId|   campaignId|\n",
            "+-------------------+--------------------+------+-------+-------------+\n",
            "|2016-09-21 22:11:00|7c74953c-66cc-48b...| click|adId_09|campaignId_01|\n",
            "|2016-06-25 18:29:00|676a083e-2f8e-4ff...|  view|adId_09|campaignId_02|\n",
            "|2016-02-14 19:03:00|77158997-0dfa-48b...| click|adId_02|campaignId_02|\n",
            "+-------------------+--------------------+------+-------+-------------+\n",
            "only showing top 3 rows\n",
            "\n"
          ]
        }
      ]
    },
    {
      "cell_type": "code",
      "source": [
        "result = df.withColumn('day_of_week', F.dayofweek('timestamp'))\\\n",
        "    .where(F.col('action') == \"click\")\\\n",
        "    .groupBy('day_of_week')\\\n",
        "    .count()\\\n",
        "    .orderBy(F.desc('count'))\\\n",
        "    .collect()\n",
        "\n",
        "print(\"\\n\")\n",
        "for row in result:\n",
        "    print(f\"{row['count']}: {row['day_of_week']}\")"
      ],
      "metadata": {
        "colab": {
          "base_uri": "https://localhost:8080/"
        },
        "id": "7hSue8UEI215",
        "outputId": "8ae9ea15-ef40-46f7-f124-91721d3808fb"
      },
      "execution_count": null,
      "outputs": [
        {
          "output_type": "stream",
          "name": "stdout",
          "text": [
            "\n",
            "\n",
            "27918: 6\n",
            "25424: 7\n",
            "25028: 2\n",
            "25027: 5\n",
            "25020: 1\n",
            "24973: 3\n",
            "24915: 4\n"
          ]
        }
      ]
    },
    {
      "cell_type": "markdown",
      "metadata": {
        "id": "SIPdOgdzuDeJ"
      },
      "source": [
        "## Resposta Atividade 6\n",
        "\n",
        "Algum anúncio teve um crescimento de clicks ao longo das 3 campanhas?\n",
        "\n",
        "**Resposta:**  \n",
        "Sim, o anúncio adId_07"
      ]
    },
    {
      "cell_type": "code",
      "execution_count": null,
      "metadata": {
        "id": "C4mWx0ubuDeJ"
      },
      "outputs": [],
      "source": [
        "# ESCREVA SEU CÓDIGO AQUI"
      ]
    },
    {
      "cell_type": "code",
      "source": [
        "df.show(3)"
      ],
      "metadata": {
        "colab": {
          "base_uri": "https://localhost:8080/"
        },
        "id": "NaJMpNcqJXt9",
        "outputId": "bf0ceade-f8c3-40ae-9149-1c65867be576"
      },
      "execution_count": null,
      "outputs": [
        {
          "output_type": "stream",
          "name": "stdout",
          "text": [
            "+-------------------+--------------------+------+-------+-------------+\n",
            "|          timestamp|             user_id|action|   adId|   campaignId|\n",
            "+-------------------+--------------------+------+-------+-------------+\n",
            "|2016-09-21 22:11:00|7c74953c-66cc-48b...| click|adId_09|campaignId_01|\n",
            "|2016-06-25 18:29:00|676a083e-2f8e-4ff...|  view|adId_09|campaignId_02|\n",
            "|2016-02-14 19:03:00|77158997-0dfa-48b...| click|adId_02|campaignId_02|\n",
            "+-------------------+--------------------+------+-------+-------------+\n",
            "only showing top 3 rows\n",
            "\n"
          ]
        }
      ]
    },
    {
      "cell_type": "code",
      "source": [
        "df.select('adId').distinct().count()"
      ],
      "metadata": {
        "colab": {
          "base_uri": "https://localhost:8080/"
        },
        "id": "j4CwNYSaJYts",
        "outputId": "1ebf2106-4f3b-4daa-da96-6792d337217f"
      },
      "execution_count": null,
      "outputs": [
        {
          "output_type": "execute_result",
          "data": {
            "text/plain": [
              "10"
            ]
          },
          "metadata": {},
          "execution_count": 22
        }
      ]
    },
    {
      "cell_type": "code",
      "source": [
        "df.select('campaignId').distinct().count()"
      ],
      "metadata": {
        "colab": {
          "base_uri": "https://localhost:8080/"
        },
        "id": "IMD8e6eVJq4s",
        "outputId": "735c110d-9ea7-4279-ec86-bb858072ab87"
      },
      "execution_count": null,
      "outputs": [
        {
          "output_type": "execute_result",
          "data": {
            "text/plain": [
              "3"
            ]
          },
          "metadata": {},
          "execution_count": 23
        }
      ]
    },
    {
      "cell_type": "code",
      "source": [
        "df.select('campaignId', 'adId').distinct().count()"
      ],
      "metadata": {
        "colab": {
          "base_uri": "https://localhost:8080/"
        },
        "id": "QL5UmjBvJsjH",
        "outputId": "7c29efff-66c6-4f66-ba8e-dabf7975a9be"
      },
      "execution_count": null,
      "outputs": [
        {
          "output_type": "execute_result",
          "data": {
            "text/plain": [
              "29"
            ]
          },
          "metadata": {},
          "execution_count": 24
        }
      ]
    },
    {
      "cell_type": "code",
      "source": [
        "ads_df = df.where(df['action'].like(\"click\"))\\\n",
        "    .groupBy('campaignId', 'adId')\\\n",
        "    .count()\\\n",
        "    .withColumnRenamed('count', 'clicks_count')\\\n",
        "    .groupBy('adId')\\\n",
        "    .pivot('campaignId')\\\n",
        "    .sum('clicks_count')\\\n",
        "    .na.fill(0)\\\n",
        "    .orderBy('adId')\n",
        "ads_df.show()"
      ],
      "metadata": {
        "colab": {
          "base_uri": "https://localhost:8080/"
        },
        "id": "j1sdY5WcJt05",
        "outputId": "fc3794a2-6303-48ea-d045-4fd1069104a1"
      },
      "execution_count": null,
      "outputs": [
        {
          "output_type": "stream",
          "name": "stdout",
          "text": [
            "+-------+-------------+-------------+-------------+\n",
            "|   adId|campaignId_01|campaignId_02|campaignId_03|\n",
            "+-------+-------------+-------------+-------------+\n",
            "|adId_01|         5156|         6452|         5361|\n",
            "|adId_02|         5073|         7423|         6509|\n",
            "|adId_03|         5719|         7046|         5197|\n",
            "|adId_04|         5025|         7023|         6348|\n",
            "|adId_05|         5518|         6815|         5818|\n",
            "|adId_06|         5533|         7923|         7074|\n",
            "|adId_07|         5287|         6909|         7081|\n",
            "|adId_08|         5451|         6900|         5689|\n",
            "|adId_09|         5529|         7492|         5857|\n",
            "|adId_10|         5084|            0|         6013|\n",
            "+-------+-------------+-------------+-------------+\n",
            "\n"
          ]
        }
      ]
    },
    {
      "cell_type": "code",
      "source": [
        "result_df = ads_df.where(\n",
        "    (ads_df['campaignId_01'] < ads_df['campaignId_02']) &\\\n",
        "    (ads_df['campaignId_02'] < ads_df['campaignId_03'])\n",
        ")\n",
        "result_df.show()"
      ],
      "metadata": {
        "colab": {
          "base_uri": "https://localhost:8080/"
        },
        "id": "BSaYFtRuJwDo",
        "outputId": "d2ed7fdc-e4db-4dfe-a75b-e1454bbcf3d9"
      },
      "execution_count": null,
      "outputs": [
        {
          "output_type": "stream",
          "name": "stdout",
          "text": [
            "+-------+-------------+-------------+-------------+\n",
            "|   adId|campaignId_01|campaignId_02|campaignId_03|\n",
            "+-------+-------------+-------------+-------------+\n",
            "|adId_07|         5287|         6909|         7081|\n",
            "+-------+-------------+-------------+-------------+\n",
            "\n"
          ]
        }
      ]
    },
    {
      "cell_type": "code",
      "source": [
        "print(f\"Sim, o anúncio {result_df.select('adId').collect()[0]['adId']}\")"
      ],
      "metadata": {
        "colab": {
          "base_uri": "https://localhost:8080/"
        },
        "id": "EFbdYQ6rKA3t",
        "outputId": "cc445c26-0502-49ee-ddb3-9ee35ed4d1b9"
      },
      "execution_count": null,
      "outputs": [
        {
          "output_type": "stream",
          "name": "stdout",
          "text": [
            "Sim, o anúncio adId_07\n"
          ]
        }
      ]
    },
    {
      "cell_type": "code",
      "source": [],
      "metadata": {
        "id": "1-ukZJz6KD9v"
      },
      "execution_count": null,
      "outputs": []
    }
  ],
  "metadata": {
    "kernelspec": {
      "display_name": "Python 3 (ipykernel)",
      "language": "python",
      "name": "python3"
    },
    "language_info": {
      "codemirror_mode": {
        "name": "ipython",
        "version": 3
      },
      "file_extension": ".py",
      "mimetype": "text/x-python",
      "name": "python",
      "nbconvert_exporter": "python",
      "pygments_lexer": "ipython3",
      "version": "3.10.6"
    },
    "vscode": {
      "interpreter": {
        "hash": "7139dcf90d5768082c9bad5d386b1bf6282cf82ae7a6fa2f73493bf0beaef39e"
      }
    },
    "colab": {
      "provenance": [],
      "include_colab_link": true
    }
  },
  "nbformat": 4,
  "nbformat_minor": 0
}