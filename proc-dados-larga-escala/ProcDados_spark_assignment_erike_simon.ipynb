{
  "cells": [
    {
      "cell_type": "markdown",
      "metadata": {
        "id": "view-in-github",
        "colab_type": "text"
      },
      "source": [
        "<a href=\"https://colab.research.google.com/github/Erike-Simon/CESAR-AED/blob/main/ProcDados_spark_assignment_erike_simon.ipynb\" target=\"_parent\"><img src=\"https://colab.research.google.com/assets/colab-badge.svg\" alt=\"Open In Colab\"/></a>"
      ]
    },
    {
      "cell_type": "markdown",
      "source": [
        "**CESAR School Recife**\n",
        "\n",
        "**Disciplina:** *Processamento de Dados em Larga Escala*\n",
        "\n",
        "**Alunos:** *Erike Simon, José Aparecido*"
      ],
      "metadata": {
        "id": "ii4PlFpiUogF"
      }
    },
    {
      "cell_type": "code",
      "execution_count": null,
      "metadata": {
        "colab": {
          "base_uri": "https://localhost:8080/"
        },
        "id": "hnW-8Ws00H0A",
        "outputId": "daf37286-e15f-45cd-cf1b-cc5ea562f52a"
      },
      "outputs": [
        {
          "output_type": "stream",
          "name": "stdout",
          "text": [
            "Mounted at /content/drive\n"
          ]
        }
      ],
      "source": [
        "from google.colab import drive\n",
        "drive.mount('/content/drive')"
      ]
    },
    {
      "cell_type": "code",
      "execution_count": null,
      "metadata": {
        "colab": {
          "base_uri": "https://localhost:8080/"
        },
        "id": "8dYSgJ9E0IuB",
        "outputId": "61c2708d-796d-4209-da20-64d6cfdd5163"
      },
      "outputs": [
        {
          "output_type": "stream",
          "name": "stdout",
          "text": [
            "Collecting pyspark\n",
            "  Downloading pyspark-3.5.0.tar.gz (316.9 MB)\n",
            "\u001b[2K     \u001b[90m━━━━━━━━━━━━━━━━━━━━━━━━━━━━━━━━━━━━━━━━\u001b[0m \u001b[32m316.9/316.9 MB\u001b[0m \u001b[31m4.4 MB/s\u001b[0m eta \u001b[36m0:00:00\u001b[0m\n",
            "\u001b[?25h  Preparing metadata (setup.py) ... \u001b[?25l\u001b[?25hdone\n",
            "Requirement already satisfied: py4j==0.10.9.7 in /usr/local/lib/python3.10/dist-packages (from pyspark) (0.10.9.7)\n",
            "Building wheels for collected packages: pyspark\n",
            "  Building wheel for pyspark (setup.py) ... \u001b[?25l\u001b[?25hdone\n",
            "  Created wheel for pyspark: filename=pyspark-3.5.0-py2.py3-none-any.whl size=317425345 sha256=b23c7b39164e5378b38063c3de5caa7f2ce04927de4de3be7b5cb1ea01da9d47\n",
            "  Stored in directory: /root/.cache/pip/wheels/41/4e/10/c2cf2467f71c678cfc8a6b9ac9241e5e44a01940da8fbb17fc\n",
            "Successfully built pyspark\n",
            "Installing collected packages: pyspark\n",
            "Successfully installed pyspark-3.5.0\n"
          ]
        }
      ],
      "source": [
        "!pip install --upgrade pyspark"
      ]
    },
    {
      "cell_type": "markdown",
      "metadata": {
        "id": "PRo2o_RlzwLJ",
        "tags": []
      },
      "source": [
        "## Sobre os dados\n",
        "\n",
        "O arquivo CSV contém eventos 'click' ou 'view' no tempo, de usuários em anúncios de determinadas campanhas.\n",
        "\n",
        "**Descrição das colunas:**  \n",
        "timestamp,user_id,action,adId,campaignId\n",
        "\n",
        "**Amostra:**  \n",
        "2016-09-21 22:11:00,7c74953c-66cc-48bd-9d02-a02bf039cf3f,click,adId_09,campaignId_01  \n",
        "2016-06-25 18:29:00,676a083e-2f8e-4ff2-9ec2-270f7f9d6033,view,adId_09,campaignId_02  \n",
        "2016-02-14 19:03:00,77158997-0dfa-48b7-9149-973dc151ef8d,click,adId_02,campaignId_02  \n",
        "2016-03-26 06:27:00,78aa2467-b502-413b-94e9-04ec8210bd13,click,adId_07,campaignId_03\n",
        "\n",
        "**Nome do arquivo CSV:**  \n",
        "data/ad_action.csv\n",
        "\n",
        "## Sobre as questões\n",
        "\n",
        "As questões devem ser respondidas usando alguma API da tecnologia Spark, exceto a API \"Pandas API on Spark\".\n",
        "\n",
        "Quando utilizar uma action do Spark tenha cuidado para evitar estouro de memória, sempre imaginado que vai executar o código com uma grande massa de dados.\n",
        "\n",
        "Mesmo que não consiga terminar alguma questão, favor enviar, porque parte do código pode valer alguma pontuação."
      ]
    },
    {
      "cell_type": "code",
      "execution_count": null,
      "metadata": {
        "id": "EcjBEz3DzwLK"
      },
      "outputs": [],
      "source": [
        "import os\n",
        "import pyspark.sql.functions as F\n",
        "import pyspark.sql.types as T\n",
        "\n",
        "from pyspark.sql import SparkSession\n",
        "\n",
        "os.environ['PYSPARK_SUBMIT_ARGS'] = '\\\n",
        "    --driver-memory 2G \\\n",
        "    --executor-memory 2G \\\n",
        "    pyspark-shell'"
      ]
    },
    {
      "cell_type": "code",
      "source": [
        "ROOT_DATA_PATH = 'drive/MyDrive/Colab Notebooks/proc-dados-larga-escala/data/ad_action.csv'"
      ],
      "metadata": {
        "id": "rs_cRW6RsC09"
      },
      "execution_count": null,
      "outputs": []
    },
    {
      "cell_type": "code",
      "execution_count": null,
      "metadata": {
        "colab": {
          "base_uri": "https://localhost:8080/"
        },
        "id": "lmpgh_4tzwLM",
        "outputId": "17359787-dcdc-455f-c9bf-49a8bef273a0"
      },
      "outputs": [
        {
          "output_type": "stream",
          "name": "stdout",
          "text": [
            "root\n",
            " |-- timestamp: timestamp (nullable = true)\n",
            " |-- user_id: string (nullable = true)\n",
            " |-- action: string (nullable = true)\n",
            " |-- adId: string (nullable = true)\n",
            " |-- campaignId: string (nullable = true)\n",
            "\n"
          ]
        }
      ],
      "source": [
        "spark = SparkSession.builder\\\n",
        "    .master(\"local[*]\")\\\n",
        "    .getOrCreate()\n",
        "data_spark = spark.read.csv(ROOT_DATA_PATH, header=False, inferSchema=True)\\\n",
        "    .toDF('timestamp', 'user_id', 'action', 'adId', 'campaignId')\n",
        "data_spark.printSchema()"
      ]
    },
    {
      "cell_type": "code",
      "execution_count": null,
      "metadata": {
        "colab": {
          "base_uri": "https://localhost:8080/"
        },
        "id": "eLqiReZRzwLM",
        "outputId": "ae50e0b5-96ce-4dbb-c89f-a1d8ea2d7dbf"
      },
      "outputs": [
        {
          "output_type": "stream",
          "name": "stdout",
          "text": [
            "+-------------------+--------------------+------+-------+-------------+\n",
            "|          timestamp|             user_id|action|   adId|   campaignId|\n",
            "+-------------------+--------------------+------+-------+-------------+\n",
            "|2016-09-21 22:11:00|7c74953c-66cc-48b...| click|adId_09|campaignId_01|\n",
            "|2016-06-25 18:29:00|676a083e-2f8e-4ff...|  view|adId_09|campaignId_02|\n",
            "|2016-02-14 19:03:00|77158997-0dfa-48b...| click|adId_02|campaignId_02|\n",
            "|2016-03-26 06:27:00|78aa2467-b502-413...| click|adId_07|campaignId_03|\n",
            "|2016-01-02 04:57:00|fef9a98c-d73e-48e...|  view|adId_02|campaignId_02|\n",
            "+-------------------+--------------------+------+-------+-------------+\n",
            "only showing top 5 rows\n",
            "\n"
          ]
        }
      ],
      "source": [
        "data_spark.show(5)"
      ]
    },
    {
      "cell_type": "code",
      "execution_count": null,
      "metadata": {
        "id": "9GrlpcQUzwLM"
      },
      "outputs": [],
      "source": [
        "# Descomente e execute para desligar clusters\n",
        "\n",
        "#spark.stop()"
      ]
    },
    {
      "cell_type": "markdown",
      "metadata": {
        "id": "CA2RGbCkzwLN"
      },
      "source": [
        "## 1) Quais são as top 3 campanhas que geraram mais eventos? Ordene pela quantidade de eventos (2,5 pontos)"
      ]
    },
    {
      "cell_type": "code",
      "source": [
        "data_spark.groupBy('campaignId')\\\n",
        "    .count()\\\n",
        "    .withColumnRenamed('count', 'event_count')\\\n",
        "    .orderBy(F.desc('event_count'))\\\n",
        "    .show()"
      ],
      "metadata": {
        "colab": {
          "base_uri": "https://localhost:8080/"
        },
        "id": "7BzwfDeIUrk_",
        "outputId": "782cf9e0-6144-48e3-8b70-2293f7cbcae1"
      },
      "execution_count": null,
      "outputs": [
        {
          "output_type": "stream",
          "name": "stdout",
          "text": [
            "+-------------+-----------+\n",
            "|   campaignId|event_count|\n",
            "+-------------+-----------+\n",
            "|campaignId_02|      91216|\n",
            "|campaignId_03|      87036|\n",
            "|campaignId_01|      76461|\n",
            "+-------------+-----------+\n",
            "\n"
          ]
        }
      ]
    },
    {
      "cell_type": "markdown",
      "source": [
        "**Resposta:**\n",
        "\n",
        "1. Agrupamos por *'campaignId'* e contamos as ocorrências;\n",
        "2. Renomeamos a coluna da contagem para *'event_count'*;\n",
        "3. Ordenamos os valores de contagem por *'event_count'*.\n",
        "\n",
        "Resultado:\n",
        "1. campaignId_02  ->  91216\n",
        "2. campaignId_03  ->  87036\n",
        "3. campaignId_01  ->  76461\n",
        "\n",
        "Sendo a campanha 2 a mais popular entre as 3."
      ],
      "metadata": {
        "id": "yYZ0suasZraZ"
      }
    },
    {
      "cell_type": "markdown",
      "metadata": {
        "id": "Q6EdfAT5zwLN"
      },
      "source": [
        "## 2) Qual campanha teve mais clicks? (2,5 pontos)"
      ]
    },
    {
      "cell_type": "code",
      "source": [
        "# Número total de registros do dataset\n",
        "data_spark.count()"
      ],
      "metadata": {
        "colab": {
          "base_uri": "https://localhost:8080/"
        },
        "id": "w1xFLGVyZYWM",
        "outputId": "d094dcca-653c-4815-b2aa-d982235d03ff"
      },
      "execution_count": null,
      "outputs": [
        {
          "output_type": "execute_result",
          "data": {
            "text/plain": [
              "254713"
            ]
          },
          "metadata": {},
          "execution_count": 14
        }
      ]
    },
    {
      "cell_type": "code",
      "source": [
        "# Filtrando apenas os clicks\n",
        "\n",
        "clicks_df = data_spark.where(F.col('action') == 'click')\n",
        "clicks_df.count()"
      ],
      "metadata": {
        "colab": {
          "base_uri": "https://localhost:8080/"
        },
        "id": "gYM_Z31DYd0P",
        "outputId": "ccf6c910-79ad-45d8-99c5-25a32e562363"
      },
      "execution_count": null,
      "outputs": [
        {
          "output_type": "execute_result",
          "data": {
            "text/plain": [
              "178305"
            ]
          },
          "metadata": {},
          "execution_count": 20
        }
      ]
    },
    {
      "cell_type": "code",
      "source": [
        "# Filtrando apenas os views\n",
        "\n",
        "views_df = data_spark.where(F.col('action') == 'view')\n",
        "views_df.count()"
      ],
      "metadata": {
        "colab": {
          "base_uri": "https://localhost:8080/"
        },
        "id": "EcRq9GdqZsWx",
        "outputId": "75bb42f5-ad86-4d31-ef88-286f6af20c4f"
      },
      "execution_count": null,
      "outputs": [
        {
          "output_type": "execute_result",
          "data": {
            "text/plain": [
              "76408"
            ]
          },
          "metadata": {},
          "execution_count": 18
        }
      ]
    },
    {
      "cell_type": "code",
      "source": [
        "data_spark.where(F.col('action') == 'click')\\\n",
        "    .groupBy('campaignId')\\\n",
        "    .count()\\\n",
        "    .withColumnRenamed('count', 'event_count')\\\n",
        "    .orderBy(F.desc('event_count'))\\\n",
        "    .show()"
      ],
      "metadata": {
        "colab": {
          "base_uri": "https://localhost:8080/"
        },
        "id": "c51kdpTcaMQb",
        "outputId": "75f17c7d-4923-4fb1-8ebc-c2fb1dde6f90"
      },
      "execution_count": null,
      "outputs": [
        {
          "output_type": "stream",
          "name": "stdout",
          "text": [
            "+-------------+-----------+\n",
            "|   campaignId|event_count|\n",
            "+-------------+-----------+\n",
            "|campaignId_02|      63983|\n",
            "|campaignId_03|      60947|\n",
            "|campaignId_01|      53375|\n",
            "+-------------+-----------+\n",
            "\n"
          ]
        }
      ]
    },
    {
      "cell_type": "markdown",
      "source": [
        "**Resposta:**\n",
        "\n",
        "1. Filtramos os registros que possuem 'action' = 'click';\n",
        "2. Agrupamos por 'campaignId' e contamos a quantidade de eventos;\n",
        "3. Renomeamos a coluna da contagem e ordenamos os dados por ela.\n",
        "\n",
        "Resultado:\n",
        "1. campaignId_02 -> 63983\n",
        "2. campaignId_03 -> 60947\n",
        "3. campaignId_01 -> 53375\n",
        "\n",
        "A **campanha 2** teve mais clicks em relação as demais.\n"
      ],
      "metadata": {
        "id": "I1rNtoE2cErx"
      }
    },
    {
      "cell_type": "markdown",
      "metadata": {
        "id": "wKq5FGX4zwLN"
      },
      "source": [
        "## 3) Qual mês teve o maior total de eventos acumulado? (2,5 pontos)"
      ]
    },
    {
      "cell_type": "code",
      "source": [
        "from pyspark.sql.functions import month, year"
      ],
      "metadata": {
        "id": "rR0dTM6Decqi"
      },
      "execution_count": null,
      "outputs": []
    },
    {
      "cell_type": "markdown",
      "source": [
        "Todos os dados se referem a um mesmo ano?"
      ],
      "metadata": {
        "id": "lERwSTX2m-BN"
      }
    },
    {
      "cell_type": "code",
      "source": [
        "data_spark.count()"
      ],
      "metadata": {
        "colab": {
          "base_uri": "https://localhost:8080/"
        },
        "id": "2H4yjqHUn_UH",
        "outputId": "78f07e59-4de9-489e-bbff-4a7714907547"
      },
      "execution_count": null,
      "outputs": [
        {
          "output_type": "execute_result",
          "data": {
            "text/plain": [
              "254713"
            ]
          },
          "metadata": {},
          "execution_count": 63
        }
      ]
    },
    {
      "cell_type": "code",
      "source": [
        "data_spark.groupBy(year('timestamp').alias('year')).count().show()"
      ],
      "metadata": {
        "colab": {
          "base_uri": "https://localhost:8080/"
        },
        "id": "bCLxutP7jJRG",
        "outputId": "c725270f-b5ad-4846-a94b-d82a0302e0b8"
      },
      "execution_count": null,
      "outputs": [
        {
          "output_type": "stream",
          "name": "stdout",
          "text": [
            "+----+------+\n",
            "|year| count|\n",
            "+----+------+\n",
            "|2016|254713|\n",
            "+----+------+\n",
            "\n"
          ]
        }
      ]
    },
    {
      "cell_type": "markdown",
      "source": [
        "Todos os eventos são do mesmo ano, logo podemos fazer o agrupamento diretamente pelo mês."
      ],
      "metadata": {
        "id": "r1uphGJqoAlm"
      }
    },
    {
      "cell_type": "code",
      "source": [
        "df_task = data_spark.groupBy(month('timestamp').alias('month'))\\\n",
        "    .count()\\\n",
        "    .cache()\n",
        "\n",
        "df_task.toPandas()"
      ],
      "metadata": {
        "colab": {
          "base_uri": "https://localhost:8080/",
          "height": 425
        },
        "id": "NfXegjkzeOqD",
        "outputId": "01745839-45dc-4daf-b5d5-3c342ca9b87f"
      },
      "execution_count": null,
      "outputs": [
        {
          "output_type": "execute_result",
          "data": {
            "text/plain": [
              "    month  count\n",
              "0      12  20297\n",
              "1       1  25800\n",
              "2       6  20657\n",
              "3       3  21377\n",
              "4       5  21224\n",
              "5       9  20627\n",
              "6       4  20558\n",
              "7       8  21362\n",
              "8       7  21183\n",
              "9      10  21363\n",
              "10     11  20646\n",
              "11      2  19619"
            ],
            "text/html": [
              "\n",
              "  <div id=\"df-6df6b3c7-65d1-4de5-ac52-ed5f6273c622\" class=\"colab-df-container\">\n",
              "    <div>\n",
              "<style scoped>\n",
              "    .dataframe tbody tr th:only-of-type {\n",
              "        vertical-align: middle;\n",
              "    }\n",
              "\n",
              "    .dataframe tbody tr th {\n",
              "        vertical-align: top;\n",
              "    }\n",
              "\n",
              "    .dataframe thead th {\n",
              "        text-align: right;\n",
              "    }\n",
              "</style>\n",
              "<table border=\"1\" class=\"dataframe\">\n",
              "  <thead>\n",
              "    <tr style=\"text-align: right;\">\n",
              "      <th></th>\n",
              "      <th>month</th>\n",
              "      <th>count</th>\n",
              "    </tr>\n",
              "  </thead>\n",
              "  <tbody>\n",
              "    <tr>\n",
              "      <th>0</th>\n",
              "      <td>12</td>\n",
              "      <td>20297</td>\n",
              "    </tr>\n",
              "    <tr>\n",
              "      <th>1</th>\n",
              "      <td>1</td>\n",
              "      <td>25800</td>\n",
              "    </tr>\n",
              "    <tr>\n",
              "      <th>2</th>\n",
              "      <td>6</td>\n",
              "      <td>20657</td>\n",
              "    </tr>\n",
              "    <tr>\n",
              "      <th>3</th>\n",
              "      <td>3</td>\n",
              "      <td>21377</td>\n",
              "    </tr>\n",
              "    <tr>\n",
              "      <th>4</th>\n",
              "      <td>5</td>\n",
              "      <td>21224</td>\n",
              "    </tr>\n",
              "    <tr>\n",
              "      <th>5</th>\n",
              "      <td>9</td>\n",
              "      <td>20627</td>\n",
              "    </tr>\n",
              "    <tr>\n",
              "      <th>6</th>\n",
              "      <td>4</td>\n",
              "      <td>20558</td>\n",
              "    </tr>\n",
              "    <tr>\n",
              "      <th>7</th>\n",
              "      <td>8</td>\n",
              "      <td>21362</td>\n",
              "    </tr>\n",
              "    <tr>\n",
              "      <th>8</th>\n",
              "      <td>7</td>\n",
              "      <td>21183</td>\n",
              "    </tr>\n",
              "    <tr>\n",
              "      <th>9</th>\n",
              "      <td>10</td>\n",
              "      <td>21363</td>\n",
              "    </tr>\n",
              "    <tr>\n",
              "      <th>10</th>\n",
              "      <td>11</td>\n",
              "      <td>20646</td>\n",
              "    </tr>\n",
              "    <tr>\n",
              "      <th>11</th>\n",
              "      <td>2</td>\n",
              "      <td>19619</td>\n",
              "    </tr>\n",
              "  </tbody>\n",
              "</table>\n",
              "</div>\n",
              "    <div class=\"colab-df-buttons\">\n",
              "\n",
              "  <div class=\"colab-df-container\">\n",
              "    <button class=\"colab-df-convert\" onclick=\"convertToInteractive('df-6df6b3c7-65d1-4de5-ac52-ed5f6273c622')\"\n",
              "            title=\"Convert this dataframe to an interactive table.\"\n",
              "            style=\"display:none;\">\n",
              "\n",
              "  <svg xmlns=\"http://www.w3.org/2000/svg\" height=\"24px\" viewBox=\"0 -960 960 960\">\n",
              "    <path d=\"M120-120v-720h720v720H120Zm60-500h600v-160H180v160Zm220 220h160v-160H400v160Zm0 220h160v-160H400v160ZM180-400h160v-160H180v160Zm440 0h160v-160H620v160ZM180-180h160v-160H180v160Zm440 0h160v-160H620v160Z\"/>\n",
              "  </svg>\n",
              "    </button>\n",
              "\n",
              "  <style>\n",
              "    .colab-df-container {\n",
              "      display:flex;\n",
              "      gap: 12px;\n",
              "    }\n",
              "\n",
              "    .colab-df-convert {\n",
              "      background-color: #E8F0FE;\n",
              "      border: none;\n",
              "      border-radius: 50%;\n",
              "      cursor: pointer;\n",
              "      display: none;\n",
              "      fill: #1967D2;\n",
              "      height: 32px;\n",
              "      padding: 0 0 0 0;\n",
              "      width: 32px;\n",
              "    }\n",
              "\n",
              "    .colab-df-convert:hover {\n",
              "      background-color: #E2EBFA;\n",
              "      box-shadow: 0px 1px 2px rgba(60, 64, 67, 0.3), 0px 1px 3px 1px rgba(60, 64, 67, 0.15);\n",
              "      fill: #174EA6;\n",
              "    }\n",
              "\n",
              "    .colab-df-buttons div {\n",
              "      margin-bottom: 4px;\n",
              "    }\n",
              "\n",
              "    [theme=dark] .colab-df-convert {\n",
              "      background-color: #3B4455;\n",
              "      fill: #D2E3FC;\n",
              "    }\n",
              "\n",
              "    [theme=dark] .colab-df-convert:hover {\n",
              "      background-color: #434B5C;\n",
              "      box-shadow: 0px 1px 3px 1px rgba(0, 0, 0, 0.15);\n",
              "      filter: drop-shadow(0px 1px 2px rgba(0, 0, 0, 0.3));\n",
              "      fill: #FFFFFF;\n",
              "    }\n",
              "  </style>\n",
              "\n",
              "    <script>\n",
              "      const buttonEl =\n",
              "        document.querySelector('#df-6df6b3c7-65d1-4de5-ac52-ed5f6273c622 button.colab-df-convert');\n",
              "      buttonEl.style.display =\n",
              "        google.colab.kernel.accessAllowed ? 'block' : 'none';\n",
              "\n",
              "      async function convertToInteractive(key) {\n",
              "        const element = document.querySelector('#df-6df6b3c7-65d1-4de5-ac52-ed5f6273c622');\n",
              "        const dataTable =\n",
              "          await google.colab.kernel.invokeFunction('convertToInteractive',\n",
              "                                                    [key], {});\n",
              "        if (!dataTable) return;\n",
              "\n",
              "        const docLinkHtml = 'Like what you see? Visit the ' +\n",
              "          '<a target=\"_blank\" href=https://colab.research.google.com/notebooks/data_table.ipynb>data table notebook</a>'\n",
              "          + ' to learn more about interactive tables.';\n",
              "        element.innerHTML = '';\n",
              "        dataTable['output_type'] = 'display_data';\n",
              "        await google.colab.output.renderOutput(dataTable, element);\n",
              "        const docLink = document.createElement('div');\n",
              "        docLink.innerHTML = docLinkHtml;\n",
              "        element.appendChild(docLink);\n",
              "      }\n",
              "    </script>\n",
              "  </div>\n",
              "\n",
              "\n",
              "<div id=\"df-3f82a311-3796-4d51-bb66-4ac8ac4c67fc\">\n",
              "  <button class=\"colab-df-quickchart\" onclick=\"quickchart('df-3f82a311-3796-4d51-bb66-4ac8ac4c67fc')\"\n",
              "            title=\"Suggest charts\"\n",
              "            style=\"display:none;\">\n",
              "\n",
              "<svg xmlns=\"http://www.w3.org/2000/svg\" height=\"24px\"viewBox=\"0 0 24 24\"\n",
              "     width=\"24px\">\n",
              "    <g>\n",
              "        <path d=\"M19 3H5c-1.1 0-2 .9-2 2v14c0 1.1.9 2 2 2h14c1.1 0 2-.9 2-2V5c0-1.1-.9-2-2-2zM9 17H7v-7h2v7zm4 0h-2V7h2v10zm4 0h-2v-4h2v4z\"/>\n",
              "    </g>\n",
              "</svg>\n",
              "  </button>\n",
              "\n",
              "<style>\n",
              "  .colab-df-quickchart {\n",
              "      --bg-color: #E8F0FE;\n",
              "      --fill-color: #1967D2;\n",
              "      --hover-bg-color: #E2EBFA;\n",
              "      --hover-fill-color: #174EA6;\n",
              "      --disabled-fill-color: #AAA;\n",
              "      --disabled-bg-color: #DDD;\n",
              "  }\n",
              "\n",
              "  [theme=dark] .colab-df-quickchart {\n",
              "      --bg-color: #3B4455;\n",
              "      --fill-color: #D2E3FC;\n",
              "      --hover-bg-color: #434B5C;\n",
              "      --hover-fill-color: #FFFFFF;\n",
              "      --disabled-bg-color: #3B4455;\n",
              "      --disabled-fill-color: #666;\n",
              "  }\n",
              "\n",
              "  .colab-df-quickchart {\n",
              "    background-color: var(--bg-color);\n",
              "    border: none;\n",
              "    border-radius: 50%;\n",
              "    cursor: pointer;\n",
              "    display: none;\n",
              "    fill: var(--fill-color);\n",
              "    height: 32px;\n",
              "    padding: 0;\n",
              "    width: 32px;\n",
              "  }\n",
              "\n",
              "  .colab-df-quickchart:hover {\n",
              "    background-color: var(--hover-bg-color);\n",
              "    box-shadow: 0 1px 2px rgba(60, 64, 67, 0.3), 0 1px 3px 1px rgba(60, 64, 67, 0.15);\n",
              "    fill: var(--button-hover-fill-color);\n",
              "  }\n",
              "\n",
              "  .colab-df-quickchart-complete:disabled,\n",
              "  .colab-df-quickchart-complete:disabled:hover {\n",
              "    background-color: var(--disabled-bg-color);\n",
              "    fill: var(--disabled-fill-color);\n",
              "    box-shadow: none;\n",
              "  }\n",
              "\n",
              "  .colab-df-spinner {\n",
              "    border: 2px solid var(--fill-color);\n",
              "    border-color: transparent;\n",
              "    border-bottom-color: var(--fill-color);\n",
              "    animation:\n",
              "      spin 1s steps(1) infinite;\n",
              "  }\n",
              "\n",
              "  @keyframes spin {\n",
              "    0% {\n",
              "      border-color: transparent;\n",
              "      border-bottom-color: var(--fill-color);\n",
              "      border-left-color: var(--fill-color);\n",
              "    }\n",
              "    20% {\n",
              "      border-color: transparent;\n",
              "      border-left-color: var(--fill-color);\n",
              "      border-top-color: var(--fill-color);\n",
              "    }\n",
              "    30% {\n",
              "      border-color: transparent;\n",
              "      border-left-color: var(--fill-color);\n",
              "      border-top-color: var(--fill-color);\n",
              "      border-right-color: var(--fill-color);\n",
              "    }\n",
              "    40% {\n",
              "      border-color: transparent;\n",
              "      border-right-color: var(--fill-color);\n",
              "      border-top-color: var(--fill-color);\n",
              "    }\n",
              "    60% {\n",
              "      border-color: transparent;\n",
              "      border-right-color: var(--fill-color);\n",
              "    }\n",
              "    80% {\n",
              "      border-color: transparent;\n",
              "      border-right-color: var(--fill-color);\n",
              "      border-bottom-color: var(--fill-color);\n",
              "    }\n",
              "    90% {\n",
              "      border-color: transparent;\n",
              "      border-bottom-color: var(--fill-color);\n",
              "    }\n",
              "  }\n",
              "</style>\n",
              "\n",
              "  <script>\n",
              "    async function quickchart(key) {\n",
              "      const quickchartButtonEl =\n",
              "        document.querySelector('#' + key + ' button');\n",
              "      quickchartButtonEl.disabled = true;  // To prevent multiple clicks.\n",
              "      quickchartButtonEl.classList.add('colab-df-spinner');\n",
              "      try {\n",
              "        const charts = await google.colab.kernel.invokeFunction(\n",
              "            'suggestCharts', [key], {});\n",
              "      } catch (error) {\n",
              "        console.error('Error during call to suggestCharts:', error);\n",
              "      }\n",
              "      quickchartButtonEl.classList.remove('colab-df-spinner');\n",
              "      quickchartButtonEl.classList.add('colab-df-quickchart-complete');\n",
              "    }\n",
              "    (() => {\n",
              "      let quickchartButtonEl =\n",
              "        document.querySelector('#df-3f82a311-3796-4d51-bb66-4ac8ac4c67fc button');\n",
              "      quickchartButtonEl.style.display =\n",
              "        google.colab.kernel.accessAllowed ? 'block' : 'none';\n",
              "    })();\n",
              "  </script>\n",
              "</div>\n",
              "    </div>\n",
              "  </div>\n"
            ]
          },
          "metadata": {},
          "execution_count": 42
        }
      ]
    },
    {
      "cell_type": "code",
      "source": [
        "df_task.orderBy(F.desc('count'))\\\n",
        "    .limit(1)\\\n",
        "    .toPandas()"
      ],
      "metadata": {
        "colab": {
          "base_uri": "https://localhost:8080/",
          "height": 81
        },
        "id": "GbD-08othOHD",
        "outputId": "eaadbe41-a7a3-40c0-eabc-78defe928bf8"
      },
      "execution_count": null,
      "outputs": [
        {
          "output_type": "execute_result",
          "data": {
            "text/plain": [
              "   month  count\n",
              "0      1  25800"
            ],
            "text/html": [
              "\n",
              "  <div id=\"df-d776f759-e4b0-44a9-9d83-a1b77655f0e5\" class=\"colab-df-container\">\n",
              "    <div>\n",
              "<style scoped>\n",
              "    .dataframe tbody tr th:only-of-type {\n",
              "        vertical-align: middle;\n",
              "    }\n",
              "\n",
              "    .dataframe tbody tr th {\n",
              "        vertical-align: top;\n",
              "    }\n",
              "\n",
              "    .dataframe thead th {\n",
              "        text-align: right;\n",
              "    }\n",
              "</style>\n",
              "<table border=\"1\" class=\"dataframe\">\n",
              "  <thead>\n",
              "    <tr style=\"text-align: right;\">\n",
              "      <th></th>\n",
              "      <th>month</th>\n",
              "      <th>count</th>\n",
              "    </tr>\n",
              "  </thead>\n",
              "  <tbody>\n",
              "    <tr>\n",
              "      <th>0</th>\n",
              "      <td>1</td>\n",
              "      <td>25800</td>\n",
              "    </tr>\n",
              "  </tbody>\n",
              "</table>\n",
              "</div>\n",
              "    <div class=\"colab-df-buttons\">\n",
              "\n",
              "  <div class=\"colab-df-container\">\n",
              "    <button class=\"colab-df-convert\" onclick=\"convertToInteractive('df-d776f759-e4b0-44a9-9d83-a1b77655f0e5')\"\n",
              "            title=\"Convert this dataframe to an interactive table.\"\n",
              "            style=\"display:none;\">\n",
              "\n",
              "  <svg xmlns=\"http://www.w3.org/2000/svg\" height=\"24px\" viewBox=\"0 -960 960 960\">\n",
              "    <path d=\"M120-120v-720h720v720H120Zm60-500h600v-160H180v160Zm220 220h160v-160H400v160Zm0 220h160v-160H400v160ZM180-400h160v-160H180v160Zm440 0h160v-160H620v160ZM180-180h160v-160H180v160Zm440 0h160v-160H620v160Z\"/>\n",
              "  </svg>\n",
              "    </button>\n",
              "\n",
              "  <style>\n",
              "    .colab-df-container {\n",
              "      display:flex;\n",
              "      gap: 12px;\n",
              "    }\n",
              "\n",
              "    .colab-df-convert {\n",
              "      background-color: #E8F0FE;\n",
              "      border: none;\n",
              "      border-radius: 50%;\n",
              "      cursor: pointer;\n",
              "      display: none;\n",
              "      fill: #1967D2;\n",
              "      height: 32px;\n",
              "      padding: 0 0 0 0;\n",
              "      width: 32px;\n",
              "    }\n",
              "\n",
              "    .colab-df-convert:hover {\n",
              "      background-color: #E2EBFA;\n",
              "      box-shadow: 0px 1px 2px rgba(60, 64, 67, 0.3), 0px 1px 3px 1px rgba(60, 64, 67, 0.15);\n",
              "      fill: #174EA6;\n",
              "    }\n",
              "\n",
              "    .colab-df-buttons div {\n",
              "      margin-bottom: 4px;\n",
              "    }\n",
              "\n",
              "    [theme=dark] .colab-df-convert {\n",
              "      background-color: #3B4455;\n",
              "      fill: #D2E3FC;\n",
              "    }\n",
              "\n",
              "    [theme=dark] .colab-df-convert:hover {\n",
              "      background-color: #434B5C;\n",
              "      box-shadow: 0px 1px 3px 1px rgba(0, 0, 0, 0.15);\n",
              "      filter: drop-shadow(0px 1px 2px rgba(0, 0, 0, 0.3));\n",
              "      fill: #FFFFFF;\n",
              "    }\n",
              "  </style>\n",
              "\n",
              "    <script>\n",
              "      const buttonEl =\n",
              "        document.querySelector('#df-d776f759-e4b0-44a9-9d83-a1b77655f0e5 button.colab-df-convert');\n",
              "      buttonEl.style.display =\n",
              "        google.colab.kernel.accessAllowed ? 'block' : 'none';\n",
              "\n",
              "      async function convertToInteractive(key) {\n",
              "        const element = document.querySelector('#df-d776f759-e4b0-44a9-9d83-a1b77655f0e5');\n",
              "        const dataTable =\n",
              "          await google.colab.kernel.invokeFunction('convertToInteractive',\n",
              "                                                    [key], {});\n",
              "        if (!dataTable) return;\n",
              "\n",
              "        const docLinkHtml = 'Like what you see? Visit the ' +\n",
              "          '<a target=\"_blank\" href=https://colab.research.google.com/notebooks/data_table.ipynb>data table notebook</a>'\n",
              "          + ' to learn more about interactive tables.';\n",
              "        element.innerHTML = '';\n",
              "        dataTable['output_type'] = 'display_data';\n",
              "        await google.colab.output.renderOutput(dataTable, element);\n",
              "        const docLink = document.createElement('div');\n",
              "        docLink.innerHTML = docLinkHtml;\n",
              "        element.appendChild(docLink);\n",
              "      }\n",
              "    </script>\n",
              "  </div>\n",
              "\n",
              "    </div>\n",
              "  </div>\n"
            ]
          },
          "metadata": {},
          "execution_count": 43
        }
      ]
    },
    {
      "cell_type": "markdown",
      "source": [
        "**Resposta:**\n",
        "\n",
        "1. Agrupamos pelos meses em *'timestamp'* e fizemos a contagem de eventos;\n",
        "2. Ordenamos pela contagem de eventos *'count'*;\n",
        "\n",
        "Resultado:\n",
        "\n",
        "O mês 1 do ano de 2016 teve mais eventos acumulados (25800)."
      ],
      "metadata": {
        "id": "JwPu2Zs1fGAs"
      }
    },
    {
      "cell_type": "markdown",
      "metadata": {
        "id": "AT-Lv9enzwLO"
      },
      "source": [
        "## 4) Nas situações onde existe um evento de view seguido de um evento de click criados pelo mesmo usuário no mesmo anúncio e campanha, quais são os 5 pares de anúncio e campanha com menores médias de tempo entre os dois eventos (2,5 pontos)"
      ]
    },
    {
      "cell_type": "code",
      "source": [
        "df_task = data_spark.orderBy('user_id', 'campaignId','adId', 'timestamp')\n",
        "df_task.show()"
      ],
      "metadata": {
        "colab": {
          "base_uri": "https://localhost:8080/"
        },
        "id": "p-G5g3-f7DLu",
        "outputId": "e6130893-fd66-41cb-ff00-66da1cecebfc"
      },
      "execution_count": null,
      "outputs": [
        {
          "output_type": "stream",
          "name": "stdout",
          "text": [
            "+-------------------+--------------------+------+-------+-------------+\n",
            "|          timestamp|             user_id|action|   adId|   campaignId|\n",
            "+-------------------+--------------------+------+-------+-------------+\n",
            "|2016-01-13 21:09:00|00023420-6ead-463...| click|adId_01|campaignId_01|\n",
            "|2016-01-14 09:30:00|00023420-6ead-463...| click|adId_01|campaignId_01|\n",
            "|2016-03-18 11:24:00|00023420-6ead-463...| click|adId_01|campaignId_01|\n",
            "|2016-03-18 18:25:00|00023420-6ead-463...| click|adId_01|campaignId_01|\n",
            "|2016-04-02 19:42:00|00023420-6ead-463...| click|adId_01|campaignId_01|\n",
            "|2016-04-03 13:12:00|00023420-6ead-463...|  view|adId_01|campaignId_01|\n",
            "|2016-04-03 20:50:00|00023420-6ead-463...| click|adId_01|campaignId_01|\n",
            "|2016-04-11 09:04:00|00023420-6ead-463...|  view|adId_01|campaignId_01|\n",
            "|2016-05-25 18:50:00|00023420-6ead-463...|  view|adId_01|campaignId_01|\n",
            "|2016-05-26 20:45:00|00023420-6ead-463...|  view|adId_01|campaignId_01|\n",
            "|2016-07-21 19:04:00|00023420-6ead-463...|  view|adId_01|campaignId_01|\n",
            "|2016-09-02 19:26:00|00023420-6ead-463...| click|adId_01|campaignId_01|\n",
            "|2016-09-02 19:34:00|00023420-6ead-463...| click|adId_01|campaignId_01|\n",
            "|2016-10-25 09:23:00|00023420-6ead-463...| click|adId_01|campaignId_01|\n",
            "|2016-12-01 19:36:00|00023420-6ead-463...|  view|adId_01|campaignId_01|\n",
            "|2016-12-01 20:42:00|00023420-6ead-463...| click|adId_01|campaignId_01|\n",
            "|2016-12-19 09:14:00|00023420-6ead-463...| click|adId_01|campaignId_01|\n",
            "|2016-12-19 19:12:00|00023420-6ead-463...| click|adId_01|campaignId_01|\n",
            "|2016-12-21 08:38:00|00023420-6ead-463...| click|adId_01|campaignId_01|\n",
            "|2016-12-22 08:35:00|00023420-6ead-463...| click|adId_01|campaignId_01|\n",
            "+-------------------+--------------------+------+-------+-------------+\n",
            "only showing top 20 rows\n",
            "\n"
          ]
        }
      ]
    },
    {
      "cell_type": "code",
      "source": [
        "df_task.select('action').count()"
      ],
      "metadata": {
        "colab": {
          "base_uri": "https://localhost:8080/"
        },
        "id": "jA3T9vwA3Bj3",
        "outputId": "f37db983-30c3-4769-b2b2-0f104edca35f"
      },
      "execution_count": null,
      "outputs": [
        {
          "output_type": "execute_result",
          "data": {
            "text/plain": [
              "254713"
            ]
          },
          "metadata": {},
          "execution_count": 7
        }
      ]
    },
    {
      "cell_type": "markdown",
      "source": [
        "Criando um novo dataset (df_helper) que irá conter uma nova coluna com os valores de 'action' deslocados 1 passo a frente. Ou seja, essa nova coluna conterá os valores das ações imediatamente anteriores de cada usuário."
      ],
      "metadata": {
        "id": "1-yRU5WbkY31"
      }
    },
    {
      "cell_type": "code",
      "source": [
        "from pyspark.sql.functions import lag, when, col\n",
        "from pyspark.sql.window import Window\n",
        "\n",
        "# Definindo a janela de ordenação\n",
        "window = Window.orderBy('user_id', 'campaignId', 'adId', 'timestamp')\n",
        "\n",
        "# Criando a coluna previous_event com ação anterior apenas quando as condições são atendidas\n",
        "df_helper = df_task.withColumn('previous_event',\n",
        "                               when(\n",
        "                                   ((lag(\"user_id\").over(window) == col(\"user_id\")) &\n",
        "                                    (lag(\"campaignId\").over(window) == col(\"campaignId\")) &\n",
        "                                    (lag(\"adId\").over(window) == col(\"adId\"))),\n",
        "                                   lag(\"action\").over(window)\n",
        "                               ).otherwise(None))\n",
        "\n",
        "# Criando a coluna next_event com ação posterior\n",
        "df_helper = df_helper.withColumn('next_event',\n",
        "                               when(\n",
        "                                   ((lag(\"user_id\", -1).over(window) == col(\"user_id\")) &\n",
        "                                    (lag(\"campaignId\", -1).over(window) == col(\"campaignId\")) &\n",
        "                                    (lag(\"adId\", -1).over(window) == col(\"adId\"))),\n",
        "                                   lag(\"action\", -1).over(window)\n",
        "                               ).otherwise(None))\n",
        "\n",
        "df_helper.show(40)"
      ],
      "metadata": {
        "colab": {
          "base_uri": "https://localhost:8080/"
        },
        "id": "X0-HNpZAtxOL",
        "outputId": "1cbaeccb-5681-49ad-c115-028511e63c5b"
      },
      "execution_count": null,
      "outputs": [
        {
          "output_type": "stream",
          "name": "stdout",
          "text": [
            "+-------------------+--------------------+------+-------+-------------+--------------+----------+\n",
            "|          timestamp|             user_id|action|   adId|   campaignId|previous_event|next_event|\n",
            "+-------------------+--------------------+------+-------+-------------+--------------+----------+\n",
            "|2016-01-13 21:09:00|00023420-6ead-463...| click|adId_01|campaignId_01|          NULL|     click|\n",
            "|2016-01-14 09:30:00|00023420-6ead-463...| click|adId_01|campaignId_01|         click|     click|\n",
            "|2016-03-18 11:24:00|00023420-6ead-463...| click|adId_01|campaignId_01|         click|     click|\n",
            "|2016-03-18 18:25:00|00023420-6ead-463...| click|adId_01|campaignId_01|         click|     click|\n",
            "|2016-04-02 19:42:00|00023420-6ead-463...| click|adId_01|campaignId_01|         click|      view|\n",
            "|2016-04-03 13:12:00|00023420-6ead-463...|  view|adId_01|campaignId_01|         click|     click|\n",
            "|2016-04-03 20:50:00|00023420-6ead-463...| click|adId_01|campaignId_01|          view|      view|\n",
            "|2016-04-11 09:04:00|00023420-6ead-463...|  view|adId_01|campaignId_01|         click|      view|\n",
            "|2016-05-25 18:50:00|00023420-6ead-463...|  view|adId_01|campaignId_01|          view|      view|\n",
            "|2016-05-26 20:45:00|00023420-6ead-463...|  view|adId_01|campaignId_01|          view|      view|\n",
            "|2016-07-21 19:04:00|00023420-6ead-463...|  view|adId_01|campaignId_01|          view|     click|\n",
            "|2016-09-02 19:26:00|00023420-6ead-463...| click|adId_01|campaignId_01|          view|     click|\n",
            "|2016-09-02 19:34:00|00023420-6ead-463...| click|adId_01|campaignId_01|         click|     click|\n",
            "|2016-10-25 09:23:00|00023420-6ead-463...| click|adId_01|campaignId_01|         click|      view|\n",
            "|2016-12-01 19:36:00|00023420-6ead-463...|  view|adId_01|campaignId_01|         click|     click|\n",
            "|2016-12-01 20:42:00|00023420-6ead-463...| click|adId_01|campaignId_01|          view|     click|\n",
            "|2016-12-19 09:14:00|00023420-6ead-463...| click|adId_01|campaignId_01|         click|     click|\n",
            "|2016-12-19 19:12:00|00023420-6ead-463...| click|adId_01|campaignId_01|         click|     click|\n",
            "|2016-12-21 08:38:00|00023420-6ead-463...| click|adId_01|campaignId_01|         click|     click|\n",
            "|2016-12-22 08:35:00|00023420-6ead-463...| click|adId_01|campaignId_01|         click|      NULL|\n",
            "|2016-02-09 09:57:00|000f0200-0918-414...|  view|adId_07|campaignId_03|          NULL|     click|\n",
            "|2016-04-01 10:16:00|000f0200-0918-414...| click|adId_07|campaignId_03|          view|     click|\n",
            "|2016-04-01 10:20:00|000f0200-0918-414...| click|adId_07|campaignId_03|         click|      view|\n",
            "|2016-09-20 21:14:00|000f0200-0918-414...|  view|adId_07|campaignId_03|         click|     click|\n",
            "|2016-10-18 08:54:00|000f0200-0918-414...| click|adId_07|campaignId_03|          view|     click|\n",
            "|2016-10-18 10:35:00|000f0200-0918-414...| click|adId_07|campaignId_03|         click|     click|\n",
            "|2016-11-07 09:34:00|000f0200-0918-414...| click|adId_07|campaignId_03|         click|     click|\n",
            "|2016-11-08 21:00:00|000f0200-0918-414...| click|adId_07|campaignId_03|         click|     click|\n",
            "|2016-11-12 11:05:00|000f0200-0918-414...| click|adId_07|campaignId_03|         click|     click|\n",
            "|2016-12-29 20:52:00|000f0200-0918-414...| click|adId_07|campaignId_03|         click|      NULL|\n",
            "|2016-01-01 03:47:00|00130041-b283-415...| click|adId_08|campaignId_02|          NULL|     click|\n",
            "|2016-01-08 16:01:00|00130041-b283-415...| click|adId_08|campaignId_02|         click|     click|\n",
            "|2016-02-19 02:35:00|00130041-b283-415...| click|adId_08|campaignId_02|         click|     click|\n",
            "|2016-02-22 11:47:00|00130041-b283-415...| click|adId_08|campaignId_02|         click|     click|\n",
            "|2016-02-29 17:16:00|00130041-b283-415...| click|adId_08|campaignId_02|         click|      view|\n",
            "|2016-03-12 03:53:00|00130041-b283-415...|  view|adId_08|campaignId_02|         click|     click|\n",
            "|2016-03-12 11:24:00|00130041-b283-415...| click|adId_08|campaignId_02|          view|     click|\n",
            "|2016-04-07 16:49:00|00130041-b283-415...| click|adId_08|campaignId_02|         click|     click|\n",
            "|2016-05-03 20:42:00|00130041-b283-415...| click|adId_08|campaignId_02|         click|     click|\n",
            "|2016-06-17 09:07:00|00130041-b283-415...| click|adId_08|campaignId_02|         click|     click|\n",
            "+-------------------+--------------------+------+-------+-------------+--------------+----------+\n",
            "only showing top 40 rows\n",
            "\n"
          ]
        }
      ]
    },
    {
      "cell_type": "markdown",
      "source": [
        "Filtrar e ordenar as duplas de linhas onde:\n",
        "* A dupla de linhas deve ter o mesmo 'userId', o mesmo 'adId' e a mesma 'campaignId';\n",
        "* A primeira linha da dupla deve ter *'action' = 'view'*, *'previous_event'* pode ser igual a *'click'*, *'view'* ou *'NULL'* e *'next_event' = 'click'*;\n",
        "* A segunda linha da dupla deve ter 'action' = 'click', 'previous_event' = 'view' e *'previous_event'* pode ser igual a *'click'*, *'view'* ou *'NULL'*."
      ],
      "metadata": {
        "id": "F2HM1mt8yIwO"
      }
    },
    {
      "cell_type": "code",
      "source": [
        "from pyspark.sql import functions as F\n",
        "\n",
        "# Filtrar e ordenar as duplas de linhas\n",
        "filtered_df = df_helper.filter(((col(\"action\") == \"view\") & (col(\"next_event\") == \"click\")) |\n",
        "                               ((col(\"action\") == \"click\") & (col(\"previous_event\") == \"view\")))\\\n",
        "                               .orderBy(\"user_id\", \"adId\", \"campaignId\", \"timestamp\")\n",
        "\n",
        "filtered_df.show()"
      ],
      "metadata": {
        "colab": {
          "base_uri": "https://localhost:8080/"
        },
        "id": "dOILE3MQ0aN7",
        "outputId": "dbe93095-6e5c-4173-f3b0-1aa41ce588f1"
      },
      "execution_count": null,
      "outputs": [
        {
          "output_type": "stream",
          "name": "stdout",
          "text": [
            "+-------------------+--------------------+------+-------+-------------+--------------+----------+\n",
            "|          timestamp|             user_id|action|   adId|   campaignId|previous_event|next_event|\n",
            "+-------------------+--------------------+------+-------+-------------+--------------+----------+\n",
            "|2016-04-03 13:12:00|00023420-6ead-463...|  view|adId_01|campaignId_01|         click|     click|\n",
            "|2016-04-03 20:50:00|00023420-6ead-463...| click|adId_01|campaignId_01|          view|      view|\n",
            "|2016-07-21 19:04:00|00023420-6ead-463...|  view|adId_01|campaignId_01|          view|     click|\n",
            "|2016-09-02 19:26:00|00023420-6ead-463...| click|adId_01|campaignId_01|          view|     click|\n",
            "|2016-12-01 19:36:00|00023420-6ead-463...|  view|adId_01|campaignId_01|         click|     click|\n",
            "|2016-12-01 20:42:00|00023420-6ead-463...| click|adId_01|campaignId_01|          view|     click|\n",
            "|2016-02-09 09:57:00|000f0200-0918-414...|  view|adId_07|campaignId_03|          NULL|     click|\n",
            "|2016-04-01 10:16:00|000f0200-0918-414...| click|adId_07|campaignId_03|          view|     click|\n",
            "|2016-09-20 21:14:00|000f0200-0918-414...|  view|adId_07|campaignId_03|         click|     click|\n",
            "|2016-10-18 08:54:00|000f0200-0918-414...| click|adId_07|campaignId_03|          view|     click|\n",
            "|2016-03-12 03:53:00|00130041-b283-415...|  view|adId_08|campaignId_02|         click|     click|\n",
            "|2016-03-12 11:24:00|00130041-b283-415...| click|adId_08|campaignId_02|          view|     click|\n",
            "|2016-07-11 21:05:00|00130041-b283-415...|  view|adId_08|campaignId_02|         click|     click|\n",
            "|2016-07-12 06:51:00|00130041-b283-415...| click|adId_08|campaignId_02|          view|     click|\n",
            "|2016-08-12 14:41:00|00130041-b283-415...|  view|adId_08|campaignId_02|         click|     click|\n",
            "|2016-08-22 10:35:00|00130041-b283-415...| click|adId_08|campaignId_02|          view|      view|\n",
            "|2016-09-26 18:03:00|00130041-b283-415...|  view|adId_08|campaignId_02|         click|     click|\n",
            "|2016-09-28 00:33:00|00130041-b283-415...| click|adId_08|campaignId_02|          view|     click|\n",
            "|2016-11-25 08:14:00|00130041-b283-415...|  view|adId_08|campaignId_02|          view|     click|\n",
            "|2016-11-27 18:14:00|00130041-b283-415...| click|adId_08|campaignId_02|          view|      view|\n",
            "+-------------------+--------------------+------+-------+-------------+--------------+----------+\n",
            "only showing top 20 rows\n",
            "\n"
          ]
        }
      ]
    },
    {
      "cell_type": "markdown",
      "source": [
        "Criação da coluna temporal\n",
        "\n"
      ],
      "metadata": {
        "id": "L9qYX8l0p9Qp"
      }
    },
    {
      "cell_type": "code",
      "source": [
        "from pyspark.sql.functions import col, unix_timestamp\n",
        "\n",
        "# Converte as colunas de timestamp em segundos\n",
        "filtered_df = filtered_df.withColumn(\"timestamp_sec\", unix_timestamp(col(\"timestamp\")))\n",
        "\n",
        "# Adiciona uma coluna 'previous_timestamp_sec' usando a função lag\n",
        "filtered_df = filtered_df.withColumn(\"previous_timestamp_sec\", lag(\"timestamp_sec\").over(window))\n",
        "\n",
        "# Calcula a diferença de tempo entre os eventos de view e click\n",
        "filtered_df = filtered_df.withColumn(\"time_diff\",\n",
        "                   when(col(\"action\") == \"click\", col(\"timestamp_sec\") - col(\"previous_timestamp_sec\"))\n",
        "                   .otherwise(None))\n",
        "\n",
        "# Seleciona as colunas relevantes\n",
        "result = filtered_df.select(\"timestamp\", \"user_id\", \"action\", \"adId\", \"campaignId\", \"time_diff\")\n",
        "\n",
        "result.show()"
      ],
      "metadata": {
        "colab": {
          "base_uri": "https://localhost:8080/"
        },
        "id": "GdGl9OY9p4bp",
        "outputId": "ed6807c6-5fdf-4f85-b093-8e3fe805b838"
      },
      "execution_count": null,
      "outputs": [
        {
          "output_type": "stream",
          "name": "stdout",
          "text": [
            "+-------------------+--------------------+------+-------+-------------+---------+\n",
            "|          timestamp|             user_id|action|   adId|   campaignId|time_diff|\n",
            "+-------------------+--------------------+------+-------+-------------+---------+\n",
            "|2016-04-03 13:12:00|00023420-6ead-463...|  view|adId_01|campaignId_01|     NULL|\n",
            "|2016-04-03 20:50:00|00023420-6ead-463...| click|adId_01|campaignId_01|    27480|\n",
            "|2016-07-21 19:04:00|00023420-6ead-463...|  view|adId_01|campaignId_01|     NULL|\n",
            "|2016-09-02 19:26:00|00023420-6ead-463...| click|adId_01|campaignId_01|  3716520|\n",
            "|2016-12-01 19:36:00|00023420-6ead-463...|  view|adId_01|campaignId_01|     NULL|\n",
            "|2016-12-01 20:42:00|00023420-6ead-463...| click|adId_01|campaignId_01|     3960|\n",
            "|2016-02-09 09:57:00|000f0200-0918-414...|  view|adId_07|campaignId_03|     NULL|\n",
            "|2016-04-01 10:16:00|000f0200-0918-414...| click|adId_07|campaignId_03|  4493940|\n",
            "|2016-09-20 21:14:00|000f0200-0918-414...|  view|adId_07|campaignId_03|     NULL|\n",
            "|2016-10-18 08:54:00|000f0200-0918-414...| click|adId_07|campaignId_03|  2374800|\n",
            "|2016-03-12 03:53:00|00130041-b283-415...|  view|adId_08|campaignId_02|     NULL|\n",
            "|2016-03-12 11:24:00|00130041-b283-415...| click|adId_08|campaignId_02|    27060|\n",
            "|2016-07-11 21:05:00|00130041-b283-415...|  view|adId_08|campaignId_02|     NULL|\n",
            "|2016-07-12 06:51:00|00130041-b283-415...| click|adId_08|campaignId_02|    35160|\n",
            "|2016-08-12 14:41:00|00130041-b283-415...|  view|adId_08|campaignId_02|     NULL|\n",
            "|2016-08-22 10:35:00|00130041-b283-415...| click|adId_08|campaignId_02|   849240|\n",
            "|2016-09-26 18:03:00|00130041-b283-415...|  view|adId_08|campaignId_02|     NULL|\n",
            "|2016-09-28 00:33:00|00130041-b283-415...| click|adId_08|campaignId_02|   109800|\n",
            "|2016-11-25 08:14:00|00130041-b283-415...|  view|adId_08|campaignId_02|     NULL|\n",
            "|2016-11-27 18:14:00|00130041-b283-415...| click|adId_08|campaignId_02|   208800|\n",
            "+-------------------+--------------------+------+-------+-------------+---------+\n",
            "only showing top 20 rows\n",
            "\n"
          ]
        }
      ]
    },
    {
      "cell_type": "code",
      "source": [
        "result.count()"
      ],
      "metadata": {
        "colab": {
          "base_uri": "https://localhost:8080/"
        },
        "id": "qv15xE9z-u6l",
        "outputId": "16ea0854-6d48-4328-8063-577e00f5621a"
      },
      "execution_count": null,
      "outputs": [
        {
          "output_type": "execute_result",
          "data": {
            "text/plain": [
              "102772"
            ]
          },
          "metadata": {},
          "execution_count": 11
        }
      ]
    },
    {
      "cell_type": "markdown",
      "source": [
        "Note que os primeiros valores de cada dupla de linhas possuem valor NULL (linhas pares do dataset result 0, 2, 4,...). As linhas de interesse serão as ímpares (1, 3, 5,...), que possuem na coluna *'time_diff'* as diferenças de tempo entre os eventos de *'view'* e *'click'*. Portanto, filtraremos novamente o conjunto de dados."
      ],
      "metadata": {
        "id": "VhqU7-_fuJ25"
      }
    },
    {
      "cell_type": "code",
      "source": [
        "from pyspark.sql.functions import monotonically_increasing_id\n",
        "\n",
        "# Adiciona um índice às linhas\n",
        "df_with_index = result.withColumn(\"index\", monotonically_increasing_id())\n",
        "\n",
        "# Filtra apenas as linhas com índices ímpares\n",
        "filtered_df = df_with_index.filter((col(\"index\") % 2) == 1)\n",
        "\n",
        "# Seleciona apenas as colunas desejadas e exibir o resultado\n",
        "filtered_result = filtered_df.select(\"timestamp\", \"user_id\", \"action\", \"adId\", \"campaignId\", \"time_diff\")\n",
        "filtered_result.show()"
      ],
      "metadata": {
        "colab": {
          "base_uri": "https://localhost:8080/"
        },
        "id": "aLoNYjCxvt04",
        "outputId": "acff0d52-2ea2-45a2-dd9b-fc4bfd962b26"
      },
      "execution_count": null,
      "outputs": [
        {
          "output_type": "stream",
          "name": "stdout",
          "text": [
            "+-------------------+--------------------+------+-------+-------------+---------+\n",
            "|          timestamp|             user_id|action|   adId|   campaignId|time_diff|\n",
            "+-------------------+--------------------+------+-------+-------------+---------+\n",
            "|2016-04-03 20:50:00|00023420-6ead-463...| click|adId_01|campaignId_01|    27480|\n",
            "|2016-09-02 19:26:00|00023420-6ead-463...| click|adId_01|campaignId_01|  3716520|\n",
            "|2016-12-01 20:42:00|00023420-6ead-463...| click|adId_01|campaignId_01|     3960|\n",
            "|2016-04-01 10:16:00|000f0200-0918-414...| click|adId_07|campaignId_03|  4493940|\n",
            "|2016-10-18 08:54:00|000f0200-0918-414...| click|adId_07|campaignId_03|  2374800|\n",
            "|2016-03-12 11:24:00|00130041-b283-415...| click|adId_08|campaignId_02|    27060|\n",
            "|2016-07-12 06:51:00|00130041-b283-415...| click|adId_08|campaignId_02|    35160|\n",
            "|2016-08-22 10:35:00|00130041-b283-415...| click|adId_08|campaignId_02|   849240|\n",
            "|2016-09-28 00:33:00|00130041-b283-415...| click|adId_08|campaignId_02|   109800|\n",
            "|2016-11-27 18:14:00|00130041-b283-415...| click|adId_08|campaignId_02|   208800|\n",
            "|2016-12-21 03:52:00|00130041-b283-415...| click|adId_08|campaignId_02|    22740|\n",
            "|2016-03-07 11:00:00|00317295-4aa4-46e...| click|adId_05|campaignId_02|     4080|\n",
            "|2016-03-08 19:54:00|00317295-4aa4-46e...| click|adId_05|campaignId_02|    33780|\n",
            "|2016-09-21 09:38:00|00317295-4aa4-46e...| click|adId_05|campaignId_02|     3840|\n",
            "|2016-10-11 21:33:00|00317295-4aa4-46e...| click|adId_05|campaignId_02|  1515660|\n",
            "|2016-12-22 18:44:00|00317295-4aa4-46e...| click|adId_05|campaignId_02|    27060|\n",
            "|2016-03-11 21:12:00|0031aa2d-5988-402...| click|adId_03|campaignId_03|     2880|\n",
            "|2016-04-06 09:51:00|0031aa2d-5988-402...| click|adId_03|campaignId_03|    81240|\n",
            "|2016-04-10 21:08:00|0031aa2d-5988-402...| click|adId_03|campaignId_03|     6480|\n",
            "|2016-08-14 20:43:00|0031aa2d-5988-402...| click|adId_03|campaignId_03|   992760|\n",
            "+-------------------+--------------------+------+-------+-------------+---------+\n",
            "only showing top 20 rows\n",
            "\n"
          ]
        }
      ]
    },
    {
      "cell_type": "markdown",
      "source": [
        "Cálculo das médias temporais:\n",
        "\n",
        "1. Agrupar por usuário, campanha e anúncio;\n",
        "2. calcular as médias de tempos dos pares de anúncio e campanha pra cada usuário.\n",
        "\n",
        "\n",
        "\n"
      ],
      "metadata": {
        "id": "E0M1x0qtkKva"
      }
    },
    {
      "cell_type": "code",
      "source": [
        "from pyspark.sql import functions as F\n",
        "\n",
        "# Agrupa por usuário, anúncio e campanha e calcula as médias de tempos\n",
        "average_time = filtered_result.groupBy(\"user_id\", \"adId\", \"campaignId\").agg(F.avg(\"time_diff\").alias(\"avg_time\"))\n",
        "\n",
        "# Exibe o resultado\n",
        "average_time.show()"
      ],
      "metadata": {
        "colab": {
          "base_uri": "https://localhost:8080/"
        },
        "id": "nW9l1FuWk2nq",
        "outputId": "dde807a3-a2f9-4e3f-de60-61959ef13f36"
      },
      "execution_count": null,
      "outputs": [
        {
          "output_type": "stream",
          "name": "stdout",
          "text": [
            "+--------------------+-------+-------------+---------+\n",
            "|             user_id|   adId|   campaignId| avg_time|\n",
            "+--------------------+-------+-------------+---------+\n",
            "|00023420-6ead-463...|adId_01|campaignId_01|1249320.0|\n",
            "|000f0200-0918-414...|adId_07|campaignId_03|3434370.0|\n",
            "|00130041-b283-415...|adId_08|campaignId_02| 208800.0|\n",
            "|00317295-4aa4-46e...|adId_05|campaignId_02| 316884.0|\n",
            "|0031aa2d-5988-402...|adId_03|campaignId_03| 270840.0|\n",
            "|00355f85-a403-4fc...|adId_06|campaignId_03|3289350.0|\n",
            "|00430a3b-a186-460...|adId_09|campaignId_01| 731145.0|\n",
            "|00437ba9-82bd-41a...|adId_05|campaignId_01|1414980.0|\n",
            "|004c6259-a845-49e...|adId_05|campaignId_02|1794264.0|\n",
            "|004f82bf-4dc9-409...|adId_05|campaignId_03| 544884.0|\n",
            "|00553186-c886-4f6...|adId_05|campaignId_03|1210065.0|\n",
            "|0061c33e-b346-4c6...|adId_03|campaignId_02|1624680.0|\n",
            "|00640825-4c67-4ec...|adId_09|campaignId_01| 547335.0|\n",
            "|0070c25e-e658-4ff...|adId_07|campaignId_01| 483204.0|\n",
            "|0078bbc5-2db4-477...|adId_02|campaignId_01| 338570.0|\n",
            "|0080122b-4a48-4cc...|adId_05|campaignId_03| 963170.0|\n",
            "|0080dbd2-c266-402...|adId_03|campaignId_02|2265492.0|\n",
            "|0084fa62-ff04-4d2...|adId_09|campaignId_02|1210545.0|\n",
            "|00957140-cecc-444...|adId_06|campaignId_03|3581920.0|\n",
            "|0096b49a-fbb7-48c...|adId_05|campaignId_02|2804760.0|\n",
            "+--------------------+-------+-------------+---------+\n",
            "only showing top 20 rows\n",
            "\n"
          ]
        }
      ]
    },
    {
      "cell_type": "markdown",
      "source": [
        "Selecionando os 5 pares de anúncio e campanha com menores médias de tempo entre eventos de *view* e *click* para um mesmo usuário."
      ],
      "metadata": {
        "id": "MIeUjxo42QL0"
      }
    },
    {
      "cell_type": "code",
      "source": [
        "# Ordena o DataFrame pela coluna time_diff em ordem descendente\n",
        "sorted_df = average_time.orderBy(F.asc(\"avg_time\"))\n",
        "\n",
        "# Seleciona as 5 primeiras linhas\n",
        "top_5 = sorted_df.limit(5)\n",
        "top_5.toPandas()"
      ],
      "metadata": {
        "colab": {
          "base_uri": "https://localhost:8080/",
          "height": 206
        },
        "id": "ua4ynvoBxGHl",
        "outputId": "09c5af2b-23ea-40cc-f791-61cb22584905"
      },
      "execution_count": null,
      "outputs": [
        {
          "output_type": "execute_result",
          "data": {
            "text/plain": [
              "                                user_id     adId     campaignId  avg_time\n",
              "0  848eb13c-6881-45a3-bd62-05422be20cad  adId_05  campaignId_02     480.0\n",
              "1  f4db1c5e-7780-4beb-a36f-1322743d99d5  adId_05  campaignId_02     660.0\n",
              "2  e929e33e-791a-4b73-8a1b-63cc65238ecc  adId_10  campaignId_03     900.0\n",
              "3  28c5def5-3ede-4ead-ac85-13c1819ead4b  adId_01  campaignId_01     960.0\n",
              "4  c67d4a61-a911-4982-a685-33664bdcbd76  adId_06  campaignId_02    1140.0"
            ],
            "text/html": [
              "\n",
              "  <div id=\"df-a1c758bc-d78c-48b4-add4-6c3ac775de09\" class=\"colab-df-container\">\n",
              "    <div>\n",
              "<style scoped>\n",
              "    .dataframe tbody tr th:only-of-type {\n",
              "        vertical-align: middle;\n",
              "    }\n",
              "\n",
              "    .dataframe tbody tr th {\n",
              "        vertical-align: top;\n",
              "    }\n",
              "\n",
              "    .dataframe thead th {\n",
              "        text-align: right;\n",
              "    }\n",
              "</style>\n",
              "<table border=\"1\" class=\"dataframe\">\n",
              "  <thead>\n",
              "    <tr style=\"text-align: right;\">\n",
              "      <th></th>\n",
              "      <th>user_id</th>\n",
              "      <th>adId</th>\n",
              "      <th>campaignId</th>\n",
              "      <th>avg_time</th>\n",
              "    </tr>\n",
              "  </thead>\n",
              "  <tbody>\n",
              "    <tr>\n",
              "      <th>0</th>\n",
              "      <td>848eb13c-6881-45a3-bd62-05422be20cad</td>\n",
              "      <td>adId_05</td>\n",
              "      <td>campaignId_02</td>\n",
              "      <td>480.0</td>\n",
              "    </tr>\n",
              "    <tr>\n",
              "      <th>1</th>\n",
              "      <td>f4db1c5e-7780-4beb-a36f-1322743d99d5</td>\n",
              "      <td>adId_05</td>\n",
              "      <td>campaignId_02</td>\n",
              "      <td>660.0</td>\n",
              "    </tr>\n",
              "    <tr>\n",
              "      <th>2</th>\n",
              "      <td>e929e33e-791a-4b73-8a1b-63cc65238ecc</td>\n",
              "      <td>adId_10</td>\n",
              "      <td>campaignId_03</td>\n",
              "      <td>900.0</td>\n",
              "    </tr>\n",
              "    <tr>\n",
              "      <th>3</th>\n",
              "      <td>28c5def5-3ede-4ead-ac85-13c1819ead4b</td>\n",
              "      <td>adId_01</td>\n",
              "      <td>campaignId_01</td>\n",
              "      <td>960.0</td>\n",
              "    </tr>\n",
              "    <tr>\n",
              "      <th>4</th>\n",
              "      <td>c67d4a61-a911-4982-a685-33664bdcbd76</td>\n",
              "      <td>adId_06</td>\n",
              "      <td>campaignId_02</td>\n",
              "      <td>1140.0</td>\n",
              "    </tr>\n",
              "  </tbody>\n",
              "</table>\n",
              "</div>\n",
              "    <div class=\"colab-df-buttons\">\n",
              "\n",
              "  <div class=\"colab-df-container\">\n",
              "    <button class=\"colab-df-convert\" onclick=\"convertToInteractive('df-a1c758bc-d78c-48b4-add4-6c3ac775de09')\"\n",
              "            title=\"Convert this dataframe to an interactive table.\"\n",
              "            style=\"display:none;\">\n",
              "\n",
              "  <svg xmlns=\"http://www.w3.org/2000/svg\" height=\"24px\" viewBox=\"0 -960 960 960\">\n",
              "    <path d=\"M120-120v-720h720v720H120Zm60-500h600v-160H180v160Zm220 220h160v-160H400v160Zm0 220h160v-160H400v160ZM180-400h160v-160H180v160Zm440 0h160v-160H620v160ZM180-180h160v-160H180v160Zm440 0h160v-160H620v160Z\"/>\n",
              "  </svg>\n",
              "    </button>\n",
              "\n",
              "  <style>\n",
              "    .colab-df-container {\n",
              "      display:flex;\n",
              "      gap: 12px;\n",
              "    }\n",
              "\n",
              "    .colab-df-convert {\n",
              "      background-color: #E8F0FE;\n",
              "      border: none;\n",
              "      border-radius: 50%;\n",
              "      cursor: pointer;\n",
              "      display: none;\n",
              "      fill: #1967D2;\n",
              "      height: 32px;\n",
              "      padding: 0 0 0 0;\n",
              "      width: 32px;\n",
              "    }\n",
              "\n",
              "    .colab-df-convert:hover {\n",
              "      background-color: #E2EBFA;\n",
              "      box-shadow: 0px 1px 2px rgba(60, 64, 67, 0.3), 0px 1px 3px 1px rgba(60, 64, 67, 0.15);\n",
              "      fill: #174EA6;\n",
              "    }\n",
              "\n",
              "    .colab-df-buttons div {\n",
              "      margin-bottom: 4px;\n",
              "    }\n",
              "\n",
              "    [theme=dark] .colab-df-convert {\n",
              "      background-color: #3B4455;\n",
              "      fill: #D2E3FC;\n",
              "    }\n",
              "\n",
              "    [theme=dark] .colab-df-convert:hover {\n",
              "      background-color: #434B5C;\n",
              "      box-shadow: 0px 1px 3px 1px rgba(0, 0, 0, 0.15);\n",
              "      filter: drop-shadow(0px 1px 2px rgba(0, 0, 0, 0.3));\n",
              "      fill: #FFFFFF;\n",
              "    }\n",
              "  </style>\n",
              "\n",
              "    <script>\n",
              "      const buttonEl =\n",
              "        document.querySelector('#df-a1c758bc-d78c-48b4-add4-6c3ac775de09 button.colab-df-convert');\n",
              "      buttonEl.style.display =\n",
              "        google.colab.kernel.accessAllowed ? 'block' : 'none';\n",
              "\n",
              "      async function convertToInteractive(key) {\n",
              "        const element = document.querySelector('#df-a1c758bc-d78c-48b4-add4-6c3ac775de09');\n",
              "        const dataTable =\n",
              "          await google.colab.kernel.invokeFunction('convertToInteractive',\n",
              "                                                    [key], {});\n",
              "        if (!dataTable) return;\n",
              "\n",
              "        const docLinkHtml = 'Like what you see? Visit the ' +\n",
              "          '<a target=\"_blank\" href=https://colab.research.google.com/notebooks/data_table.ipynb>data table notebook</a>'\n",
              "          + ' to learn more about interactive tables.';\n",
              "        element.innerHTML = '';\n",
              "        dataTable['output_type'] = 'display_data';\n",
              "        await google.colab.output.renderOutput(dataTable, element);\n",
              "        const docLink = document.createElement('div');\n",
              "        docLink.innerHTML = docLinkHtml;\n",
              "        element.appendChild(docLink);\n",
              "      }\n",
              "    </script>\n",
              "  </div>\n",
              "\n",
              "\n",
              "<div id=\"df-d51e3e9c-5693-4a3b-aa36-8d414002927b\">\n",
              "  <button class=\"colab-df-quickchart\" onclick=\"quickchart('df-d51e3e9c-5693-4a3b-aa36-8d414002927b')\"\n",
              "            title=\"Suggest charts\"\n",
              "            style=\"display:none;\">\n",
              "\n",
              "<svg xmlns=\"http://www.w3.org/2000/svg\" height=\"24px\"viewBox=\"0 0 24 24\"\n",
              "     width=\"24px\">\n",
              "    <g>\n",
              "        <path d=\"M19 3H5c-1.1 0-2 .9-2 2v14c0 1.1.9 2 2 2h14c1.1 0 2-.9 2-2V5c0-1.1-.9-2-2-2zM9 17H7v-7h2v7zm4 0h-2V7h2v10zm4 0h-2v-4h2v4z\"/>\n",
              "    </g>\n",
              "</svg>\n",
              "  </button>\n",
              "\n",
              "<style>\n",
              "  .colab-df-quickchart {\n",
              "      --bg-color: #E8F0FE;\n",
              "      --fill-color: #1967D2;\n",
              "      --hover-bg-color: #E2EBFA;\n",
              "      --hover-fill-color: #174EA6;\n",
              "      --disabled-fill-color: #AAA;\n",
              "      --disabled-bg-color: #DDD;\n",
              "  }\n",
              "\n",
              "  [theme=dark] .colab-df-quickchart {\n",
              "      --bg-color: #3B4455;\n",
              "      --fill-color: #D2E3FC;\n",
              "      --hover-bg-color: #434B5C;\n",
              "      --hover-fill-color: #FFFFFF;\n",
              "      --disabled-bg-color: #3B4455;\n",
              "      --disabled-fill-color: #666;\n",
              "  }\n",
              "\n",
              "  .colab-df-quickchart {\n",
              "    background-color: var(--bg-color);\n",
              "    border: none;\n",
              "    border-radius: 50%;\n",
              "    cursor: pointer;\n",
              "    display: none;\n",
              "    fill: var(--fill-color);\n",
              "    height: 32px;\n",
              "    padding: 0;\n",
              "    width: 32px;\n",
              "  }\n",
              "\n",
              "  .colab-df-quickchart:hover {\n",
              "    background-color: var(--hover-bg-color);\n",
              "    box-shadow: 0 1px 2px rgba(60, 64, 67, 0.3), 0 1px 3px 1px rgba(60, 64, 67, 0.15);\n",
              "    fill: var(--button-hover-fill-color);\n",
              "  }\n",
              "\n",
              "  .colab-df-quickchart-complete:disabled,\n",
              "  .colab-df-quickchart-complete:disabled:hover {\n",
              "    background-color: var(--disabled-bg-color);\n",
              "    fill: var(--disabled-fill-color);\n",
              "    box-shadow: none;\n",
              "  }\n",
              "\n",
              "  .colab-df-spinner {\n",
              "    border: 2px solid var(--fill-color);\n",
              "    border-color: transparent;\n",
              "    border-bottom-color: var(--fill-color);\n",
              "    animation:\n",
              "      spin 1s steps(1) infinite;\n",
              "  }\n",
              "\n",
              "  @keyframes spin {\n",
              "    0% {\n",
              "      border-color: transparent;\n",
              "      border-bottom-color: var(--fill-color);\n",
              "      border-left-color: var(--fill-color);\n",
              "    }\n",
              "    20% {\n",
              "      border-color: transparent;\n",
              "      border-left-color: var(--fill-color);\n",
              "      border-top-color: var(--fill-color);\n",
              "    }\n",
              "    30% {\n",
              "      border-color: transparent;\n",
              "      border-left-color: var(--fill-color);\n",
              "      border-top-color: var(--fill-color);\n",
              "      border-right-color: var(--fill-color);\n",
              "    }\n",
              "    40% {\n",
              "      border-color: transparent;\n",
              "      border-right-color: var(--fill-color);\n",
              "      border-top-color: var(--fill-color);\n",
              "    }\n",
              "    60% {\n",
              "      border-color: transparent;\n",
              "      border-right-color: var(--fill-color);\n",
              "    }\n",
              "    80% {\n",
              "      border-color: transparent;\n",
              "      border-right-color: var(--fill-color);\n",
              "      border-bottom-color: var(--fill-color);\n",
              "    }\n",
              "    90% {\n",
              "      border-color: transparent;\n",
              "      border-bottom-color: var(--fill-color);\n",
              "    }\n",
              "  }\n",
              "</style>\n",
              "\n",
              "  <script>\n",
              "    async function quickchart(key) {\n",
              "      const quickchartButtonEl =\n",
              "        document.querySelector('#' + key + ' button');\n",
              "      quickchartButtonEl.disabled = true;  // To prevent multiple clicks.\n",
              "      quickchartButtonEl.classList.add('colab-df-spinner');\n",
              "      try {\n",
              "        const charts = await google.colab.kernel.invokeFunction(\n",
              "            'suggestCharts', [key], {});\n",
              "      } catch (error) {\n",
              "        console.error('Error during call to suggestCharts:', error);\n",
              "      }\n",
              "      quickchartButtonEl.classList.remove('colab-df-spinner');\n",
              "      quickchartButtonEl.classList.add('colab-df-quickchart-complete');\n",
              "    }\n",
              "    (() => {\n",
              "      let quickchartButtonEl =\n",
              "        document.querySelector('#df-d51e3e9c-5693-4a3b-aa36-8d414002927b button');\n",
              "      quickchartButtonEl.style.display =\n",
              "        google.colab.kernel.accessAllowed ? 'block' : 'none';\n",
              "    })();\n",
              "  </script>\n",
              "</div>\n",
              "    </div>\n",
              "  </div>\n"
            ],
            "application/vnd.google.colaboratory.intrinsic+json": {
              "type": "dataframe",
              "summary": "{\n  \"name\": \"top_5\",\n  \"rows\": 5,\n  \"fields\": [\n    {\n      \"column\": \"user_id\",\n      \"properties\": {\n        \"dtype\": \"string\",\n        \"samples\": [\n          \"f4db1c5e-7780-4beb-a36f-1322743d99d5\",\n          \"c67d4a61-a911-4982-a685-33664bdcbd76\",\n          \"e929e33e-791a-4b73-8a1b-63cc65238ecc\"\n        ],\n        \"num_unique_values\": 5,\n        \"semantic_type\": \"\",\n        \"description\": \"\"\n      }\n    },\n    {\n      \"column\": \"adId\",\n      \"properties\": {\n        \"dtype\": \"string\",\n        \"samples\": [\n          \"adId_10\",\n          \"adId_06\",\n          \"adId_05\"\n        ],\n        \"num_unique_values\": 4,\n        \"semantic_type\": \"\",\n        \"description\": \"\"\n      }\n    },\n    {\n      \"column\": \"campaignId\",\n      \"properties\": {\n        \"dtype\": \"string\",\n        \"samples\": [\n          \"campaignId_02\",\n          \"campaignId_03\",\n          \"campaignId_01\"\n        ],\n        \"num_unique_values\": 3,\n        \"semantic_type\": \"\",\n        \"description\": \"\"\n      }\n    },\n    {\n      \"column\": \"avg_time\",\n      \"properties\": {\n        \"dtype\": \"number\",\n        \"std\": 259.4609797252758,\n        \"min\": 480.0,\n        \"max\": 1140.0,\n        \"samples\": [\n          660.0,\n          1140.0,\n          900.0\n        ],\n        \"num_unique_values\": 5,\n        \"semantic_type\": \"\",\n        \"description\": \"\"\n      }\n    }\n  ]\n}"
            }
          },
          "metadata": {},
          "execution_count": 15
        }
      ]
    },
    {
      "cell_type": "markdown",
      "source": [
        "**Resposta:**\n",
        "\n",
        "\n",
        "Logo, os top 5 pares de anúncio e campanha com menores médias de tempo entre os eventos de *view* seguido por *click* estão presentes em `top_5`, exibido na celula anterior."
      ],
      "metadata": {
        "id": "mlJveAU65uh1"
      }
    }
  ],
  "metadata": {
    "colab": {
      "provenance": [],
      "include_colab_link": true
    },
    "kernelspec": {
      "display_name": "Python 3 (ipykernel)",
      "language": "python",
      "name": "python3"
    },
    "language_info": {
      "codemirror_mode": {
        "name": "ipython",
        "version": 3
      },
      "file_extension": ".py",
      "mimetype": "text/x-python",
      "name": "python",
      "nbconvert_exporter": "python",
      "pygments_lexer": "ipython3",
      "version": "3.10.6"
    }
  },
  "nbformat": 4,
  "nbformat_minor": 0
}