{
  "cells": [
    {
      "cell_type": "markdown",
      "metadata": {
        "id": "view-in-github",
        "colab_type": "text"
      },
      "source": [
        "<a href=\"https://colab.research.google.com/github/Erike-Simon/CESAR-AED/blob/main/MinText_desafio1.ipynb\" target=\"_parent\"><img src=\"https://colab.research.google.com/assets/colab-badge.svg\" alt=\"Open In Colab\"/></a>"
      ]
    },
    {
      "cell_type": "markdown",
      "metadata": {
        "id": "TRoixh-kbiAz"
      },
      "source": [
        "**CESAR School Recife**\n",
        "\n",
        "**Disciplina:** *Mineração de Textos*\n",
        "\n",
        "**Aluno:** *Erike Simon*"
      ]
    },
    {
      "cell_type": "markdown",
      "metadata": {
        "id": "uErQQBZebiA4"
      },
      "source": [
        "**Desafio 1:**\n",
        "\n",
        "Completar um texto com dados retirados da wiki, partindo do présuposto que ela é 100% confiável e atualizada (o que claramente não é).\n",
        "\n",
        "1. Usando o SELENIUN acesse a pagina: https://pt.wikipedia.org/\n",
        "2. Na bara de busca pesquise pelo termo \"cesar\" (em minúsculo)\n",
        "3. Na página que abrir, click no link do CESAR \"*Centro de Estudos e Sistemas Avançados do Recife, conhecido como Instituto CESAR*\"\n",
        "4. Com os dados da página colete as informações necessárias para completar corretamente o texto do print (a célula a baixo deve ficar por ultimo no teu notebook).\n",
        "\n",
        "\n",
        "**Dicas:**\n",
        "\n",
        "\n",
        "*   Para coletar os dados da página você pode usar qualquer lib, mas chegar até a página do CESAR na wiki ** deve ** ser pelo seleniin seguindo os passo dados\n",
        "*   Esse blog pode dar uma luz em como fazer, mas ele não diz exatamente o que fazer https://medium.com/hackerdawn/scraping-from-wikipedia-using-python-and-selenium-3d64af60975d"
      ]
    },
    {
      "cell_type": "markdown",
      "metadata": {
        "id": "cd3EF8BXbiA5"
      },
      "source": [
        "### Imports e configurações iniciais"
      ]
    },
    {
      "cell_type": "code",
      "execution_count": null,
      "metadata": {
        "id": "nW2pf4ZbbiA6"
      },
      "outputs": [],
      "source": [
        "# libraries\n",
        "from selenium import webdriver\n",
        "from bs4 import BeautifulSoup\n",
        "import pandas as pd\n",
        "import re\n",
        "from io import StringIO"
      ]
    },
    {
      "cell_type": "code",
      "execution_count": null,
      "metadata": {
        "id": "R_GIXvMmbiA9"
      },
      "outputs": [],
      "source": [
        "driver = webdriver.Chrome() # inicializando o WebDriver do Selenium para o Chrome, permitindo automação de interações com o navegador\n",
        "driver.get('https://pt.wikipedia.org/wiki/Centro_de_Estudos_e_Sistemas_Avançados_do_Recife') # abre a URL fornecida no navegador\n",
        "html = driver.page_source # O método 'page_source' do WebDriver obtém o código-fonte HTML da página carregada no navegador\n",
        "\n",
        "# cria o objeto 'beautifulsoup'\n",
        "soup = BeautifulSoup(html, 'html.parser') # 'html.parser' é o analisador"
      ]
    },
    {
      "cell_type": "markdown",
      "metadata": {
        "id": "hin7DjvBbiA-"
      },
      "source": [
        "*O objeto 'soup', que é uma representação estruturada do HTML da página da Wikipedia*"
      ]
    },
    {
      "cell_type": "markdown",
      "metadata": {
        "id": "qPfQL510biA_"
      },
      "source": [
        "### Obtendo as informações"
      ]
    },
    {
      "cell_type": "markdown",
      "metadata": {
        "id": "QRzYC8KYbiBB"
      },
      "source": [
        "Tipo"
      ]
    },
    {
      "cell_type": "code",
      "execution_count": null,
      "metadata": {
        "id": "a1bAvFskbiBC",
        "outputId": "486276a2-0c0e-47b0-f0c2-9db966e3c639"
      },
      "outputs": [
        {
          "name": "stdout",
          "output_type": "stream",
          "text": [
            "Tipo: Instituto de pesquisa sem fins lucrativos\n"
          ]
        }
      ],
      "source": [
        "# Tenta encontra diretamente a célula com a string 'Tipo' usando regex\n",
        "# O 're.compile' cria um padrão regex que ignora maiúsculas e minúsculas,\n",
        "# tornando mais tolerante variações no texto\n",
        "info1 = soup.find('td', string=re.compile(r'Tipo', re.IGNORECASE))\n",
        "\n",
        "# Inicializa a variável para armazenar o tipo\n",
        "tipo = None\n",
        "\n",
        "# Se encontrar, verifica e acessa o próximo irmão pelo método 'find_next_sibling' que contém o valor do tipo\n",
        "if info1:\n",
        "    proximo_irmao = info1.find_next_sibling('td')\n",
        "    if proximo_irmao:\n",
        "        tipo = proximo_irmao.get_text(strip=True) # 'get_text(strip=True) 'é usado para extrair o texto da célula,\n",
        "                                                  # removendo espaços em branco desnecessários\n",
        "\n",
        "print('Tipo:', tipo)"
      ]
    },
    {
      "cell_type": "markdown",
      "metadata": {
        "id": "IFEdiElzbiBE"
      },
      "source": [
        "Data de fundação"
      ]
    },
    {
      "cell_type": "code",
      "execution_count": null,
      "metadata": {
        "id": "yPflH_DvbiBF",
        "outputId": "d69abcf9-e424-47a1-8010-1b0f5c479753"
      },
      "outputs": [
        {
          "name": "stdout",
          "output_type": "stream",
          "text": [
            "Data de Fundação: 20 de maio de 1996 (27 anos)\n"
          ]
        }
      ],
      "source": [
        "info2 = soup.find('td', string=re.compile(r'Fundação', re.IGNORECASE))\n",
        "\n",
        "data_fundacao = None\n",
        "\n",
        "if info2:\n",
        "    proximo_irmao = info2.find_next_sibling('td')\n",
        "    if proximo_irmao:\n",
        "        # Obtêm o texto dentro da tag <td> e remove espaços extras com 'striped_stirngs'\n",
        "        data_fundacao = ' '.join(proximo_irmao.stripped_strings)\n",
        "\n",
        "print('Data de Fundação:', data_fundacao)"
      ]
    },
    {
      "cell_type": "markdown",
      "metadata": {
        "id": "iB36cOFPbiBF"
      },
      "source": [
        " *'stripped_strings' é usado para obter uma lista de strings dentro da tag 'td'*"
      ]
    },
    {
      "cell_type": "markdown",
      "metadata": {
        "id": "dScLcwWPbiBG"
      },
      "source": [
        "Fundadores"
      ]
    },
    {
      "cell_type": "code",
      "execution_count": null,
      "metadata": {
        "id": "lTUFCZ_0biBG",
        "outputId": "d0105212-cfc2-4d57-edc8-76e70066190a"
      },
      "outputs": [
        {
          "name": "stdout",
          "output_type": "stream",
          "text": [
            "Fundador 1: Silvio Meira\n",
            "Fundador 2: Fábio Silva\n",
            "Fundador 3: Ismar Kaufman\n"
          ]
        }
      ],
      "source": [
        "info3 = soup.find('td', string=re.compile(r'Fundadores', re.IGNORECASE))\n",
        "\n",
        "fundadores = None\n",
        "\n",
        "if info3:\n",
        "    proximo_irmao = info3.find_next_sibling('td')\n",
        "    if proximo_irmao:\n",
        "        fundadores = proximo_irmao.get_text(strip=True)\n",
        "\n",
        "# Separar os nomes dos fundadores em uma lista, com uma posição para cada\n",
        "nomes_fundadores = [nome.strip() for nome in re.split(r',| e ', fundadores)]\n",
        "\n",
        "# Atribuindo as variáveis\n",
        "fundador_01 = nomes_fundadores[0]\n",
        "fundador_02 = nomes_fundadores[1]\n",
        "fundador_03 = nomes_fundadores[2]\n",
        "\n",
        "print('Fundador 1:', fundador_01)\n",
        "print('Fundador 2:', fundador_02)\n",
        "print('Fundador 3:', fundador_03)\n"
      ]
    },
    {
      "cell_type": "markdown",
      "metadata": {
        "id": "HSd4z6MZbiBH"
      },
      "source": [
        "Local de fundação"
      ]
    },
    {
      "cell_type": "code",
      "execution_count": null,
      "metadata": {
        "id": "yyhJx6-GbiBH",
        "outputId": "56ba8d1c-f752-4e96-a472-961981962274"
      },
      "outputs": [
        {
          "name": "stdout",
          "output_type": "stream",
          "text": [
            "Local de fundação: Recife , PE\n"
          ]
        }
      ],
      "source": [
        "info4 = soup.find('td', string=re.compile(r'Sede', re.IGNORECASE))\n",
        "\n",
        "local_fundacao = None\n",
        "\n",
        "if info4:\n",
        "    proximo_irmao = info4.find_next_sibling('td')\n",
        "    if proximo_irmao:\n",
        "        local_fundacao = ' '.join(proximo_irmao.stripped_strings)\n",
        "\n",
        "print('Local de fundação:', local_fundacao)"
      ]
    },
    {
      "cell_type": "markdown",
      "metadata": {
        "id": "SPeSWngPbiBI"
      },
      "source": [
        "CEO e COO"
      ]
    },
    {
      "cell_type": "code",
      "execution_count": null,
      "metadata": {
        "id": "AG4SNX-1biBI",
        "outputId": "e4299b45-d117-44a0-abfc-3d679a73bae2"
      },
      "outputs": [
        {
          "name": "stdout",
          "output_type": "stream",
          "text": [
            "CEO: Eduardo Peixoto\n",
            "COO: Karla Godoy\n"
          ]
        }
      ],
      "source": [
        "info5 = soup.find('td', string=re.compile(r'Organização', re.IGNORECASE))\n",
        "\n",
        "nomes = []\n",
        "\n",
        "if info5:\n",
        "    proximo_irmao = info5.find_next_sibling('td')\n",
        "    if proximo_irmao:\n",
        "        textos = proximo_irmao.stripped_strings\n",
        "\n",
        "        # Adicionar os textos à lista\n",
        "        nomes.extend(textos)\n",
        "\n",
        "        # Atribuindo as variáveis\n",
        "        ceo = nomes[0]\n",
        "        ceo = ceo[0:15]\n",
        "\n",
        "        coo = nomes[1]\n",
        "        coo = coo[0:11]\n",
        "\n",
        "print('CEO:', ceo)\n",
        "print('COO:', coo)"
      ]
    },
    {
      "cell_type": "markdown",
      "metadata": {
        "id": "baDReBHjbiBJ"
      },
      "source": [
        "Número de funcionários"
      ]
    },
    {
      "cell_type": "code",
      "execution_count": null,
      "metadata": {
        "id": "6pJrQK5TbiBK",
        "outputId": "b9375545-346e-4cd3-aea9-673bef9dbd31"
      },
      "outputs": [
        {
          "name": "stdout",
          "output_type": "stream",
          "text": [
            "Local de fundação: 600+\n"
          ]
        }
      ],
      "source": [
        "info6 = soup.find('td', string=re.compile(r'Empregados', re.IGNORECASE))\n",
        "\n",
        "numero = None\n",
        "\n",
        "if info6:\n",
        "    proximo_irmao = info6.find_next_sibling('td')\n",
        "    if proximo_irmao:\n",
        "        numero = ' '.join(proximo_irmao.stripped_strings)\n",
        "\n",
        "numero_funcionarios = numero[0:4]\n",
        "\n",
        "print('Local de fundação:', numero_funcionarios)"
      ]
    },
    {
      "cell_type": "markdown",
      "metadata": {
        "id": "MQ4hlFbobiBK"
      },
      "source": [
        "Site oficial"
      ]
    },
    {
      "cell_type": "code",
      "execution_count": null,
      "metadata": {
        "id": "DFlToepxbiBL",
        "outputId": "9c040173-013a-472f-c14f-2780b17b44b7"
      },
      "outputs": [
        {
          "name": "stdout",
          "output_type": "stream",
          "text": [
            "Site oficial: http://www.cesar.org.br\n"
          ]
        }
      ],
      "source": [
        "info7 = soup.find('td', string=re.compile(r'Sítio oficial', re.IGNORECASE))\n",
        "\n",
        "site = None\n",
        "\n",
        "if info7:\n",
        "    proximo_irmao = info7.find_next_sibling('td')\n",
        "    if proximo_irmao:\n",
        "        site = proximo_irmao.get_text(strip=True)\n",
        "\n",
        "print('Site oficial:', site)"
      ]
    },
    {
      "cell_type": "markdown",
      "metadata": {
        "id": "7QUlBbNObiBM"
      },
      "source": [
        "Cursos"
      ]
    },
    {
      "cell_type": "code",
      "execution_count": null,
      "metadata": {
        "id": "rH7ooPqgbiBX",
        "outputId": "5a76c61e-ce65-4599-8077-660c68403347"
      },
      "outputs": [
        {
          "name": "stdout",
          "output_type": "stream",
          "text": [
            "Graduação 1: Ciência da Computação\n",
            "Graduação 2: Design\n",
            "Mestrado profissional 1: Engenharia de Software\n",
            "Mestrado profissional 2: Design de Artefatos Digitais\n",
            "Doutorado profissional 1: Engenharia de Software\n"
          ]
        }
      ],
      "source": [
        "cursos_table = None # para armazenar a tabela que contém as informações dos cursos\n",
        "\n",
        "# Encontrar a tabela que contém a string 'Graduação'\n",
        "for th in soup.find_all('th'):\n",
        "    if 'Graduação' in th.get_text(strip=True):\n",
        "        cursos_table = th.find_parent('table') # obtem a tabela inteira da mesma seção da string 'Graduação'\n",
        "        break\n",
        "\n",
        "# Extração dos dados da tabela\n",
        "# Verifica se a variável 'cursos_table' foi definida (ou seja, se a tabela foi encontrada)\n",
        "if cursos_table:\n",
        "    cursos = []\n",
        "\n",
        "    # Itera sobre todas as tags '<tr>' (linhas) dentro da tabela de cursos, começando a partir da segunda linha.\n",
        "    # A primeira linha geralmente contém cabeçalhos\n",
        "    for row in cursos_table.find_all('tr')[1:]:\n",
        "        td = row.find('td') #  Encontra a primeira tag '<td>' (célula) dentro da linha\n",
        "        if td:\n",
        "            cursos.append(td.get_text(strip=True)) # Adiciona o texto da célula à lista 'cursos'.\n",
        "                                                   # O método 'get_text(strip=True)' é usado para extrair o texto da célula,\n",
        "                                                   # removendo espaços em branco desnecessários\n",
        "\n",
        "    # Atribuindo as variáveis\n",
        "    graduacao_01 = cursos[0]\n",
        "    graduacao_02 = cursos[1]\n",
        "    mestrado_01 = cursos[2]\n",
        "    mestrado_02 = cursos[3]\n",
        "    doutorado_01 = cursos[4]\n",
        "\n",
        "    print('Graduação 1:', graduacao_01)\n",
        "    print('Graduação 2:', graduacao_02)\n",
        "    print('Mestrado profissional 1:', mestrado_01)\n",
        "    print('Mestrado profissional 2:', mestrado_02)\n",
        "    print('Doutorado profissional 1:', doutorado_01)"
      ]
    },
    {
      "cell_type": "markdown",
      "metadata": {
        "id": "VO9ddUHZbiBY"
      },
      "source": [
        "### Print do texto"
      ]
    },
    {
      "cell_type": "code",
      "execution_count": null,
      "metadata": {
        "id": "vJUOj1CabiBZ",
        "outputId": "6a2c532a-e48e-4bfe-fe32-1106e30fe998"
      },
      "outputs": [
        {
          "name": "stdout",
          "output_type": "stream",
          "text": [
            "\n",
            "      O CESAR é um Instituto de pesquisa sem fins lucrativos fundado em 20 de maio de 1996 (27 anos) por Silvio Meira, Fábio Silva, Ismar Kaufman\n",
            "      em Recife , PE. Segundo os dados coletados, Eduardo Peixoto (CEO) e Karla Godoy (COO) são os chefes da organização\n",
            "      que tem 600+. O CESAR possui cursos de Ciência da Computação, Design, Engenharia de Software,\n",
            "      Engenharia de Software, Engenharia de Software. Para mais detalhes dessa instituição incrível, acesse http://www.cesar.org.br\n",
            "\n"
          ]
        }
      ],
      "source": [
        "print(f\"\"\"\n",
        "      O CESAR é um {tipo} fundado em {data_fundacao} por {fundador_01}, {fundador_02}, {fundador_03}\n",
        "      em {local_fundacao}. Segundo os dados coletados, {ceo} (CEO) e {coo} (COO) são os chefes da organização\n",
        "      que tem {numero_funcionarios}. O CESAR possui cursos de {graduacao_01}, {graduacao_02}, {metrado_01},\n",
        "      {mestrado_01}, {doutorado_01}. Para mais detalhes dessa instituição incrível, acesse {site}\n",
        "\"\"\")"
      ]
    }
  ],
  "metadata": {
    "kernelspec": {
      "display_name": "Python 3",
      "language": "python",
      "name": "python3"
    },
    "language_info": {
      "codemirror_mode": {
        "name": "ipython",
        "version": 3
      },
      "file_extension": ".py",
      "mimetype": "text/x-python",
      "name": "python",
      "nbconvert_exporter": "python",
      "pygments_lexer": "ipython3",
      "version": "3.12.0"
    },
    "colab": {
      "provenance": [],
      "include_colab_link": true
    }
  },
  "nbformat": 4,
  "nbformat_minor": 0
}