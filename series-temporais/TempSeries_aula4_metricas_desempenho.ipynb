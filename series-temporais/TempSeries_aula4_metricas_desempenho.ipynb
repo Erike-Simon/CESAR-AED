{
  "nbformat": 4,
  "nbformat_minor": 0,
  "metadata": {
    "colab": {
      "provenance": [],
      "include_colab_link": true
    },
    "kernelspec": {
      "name": "python3",
      "display_name": "Python 3"
    },
    "language_info": {
      "name": "python"
    }
  },
  "cells": [
    {
      "cell_type": "markdown",
      "metadata": {
        "id": "view-in-github",
        "colab_type": "text"
      },
      "source": [
        "<a href=\"https://colab.research.google.com/github/Erike-Simon/CESAR-AED/blob/main/TempSeries_aula4_metricas_desempenho.ipynb\" target=\"_parent\"><img src=\"https://colab.research.google.com/assets/colab-badge.svg\" alt=\"Open In Colab\"/></a>"
      ]
    },
    {
      "cell_type": "markdown",
      "source": [
        "## Métricas de desempenho"
      ],
      "metadata": {
        "id": "WTh0xjuUfx8i"
      }
    },
    {
      "cell_type": "markdown",
      "source": [
        "### Configurações iniciais"
      ],
      "metadata": {
        "id": "b1Q3raTGf4Db"
      }
    },
    {
      "cell_type": "code",
      "execution_count": null,
      "metadata": {
        "colab": {
          "base_uri": "https://localhost:8080/"
        },
        "id": "kZFApOn3Fnsz",
        "outputId": "c8018804-6ffa-4e9b-88b0-48a88a73eca2"
      },
      "outputs": [
        {
          "output_type": "stream",
          "name": "stdout",
          "text": [
            "Requirement already satisfied: yfinance in /usr/local/lib/python3.10/dist-packages (0.2.31)\n",
            "Collecting pydataset\n",
            "  Downloading pydataset-0.2.0.tar.gz (15.9 MB)\n",
            "\u001b[2K     \u001b[90m━━━━━━━━━━━━━━━━━━━━━━━━━━━━━━━━━━━━━━━━\u001b[0m \u001b[32m15.9/15.9 MB\u001b[0m \u001b[31m30.1 MB/s\u001b[0m eta \u001b[36m0:00:00\u001b[0m\n",
            "\u001b[?25h  Preparing metadata (setup.py) ... \u001b[?25l\u001b[?25hdone\n",
            "Collecting pmdarima\n",
            "  Downloading pmdarima-2.0.4-cp310-cp310-manylinux_2_17_x86_64.manylinux2014_x86_64.manylinux_2_28_x86_64.whl (2.1 MB)\n",
            "\u001b[2K     \u001b[90m━━━━━━━━━━━━━━━━━━━━━━━━━━━━━━━━━━━━━━━━\u001b[0m \u001b[32m2.1/2.1 MB\u001b[0m \u001b[31m94.2 MB/s\u001b[0m eta \u001b[36m0:00:00\u001b[0m\n",
            "\u001b[?25hRequirement already satisfied: tqdm in /usr/local/lib/python3.10/dist-packages (4.66.1)\n",
            "Requirement already satisfied: pandas>=1.3.0 in /usr/local/lib/python3.10/dist-packages (from yfinance) (1.5.3)\n",
            "Requirement already satisfied: numpy>=1.16.5 in /usr/local/lib/python3.10/dist-packages (from yfinance) (1.23.5)\n",
            "Requirement already satisfied: requests>=2.31 in /usr/local/lib/python3.10/dist-packages (from yfinance) (2.31.0)\n",
            "Requirement already satisfied: multitasking>=0.0.7 in /usr/local/lib/python3.10/dist-packages (from yfinance) (0.0.11)\n",
            "Requirement already satisfied: lxml>=4.9.1 in /usr/local/lib/python3.10/dist-packages (from yfinance) (4.9.3)\n",
            "Requirement already satisfied: appdirs>=1.4.4 in /usr/local/lib/python3.10/dist-packages (from yfinance) (1.4.4)\n",
            "Requirement already satisfied: pytz>=2022.5 in /usr/local/lib/python3.10/dist-packages (from yfinance) (2023.3.post1)\n",
            "Requirement already satisfied: frozendict>=2.3.4 in /usr/local/lib/python3.10/dist-packages (from yfinance) (2.3.8)\n",
            "Requirement already satisfied: peewee>=3.16.2 in /usr/local/lib/python3.10/dist-packages (from yfinance) (3.17.0)\n",
            "Requirement already satisfied: beautifulsoup4>=4.11.1 in /usr/local/lib/python3.10/dist-packages (from yfinance) (4.11.2)\n",
            "Requirement already satisfied: html5lib>=1.1 in /usr/local/lib/python3.10/dist-packages (from yfinance) (1.1)\n",
            "Requirement already satisfied: joblib>=0.11 in /usr/local/lib/python3.10/dist-packages (from pmdarima) (1.3.2)\n",
            "Requirement already satisfied: Cython!=0.29.18,!=0.29.31,>=0.29 in /usr/local/lib/python3.10/dist-packages (from pmdarima) (3.0.5)\n",
            "Requirement already satisfied: scikit-learn>=0.22 in /usr/local/lib/python3.10/dist-packages (from pmdarima) (1.2.2)\n",
            "Requirement already satisfied: scipy>=1.3.2 in /usr/local/lib/python3.10/dist-packages (from pmdarima) (1.11.3)\n",
            "Requirement already satisfied: statsmodels>=0.13.2 in /usr/local/lib/python3.10/dist-packages (from pmdarima) (0.14.0)\n",
            "Requirement already satisfied: urllib3 in /usr/local/lib/python3.10/dist-packages (from pmdarima) (2.0.7)\n",
            "Requirement already satisfied: setuptools!=50.0.0,>=38.6.0 in /usr/local/lib/python3.10/dist-packages (from pmdarima) (67.7.2)\n",
            "Requirement already satisfied: packaging>=17.1 in /usr/local/lib/python3.10/dist-packages (from pmdarima) (23.2)\n",
            "Requirement already satisfied: soupsieve>1.2 in /usr/local/lib/python3.10/dist-packages (from beautifulsoup4>=4.11.1->yfinance) (2.5)\n",
            "Requirement already satisfied: six>=1.9 in /usr/local/lib/python3.10/dist-packages (from html5lib>=1.1->yfinance) (1.16.0)\n",
            "Requirement already satisfied: webencodings in /usr/local/lib/python3.10/dist-packages (from html5lib>=1.1->yfinance) (0.5.1)\n",
            "Requirement already satisfied: python-dateutil>=2.8.1 in /usr/local/lib/python3.10/dist-packages (from pandas>=1.3.0->yfinance) (2.8.2)\n",
            "Requirement already satisfied: charset-normalizer<4,>=2 in /usr/local/lib/python3.10/dist-packages (from requests>=2.31->yfinance) (3.3.2)\n",
            "Requirement already satisfied: idna<4,>=2.5 in /usr/local/lib/python3.10/dist-packages (from requests>=2.31->yfinance) (3.4)\n",
            "Requirement already satisfied: certifi>=2017.4.17 in /usr/local/lib/python3.10/dist-packages (from requests>=2.31->yfinance) (2023.7.22)\n",
            "Requirement already satisfied: threadpoolctl>=2.0.0 in /usr/local/lib/python3.10/dist-packages (from scikit-learn>=0.22->pmdarima) (3.2.0)\n",
            "Requirement already satisfied: patsy>=0.5.2 in /usr/local/lib/python3.10/dist-packages (from statsmodels>=0.13.2->pmdarima) (0.5.3)\n",
            "Building wheels for collected packages: pydataset\n",
            "  Building wheel for pydataset (setup.py) ... \u001b[?25l\u001b[?25hdone\n",
            "  Created wheel for pydataset: filename=pydataset-0.2.0-py3-none-any.whl size=15939417 sha256=89a637355494a102933d816c55fadb5a29e2e7c0a75497ab072666583923cda3\n",
            "  Stored in directory: /root/.cache/pip/wheels/2b/83/5c/073c3755e8b7704e4677557b2055e61026c1a2342149214c13\n",
            "Successfully built pydataset\n",
            "Installing collected packages: pydataset, pmdarima\n",
            "Successfully installed pmdarima-2.0.4 pydataset-0.2.0\n"
          ]
        }
      ],
      "source": [
        "pip install yfinance pydataset pmdarima tqdm"
      ]
    },
    {
      "cell_type": "code",
      "source": [
        "import yfinance as yf\n",
        "from pydataset import data\n",
        "import pandas as pd\n",
        "import numpy as np\n",
        "import matplotlib.pyplot as plt\n",
        "from statsmodels.graphics.tsaplots import plot_acf, plot_pacf\n",
        "from pmdarima.arima import KPSSTest, auto_arima\n",
        "from tqdm import tqdm\n",
        "\n",
        "from sklearn.preprocessing import MinMaxScaler\n",
        "from sklearn.neural_network import MLPRegressor"
      ],
      "metadata": {
        "id": "LtQx9wzzFwid",
        "colab": {
          "base_uri": "https://localhost:8080/"
        },
        "outputId": "038121c7-03fd-4129-8486-de26ff6557b8"
      },
      "execution_count": null,
      "outputs": [
        {
          "output_type": "stream",
          "name": "stdout",
          "text": [
            "initiated datasets repo at: /root/.pydataset/\n"
          ]
        }
      ]
    },
    {
      "cell_type": "markdown",
      "source": [
        "Obtenção dos datasets"
      ],
      "metadata": {
        "id": "6ndWAIwlgIsS"
      }
    },
    {
      "cell_type": "code",
      "source": [
        "def get_yfinance(id_name):\n",
        "  df = yf.Ticker(id_name)\n",
        "  df = df.history(period='max')\n",
        "  return df['Close']\n",
        "\n",
        "id_name = 'ITSA4.SA'\n",
        "serie_itausa = get_yfinance(id_name)"
      ],
      "metadata": {
        "id": "LEiu93j2FsfO"
      },
      "execution_count": null,
      "outputs": []
    },
    {
      "cell_type": "code",
      "source": [
        "df_air = data('AirPassengers')\n",
        "df_air['date'] = pd.date_range(\n",
        "    start='1949-01-01', end= '1961-01-01', freq='M'\n",
        "  )\n",
        "df_air.set_index('date', inplace=True)\n",
        "serie_air = df_air['AirPassengers']"
      ],
      "metadata": {
        "id": "CXKcfad-F0cT"
      },
      "execution_count": null,
      "outputs": []
    },
    {
      "cell_type": "markdown",
      "source": [
        "Funções para cálculo de métricas"
      ],
      "metadata": {
        "id": "362D9388e-Tz"
      }
    },
    {
      "cell_type": "code",
      "source": [
        "def mean_square_error(y_true, y_pred):\n",
        "    y_true = np.asmatrix(y_true).reshape(-1)\n",
        "    y_pred = np.asmatrix(y_pred).reshape(-1)\n",
        "\n",
        "    return np.square(np.subtract(y_true, y_pred)).mean()\n",
        "\n",
        "def root_mean_square_error(y_true, y_pred):\n",
        "\n",
        "    return mean_square_error(y_true, y_pred)**0.5\n",
        "\n",
        "\n",
        "def mean_absolute_percentage_error(y_true, y_pred):\n",
        "    y_true = np.asarray(y_true).reshape(-1)\n",
        "    y_pred = np.asarray(y_pred).reshape(-1)\n",
        "\n",
        "    if len(np.where(y_true == 0)[0]) > 0:\n",
        "        return np.inf\n",
        "    else:\n",
        "        return np.mean(np.abs((y_true - y_pred) / y_true)) * 100\n",
        "\n",
        "\n",
        "def mean_absolute_error(y_true, y_pred):\n",
        "\n",
        "    y_true = np.asarray(y_true).reshape(-1)\n",
        "    y_pred = np.asarray(y_pred).reshape(-1)\n",
        "\n",
        "    return np.mean(np.abs(y_true - y_pred))\n",
        "\n",
        "\n",
        "def u_theil(y_true, y_pred):\n",
        "    y_true = np.asarray(y_true).reshape(-1)\n",
        "    y_pred = np.asarray(y_pred).reshape(-1)\n",
        "\n",
        "    error_sup = np.square(np.subtract(y_true, y_pred)).sum()\n",
        "    error_inf = np.square(np.subtract(y_pred[0:(len(y_pred) - 1)], y_pred[1:(len(y_pred))])).sum()\n",
        "\n",
        "    return error_sup / error_inf\n",
        "\n",
        "\n",
        "def average_relative_variance(y_true, y_pred):\n",
        "    y_true = np.asarray(y_true).reshape(-1)\n",
        "    y_pred = np.asarray(y_pred).reshape(-1)\n",
        "    mean = np.mean(y_true)\n",
        "\n",
        "    error_sup = np.square(np.subtract(y_true, y_pred)).sum()\n",
        "    error_inf = np.square(np.subtract(y_pred, mean)).sum()\n",
        "\n",
        "    return error_sup / error_inf\n",
        "\n",
        "\n",
        "def prediction_of_change_in_direction(y_true, y_pred):\n",
        "    y_true = np.asarray(y_true).reshape(-1)\n",
        "    y_pred = np.asarray(y_pred).reshape(-1)\n",
        "\n",
        "    true_sub = np.subtract(y_true[0:(len(y_true) - 1)], y_true[1:(len(y_true))])\n",
        "    pred_sub = np.subtract(y_pred[0:(len(y_pred) - 1)], y_pred[1:(len(y_pred))])\n",
        "\n",
        "    mult = true_sub * pred_sub\n",
        "    result = 0\n",
        "    for m in mult:\n",
        "        if m > 0:\n",
        "            result = result + 1\n",
        "\n",
        "    return (100 * (result / len(y_true)))\n",
        "\n",
        "\n",
        "def gerenerate_metric_results(y_true, y_pred):\n",
        "    return {'MSE': mean_square_error(y_true, y_pred),\n",
        "            'RMSE':root_mean_square_error(y_true, y_pred),\n",
        "            'MAPE': mean_absolute_percentage_error(y_true, y_pred),\n",
        "            'MAE': mean_absolute_error(y_true, y_pred),\n",
        "            'theil': u_theil(y_true, y_pred),\n",
        "            'ARV': average_relative_variance(y_true, y_pred),\n",
        "            'POCID': prediction_of_change_in_direction(y_true, y_pred)}\n"
      ],
      "metadata": {
        "id": "DWkUjogBGl9V"
      },
      "execution_count": null,
      "outputs": []
    },
    {
      "cell_type": "markdown",
      "source": [
        "Função para treino e predição de um modelo baseado em auto.arima para uma série temporal"
      ],
      "metadata": {
        "id": "NHwxm3M7gbbu"
      }
    },
    {
      "cell_type": "code",
      "source": [
        "def arima_fit_predict(ts, m, horizon, test_size):\n",
        "  ts_train = ts[0:-(test_size+(horizon-1))].values\n",
        "  ts_test = ts[-(test_size+(horizon-1)):].values\n",
        "\n",
        "  model = auto_arima(ts_train, #X=None,\n",
        "            start_p=2, start_q=2, max_p=5, max_d=2,\n",
        "            max_q=5, start_P=1, start_Q=1, max_P=2,\n",
        "            max_D=1, max_Q=2, max_order=10, m=m,\n",
        "            stepwise=True, trace=True)\n",
        "\n",
        "  direct_predict = model.predict(ts_test.shape[0])\n",
        "\n",
        "  prevs_h_steps = []\n",
        "\n",
        "  for t in tqdm(ts_test):\n",
        "    prevs_h_steps.append(model.predict(horizon)[horizon-1])\n",
        "    model.update(t)\n",
        "\n",
        "  return prevs_h_steps[0:test_size], direct_predict[-test_size:]\n",
        "\n"
      ],
      "metadata": {
        "id": "Bi3tsLS1F25E"
      },
      "execution_count": null,
      "outputs": []
    },
    {
      "cell_type": "markdown",
      "source": [
        "### Treinamento e métricas para a série airlines"
      ],
      "metadata": {
        "id": "CzLTKeKpgs95"
      }
    },
    {
      "cell_type": "code",
      "source": [
        "test_size = 24\n",
        "m = 12\n",
        "horizon = 1\n",
        "ts = serie_air\n",
        "prevs_h_steps, direct_predict = arima_fit_predict(ts, m, horizon, test_size)"
      ],
      "metadata": {
        "colab": {
          "base_uri": "https://localhost:8080/"
        },
        "id": "AicD80oSF-yO",
        "outputId": "0a508a78-5184-452d-918a-645b97f4ed47"
      },
      "execution_count": null,
      "outputs": [
        {
          "output_type": "stream",
          "name": "stdout",
          "text": [
            "Performing stepwise search to minimize aic\n",
            " ARIMA(2,0,2)(1,1,1)[12] intercept   : AIC=813.750, Time=4.83 sec\n",
            " ARIMA(0,0,0)(0,1,0)[12] intercept   : AIC=910.236, Time=0.06 sec\n",
            " ARIMA(1,0,0)(1,1,0)[12] intercept   : AIC=810.646, Time=1.54 sec\n",
            " ARIMA(0,0,1)(0,1,1)[12] intercept   : AIC=860.575, Time=0.65 sec\n",
            " ARIMA(0,0,0)(0,1,0)[12]             : AIC=1060.479, Time=0.04 sec\n",
            " ARIMA(1,0,0)(0,1,0)[12] intercept   : AIC=809.411, Time=0.15 sec\n",
            " ARIMA(1,0,0)(0,1,1)[12] intercept   : AIC=810.721, Time=0.60 sec\n",
            " ARIMA(1,0,0)(1,1,1)[12] intercept   : AIC=812.509, Time=2.24 sec\n",
            " ARIMA(2,0,0)(0,1,0)[12] intercept   : AIC=808.863, Time=0.27 sec\n",
            " ARIMA(2,0,0)(1,1,0)[12] intercept   : AIC=810.482, Time=1.28 sec\n",
            " ARIMA(2,0,0)(0,1,1)[12] intercept   : AIC=810.553, Time=0.79 sec\n",
            " ARIMA(2,0,0)(1,1,1)[12] intercept   : AIC=inf, Time=2.49 sec\n",
            " ARIMA(3,0,0)(0,1,0)[12] intercept   : AIC=809.375, Time=0.50 sec\n",
            " ARIMA(2,0,1)(0,1,0)[12] intercept   : AIC=809.672, Time=0.44 sec\n",
            " ARIMA(1,0,1)(0,1,0)[12] intercept   : AIC=809.448, Time=0.62 sec\n",
            " ARIMA(3,0,1)(0,1,0)[12] intercept   : AIC=811.251, Time=1.32 sec\n",
            " ARIMA(2,0,0)(0,1,0)[12]             : AIC=812.240, Time=0.39 sec\n",
            "\n",
            "Best model:  ARIMA(2,0,0)(0,1,0)[12] intercept\n",
            "Total fit time: 18.380 seconds\n"
          ]
        },
        {
          "output_type": "stream",
          "name": "stderr",
          "text": [
            "100%|██████████| 24/24 [00:05<00:00,  4.02it/s]\n"
          ]
        }
      ]
    },
    {
      "cell_type": "code",
      "source": [
        "df_result = pd.DataFrame(\n",
        "    {\n",
        "        'real': ts.iloc[-test_size:],\n",
        "        'direct_predict': direct_predict,\n",
        "        'arima_1_steps': prevs_h_steps,\n",
        "    }\n",
        ")\n",
        "df_result.plot()"
      ],
      "metadata": {
        "colab": {
          "base_uri": "https://localhost:8080/",
          "height": 484
        },
        "id": "2eHTeTLuGCm4",
        "outputId": "eb97f625-fad9-4b25-e803-5b162fb2d7b7"
      },
      "execution_count": null,
      "outputs": [
        {
          "output_type": "execute_result",
          "data": {
            "text/plain": [
              "<Axes: xlabel='date'>"
            ]
          },
          "metadata": {},
          "execution_count": 8
        },
        {
          "output_type": "display_data",
          "data": {
            "text/plain": [
              "<Figure size 640x480 with 1 Axes>"
            ],
            "image/png": "[encoded data removed]"
          },
          "metadata": {}
        }
      ]
    },
    {
      "cell_type": "code",
      "source": [
        "y_true = ts.iloc[-test_size:]\n",
        "metric_results = []\n",
        "for model_name in ['direct_predict', 'arima_1_steps']:\n",
        "  y_true = df_result['real']\n",
        "  y_pred = df_result[model_name]\n",
        "  dict_result = gerenerate_metric_results(y_true, y_pred)\n",
        "  dict_result['model_name'] = model_name\n",
        "  metric_results.append(dict_result)"
      ],
      "metadata": {
        "id": "SGhk4770GXf4"
      },
      "execution_count": null,
      "outputs": []
    },
    {
      "cell_type": "code",
      "source": [
        "pd.DataFrame(metric_results)"
      ],
      "metadata": {
        "colab": {
          "base_uri": "https://localhost:8080/",
          "height": 112
        },
        "id": "cMVFH4I0IxQX",
        "outputId": "e663ea89-f871-4dfe-e0d0-c3f172695616"
      },
      "execution_count": null,
      "outputs": [
        {
          "output_type": "execute_result",
          "data": {
            "text/plain": [
              "           MSE       RMSE      MAPE        MAE     theil       ARV      POCID      model_name\n",
              "0  2230.332101  47.226392  9.439333  43.464894  0.991340  0.367821  87.500000  direct_predict\n",
              "1   279.571872  16.720403  3.043496  13.619108  0.103411  0.048930  83.333333   arima_1_steps"
            ],
            "text/html": [
              "\n",
              "  <div id=\"df-e8181c21-db37-4179-b9bf-b00164a33a9b\" class=\"colab-df-container\">\n",
              "    <div>\n",
              "<style scoped>\n",
              "    .dataframe tbody tr th:only-of-type {\n",
              "        vertical-align: middle;\n",
              "    }\n",
              "\n",
              "    .dataframe tbody tr th {\n",
              "        vertical-align: top;\n",
              "    }\n",
              "\n",
              "    .dataframe thead th {\n",
              "        text-align: right;\n",
              "    }\n",
              "</style>\n",
              "<table border=\"1\" class=\"dataframe\">\n",
              "  <thead>\n",
              "    <tr style=\"text-align: right;\">\n",
              "      <th></th>\n",
              "      <th>MSE</th>\n",
              "      <th>RMSE</th>\n",
              "      <th>MAPE</th>\n",
              "      <th>MAE</th>\n",
              "      <th>theil</th>\n",
              "      <th>ARV</th>\n",
              "      <th>POCID</th>\n",
              "      <th>model_name</th>\n",
              "    </tr>\n",
              "  </thead>\n",
              "  <tbody>\n",
              "    <tr>\n",
              "      <th>0</th>\n",
              "      <td>2230.332101</td>\n",
              "      <td>47.226392</td>\n",
              "      <td>9.439333</td>\n",
              "      <td>43.464894</td>\n",
              "      <td>0.991340</td>\n",
              "      <td>0.367821</td>\n",
              "      <td>87.500000</td>\n",
              "      <td>direct_predict</td>\n",
              "    </tr>\n",
              "    <tr>\n",
              "      <th>1</th>\n",
              "      <td>279.571872</td>\n",
              "      <td>16.720403</td>\n",
              "      <td>3.043496</td>\n",
              "      <td>13.619108</td>\n",
              "      <td>0.103411</td>\n",
              "      <td>0.048930</td>\n",
              "      <td>83.333333</td>\n",
              "      <td>arima_1_steps</td>\n",
              "    </tr>\n",
              "  </tbody>\n",
              "</table>\n",
              "</div>\n",
              "    <div class=\"colab-df-buttons\">\n",
              "\n",
              "  <div class=\"colab-df-container\">\n",
              "    <button class=\"colab-df-convert\" onclick=\"convertToInteractive('df-e8181c21-db37-4179-b9bf-b00164a33a9b')\"\n",
              "            title=\"Convert this dataframe to an interactive table.\"\n",
              "            style=\"display:none;\">\n",
              "\n",
              "  <svg xmlns=\"http://www.w3.org/2000/svg\" height=\"24px\" viewBox=\"0 -960 960 960\">\n",
              "    <path d=\"M120-120v-720h720v720H120Zm60-500h600v-160H180v160Zm220 220h160v-160H400v160Zm0 220h160v-160H400v160ZM180-400h160v-160H180v160Zm440 0h160v-160H620v160ZM180-180h160v-160H180v160Zm440 0h160v-160H620v160Z\"/>\n",
              "  </svg>\n",
              "    </button>\n",
              "\n",
              "  <style>\n",
              "    .colab-df-container {\n",
              "      display:flex;\n",
              "      gap: 12px;\n",
              "    }\n",
              "\n",
              "    .colab-df-convert {\n",
              "      background-color: #E8F0FE;\n",
              "      border: none;\n",
              "      border-radius: 50%;\n",
              "      cursor: pointer;\n",
              "      display: none;\n",
              "      fill: #1967D2;\n",
              "      height: 32px;\n",
              "      padding: 0 0 0 0;\n",
              "      width: 32px;\n",
              "    }\n",
              "\n",
              "    .colab-df-convert:hover {\n",
              "      background-color: #E2EBFA;\n",
              "      box-shadow: 0px 1px 2px rgba(60, 64, 67, 0.3), 0px 1px 3px 1px rgba(60, 64, 67, 0.15);\n",
              "      fill: #174EA6;\n",
              "    }\n",
              "\n",
              "    .colab-df-buttons div {\n",
              "      margin-bottom: 4px;\n",
              "    }\n",
              "\n",
              "    [theme=dark] .colab-df-convert {\n",
              "      background-color: #3B4455;\n",
              "      fill: #D2E3FC;\n",
              "    }\n",
              "\n",
              "    [theme=dark] .colab-df-convert:hover {\n",
              "      background-color: #434B5C;\n",
              "      box-shadow: 0px 1px 3px 1px rgba(0, 0, 0, 0.15);\n",
              "      filter: drop-shadow(0px 1px 2px rgba(0, 0, 0, 0.3));\n",
              "      fill: #FFFFFF;\n",
              "    }\n",
              "  </style>\n",
              "\n",
              "    <script>\n",
              "      const buttonEl =\n",
              "        document.querySelector('#df-e8181c21-db37-4179-b9bf-b00164a33a9b button.colab-df-convert');\n",
              "      buttonEl.style.display =\n",
              "        google.colab.kernel.accessAllowed ? 'block' : 'none';\n",
              "\n",
              "      async function convertToInteractive(key) {\n",
              "        const element = document.querySelector('#df-e8181c21-db37-4179-b9bf-b00164a33a9b');\n",
              "        const dataTable =\n",
              "          await google.colab.kernel.invokeFunction('convertToInteractive',\n",
              "                                                    [key], {});\n",
              "        if (!dataTable) return;\n",
              "\n",
              "        const docLinkHtml = 'Like what you see? Visit the ' +\n",
              "          '<a target=\"_blank\" href=https://colab.research.google.com/notebooks/data_table.ipynb>data table notebook</a>'\n",
              "          + ' to learn more about interactive tables.';\n",
              "        element.innerHTML = '';\n",
              "        dataTable['output_type'] = 'display_data';\n",
              "        await google.colab.output.renderOutput(dataTable, element);\n",
              "        const docLink = document.createElement('div');\n",
              "        docLink.innerHTML = docLinkHtml;\n",
              "        element.appendChild(docLink);\n",
              "      }\n",
              "    </script>\n",
              "  </div>\n",
              "\n",
              "\n",
              "<div id=\"df-2a28432c-eaa4-4e0b-8ce7-c5672def3064\">\n",
              "  <button class=\"colab-df-quickchart\" onclick=\"quickchart('df-2a28432c-eaa4-4e0b-8ce7-c5672def3064')\"\n",
              "            title=\"Suggest charts\"\n",
              "            style=\"display:none;\">\n",
              "\n",
              "<svg xmlns=\"http://www.w3.org/2000/svg\" height=\"24px\"viewBox=\"0 0 24 24\"\n",
              "     width=\"24px\">\n",
              "    <g>\n",
              "        <path d=\"M19 3H5c-1.1 0-2 .9-2 2v14c0 1.1.9 2 2 2h14c1.1 0 2-.9 2-2V5c0-1.1-.9-2-2-2zM9 17H7v-7h2v7zm4 0h-2V7h2v10zm4 0h-2v-4h2v4z\"/>\n",
              "    </g>\n",
              "</svg>\n",
              "  </button>\n",
              "\n",
              "<style>\n",
              "  .colab-df-quickchart {\n",
              "      --bg-color: #E8F0FE;\n",
              "      --fill-color: #1967D2;\n",
              "      --hover-bg-color: #E2EBFA;\n",
              "      --hover-fill-color: #174EA6;\n",
              "      --disabled-fill-color: #AAA;\n",
              "      --disabled-bg-color: #DDD;\n",
              "  }\n",
              "\n",
              "  [theme=dark] .colab-df-quickchart {\n",
              "      --bg-color: #3B4455;\n",
              "      --fill-color: #D2E3FC;\n",
              "      --hover-bg-color: #434B5C;\n",
              "      --hover-fill-color: #FFFFFF;\n",
              "      --disabled-bg-color: #3B4455;\n",
              "      --disabled-fill-color: #666;\n",
              "  }\n",
              "\n",
              "  .colab-df-quickchart {\n",
              "    background-color: var(--bg-color);\n",
              "    border: none;\n",
              "    border-radius: 50%;\n",
              "    cursor: pointer;\n",
              "    display: none;\n",
              "    fill: var(--fill-color);\n",
              "    height: 32px;\n",
              "    padding: 0;\n",
              "    width: 32px;\n",
              "  }\n",
              "\n",
              "  .colab-df-quickchart:hover {\n",
              "    background-color: var(--hover-bg-color);\n",
              "    box-shadow: 0 1px 2px rgba(60, 64, 67, 0.3), 0 1px 3px 1px rgba(60, 64, 67, 0.15);\n",
              "    fill: var(--button-hover-fill-color);\n",
              "  }\n",
              "\n",
              "  .colab-df-quickchart-complete:disabled,\n",
              "  .colab-df-quickchart-complete:disabled:hover {\n",
              "    background-color: var(--disabled-bg-color);\n",
              "    fill: var(--disabled-fill-color);\n",
              "    box-shadow: none;\n",
              "  }\n",
              "\n",
              "  .colab-df-spinner {\n",
              "    border: 2px solid var(--fill-color);\n",
              "    border-color: transparent;\n",
              "    border-bottom-color: var(--fill-color);\n",
              "    animation:\n",
              "      spin 1s steps(1) infinite;\n",
              "  }\n",
              "\n",
              "  @keyframes spin {\n",
              "    0% {\n",
              "      border-color: transparent;\n",
              "      border-bottom-color: var(--fill-color);\n",
              "      border-left-color: var(--fill-color);\n",
              "    }\n",
              "    20% {\n",
              "      border-color: transparent;\n",
              "      border-left-color: var(--fill-color);\n",
              "      border-top-color: var(--fill-color);\n",
              "    }\n",
              "    30% {\n",
              "      border-color: transparent;\n",
              "      border-left-color: var(--fill-color);\n",
              "      border-top-color: var(--fill-color);\n",
              "      border-right-color: var(--fill-color);\n",
              "    }\n",
              "    40% {\n",
              "      border-color: transparent;\n",
              "      border-right-color: var(--fill-color);\n",
              "      border-top-color: var(--fill-color);\n",
              "    }\n",
              "    60% {\n",
              "      border-color: transparent;\n",
              "      border-right-color: var(--fill-color);\n",
              "    }\n",
              "    80% {\n",
              "      border-color: transparent;\n",
              "      border-right-color: var(--fill-color);\n",
              "      border-bottom-color: var(--fill-color);\n",
              "    }\n",
              "    90% {\n",
              "      border-color: transparent;\n",
              "      border-bottom-color: var(--fill-color);\n",
              "    }\n",
              "  }\n",
              "</style>\n",
              "\n",
              "  <script>\n",
              "    async function quickchart(key) {\n",
              "      const quickchartButtonEl =\n",
              "        document.querySelector('#' + key + ' button');\n",
              "      quickchartButtonEl.disabled = true;  // To prevent multiple clicks.\n",
              "      quickchartButtonEl.classList.add('colab-df-spinner');\n",
              "      try {\n",
              "        const charts = await google.colab.kernel.invokeFunction(\n",
              "            'suggestCharts', [key], {});\n",
              "      } catch (error) {\n",
              "        console.error('Error during call to suggestCharts:', error);\n",
              "      }\n",
              "      quickchartButtonEl.classList.remove('colab-df-spinner');\n",
              "      quickchartButtonEl.classList.add('colab-df-quickchart-complete');\n",
              "    }\n",
              "    (() => {\n",
              "      let quickchartButtonEl =\n",
              "        document.querySelector('#df-2a28432c-eaa4-4e0b-8ce7-c5672def3064 button');\n",
              "      quickchartButtonEl.style.display =\n",
              "        google.colab.kernel.accessAllowed ? 'block' : 'none';\n",
              "    })();\n",
              "  </script>\n",
              "</div>\n",
              "    </div>\n",
              "  </div>\n"
            ]
          },
          "metadata": {},
          "execution_count": 10
        }
      ]
    },
    {
      "cell_type": "markdown",
      "source": [
        "### Treinamento e métricas para a série itausa"
      ],
      "metadata": {
        "id": "pmC46PPFgzdX"
      }
    },
    {
      "cell_type": "code",
      "source": [
        "test_size = 365\n",
        "m = 1\n",
        "horizon = 1\n",
        "ts = serie_itausa.iloc[-1825:]\n",
        "prevs_1_steps_itausa, direct_predict_itausa = arima_fit_predict(ts, m, horizon, test_size)"
      ],
      "metadata": {
        "colab": {
          "base_uri": "https://localhost:8080/"
        },
        "id": "VBokcaHpIyLj",
        "outputId": "5a9f9605-cdb4-4bd6-825a-011a3ca4772e"
      },
      "execution_count": null,
      "outputs": [
        {
          "output_type": "stream",
          "name": "stdout",
          "text": [
            "Performing stepwise search to minimize aic\n",
            " ARIMA(2,1,2)(0,0,0)[0] intercept   : AIC=-1694.495, Time=3.23 sec\n",
            " ARIMA(0,1,0)(0,0,0)[0] intercept   : AIC=-1673.889, Time=0.16 sec\n",
            " ARIMA(1,1,0)(0,0,0)[0] intercept   : AIC=-1678.263, Time=0.14 sec\n",
            " ARIMA(0,1,1)(0,0,0)[0] intercept   : AIC=-1677.868, Time=0.35 sec\n",
            " ARIMA(0,1,0)(0,0,0)[0]             : AIC=-1675.394, Time=0.13 sec\n",
            " ARIMA(1,1,2)(0,0,0)[0] intercept   : AIC=-1677.905, Time=1.53 sec\n",
            " ARIMA(2,1,1)(0,0,0)[0] intercept   : AIC=-1675.726, Time=1.38 sec\n",
            " ARIMA(3,1,2)(0,0,0)[0] intercept   : AIC=-1692.629, Time=5.63 sec\n",
            " ARIMA(2,1,3)(0,0,0)[0] intercept   : AIC=-1692.638, Time=3.28 sec\n",
            " ARIMA(1,1,1)(0,0,0)[0] intercept   : AIC=-1677.186, Time=0.80 sec\n",
            " ARIMA(1,1,3)(0,0,0)[0] intercept   : AIC=-1682.028, Time=3.24 sec\n",
            " ARIMA(3,1,1)(0,0,0)[0] intercept   : AIC=-1673.783, Time=0.61 sec\n",
            " ARIMA(3,1,3)(0,0,0)[0] intercept   : AIC=-1691.230, Time=6.37 sec\n",
            " ARIMA(2,1,2)(0,0,0)[0]             : AIC=-1696.037, Time=1.75 sec\n",
            " ARIMA(1,1,2)(0,0,0)[0]             : AIC=-1679.331, Time=0.54 sec\n",
            " ARIMA(2,1,1)(0,0,0)[0]             : AIC=-1677.196, Time=0.49 sec\n",
            " ARIMA(3,1,2)(0,0,0)[0]             : AIC=-1694.113, Time=1.37 sec\n",
            " ARIMA(2,1,3)(0,0,0)[0]             : AIC=-1694.112, Time=2.17 sec\n",
            " ARIMA(1,1,1)(0,0,0)[0]             : AIC=-1678.634, Time=0.26 sec\n",
            " ARIMA(1,1,3)(0,0,0)[0]             : AIC=-1683.527, Time=1.02 sec\n",
            " ARIMA(3,1,1)(0,0,0)[0]             : AIC=-1675.625, Time=0.89 sec\n",
            " ARIMA(3,1,3)(0,0,0)[0]             : AIC=-1689.981, Time=1.82 sec\n",
            "\n",
            "Best model:  ARIMA(2,1,2)(0,0,0)[0]          \n",
            "Total fit time: 37.213 seconds\n"
          ]
        },
        {
          "output_type": "stream",
          "name": "stderr",
          "text": [
            "100%|██████████| 365/365 [01:46<00:00,  3.42it/s]\n"
          ]
        }
      ]
    },
    {
      "cell_type": "code",
      "source": [
        "df_result_itausa = pd.DataFrame(\n",
        "    {\n",
        "        'real': ts.iloc[-test_size:],\n",
        "        'direct_predict': direct_predict_itausa,\n",
        "        'arima_1_steps': prevs_1_steps_itausa,\n",
        "    }\n",
        ")\n",
        "df_result_itausa.plot()"
      ],
      "metadata": {
        "colab": {
          "base_uri": "https://localhost:8080/",
          "height": 451
        },
        "id": "0LoTt34PJBYw",
        "outputId": "510948ac-f530-4925-8dab-7f869f6f4d42"
      },
      "execution_count": null,
      "outputs": [
        {
          "output_type": "execute_result",
          "data": {
            "text/plain": [
              "<Axes: xlabel='Date'>"
            ]
          },
          "metadata": {},
          "execution_count": 12
        },
        {
          "output_type": "display_data",
          "data": {
            "text/plain": [
              "<Figure size 640x480 with 1 Axes>"
            ],
            "image/png": "[encoded data removed]"
          },
          "metadata": {}
        }
      ]
    },
    {
      "cell_type": "code",
      "source": [
        "y_true = ts.iloc[-test_size:]\n",
        "metric_results = []\n",
        "for model_name in ['direct_predict', 'arima_1_steps']:\n",
        "  y_true = df_result_itausa['real']\n",
        "  y_pred = df_result_itausa[model_name]\n",
        "  dict_result = gerenerate_metric_results(y_true, y_pred)\n",
        "  dict_result['model_name'] = model_name\n",
        "  metric_results.append(dict_result)"
      ],
      "metadata": {
        "id": "DYN3lrmYJMsH"
      },
      "execution_count": null,
      "outputs": []
    },
    {
      "cell_type": "code",
      "source": [
        "pd.DataFrame(metric_results)"
      ],
      "metadata": {
        "colab": {
          "base_uri": "https://localhost:8080/",
          "height": 112
        },
        "id": "hH_2ER6wJ1CX",
        "outputId": "0f7c2616-4181-40a7-ec4c-f99d01c7177b"
      },
      "execution_count": null,
      "outputs": [
        {
          "output_type": "execute_result",
          "data": {
            "text/plain": [
              "        MSE      RMSE      MAPE       MAE          theil       ARV      POCID      model_name\n",
              "0  0.771113  0.878131  8.057565  0.696797  543829.746965  3.220132  39.452055  direct_predict\n",
              "1  0.014560  0.120664  1.112877  0.092230       1.081488  0.027569  48.767123   arima_1_steps"
            ],
            "text/html": [
              "\n",
              "  <div id=\"df-021c93ee-e04b-4412-a5f3-6d28d0536449\" class=\"colab-df-container\">\n",
              "    <div>\n",
              "<style scoped>\n",
              "    .dataframe tbody tr th:only-of-type {\n",
              "        vertical-align: middle;\n",
              "    }\n",
              "\n",
              "    .dataframe tbody tr th {\n",
              "        vertical-align: top;\n",
              "    }\n",
              "\n",
              "    .dataframe thead th {\n",
              "        text-align: right;\n",
              "    }\n",
              "</style>\n",
              "<table border=\"1\" class=\"dataframe\">\n",
              "  <thead>\n",
              "    <tr style=\"text-align: right;\">\n",
              "      <th></th>\n",
              "      <th>MSE</th>\n",
              "      <th>RMSE</th>\n",
              "      <th>MAPE</th>\n",
              "      <th>MAE</th>\n",
              "      <th>theil</th>\n",
              "      <th>ARV</th>\n",
              "      <th>POCID</th>\n",
              "      <th>model_name</th>\n",
              "    </tr>\n",
              "  </thead>\n",
              "  <tbody>\n",
              "    <tr>\n",
              "      <th>0</th>\n",
              "      <td>0.771113</td>\n",
              "      <td>0.878131</td>\n",
              "      <td>8.057565</td>\n",
              "      <td>0.696797</td>\n",
              "      <td>543829.746965</td>\n",
              "      <td>3.220132</td>\n",
              "      <td>39.452055</td>\n",
              "      <td>direct_predict</td>\n",
              "    </tr>\n",
              "    <tr>\n",
              "      <th>1</th>\n",
              "      <td>0.014560</td>\n",
              "      <td>0.120664</td>\n",
              "      <td>1.112877</td>\n",
              "      <td>0.092230</td>\n",
              "      <td>1.081488</td>\n",
              "      <td>0.027569</td>\n",
              "      <td>48.767123</td>\n",
              "      <td>arima_1_steps</td>\n",
              "    </tr>\n",
              "  </tbody>\n",
              "</table>\n",
              "</div>\n",
              "    <div class=\"colab-df-buttons\">\n",
              "\n",
              "  <div class=\"colab-df-container\">\n",
              "    <button class=\"colab-df-convert\" onclick=\"convertToInteractive('df-021c93ee-e04b-4412-a5f3-6d28d0536449')\"\n",
              "            title=\"Convert this dataframe to an interactive table.\"\n",
              "            style=\"display:none;\">\n",
              "\n",
              "  <svg xmlns=\"http://www.w3.org/2000/svg\" height=\"24px\" viewBox=\"0 -960 960 960\">\n",
              "    <path d=\"M120-120v-720h720v720H120Zm60-500h600v-160H180v160Zm220 220h160v-160H400v160Zm0 220h160v-160H400v160ZM180-400h160v-160H180v160Zm440 0h160v-160H620v160ZM180-180h160v-160H180v160Zm440 0h160v-160H620v160Z\"/>\n",
              "  </svg>\n",
              "    </button>\n",
              "\n",
              "  <style>\n",
              "    .colab-df-container {\n",
              "      display:flex;\n",
              "      gap: 12px;\n",
              "    }\n",
              "\n",
              "    .colab-df-convert {\n",
              "      background-color: #E8F0FE;\n",
              "      border: none;\n",
              "      border-radius: 50%;\n",
              "      cursor: pointer;\n",
              "      display: none;\n",
              "      fill: #1967D2;\n",
              "      height: 32px;\n",
              "      padding: 0 0 0 0;\n",
              "      width: 32px;\n",
              "    }\n",
              "\n",
              "    .colab-df-convert:hover {\n",
              "      background-color: #E2EBFA;\n",
              "      box-shadow: 0px 1px 2px rgba(60, 64, 67, 0.3), 0px 1px 3px 1px rgba(60, 64, 67, 0.15);\n",
              "      fill: #174EA6;\n",
              "    }\n",
              "\n",
              "    .colab-df-buttons div {\n",
              "      margin-bottom: 4px;\n",
              "    }\n",
              "\n",
              "    [theme=dark] .colab-df-convert {\n",
              "      background-color: #3B4455;\n",
              "      fill: #D2E3FC;\n",
              "    }\n",
              "\n",
              "    [theme=dark] .colab-df-convert:hover {\n",
              "      background-color: #434B5C;\n",
              "      box-shadow: 0px 1px 3px 1px rgba(0, 0, 0, 0.15);\n",
              "      filter: drop-shadow(0px 1px 2px rgba(0, 0, 0, 0.3));\n",
              "      fill: #FFFFFF;\n",
              "    }\n",
              "  </style>\n",
              "\n",
              "    <script>\n",
              "      const buttonEl =\n",
              "        document.querySelector('#df-021c93ee-e04b-4412-a5f3-6d28d0536449 button.colab-df-convert');\n",
              "      buttonEl.style.display =\n",
              "        google.colab.kernel.accessAllowed ? 'block' : 'none';\n",
              "\n",
              "      async function convertToInteractive(key) {\n",
              "        const element = document.querySelector('#df-021c93ee-e04b-4412-a5f3-6d28d0536449');\n",
              "        const dataTable =\n",
              "          await google.colab.kernel.invokeFunction('convertToInteractive',\n",
              "                                                    [key], {});\n",
              "        if (!dataTable) return;\n",
              "\n",
              "        const docLinkHtml = 'Like what you see? Visit the ' +\n",
              "          '<a target=\"_blank\" href=https://colab.research.google.com/notebooks/data_table.ipynb>data table notebook</a>'\n",
              "          + ' to learn more about interactive tables.';\n",
              "        element.innerHTML = '';\n",
              "        dataTable['output_type'] = 'display_data';\n",
              "        await google.colab.output.renderOutput(dataTable, element);\n",
              "        const docLink = document.createElement('div');\n",
              "        docLink.innerHTML = docLinkHtml;\n",
              "        element.appendChild(docLink);\n",
              "      }\n",
              "    </script>\n",
              "  </div>\n",
              "\n",
              "\n",
              "<div id=\"df-e9c580ba-c454-47ce-9dff-b75d463680c0\">\n",
              "  <button class=\"colab-df-quickchart\" onclick=\"quickchart('df-e9c580ba-c454-47ce-9dff-b75d463680c0')\"\n",
              "            title=\"Suggest charts\"\n",
              "            style=\"display:none;\">\n",
              "\n",
              "<svg xmlns=\"http://www.w3.org/2000/svg\" height=\"24px\"viewBox=\"0 0 24 24\"\n",
              "     width=\"24px\">\n",
              "    <g>\n",
              "        <path d=\"M19 3H5c-1.1 0-2 .9-2 2v14c0 1.1.9 2 2 2h14c1.1 0 2-.9 2-2V5c0-1.1-.9-2-2-2zM9 17H7v-7h2v7zm4 0h-2V7h2v10zm4 0h-2v-4h2v4z\"/>\n",
              "    </g>\n",
              "</svg>\n",
              "  </button>\n",
              "\n",
              "<style>\n",
              "  .colab-df-quickchart {\n",
              "      --bg-color: #E8F0FE;\n",
              "      --fill-color: #1967D2;\n",
              "      --hover-bg-color: #E2EBFA;\n",
              "      --hover-fill-color: #174EA6;\n",
              "      --disabled-fill-color: #AAA;\n",
              "      --disabled-bg-color: #DDD;\n",
              "  }\n",
              "\n",
              "  [theme=dark] .colab-df-quickchart {\n",
              "      --bg-color: #3B4455;\n",
              "      --fill-color: #D2E3FC;\n",
              "      --hover-bg-color: #434B5C;\n",
              "      --hover-fill-color: #FFFFFF;\n",
              "      --disabled-bg-color: #3B4455;\n",
              "      --disabled-fill-color: #666;\n",
              "  }\n",
              "\n",
              "  .colab-df-quickchart {\n",
              "    background-color: var(--bg-color);\n",
              "    border: none;\n",
              "    border-radius: 50%;\n",
              "    cursor: pointer;\n",
              "    display: none;\n",
              "    fill: var(--fill-color);\n",
              "    height: 32px;\n",
              "    padding: 0;\n",
              "    width: 32px;\n",
              "  }\n",
              "\n",
              "  .colab-df-quickchart:hover {\n",
              "    background-color: var(--hover-bg-color);\n",
              "    box-shadow: 0 1px 2px rgba(60, 64, 67, 0.3), 0 1px 3px 1px rgba(60, 64, 67, 0.15);\n",
              "    fill: var(--button-hover-fill-color);\n",
              "  }\n",
              "\n",
              "  .colab-df-quickchart-complete:disabled,\n",
              "  .colab-df-quickchart-complete:disabled:hover {\n",
              "    background-color: var(--disabled-bg-color);\n",
              "    fill: var(--disabled-fill-color);\n",
              "    box-shadow: none;\n",
              "  }\n",
              "\n",
              "  .colab-df-spinner {\n",
              "    border: 2px solid var(--fill-color);\n",
              "    border-color: transparent;\n",
              "    border-bottom-color: var(--fill-color);\n",
              "    animation:\n",
              "      spin 1s steps(1) infinite;\n",
              "  }\n",
              "\n",
              "  @keyframes spin {\n",
              "    0% {\n",
              "      border-color: transparent;\n",
              "      border-bottom-color: var(--fill-color);\n",
              "      border-left-color: var(--fill-color);\n",
              "    }\n",
              "    20% {\n",
              "      border-color: transparent;\n",
              "      border-left-color: var(--fill-color);\n",
              "      border-top-color: var(--fill-color);\n",
              "    }\n",
              "    30% {\n",
              "      border-color: transparent;\n",
              "      border-left-color: var(--fill-color);\n",
              "      border-top-color: var(--fill-color);\n",
              "      border-right-color: var(--fill-color);\n",
              "    }\n",
              "    40% {\n",
              "      border-color: transparent;\n",
              "      border-right-color: var(--fill-color);\n",
              "      border-top-color: var(--fill-color);\n",
              "    }\n",
              "    60% {\n",
              "      border-color: transparent;\n",
              "      border-right-color: var(--fill-color);\n",
              "    }\n",
              "    80% {\n",
              "      border-color: transparent;\n",
              "      border-right-color: var(--fill-color);\n",
              "      border-bottom-color: var(--fill-color);\n",
              "    }\n",
              "    90% {\n",
              "      border-color: transparent;\n",
              "      border-bottom-color: var(--fill-color);\n",
              "    }\n",
              "  }\n",
              "</style>\n",
              "\n",
              "  <script>\n",
              "    async function quickchart(key) {\n",
              "      const quickchartButtonEl =\n",
              "        document.querySelector('#' + key + ' button');\n",
              "      quickchartButtonEl.disabled = true;  // To prevent multiple clicks.\n",
              "      quickchartButtonEl.classList.add('colab-df-spinner');\n",
              "      try {\n",
              "        const charts = await google.colab.kernel.invokeFunction(\n",
              "            'suggestCharts', [key], {});\n",
              "      } catch (error) {\n",
              "        console.error('Error during call to suggestCharts:', error);\n",
              "      }\n",
              "      quickchartButtonEl.classList.remove('colab-df-spinner');\n",
              "      quickchartButtonEl.classList.add('colab-df-quickchart-complete');\n",
              "    }\n",
              "    (() => {\n",
              "      let quickchartButtonEl =\n",
              "        document.querySelector('#df-e9c580ba-c454-47ce-9dff-b75d463680c0 button');\n",
              "      quickchartButtonEl.style.display =\n",
              "        google.colab.kernel.accessAllowed ? 'block' : 'none';\n",
              "    })();\n",
              "  </script>\n",
              "</div>\n",
              "    </div>\n",
              "  </div>\n"
            ]
          },
          "metadata": {},
          "execution_count": 14
        }
      ]
    },
    {
      "cell_type": "markdown",
      "source": [
        "## Previsão de Séries Temporais com Redes Neurais"
      ],
      "metadata": {
        "id": "KM0Y_vD9g4Ax"
      }
    },
    {
      "cell_type": "code",
      "source": [
        "# Função para criação de janela temporal\n",
        "def create_windowing(df, lag_size):\n",
        "    final_df = None\n",
        "    for i in range(0, (lag_size + 1)):\n",
        "        serie = df.shift(i)\n",
        "        if (i == 0):\n",
        "            serie.columns = ['actual']\n",
        "        else:\n",
        "            serie.columns = [str('lag' + str(i))]\n",
        "\n",
        "        final_df = pd.concat([serie, final_df], axis=1)\n",
        "\n",
        "    return final_df.dropna()\n",
        "\n",
        "# Função para subtração dos valores\n",
        "def difference(dataset, interval=1):\n",
        "    diff = list()\n",
        "    for i in range(interval, len(dataset)):\n",
        "        value = dataset[i] - dataset[i - interval]\n",
        "        diff.append(value)\n",
        "\n",
        "    return pd.Series(diff).values\n",
        "\n",
        "# voltar a subtração\n",
        "def inverse_diference(last_ob, value):\n",
        "  return value + last_ob\n",
        "\n",
        "# Obtêm a diferença\n",
        "def get_inverse_diference(last_ob, value):\n",
        "  return [inverse_diference(last_ob[i], value[i]) for i in range(0, len(value))]\n",
        "\n",
        "# Função para treino e predição de modelos sklearn\n",
        "def fit_predict_sklearn(test_size, lag_size, horizon,\n",
        "                        ts, model, use_diff=False):\n",
        "\n",
        "  # Condições para diferenciação da série\n",
        "  if use_diff:\n",
        "    ts_ajusted = difference(ts.values, interval=horizon)\n",
        "  else:\n",
        "    ts_ajusted = ts.to_list()\n",
        "\n",
        "  # Chamada da função para criação da janela temporal\n",
        "  ts_lagged = create_windowing(pd.DataFrame(ts_ajusted), lag_size+ (horizon-1))\n",
        "\n",
        "  # Ajustes e formatação dos dados vindos da janela temporal\n",
        "  horizon_cols = [f'actual_{i}' for i in range(1, horizon)]\n",
        "  lags_cols = [f'lag_{i}' for i in reversed(range(1,lag_size+1))]\n",
        "  ts_lagged.columns = lags_cols + horizon_cols + ['actual']\n",
        "  ts_lagged.drop(columns=horizon_cols, inplace=True)\n",
        "\n",
        "  # Divisão de treino e teste\n",
        "  x_train = ts_lagged.iloc[0:-test_size].drop(columns='actual').values\n",
        "  y_train = ts_lagged.iloc[0:-test_size]['actual'].values.reshape(-1,1)\n",
        "\n",
        "  x_test = ts_lagged.iloc[-test_size:].drop(columns='actual').values\n",
        "\n",
        "  # Normalização doa dados de treino e teste\n",
        "  x_scale = MinMaxScaler()\n",
        "  y_scale = MinMaxScaler()\n",
        "  x_scale.fit(x_train)\n",
        "  y_scale.fit(y_train)\n",
        "\n",
        "  x_train_norm = x_scale.transform(x_train)\n",
        "  x_test_norm = x_scale.transform(x_test)\n",
        "\n",
        "  y_train_norm = y_scale.transform(y_train)\n",
        "\n",
        "  # Treinamento e predição\n",
        "  model.fit(x_train_norm, y_train_norm)\n",
        "  model_prev = model.predict(x_test_norm)\n",
        "\n",
        "  # Retornando para os valores dos rótulos ('actual') de teste na escala original\n",
        "  model_prev = y_scale.inverse_transform(model_prev.reshape(-1,1)).flatten()\n",
        "\n",
        "  if use_diff:\n",
        "    last_ob = ts.values[-(test_size+horizon):-horizon]\n",
        "    model_prev = get_inverse_diference(last_ob, model_prev)\n",
        "\n",
        "  return model_prev"
      ],
      "metadata": {
        "id": "BdmjOTV_SSkk"
      },
      "execution_count": null,
      "outputs": []
    },
    {
      "cell_type": "markdown",
      "source": [
        "Testando as diferenciações"
      ],
      "metadata": {
        "id": "AWte1XsbVp7L"
      }
    },
    {
      "cell_type": "code",
      "source": [
        "test_value = np.random.random_sample(size=5)\n",
        "diff_serie_x = difference(test_value, interval=1)"
      ],
      "metadata": {
        "id": "mToly2PYSlNr"
      },
      "execution_count": null,
      "outputs": []
    },
    {
      "cell_type": "code",
      "source": [
        "print(test_value)"
      ],
      "metadata": {
        "colab": {
          "base_uri": "https://localhost:8080/"
        },
        "id": "iKlbsydvWJs0",
        "outputId": "6b0f0e8a-ad2c-4279-aa15-9f47d1669885"
      },
      "execution_count": null,
      "outputs": [
        {
          "output_type": "stream",
          "name": "stdout",
          "text": [
            "[0.58418468 0.55332059 0.52992314 0.79386524 0.73617936]\n"
          ]
        }
      ]
    },
    {
      "cell_type": "code",
      "source": [
        "print(diff_serie_x)"
      ],
      "metadata": {
        "colab": {
          "base_uri": "https://localhost:8080/"
        },
        "id": "KJW1pC_RWIIv",
        "outputId": "bea5f426-5400-4ac2-da3d-87bd8cafc602"
      },
      "execution_count": null,
      "outputs": [
        {
          "output_type": "stream",
          "name": "stdout",
          "text": [
            "[-0.03086409 -0.02339745  0.26394209 -0.05768588]\n"
          ]
        }
      ]
    },
    {
      "cell_type": "code",
      "source": [
        "print(test_value[:-1])"
      ],
      "metadata": {
        "colab": {
          "base_uri": "https://localhost:8080/"
        },
        "id": "VwXaEWttV8y1",
        "outputId": "a716604d-3586-44fe-8b80-73b215dcd7a7"
      },
      "execution_count": null,
      "outputs": [
        {
          "output_type": "stream",
          "name": "stdout",
          "text": [
            "[0.58418468 0.55332059 0.52992314 0.79386524]\n"
          ]
        }
      ]
    },
    {
      "cell_type": "code",
      "source": [
        "serie_x = np.random.random_sample(size=10)\n",
        "diff_serie_x = difference(serie_x, interval=1)\n",
        "print(serie_x)\n",
        "print(f'serie diff: {diff_serie_x}')"
      ],
      "metadata": {
        "colab": {
          "base_uri": "https://localhost:8080/"
        },
        "id": "yflNhK-5SYOX",
        "outputId": "c2170158-bfd4-43a9-a5d0-70e28c00c921"
      },
      "execution_count": null,
      "outputs": [
        {
          "output_type": "stream",
          "name": "stdout",
          "text": [
            "[0.24659239 0.07201175 0.27876924 0.0480406  0.40699432 0.40883497\n",
            " 0.13688403 0.57449068 0.7805885  0.22274561]\n",
            "serie diff: [-0.17458065  0.2067575  -0.23072864  0.35895373  0.00184064 -0.27195094\n",
            "  0.43760665  0.20609783 -0.55784289]\n"
          ]
        }
      ]
    },
    {
      "cell_type": "markdown",
      "source": [
        "Treinamento e teste com o modelo de regressão MLP"
      ],
      "metadata": {
        "id": "I6VuvJzhZmLy"
      }
    },
    {
      "cell_type": "code",
      "source": [
        "# Parâmetros\n",
        "test_size = 24\n",
        "lag_size = 12\n",
        "horizon = 1\n",
        "ts = serie_air\n",
        "model = MLPRegressor(solver = 'lbfgs') # 'solver' especifica o algoritmo a ser usado para otimizar os pesos da rede durante o treinamento\n",
        "                                       # 'lbfgs' é frequentemente adequado para conjuntos de dados de tamanho pequeno a médio\n",
        "\n",
        "# Chamada das funções para treinamento e predição\n",
        "mlp_1step = fit_predict_sklearn(test_size, lag_size, horizon, ts, model)\n",
        "mlp_1step_diff = fit_predict_sklearn(test_size, lag_size, horizon,\n",
        "                                     ts, model, use_diff=True)"
      ],
      "metadata": {
        "id": "gs3FM7A5Tk0n",
        "colab": {
          "base_uri": "https://localhost:8080/"
        },
        "outputId": "7e0f9d66-905c-45f7-a939-1a8f459b17d0"
      },
      "execution_count": null,
      "outputs": [
        {
          "output_type": "stream",
          "name": "stderr",
          "text": [
            "/usr/local/lib/python3.10/dist-packages/sklearn/neural_network/_multilayer_perceptron.py:1623: DataConversionWarning: A column-vector y was passed when a 1d array was expected. Please change the shape of y to (n_samples, ), for example using ravel().\n",
            "  y = column_or_1d(y, warn=True)\n",
            "/usr/local/lib/python3.10/dist-packages/sklearn/neural_network/_multilayer_perceptron.py:1623: DataConversionWarning: A column-vector y was passed when a 1d array was expected. Please change the shape of y to (n_samples, ), for example using ravel().\n",
            "  y = column_or_1d(y, warn=True)\n",
            "/usr/local/lib/python3.10/dist-packages/sklearn/neural_network/_multilayer_perceptron.py:541: ConvergenceWarning: lbfgs failed to converge (status=1):\n",
            "STOP: TOTAL NO. of ITERATIONS REACHED LIMIT.\n",
            "\n",
            "Increase the number of iterations (max_iter) or scale the data as shown in:\n",
            "    https://scikit-learn.org/stable/modules/preprocessing.html\n",
            "  self.n_iter_ = _check_optimize_result(\"lbfgs\", opt_res, self.max_iter)\n"
          ]
        }
      ]
    },
    {
      "cell_type": "markdown",
      "source": [
        "Treinamento e teste com o modelo de regressão SVR"
      ],
      "metadata": {
        "id": "6YterPqEZsj6"
      }
    },
    {
      "cell_type": "code",
      "source": [
        "from sklearn.svm import SVR\n",
        "\n",
        "test_size = 24\n",
        "lag_size = 12\n",
        "horizon = 1\n",
        "ts = serie_air\n",
        "model = SVR(C=100)\n",
        "\n",
        "svr_1step = fit_predict_sklearn(test_size, lag_size, horizon, ts, model)\n",
        "svr_1step_diff = fit_predict_sklearn(test_size, lag_size, horizon,\n",
        "                                     ts, model, use_diff=True)"
      ],
      "metadata": {
        "colab": {
          "base_uri": "https://localhost:8080/"
        },
        "id": "ZVCGBB--T_IP",
        "outputId": "e0f3c70f-2705-4c76-c00a-ef1db802fc93"
      },
      "execution_count": null,
      "outputs": [
        {
          "output_type": "stream",
          "name": "stderr",
          "text": [
            "/usr/local/lib/python3.10/dist-packages/sklearn/utils/validation.py:1143: DataConversionWarning: A column-vector y was passed when a 1d array was expected. Please change the shape of y to (n_samples, ), for example using ravel().\n",
            "  y = column_or_1d(y, warn=True)\n",
            "/usr/local/lib/python3.10/dist-packages/sklearn/utils/validation.py:1143: DataConversionWarning: A column-vector y was passed when a 1d array was expected. Please change the shape of y to (n_samples, ), for example using ravel().\n",
            "  y = column_or_1d(y, warn=True)\n"
          ]
        }
      ]
    },
    {
      "cell_type": "markdown",
      "source": [
        "Gráficos de desempenho relacionados aos dados das airlines"
      ],
      "metadata": {
        "id": "0rEwLAZDZ21A"
      }
    },
    {
      "cell_type": "code",
      "source": [
        "df_result = pd.DataFrame(\n",
        "    {\n",
        "        'real': ts.iloc[-test_size:],\n",
        "        'mlp_1_steps': mlp_1step,\n",
        "        'svr_1step': svr_1step,\n",
        "        'mp_1step_diff': mlp_1step_diff,\n",
        "        'svr_1step_diff': svr_1step_diff,\n",
        "        'arima_1_steps': prevs_h_steps,\n",
        "    }\n",
        ")\n",
        "df_result[['real', 'svr_1step_diff', 'mp_1step_diff', 'arima_1_steps']].plot()"
      ],
      "metadata": {
        "colab": {
          "base_uri": "https://localhost:8080/",
          "height": 486
        },
        "id": "l4wU7CsDbCne",
        "outputId": "b599a3db-a937-4e7f-d87f-577168a7d2b8"
      },
      "execution_count": null,
      "outputs": [
        {
          "output_type": "execute_result",
          "data": {
            "text/plain": [
              "<Axes: xlabel='date'>"
            ]
          },
          "metadata": {},
          "execution_count": 53
        },
        {
          "output_type": "display_data",
          "data": {
            "text/plain": [
              "<Figure size 640x480 with 1 Axes>"
            ],
            "image/png": "[encoded data removed]"
          },
          "metadata": {}
        }
      ]
    },
    {
      "cell_type": "markdown",
      "source": [
        "Métricas de desempenho"
      ],
      "metadata": {
        "id": "WV3BNGQJaSfY"
      }
    },
    {
      "cell_type": "code",
      "source": [
        "y_true = ts.iloc[-test_size:]\n",
        "metric_results = []\n",
        "for model_name in ['mlp_1_steps', 'mp_1step_diff',\n",
        "                   'svr_1step', 'svr_1step_diff', 'arima_1_steps']:\n",
        "\n",
        "  y_true = df_result['real']\n",
        "  y_pred = df_result[model_name]\n",
        "  dict_result = gerenerate_metric_results(y_true, y_pred)\n",
        "  dict_result['model_name'] = model_name\n",
        "  metric_results.append(dict_result)\n",
        "\n",
        "pd.DataFrame(metric_results)"
      ],
      "metadata": {
        "colab": {
          "base_uri": "https://localhost:8080/",
          "height": 206
        },
        "id": "l8nWynW7b0ca",
        "outputId": "609a53fa-757b-47b9-a8e4-2529bc1b32b0"
      },
      "execution_count": null,
      "outputs": [
        {
          "output_type": "execute_result",
          "data": {
            "text/plain": [
              "            MSE        RMSE       MAPE         MAE      theil       ARV      POCID      model_name\n",
              "0   3772.309466   61.419129  12.465661   56.767858   1.471012  0.489081  91.666667     mlp_1_steps\n",
              "1    701.836538   26.492198   4.824276   21.174205   0.149868  0.093672  87.500000   mp_1step_diff\n",
              "2  14657.499807  121.068162  21.818140  104.380751  37.285611  1.205272  70.833333       svr_1step\n",
              "3   1036.783930   32.199129   6.169853   28.008788   0.561926  0.198447  62.500000  svr_1step_diff\n",
              "4    279.571872   16.720403   3.043496   13.619108   0.103411  0.048930  83.333333   arima_1_steps"
            ],
            "text/html": [
              "\n",
              "  <div id=\"df-aee79371-7d8c-4280-9283-9ba3446f232d\" class=\"colab-df-container\">\n",
              "    <div>\n",
              "<style scoped>\n",
              "    .dataframe tbody tr th:only-of-type {\n",
              "        vertical-align: middle;\n",
              "    }\n",
              "\n",
              "    .dataframe tbody tr th {\n",
              "        vertical-align: top;\n",
              "    }\n",
              "\n",
              "    .dataframe thead th {\n",
              "        text-align: right;\n",
              "    }\n",
              "</style>\n",
              "<table border=\"1\" class=\"dataframe\">\n",
              "  <thead>\n",
              "    <tr style=\"text-align: right;\">\n",
              "      <th></th>\n",
              "      <th>MSE</th>\n",
              "      <th>RMSE</th>\n",
              "      <th>MAPE</th>\n",
              "      <th>MAE</th>\n",
              "      <th>theil</th>\n",
              "      <th>ARV</th>\n",
              "      <th>POCID</th>\n",
              "      <th>model_name</th>\n",
              "    </tr>\n",
              "  </thead>\n",
              "  <tbody>\n",
              "    <tr>\n",
              "      <th>0</th>\n",
              "      <td>3772.309466</td>\n",
              "      <td>61.419129</td>\n",
              "      <td>12.465661</td>\n",
              "      <td>56.767858</td>\n",
              "      <td>1.471012</td>\n",
              "      <td>0.489081</td>\n",
              "      <td>91.666667</td>\n",
              "      <td>mlp_1_steps</td>\n",
              "    </tr>\n",
              "    <tr>\n",
              "      <th>1</th>\n",
              "      <td>701.836538</td>\n",
              "      <td>26.492198</td>\n",
              "      <td>4.824276</td>\n",
              "      <td>21.174205</td>\n",
              "      <td>0.149868</td>\n",
              "      <td>0.093672</td>\n",
              "      <td>87.500000</td>\n",
              "      <td>mp_1step_diff</td>\n",
              "    </tr>\n",
              "    <tr>\n",
              "      <th>2</th>\n",
              "      <td>14657.499807</td>\n",
              "      <td>121.068162</td>\n",
              "      <td>21.818140</td>\n",
              "      <td>104.380751</td>\n",
              "      <td>37.285611</td>\n",
              "      <td>1.205272</td>\n",
              "      <td>70.833333</td>\n",
              "      <td>svr_1step</td>\n",
              "    </tr>\n",
              "    <tr>\n",
              "      <th>3</th>\n",
              "      <td>1036.783930</td>\n",
              "      <td>32.199129</td>\n",
              "      <td>6.169853</td>\n",
              "      <td>28.008788</td>\n",
              "      <td>0.561926</td>\n",
              "      <td>0.198447</td>\n",
              "      <td>62.500000</td>\n",
              "      <td>svr_1step_diff</td>\n",
              "    </tr>\n",
              "    <tr>\n",
              "      <th>4</th>\n",
              "      <td>279.571872</td>\n",
              "      <td>16.720403</td>\n",
              "      <td>3.043496</td>\n",
              "      <td>13.619108</td>\n",
              "      <td>0.103411</td>\n",
              "      <td>0.048930</td>\n",
              "      <td>83.333333</td>\n",
              "      <td>arima_1_steps</td>\n",
              "    </tr>\n",
              "  </tbody>\n",
              "</table>\n",
              "</div>\n",
              "    <div class=\"colab-df-buttons\">\n",
              "\n",
              "  <div class=\"colab-df-container\">\n",
              "    <button class=\"colab-df-convert\" onclick=\"convertToInteractive('df-aee79371-7d8c-4280-9283-9ba3446f232d')\"\n",
              "            title=\"Convert this dataframe to an interactive table.\"\n",
              "            style=\"display:none;\">\n",
              "\n",
              "  <svg xmlns=\"http://www.w3.org/2000/svg\" height=\"24px\" viewBox=\"0 -960 960 960\">\n",
              "    <path d=\"M120-120v-720h720v720H120Zm60-500h600v-160H180v160Zm220 220h160v-160H400v160Zm0 220h160v-160H400v160ZM180-400h160v-160H180v160Zm440 0h160v-160H620v160ZM180-180h160v-160H180v160Zm440 0h160v-160H620v160Z\"/>\n",
              "  </svg>\n",
              "    </button>\n",
              "\n",
              "  <style>\n",
              "    .colab-df-container {\n",
              "      display:flex;\n",
              "      gap: 12px;\n",
              "    }\n",
              "\n",
              "    .colab-df-convert {\n",
              "      background-color: #E8F0FE;\n",
              "      border: none;\n",
              "      border-radius: 50%;\n",
              "      cursor: pointer;\n",
              "      display: none;\n",
              "      fill: #1967D2;\n",
              "      height: 32px;\n",
              "      padding: 0 0 0 0;\n",
              "      width: 32px;\n",
              "    }\n",
              "\n",
              "    .colab-df-convert:hover {\n",
              "      background-color: #E2EBFA;\n",
              "      box-shadow: 0px 1px 2px rgba(60, 64, 67, 0.3), 0px 1px 3px 1px rgba(60, 64, 67, 0.15);\n",
              "      fill: #174EA6;\n",
              "    }\n",
              "\n",
              "    .colab-df-buttons div {\n",
              "      margin-bottom: 4px;\n",
              "    }\n",
              "\n",
              "    [theme=dark] .colab-df-convert {\n",
              "      background-color: #3B4455;\n",
              "      fill: #D2E3FC;\n",
              "    }\n",
              "\n",
              "    [theme=dark] .colab-df-convert:hover {\n",
              "      background-color: #434B5C;\n",
              "      box-shadow: 0px 1px 3px 1px rgba(0, 0, 0, 0.15);\n",
              "      filter: drop-shadow(0px 1px 2px rgba(0, 0, 0, 0.3));\n",
              "      fill: #FFFFFF;\n",
              "    }\n",
              "  </style>\n",
              "\n",
              "    <script>\n",
              "      const buttonEl =\n",
              "        document.querySelector('#df-aee79371-7d8c-4280-9283-9ba3446f232d button.colab-df-convert');\n",
              "      buttonEl.style.display =\n",
              "        google.colab.kernel.accessAllowed ? 'block' : 'none';\n",
              "\n",
              "      async function convertToInteractive(key) {\n",
              "        const element = document.querySelector('#df-aee79371-7d8c-4280-9283-9ba3446f232d');\n",
              "        const dataTable =\n",
              "          await google.colab.kernel.invokeFunction('convertToInteractive',\n",
              "                                                    [key], {});\n",
              "        if (!dataTable) return;\n",
              "\n",
              "        const docLinkHtml = 'Like what you see? Visit the ' +\n",
              "          '<a target=\"_blank\" href=https://colab.research.google.com/notebooks/data_table.ipynb>data table notebook</a>'\n",
              "          + ' to learn more about interactive tables.';\n",
              "        element.innerHTML = '';\n",
              "        dataTable['output_type'] = 'display_data';\n",
              "        await google.colab.output.renderOutput(dataTable, element);\n",
              "        const docLink = document.createElement('div');\n",
              "        docLink.innerHTML = docLinkHtml;\n",
              "        element.appendChild(docLink);\n",
              "      }\n",
              "    </script>\n",
              "  </div>\n",
              "\n",
              "\n",
              "<div id=\"df-f7f33c59-94b3-4d7f-a809-cfc75dc3f254\">\n",
              "  <button class=\"colab-df-quickchart\" onclick=\"quickchart('df-f7f33c59-94b3-4d7f-a809-cfc75dc3f254')\"\n",
              "            title=\"Suggest charts\"\n",
              "            style=\"display:none;\">\n",
              "\n",
              "<svg xmlns=\"http://www.w3.org/2000/svg\" height=\"24px\"viewBox=\"0 0 24 24\"\n",
              "     width=\"24px\">\n",
              "    <g>\n",
              "        <path d=\"M19 3H5c-1.1 0-2 .9-2 2v14c0 1.1.9 2 2 2h14c1.1 0 2-.9 2-2V5c0-1.1-.9-2-2-2zM9 17H7v-7h2v7zm4 0h-2V7h2v10zm4 0h-2v-4h2v4z\"/>\n",
              "    </g>\n",
              "</svg>\n",
              "  </button>\n",
              "\n",
              "<style>\n",
              "  .colab-df-quickchart {\n",
              "      --bg-color: #E8F0FE;\n",
              "      --fill-color: #1967D2;\n",
              "      --hover-bg-color: #E2EBFA;\n",
              "      --hover-fill-color: #174EA6;\n",
              "      --disabled-fill-color: #AAA;\n",
              "      --disabled-bg-color: #DDD;\n",
              "  }\n",
              "\n",
              "  [theme=dark] .colab-df-quickchart {\n",
              "      --bg-color: #3B4455;\n",
              "      --fill-color: #D2E3FC;\n",
              "      --hover-bg-color: #434B5C;\n",
              "      --hover-fill-color: #FFFFFF;\n",
              "      --disabled-bg-color: #3B4455;\n",
              "      --disabled-fill-color: #666;\n",
              "  }\n",
              "\n",
              "  .colab-df-quickchart {\n",
              "    background-color: var(--bg-color);\n",
              "    border: none;\n",
              "    border-radius: 50%;\n",
              "    cursor: pointer;\n",
              "    display: none;\n",
              "    fill: var(--fill-color);\n",
              "    height: 32px;\n",
              "    padding: 0;\n",
              "    width: 32px;\n",
              "  }\n",
              "\n",
              "  .colab-df-quickchart:hover {\n",
              "    background-color: var(--hover-bg-color);\n",
              "    box-shadow: 0 1px 2px rgba(60, 64, 67, 0.3), 0 1px 3px 1px rgba(60, 64, 67, 0.15);\n",
              "    fill: var(--button-hover-fill-color);\n",
              "  }\n",
              "\n",
              "  .colab-df-quickchart-complete:disabled,\n",
              "  .colab-df-quickchart-complete:disabled:hover {\n",
              "    background-color: var(--disabled-bg-color);\n",
              "    fill: var(--disabled-fill-color);\n",
              "    box-shadow: none;\n",
              "  }\n",
              "\n",
              "  .colab-df-spinner {\n",
              "    border: 2px solid var(--fill-color);\n",
              "    border-color: transparent;\n",
              "    border-bottom-color: var(--fill-color);\n",
              "    animation:\n",
              "      spin 1s steps(1) infinite;\n",
              "  }\n",
              "\n",
              "  @keyframes spin {\n",
              "    0% {\n",
              "      border-color: transparent;\n",
              "      border-bottom-color: var(--fill-color);\n",
              "      border-left-color: var(--fill-color);\n",
              "    }\n",
              "    20% {\n",
              "      border-color: transparent;\n",
              "      border-left-color: var(--fill-color);\n",
              "      border-top-color: var(--fill-color);\n",
              "    }\n",
              "    30% {\n",
              "      border-color: transparent;\n",
              "      border-left-color: var(--fill-color);\n",
              "      border-top-color: var(--fill-color);\n",
              "      border-right-color: var(--fill-color);\n",
              "    }\n",
              "    40% {\n",
              "      border-color: transparent;\n",
              "      border-right-color: var(--fill-color);\n",
              "      border-top-color: var(--fill-color);\n",
              "    }\n",
              "    60% {\n",
              "      border-color: transparent;\n",
              "      border-right-color: var(--fill-color);\n",
              "    }\n",
              "    80% {\n",
              "      border-color: transparent;\n",
              "      border-right-color: var(--fill-color);\n",
              "      border-bottom-color: var(--fill-color);\n",
              "    }\n",
              "    90% {\n",
              "      border-color: transparent;\n",
              "      border-bottom-color: var(--fill-color);\n",
              "    }\n",
              "  }\n",
              "</style>\n",
              "\n",
              "  <script>\n",
              "    async function quickchart(key) {\n",
              "      const quickchartButtonEl =\n",
              "        document.querySelector('#' + key + ' button');\n",
              "      quickchartButtonEl.disabled = true;  // To prevent multiple clicks.\n",
              "      quickchartButtonEl.classList.add('colab-df-spinner');\n",
              "      try {\n",
              "        const charts = await google.colab.kernel.invokeFunction(\n",
              "            'suggestCharts', [key], {});\n",
              "      } catch (error) {\n",
              "        console.error('Error during call to suggestCharts:', error);\n",
              "      }\n",
              "      quickchartButtonEl.classList.remove('colab-df-spinner');\n",
              "      quickchartButtonEl.classList.add('colab-df-quickchart-complete');\n",
              "    }\n",
              "    (() => {\n",
              "      let quickchartButtonEl =\n",
              "        document.querySelector('#df-f7f33c59-94b3-4d7f-a809-cfc75dc3f254 button');\n",
              "      quickchartButtonEl.style.display =\n",
              "        google.colab.kernel.accessAllowed ? 'block' : 'none';\n",
              "    })();\n",
              "  </script>\n",
              "</div>\n",
              "    </div>\n",
              "  </div>\n"
            ]
          },
          "metadata": {},
          "execution_count": 55
        }
      ]
    },
    {
      "cell_type": "markdown",
      "source": [
        "**Comparação entre os modelos de regressão SVR e MLP**\n",
        "\n",
        "1. Capacidade de Generalização:\n",
        "\n",
        "* O SVR é frequentemente considerado mais robusto em cenários com poucos dados de treinamento, pois pode evitar overfitting mais eficazmente.\n",
        "\n",
        "2. Flexibilidade:\n",
        "\n",
        "* MLPs podem ser mais flexíveis para modelar padrões complexos e relações não lineares.\n",
        "\n",
        "3. Interpretabilidade:\n",
        "\n",
        "* SVMs, incluindo o SVR, são geralmente mais fáceis de interpretar, especialmente quando se utiliza um kernel linear.\n",
        "\n",
        "4. Ajuste de Hiperparâmetros:\n",
        "\n",
        "* Ambos os modelos requerem ajuste de hiperparâmetros, mas a escolha de kernels e parâmetros do kernel no SVR pode ser uma tarefa mais desafiadora."
      ],
      "metadata": {
        "id": "bEb9QEvjfcpH"
      }
    },
    {
      "cell_type": "markdown",
      "source": [
        "# PARTE DOIS: Lidando com a não estacionariedade manualmente"
      ],
      "metadata": {
        "id": "gjlWxR2LKlaI"
      }
    },
    {
      "cell_type": "code",
      "source": [],
      "metadata": {
        "id": "2DvTcMT8KYTc"
      },
      "execution_count": null,
      "outputs": []
    }
  ]
}